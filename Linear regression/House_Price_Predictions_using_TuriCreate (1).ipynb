{
  "cells": [
    {
      "cell_type": "markdown",
      "source": [
        "# House price prediction with TuriCreate"
      ],
      "metadata": {
        "id": "K3SresOhC2EB"
      }
    },
    {
      "cell_type": "markdown",
      "metadata": {
        "id": "osnnpGmh7hhd"
      },
      "source": [
        "\n",
        "Turi Create is an open-source python library developed by Apple, used to create core machine learning models for supervised and unsupervised learning.\n"
      ]
    },
    {
      "cell_type": "markdown",
      "source": [
        "![0_790rZhXwAo-PrYRm.webp](data:image/webp;base64,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)"
      ],
      "metadata": {
        "id": "c1GXDtQjFqAG"
      }
    },
    {
      "cell_type": "markdown",
      "metadata": {
        "id": "CtfuSIxU74CE"
      },
      "source": [
        "### Features\n",
        "\n",
        "* Easy-to-use: Focus on tasks instead of algorithms\n",
        "* Visual: Built-in, streaming visualizations to explore your data\n",
        "* Flexible: Supports text, images, audio, video and sensor data\n",
        "* Fast and Scalable: Work with large datasets on a single machine\n",
        "* Ready To Deploy: Export models to Core ML for use in iOS, macOS, watchOS, and tvOS apps\n"
      ]
    },
    {
      "cell_type": "markdown",
      "source": [
        "#### Data Description:\n",
        "\n",
        "* The dataset consists of 2518 rows (one per house) and 39 columns (features).\n",
        "\n",
        "* The target is the \"Price\"."
      ],
      "metadata": {
        "id": "TWwK0HJ3EgOb"
      }
    },
    {
      "cell_type": "markdown",
      "metadata": {
        "id": "DnqYjPIIACxO"
      },
      "source": [
        "### **Load Libraries**"
      ]
    },
    {
      "cell_type": "code",
      "execution_count": 2,
      "metadata": {
        "id": "ZmmORF9v5Iid",
        "colab": {
          "base_uri": "https://localhost:8080/"
        },
        "outputId": "6531d52d-6865-4bba-8913-3fca5d572239"
      },
      "outputs": [
        {
          "output_type": "stream",
          "name": "stdout",
          "text": [
            "Mounted at /content/drive\n"
          ]
        }
      ],
      "source": [
        "from google.colab import drive\n",
        "drive.mount('/content/drive')"
      ]
    },
    {
      "cell_type": "code",
      "source": [
        "!pip install turicreate"
      ],
      "metadata": {
        "colab": {
          "base_uri": "https://localhost:8080/"
        },
        "id": "bcJHqEHf18vF",
        "outputId": "bc7eb0b8-0932-46a3-e948-d99189ab997a"
      },
      "execution_count": 3,
      "outputs": [
        {
          "output_type": "stream",
          "name": "stdout",
          "text": [
            "Looking in indexes: https://pypi.org/simple, https://us-python.pkg.dev/colab-wheels/public/simple/\n",
            "Collecting turicreate\n",
            "  Downloading turicreate-6.4.1-cp38-cp38-manylinux1_x86_64.whl (92.0 MB)\n",
            "\u001b[2K     \u001b[90m━━━━━━━━━━━━━━━━━━━━━━━━━━━━━━━━━━━━━━━━\u001b[0m \u001b[32m92.0/92.0 MB\u001b[0m \u001b[31m9.9 MB/s\u001b[0m eta \u001b[36m0:00:00\u001b[0m\n",
            "\u001b[?25hRequirement already satisfied: tensorflow>=2.0.0 in /usr/local/lib/python3.8/dist-packages (from turicreate) (2.9.2)\n",
            "Requirement already satisfied: pillow>=5.2.0 in /usr/local/lib/python3.8/dist-packages (from turicreate) (7.1.2)\n",
            "Collecting prettytable==0.7.2\n",
            "  Downloading prettytable-0.7.2.zip (28 kB)\n",
            "  Preparing metadata (setup.py) ... \u001b[?25l\u001b[?25hdone\n",
            "Requirement already satisfied: requests>=2.9.1 in /usr/local/lib/python3.8/dist-packages (from turicreate) (2.25.1)\n",
            "Requirement already satisfied: decorator>=4.0.9 in /usr/local/lib/python3.8/dist-packages (from turicreate) (4.4.2)\n",
            "Requirement already satisfied: numpy in /usr/local/lib/python3.8/dist-packages (from turicreate) (1.21.6)\n",
            "Collecting coremltools==4.0b3\n",
            "  Downloading coremltools-4.0b3-py3-none-any.whl (4.6 MB)\n",
            "\u001b[2K     \u001b[90m━━━━━━━━━━━━━━━━━━━━━━━━━━━━━━━━━━━━━━━━\u001b[0m \u001b[32m4.6/4.6 MB\u001b[0m \u001b[31m95.7 MB/s\u001b[0m eta \u001b[36m0:00:00\u001b[0m\n",
            "\u001b[?25hRequirement already satisfied: pandas>=0.23.2 in /usr/local/lib/python3.8/dist-packages (from turicreate) (1.3.5)\n",
            "Collecting resampy==0.2.1\n",
            "  Downloading resampy-0.2.1.tar.gz (322 kB)\n",
            "\u001b[2K     \u001b[90m━━━━━━━━━━━━━━━━━━━━━━━━━━━━━━━━━━━━━━\u001b[0m \u001b[32m322.4/322.4 KB\u001b[0m \u001b[31m32.8 MB/s\u001b[0m eta \u001b[36m0:00:00\u001b[0m\n",
            "\u001b[?25h  Preparing metadata (setup.py) ... \u001b[?25l\u001b[?25hdone\n",
            "Requirement already satisfied: scipy>=1.1.0 in /usr/local/lib/python3.8/dist-packages (from turicreate) (1.7.3)\n",
            "Collecting numba<0.51.0\n",
            "  Downloading numba-0.50.1-cp38-cp38-manylinux2014_x86_64.whl (3.6 MB)\n",
            "\u001b[2K     \u001b[90m━━━━━━━━━━━━━━━━━━━━━━━━━━━━━━━━━━━━━━━━\u001b[0m \u001b[32m3.6/3.6 MB\u001b[0m \u001b[31m45.9 MB/s\u001b[0m eta \u001b[36m0:00:00\u001b[0m\n",
            "\u001b[?25hRequirement already satisfied: six>=1.10.0 in /usr/local/lib/python3.8/dist-packages (from turicreate) (1.15.0)\n",
            "Requirement already satisfied: attrs in /usr/local/lib/python3.8/dist-packages (from coremltools==4.0b3->turicreate) (22.2.0)\n",
            "Requirement already satisfied: tqdm in /usr/local/lib/python3.8/dist-packages (from coremltools==4.0b3->turicreate) (4.64.1)\n",
            "Requirement already satisfied: protobuf>=3.1.0 in /usr/local/lib/python3.8/dist-packages (from coremltools==4.0b3->turicreate) (3.19.6)\n",
            "Collecting attr\n",
            "  Downloading attr-0.3.2-py2.py3-none-any.whl (3.3 kB)\n",
            "Requirement already satisfied: sympy in /usr/local/lib/python3.8/dist-packages (from coremltools==4.0b3->turicreate) (1.7.1)\n",
            "Requirement already satisfied: setuptools in /usr/local/lib/python3.8/dist-packages (from numba<0.51.0->turicreate) (57.4.0)\n",
            "Collecting llvmlite<0.34,>=0.33.0.dev0\n",
            "  Downloading llvmlite-0.33.0-cp38-cp38-manylinux1_x86_64.whl (18.3 MB)\n",
            "\u001b[2K     \u001b[90m━━━━━━━━━━━━━━━━━━━━━━━━━━━━━━━━━━━━━━━━\u001b[0m \u001b[32m18.3/18.3 MB\u001b[0m \u001b[31m69.3 MB/s\u001b[0m eta \u001b[36m0:00:00\u001b[0m\n",
            "\u001b[?25hRequirement already satisfied: python-dateutil>=2.7.3 in /usr/local/lib/python3.8/dist-packages (from pandas>=0.23.2->turicreate) (2.8.2)\n",
            "Requirement already satisfied: pytz>=2017.3 in /usr/local/lib/python3.8/dist-packages (from pandas>=0.23.2->turicreate) (2022.7)\n",
            "Requirement already satisfied: idna<3,>=2.5 in /usr/local/lib/python3.8/dist-packages (from requests>=2.9.1->turicreate) (2.10)\n",
            "Requirement already satisfied: chardet<5,>=3.0.2 in /usr/local/lib/python3.8/dist-packages (from requests>=2.9.1->turicreate) (4.0.0)\n",
            "Requirement already satisfied: urllib3<1.27,>=1.21.1 in /usr/local/lib/python3.8/dist-packages (from requests>=2.9.1->turicreate) (1.24.3)\n",
            "Requirement already satisfied: certifi>=2017.4.17 in /usr/local/lib/python3.8/dist-packages (from requests>=2.9.1->turicreate) (2022.12.7)\n",
            "Requirement already satisfied: typing-extensions>=3.6.6 in /usr/local/lib/python3.8/dist-packages (from tensorflow>=2.0.0->turicreate) (4.4.0)\n",
            "Requirement already satisfied: tensorboard<2.10,>=2.9 in /usr/local/lib/python3.8/dist-packages (from tensorflow>=2.0.0->turicreate) (2.9.1)\n",
            "Requirement already satisfied: flatbuffers<2,>=1.12 in /usr/local/lib/python3.8/dist-packages (from tensorflow>=2.0.0->turicreate) (1.12)\n",
            "Requirement already satisfied: tensorflow-io-gcs-filesystem>=0.23.1 in /usr/local/lib/python3.8/dist-packages (from tensorflow>=2.0.0->turicreate) (0.29.0)\n",
            "Requirement already satisfied: grpcio<2.0,>=1.24.3 in /usr/local/lib/python3.8/dist-packages (from tensorflow>=2.0.0->turicreate) (1.51.1)\n",
            "Requirement already satisfied: keras-preprocessing>=1.1.1 in /usr/local/lib/python3.8/dist-packages (from tensorflow>=2.0.0->turicreate) (1.1.2)\n",
            "Requirement already satisfied: absl-py>=1.0.0 in /usr/local/lib/python3.8/dist-packages (from tensorflow>=2.0.0->turicreate) (1.3.0)\n",
            "Requirement already satisfied: gast<=0.4.0,>=0.2.1 in /usr/local/lib/python3.8/dist-packages (from tensorflow>=2.0.0->turicreate) (0.4.0)\n",
            "Requirement already satisfied: keras<2.10.0,>=2.9.0rc0 in /usr/local/lib/python3.8/dist-packages (from tensorflow>=2.0.0->turicreate) (2.9.0)\n",
            "Requirement already satisfied: opt-einsum>=2.3.2 in /usr/local/lib/python3.8/dist-packages (from tensorflow>=2.0.0->turicreate) (3.3.0)\n",
            "Requirement already satisfied: h5py>=2.9.0 in /usr/local/lib/python3.8/dist-packages (from tensorflow>=2.0.0->turicreate) (3.1.0)\n",
            "Requirement already satisfied: termcolor>=1.1.0 in /usr/local/lib/python3.8/dist-packages (from tensorflow>=2.0.0->turicreate) (2.2.0)\n",
            "Requirement already satisfied: wrapt>=1.11.0 in /usr/local/lib/python3.8/dist-packages (from tensorflow>=2.0.0->turicreate) (1.14.1)\n",
            "Requirement already satisfied: google-pasta>=0.1.1 in /usr/local/lib/python3.8/dist-packages (from tensorflow>=2.0.0->turicreate) (0.2.0)\n",
            "Requirement already satisfied: packaging in /usr/local/lib/python3.8/dist-packages (from tensorflow>=2.0.0->turicreate) (21.3)\n",
            "Requirement already satisfied: astunparse>=1.6.0 in /usr/local/lib/python3.8/dist-packages (from tensorflow>=2.0.0->turicreate) (1.6.3)\n",
            "Requirement already satisfied: libclang>=13.0.0 in /usr/local/lib/python3.8/dist-packages (from tensorflow>=2.0.0->turicreate) (15.0.6.1)\n",
            "Requirement already satisfied: tensorflow-estimator<2.10.0,>=2.9.0rc0 in /usr/local/lib/python3.8/dist-packages (from tensorflow>=2.0.0->turicreate) (2.9.0)\n",
            "Requirement already satisfied: wheel<1.0,>=0.23.0 in /usr/local/lib/python3.8/dist-packages (from astunparse>=1.6.0->tensorflow>=2.0.0->turicreate) (0.38.4)\n",
            "Requirement already satisfied: google-auth-oauthlib<0.5,>=0.4.1 in /usr/local/lib/python3.8/dist-packages (from tensorboard<2.10,>=2.9->tensorflow>=2.0.0->turicreate) (0.4.6)\n",
            "Requirement already satisfied: google-auth<3,>=1.6.3 in /usr/local/lib/python3.8/dist-packages (from tensorboard<2.10,>=2.9->tensorflow>=2.0.0->turicreate) (2.16.0)\n",
            "Requirement already satisfied: werkzeug>=1.0.1 in /usr/local/lib/python3.8/dist-packages (from tensorboard<2.10,>=2.9->tensorflow>=2.0.0->turicreate) (1.0.1)\n",
            "Requirement already satisfied: markdown>=2.6.8 in /usr/local/lib/python3.8/dist-packages (from tensorboard<2.10,>=2.9->tensorflow>=2.0.0->turicreate) (3.4.1)\n",
            "Requirement already satisfied: tensorboard-plugin-wit>=1.6.0 in /usr/local/lib/python3.8/dist-packages (from tensorboard<2.10,>=2.9->tensorflow>=2.0.0->turicreate) (1.8.1)\n",
            "Requirement already satisfied: tensorboard-data-server<0.7.0,>=0.6.0 in /usr/local/lib/python3.8/dist-packages (from tensorboard<2.10,>=2.9->tensorflow>=2.0.0->turicreate) (0.6.1)\n",
            "Requirement already satisfied: pyparsing!=3.0.5,>=2.0.2 in /usr/local/lib/python3.8/dist-packages (from packaging->tensorflow>=2.0.0->turicreate) (3.0.9)\n",
            "Requirement already satisfied: mpmath>=0.19 in /usr/local/lib/python3.8/dist-packages (from sympy->coremltools==4.0b3->turicreate) (1.2.1)\n",
            "Requirement already satisfied: pyasn1-modules>=0.2.1 in /usr/local/lib/python3.8/dist-packages (from google-auth<3,>=1.6.3->tensorboard<2.10,>=2.9->tensorflow>=2.0.0->turicreate) (0.2.8)\n",
            "Requirement already satisfied: rsa<5,>=3.1.4 in /usr/local/lib/python3.8/dist-packages (from google-auth<3,>=1.6.3->tensorboard<2.10,>=2.9->tensorflow>=2.0.0->turicreate) (4.9)\n",
            "Requirement already satisfied: cachetools<6.0,>=2.0.0 in /usr/local/lib/python3.8/dist-packages (from google-auth<3,>=1.6.3->tensorboard<2.10,>=2.9->tensorflow>=2.0.0->turicreate) (5.2.1)\n",
            "Requirement already satisfied: requests-oauthlib>=0.7.0 in /usr/local/lib/python3.8/dist-packages (from google-auth-oauthlib<0.5,>=0.4.1->tensorboard<2.10,>=2.9->tensorflow>=2.0.0->turicreate) (1.3.1)\n",
            "Requirement already satisfied: importlib-metadata>=4.4 in /usr/local/lib/python3.8/dist-packages (from markdown>=2.6.8->tensorboard<2.10,>=2.9->tensorflow>=2.0.0->turicreate) (6.0.0)\n",
            "Requirement already satisfied: zipp>=0.5 in /usr/local/lib/python3.8/dist-packages (from importlib-metadata>=4.4->markdown>=2.6.8->tensorboard<2.10,>=2.9->tensorflow>=2.0.0->turicreate) (3.11.0)\n",
            "Requirement already satisfied: pyasn1<0.5.0,>=0.4.6 in /usr/local/lib/python3.8/dist-packages (from pyasn1-modules>=0.2.1->google-auth<3,>=1.6.3->tensorboard<2.10,>=2.9->tensorflow>=2.0.0->turicreate) (0.4.8)\n",
            "Requirement already satisfied: oauthlib>=3.0.0 in /usr/local/lib/python3.8/dist-packages (from requests-oauthlib>=0.7.0->google-auth-oauthlib<0.5,>=0.4.1->tensorboard<2.10,>=2.9->tensorflow>=2.0.0->turicreate) (3.2.2)\n",
            "Building wheels for collected packages: prettytable, resampy\n",
            "  Building wheel for prettytable (setup.py) ... \u001b[?25l\u001b[?25hdone\n",
            "  Created wheel for prettytable: filename=prettytable-0.7.2-py3-none-any.whl size=13714 sha256=b6b32534203d9560420691ae4e50ef52986f989f59b0f1f7095284e2f3593221\n",
            "  Stored in directory: /root/.cache/pip/wheels/48/6d/77/9517cb933af254f51a446f1a5ec9c2be3e45f17384940bce68\n",
            "  Building wheel for resampy (setup.py) ... \u001b[?25l\u001b[?25hdone\n",
            "  Created wheel for resampy: filename=resampy-0.2.1-py3-none-any.whl size=320859 sha256=c405e11852db4d5c2894932592544c3fc5edb94c759c3730625e26ab29b4d11b\n",
            "  Stored in directory: /root/.cache/pip/wheels/2b/a9/15/89e0e4544c36f50e4e8d54d546f2331c461f505d3b55d3f358\n",
            "Successfully built prettytable resampy\n",
            "Installing collected packages: prettytable, attr, llvmlite, numba, coremltools, resampy, turicreate\n",
            "  Attempting uninstall: prettytable\n",
            "    Found existing installation: prettytable 3.6.0\n",
            "    Uninstalling prettytable-3.6.0:\n",
            "      Successfully uninstalled prettytable-3.6.0\n",
            "  Attempting uninstall: llvmlite\n",
            "    Found existing installation: llvmlite 0.39.1\n",
            "    Uninstalling llvmlite-0.39.1:\n",
            "      Successfully uninstalled llvmlite-0.39.1\n",
            "  Attempting uninstall: numba\n",
            "    Found existing installation: numba 0.56.4\n",
            "    Uninstalling numba-0.56.4:\n",
            "      Successfully uninstalled numba-0.56.4\n",
            "  Attempting uninstall: resampy\n",
            "    Found existing installation: resampy 0.4.2\n",
            "    Uninstalling resampy-0.4.2:\n",
            "      Successfully uninstalled resampy-0.4.2\n",
            "\u001b[31mERROR: pip's dependency resolver does not currently take into account all the packages that are installed. This behaviour is the source of the following dependency conflicts.\n",
            "librosa 0.8.1 requires resampy>=0.2.2, but you have resampy 0.2.1 which is incompatible.\u001b[0m\u001b[31m\n",
            "\u001b[0mSuccessfully installed attr-0.3.2 coremltools-4.0b3 llvmlite-0.33.0 numba-0.50.1 prettytable-0.7.2 resampy-0.2.1 turicreate-6.4.1\n"
          ]
        }
      ]
    },
    {
      "cell_type": "code",
      "source": [
        "import turicreate as tc\n",
        "import matplotlib.pyplot as plt\n",
        "import numpy as np"
      ],
      "metadata": {
        "id": "CKofDDbz2F3O"
      },
      "execution_count": 4,
      "outputs": []
    },
    {
      "cell_type": "markdown",
      "metadata": {
        "id": "7C_cNYYmAIuP"
      },
      "source": [
        "### **Load Data**"
      ]
    },
    {
      "cell_type": "code",
      "execution_count": 5,
      "metadata": {
        "id": "R6WK40eAUIAe",
        "colab": {
          "base_uri": "https://localhost:8080/",
          "height": 1000
        },
        "outputId": "a9901ffa-6469-43dd-ec61-23fa7e6f1b8a"
      },
      "outputs": [
        {
          "output_type": "display_data",
          "data": {
            "text/plain": [
              "Finished parsing file /content/drive/MyDrive/Hyderabad.csv"
            ],
            "text/html": [
              "<pre>Finished parsing file /content/drive/MyDrive/Hyderabad.csv</pre>"
            ]
          },
          "metadata": {}
        },
        {
          "output_type": "display_data",
          "data": {
            "text/plain": [
              "Parsing completed. Parsed 100 lines in 0.04257 secs."
            ],
            "text/html": [
              "<pre>Parsing completed. Parsed 100 lines in 0.04257 secs.</pre>"
            ]
          },
          "metadata": {}
        },
        {
          "output_type": "stream",
          "name": "stdout",
          "text": [
            "------------------------------------------------------\n",
            "Inferred types from first 100 line(s) of file as \n",
            "column_type_hints=[int,int,str,int,int,int,int,int,int,int,int,int,int,int,int,int,int,int,int,int,int,int,int,int,int,int,int,int,int,int,int,int,int,int,int,int,int,int,int,int]\n",
            "If parsing fails due to incorrect types, you can correct\n",
            "the inferred type list above and pass it to read_csv in\n",
            "the column_type_hints argument\n",
            "------------------------------------------------------\n"
          ]
        },
        {
          "output_type": "display_data",
          "data": {
            "text/plain": [
              "Finished parsing file /content/drive/MyDrive/Hyderabad.csv"
            ],
            "text/html": [
              "<pre>Finished parsing file /content/drive/MyDrive/Hyderabad.csv</pre>"
            ]
          },
          "metadata": {}
        },
        {
          "output_type": "display_data",
          "data": {
            "text/plain": [
              "Parsing completed. Parsed 2518 lines in 0.02214 secs."
            ],
            "text/html": [
              "<pre>Parsing completed. Parsed 2518 lines in 0.02214 secs.</pre>"
            ]
          },
          "metadata": {}
        },
        {
          "output_type": "execute_result",
          "data": {
            "text/plain": [
              "Columns:\n",
              "\tPrice\tint\n",
              "\tArea\tint\n",
              "\tLocation\tstr\n",
              "\tNo. of Bedrooms\tint\n",
              "\tResale\tint\n",
              "\tMaintenanceStaff\tint\n",
              "\tGymnasium\tint\n",
              "\tSwimmingPool\tint\n",
              "\tLandscapedGardens\tint\n",
              "\tJoggingTrack\tint\n",
              "\tRainWaterHarvesting\tint\n",
              "\tIndoorGames\tint\n",
              "\tShoppingMall\tint\n",
              "\tIntercom\tint\n",
              "\tSportsFacility\tint\n",
              "\tATM\tint\n",
              "\tClubHouse\tint\n",
              "\tSchool\tint\n",
              "\t24X7Security\tint\n",
              "\tPowerBackup\tint\n",
              "\tCarParking\tint\n",
              "\tStaffQuarter\tint\n",
              "\tCafeteria\tint\n",
              "\tMultipurposeRoom\tint\n",
              "\tHospital\tint\n",
              "\tWashingMachine\tint\n",
              "\tGasconnection\tint\n",
              "\tAC\tint\n",
              "\tWifi\tint\n",
              "\tChildren'splayarea\tint\n",
              "\tLiftAvailable\tint\n",
              "\tBED\tint\n",
              "\tVaastuCompliant\tint\n",
              "\tMicrowave\tint\n",
              "\tGolfCourse\tint\n",
              "\tTV\tint\n",
              "\tDiningTable\tint\n",
              "\tSofa\tint\n",
              "\tWardrobe\tint\n",
              "\tRefrigerator\tint\n",
              "\n",
              "Rows: 2518\n",
              "\n",
              "Data:\n",
              "+----------+------+-------------+-----------------+--------+------------------+\n",
              "|  Price   | Area |   Location  | No. of Bedrooms | Resale | MaintenanceStaff |\n",
              "+----------+------+-------------+-----------------+--------+------------------+\n",
              "| 6968000  | 1340 |   Nizampet  |        2        |   0    |        0         |\n",
              "| 29000000 | 3498 | Hitech City |        4        |   0    |        0         |\n",
              "| 6590000  | 1318 |  Manikonda  |        2        |   0    |        0         |\n",
              "| 5739000  | 1295 |    Alwal    |        3        |   1    |        0         |\n",
              "| 5679000  | 1145 |  Kukatpally |        2        |   0    |        0         |\n",
              "| 6099000  | 1230 |   Nizampet  |        2        |   0    |        0         |\n",
              "| 7000000  | 1350 |  Manikonda  |        2        |   0    |        0         |\n",
              "| 4198000  | 1400 |  Gachibowli |        3        |   0    |        0         |\n",
              "| 9900000  | 2240 |   Tellapur  |        3        |   0    |        0         |\n",
              "| 9800000  | 1520 |  Gachibowli |        2        |   1    |        0         |\n",
              "+----------+------+-------------+-----------------+--------+------------------+\n",
              "+-----------+--------------+-------------------+--------------+---------------------+\n",
              "| Gymnasium | SwimmingPool | LandscapedGardens | JoggingTrack | RainWaterHarvesting |\n",
              "+-----------+--------------+-------------------+--------------+---------------------+\n",
              "|     1     |      1       |         1         |      1       |          1          |\n",
              "|     1     |      1       |         1         |      1       |          1          |\n",
              "|     1     |      0       |         0         |      0       |          0          |\n",
              "|     0     |      0       |         0         |      0       |          0          |\n",
              "|     0     |      0       |         1         |      0       |          0          |\n",
              "|     0     |      0       |         0         |      0       |          0          |\n",
              "|     0     |      0       |         0         |      0       |          0          |\n",
              "|     1     |      1       |         0         |      0       |          0          |\n",
              "|     1     |      1       |         0         |      0       |          0          |\n",
              "|     0     |      0       |         0         |      0       |          0          |\n",
              "+-----------+--------------+-------------------+--------------+---------------------+\n",
              "+-------------+--------------+----------+----------------+-----+-----------+--------+\n",
              "| IndoorGames | ShoppingMall | Intercom | SportsFacility | ATM | ClubHouse | School |\n",
              "+-------------+--------------+----------+----------------+-----+-----------+--------+\n",
              "|      1      |      0       |    1     |       0        |  0  |     1     |   0    |\n",
              "|      1      |      0       |    1     |       0        |  1  |     1     |   0    |\n",
              "|      1      |      0       |    0     |       0        |  0  |     0     |   0    |\n",
              "|      0      |      0       |    0     |       0        |  0  |     0     |   0    |\n",
              "|      0      |      0       |    0     |       0        |  0  |     0     |   0    |\n",
              "|      0      |      0       |    0     |       0        |  0  |     0     |   0    |\n",
              "|      0      |      0       |    0     |       0        |  0  |     0     |   0    |\n",
              "|      0      |      0       |    1     |       1        |  0  |     1     |   0    |\n",
              "|      1      |      0       |    0     |       0        |  0  |     1     |   0    |\n",
              "|      0      |      0       |    0     |       0        |  0  |     0     |   0    |\n",
              "+-------------+--------------+----------+----------------+-----+-----------+--------+\n",
              "+--------------+-------------+-----+\n",
              "| 24X7Security | PowerBackup | ... |\n",
              "+--------------+-------------+-----+\n",
              "|      1       |      1      | ... |\n",
              "|      1       |      1      | ... |\n",
              "|      0       |      0      | ... |\n",
              "|      0       |      1      | ... |\n",
              "|      0       |      1      | ... |\n",
              "|      0       |      1      | ... |\n",
              "|      0       |      0      | ... |\n",
              "|      0       |      1      | ... |\n",
              "|      1       |      1      | ... |\n",
              "|      0       |      1      | ... |\n",
              "+--------------+-------------+-----+\n",
              "[2518 rows x 40 columns]\n",
              "Note: Only the head of the SFrame is printed.\n",
              "You can use print_rows(num_rows=m, num_columns=n) to print more rows and columns."
            ],
            "text/html": [
              "<div style=\"max-height:1000px;max-width:1500px;overflow:auto;\"><table frame=\"box\" rules=\"cols\">\n",
              "    <tr>\n",
              "        <th style=\"padding-left: 1em; padding-right: 1em; text-align: center\">Price</th>\n",
              "        <th style=\"padding-left: 1em; padding-right: 1em; text-align: center\">Area</th>\n",
              "        <th style=\"padding-left: 1em; padding-right: 1em; text-align: center\">Location</th>\n",
              "        <th style=\"padding-left: 1em; padding-right: 1em; text-align: center\">No. of Bedrooms</th>\n",
              "        <th style=\"padding-left: 1em; padding-right: 1em; text-align: center\">Resale</th>\n",
              "        <th style=\"padding-left: 1em; padding-right: 1em; text-align: center\">MaintenanceStaff</th>\n",
              "        <th style=\"padding-left: 1em; padding-right: 1em; text-align: center\">Gymnasium</th>\n",
              "        <th style=\"padding-left: 1em; padding-right: 1em; text-align: center\">SwimmingPool</th>\n",
              "        <th style=\"padding-left: 1em; padding-right: 1em; text-align: center\">LandscapedGardens</th>\n",
              "    </tr>\n",
              "    <tr>\n",
              "        <td style=\"padding-left: 1em; padding-right: 1em; text-align: center; vertical-align: top\">6968000</td>\n",
              "        <td style=\"padding-left: 1em; padding-right: 1em; text-align: center; vertical-align: top\">1340</td>\n",
              "        <td style=\"padding-left: 1em; padding-right: 1em; text-align: center; vertical-align: top\">Nizampet</td>\n",
              "        <td style=\"padding-left: 1em; padding-right: 1em; text-align: center; vertical-align: top\">2</td>\n",
              "        <td style=\"padding-left: 1em; padding-right: 1em; text-align: center; vertical-align: top\">0</td>\n",
              "        <td style=\"padding-left: 1em; padding-right: 1em; text-align: center; vertical-align: top\">0</td>\n",
              "        <td style=\"padding-left: 1em; padding-right: 1em; text-align: center; vertical-align: top\">1</td>\n",
              "        <td style=\"padding-left: 1em; padding-right: 1em; text-align: center; vertical-align: top\">1</td>\n",
              "        <td style=\"padding-left: 1em; padding-right: 1em; text-align: center; vertical-align: top\">1</td>\n",
              "    </tr>\n",
              "    <tr>\n",
              "        <td style=\"padding-left: 1em; padding-right: 1em; text-align: center; vertical-align: top\">29000000</td>\n",
              "        <td style=\"padding-left: 1em; padding-right: 1em; text-align: center; vertical-align: top\">3498</td>\n",
              "        <td style=\"padding-left: 1em; padding-right: 1em; text-align: center; vertical-align: top\">Hitech City</td>\n",
              "        <td style=\"padding-left: 1em; padding-right: 1em; text-align: center; vertical-align: top\">4</td>\n",
              "        <td style=\"padding-left: 1em; padding-right: 1em; text-align: center; vertical-align: top\">0</td>\n",
              "        <td style=\"padding-left: 1em; padding-right: 1em; text-align: center; vertical-align: top\">0</td>\n",
              "        <td style=\"padding-left: 1em; padding-right: 1em; text-align: center; vertical-align: top\">1</td>\n",
              "        <td style=\"padding-left: 1em; padding-right: 1em; text-align: center; vertical-align: top\">1</td>\n",
              "        <td style=\"padding-left: 1em; padding-right: 1em; text-align: center; vertical-align: top\">1</td>\n",
              "    </tr>\n",
              "    <tr>\n",
              "        <td style=\"padding-left: 1em; padding-right: 1em; text-align: center; vertical-align: top\">6590000</td>\n",
              "        <td style=\"padding-left: 1em; padding-right: 1em; text-align: center; vertical-align: top\">1318</td>\n",
              "        <td style=\"padding-left: 1em; padding-right: 1em; text-align: center; vertical-align: top\">Manikonda</td>\n",
              "        <td style=\"padding-left: 1em; padding-right: 1em; text-align: center; vertical-align: top\">2</td>\n",
              "        <td style=\"padding-left: 1em; padding-right: 1em; text-align: center; vertical-align: top\">0</td>\n",
              "        <td style=\"padding-left: 1em; padding-right: 1em; text-align: center; vertical-align: top\">0</td>\n",
              "        <td style=\"padding-left: 1em; padding-right: 1em; text-align: center; vertical-align: top\">1</td>\n",
              "        <td style=\"padding-left: 1em; padding-right: 1em; text-align: center; vertical-align: top\">0</td>\n",
              "        <td style=\"padding-left: 1em; padding-right: 1em; text-align: center; vertical-align: top\">0</td>\n",
              "    </tr>\n",
              "    <tr>\n",
              "        <td style=\"padding-left: 1em; padding-right: 1em; text-align: center; vertical-align: top\">5739000</td>\n",
              "        <td style=\"padding-left: 1em; padding-right: 1em; text-align: center; vertical-align: top\">1295</td>\n",
              "        <td style=\"padding-left: 1em; padding-right: 1em; text-align: center; vertical-align: top\">Alwal</td>\n",
              "        <td style=\"padding-left: 1em; padding-right: 1em; text-align: center; vertical-align: top\">3</td>\n",
              "        <td style=\"padding-left: 1em; padding-right: 1em; text-align: center; vertical-align: top\">1</td>\n",
              "        <td style=\"padding-left: 1em; padding-right: 1em; text-align: center; vertical-align: top\">0</td>\n",
              "        <td style=\"padding-left: 1em; padding-right: 1em; text-align: center; vertical-align: top\">0</td>\n",
              "        <td style=\"padding-left: 1em; padding-right: 1em; text-align: center; vertical-align: top\">0</td>\n",
              "        <td style=\"padding-left: 1em; padding-right: 1em; text-align: center; vertical-align: top\">0</td>\n",
              "    </tr>\n",
              "    <tr>\n",
              "        <td style=\"padding-left: 1em; padding-right: 1em; text-align: center; vertical-align: top\">5679000</td>\n",
              "        <td style=\"padding-left: 1em; padding-right: 1em; text-align: center; vertical-align: top\">1145</td>\n",
              "        <td style=\"padding-left: 1em; padding-right: 1em; text-align: center; vertical-align: top\">Kukatpally</td>\n",
              "        <td style=\"padding-left: 1em; padding-right: 1em; text-align: center; vertical-align: top\">2</td>\n",
              "        <td style=\"padding-left: 1em; padding-right: 1em; text-align: center; vertical-align: top\">0</td>\n",
              "        <td style=\"padding-left: 1em; padding-right: 1em; text-align: center; vertical-align: top\">0</td>\n",
              "        <td style=\"padding-left: 1em; padding-right: 1em; text-align: center; vertical-align: top\">0</td>\n",
              "        <td style=\"padding-left: 1em; padding-right: 1em; text-align: center; vertical-align: top\">0</td>\n",
              "        <td style=\"padding-left: 1em; padding-right: 1em; text-align: center; vertical-align: top\">1</td>\n",
              "    </tr>\n",
              "    <tr>\n",
              "        <td style=\"padding-left: 1em; padding-right: 1em; text-align: center; vertical-align: top\">6099000</td>\n",
              "        <td style=\"padding-left: 1em; padding-right: 1em; text-align: center; vertical-align: top\">1230</td>\n",
              "        <td style=\"padding-left: 1em; padding-right: 1em; text-align: center; vertical-align: top\">Nizampet</td>\n",
              "        <td style=\"padding-left: 1em; padding-right: 1em; text-align: center; vertical-align: top\">2</td>\n",
              "        <td style=\"padding-left: 1em; padding-right: 1em; text-align: center; vertical-align: top\">0</td>\n",
              "        <td style=\"padding-left: 1em; padding-right: 1em; text-align: center; vertical-align: top\">0</td>\n",
              "        <td style=\"padding-left: 1em; padding-right: 1em; text-align: center; vertical-align: top\">0</td>\n",
              "        <td style=\"padding-left: 1em; padding-right: 1em; text-align: center; vertical-align: top\">0</td>\n",
              "        <td style=\"padding-left: 1em; padding-right: 1em; text-align: center; vertical-align: top\">0</td>\n",
              "    </tr>\n",
              "    <tr>\n",
              "        <td style=\"padding-left: 1em; padding-right: 1em; text-align: center; vertical-align: top\">7000000</td>\n",
              "        <td style=\"padding-left: 1em; padding-right: 1em; text-align: center; vertical-align: top\">1350</td>\n",
              "        <td style=\"padding-left: 1em; padding-right: 1em; text-align: center; vertical-align: top\">Manikonda</td>\n",
              "        <td style=\"padding-left: 1em; padding-right: 1em; text-align: center; vertical-align: top\">2</td>\n",
              "        <td style=\"padding-left: 1em; padding-right: 1em; text-align: center; vertical-align: top\">0</td>\n",
              "        <td style=\"padding-left: 1em; padding-right: 1em; text-align: center; vertical-align: top\">0</td>\n",
              "        <td style=\"padding-left: 1em; padding-right: 1em; text-align: center; vertical-align: top\">0</td>\n",
              "        <td style=\"padding-left: 1em; padding-right: 1em; text-align: center; vertical-align: top\">0</td>\n",
              "        <td style=\"padding-left: 1em; padding-right: 1em; text-align: center; vertical-align: top\">0</td>\n",
              "    </tr>\n",
              "    <tr>\n",
              "        <td style=\"padding-left: 1em; padding-right: 1em; text-align: center; vertical-align: top\">4198000</td>\n",
              "        <td style=\"padding-left: 1em; padding-right: 1em; text-align: center; vertical-align: top\">1400</td>\n",
              "        <td style=\"padding-left: 1em; padding-right: 1em; text-align: center; vertical-align: top\">Gachibowli</td>\n",
              "        <td style=\"padding-left: 1em; padding-right: 1em; text-align: center; vertical-align: top\">3</td>\n",
              "        <td style=\"padding-left: 1em; padding-right: 1em; text-align: center; vertical-align: top\">0</td>\n",
              "        <td style=\"padding-left: 1em; padding-right: 1em; text-align: center; vertical-align: top\">0</td>\n",
              "        <td style=\"padding-left: 1em; padding-right: 1em; text-align: center; vertical-align: top\">1</td>\n",
              "        <td style=\"padding-left: 1em; padding-right: 1em; text-align: center; vertical-align: top\">1</td>\n",
              "        <td style=\"padding-left: 1em; padding-right: 1em; text-align: center; vertical-align: top\">0</td>\n",
              "    </tr>\n",
              "    <tr>\n",
              "        <td style=\"padding-left: 1em; padding-right: 1em; text-align: center; vertical-align: top\">9900000</td>\n",
              "        <td style=\"padding-left: 1em; padding-right: 1em; text-align: center; vertical-align: top\">2240</td>\n",
              "        <td style=\"padding-left: 1em; padding-right: 1em; text-align: center; vertical-align: top\">Tellapur</td>\n",
              "        <td style=\"padding-left: 1em; padding-right: 1em; text-align: center; vertical-align: top\">3</td>\n",
              "        <td style=\"padding-left: 1em; padding-right: 1em; text-align: center; vertical-align: top\">0</td>\n",
              "        <td style=\"padding-left: 1em; padding-right: 1em; text-align: center; vertical-align: top\">0</td>\n",
              "        <td style=\"padding-left: 1em; padding-right: 1em; text-align: center; vertical-align: top\">1</td>\n",
              "        <td style=\"padding-left: 1em; padding-right: 1em; text-align: center; vertical-align: top\">1</td>\n",
              "        <td style=\"padding-left: 1em; padding-right: 1em; text-align: center; vertical-align: top\">0</td>\n",
              "    </tr>\n",
              "    <tr>\n",
              "        <td style=\"padding-left: 1em; padding-right: 1em; text-align: center; vertical-align: top\">9800000</td>\n",
              "        <td style=\"padding-left: 1em; padding-right: 1em; text-align: center; vertical-align: top\">1520</td>\n",
              "        <td style=\"padding-left: 1em; padding-right: 1em; text-align: center; vertical-align: top\">Gachibowli</td>\n",
              "        <td style=\"padding-left: 1em; padding-right: 1em; text-align: center; vertical-align: top\">2</td>\n",
              "        <td style=\"padding-left: 1em; padding-right: 1em; text-align: center; vertical-align: top\">1</td>\n",
              "        <td style=\"padding-left: 1em; padding-right: 1em; text-align: center; vertical-align: top\">0</td>\n",
              "        <td style=\"padding-left: 1em; padding-right: 1em; text-align: center; vertical-align: top\">0</td>\n",
              "        <td style=\"padding-left: 1em; padding-right: 1em; text-align: center; vertical-align: top\">0</td>\n",
              "        <td style=\"padding-left: 1em; padding-right: 1em; text-align: center; vertical-align: top\">0</td>\n",
              "    </tr>\n",
              "</table>\n",
              "<table frame=\"box\" rules=\"cols\">\n",
              "    <tr>\n",
              "        <th style=\"padding-left: 1em; padding-right: 1em; text-align: center\">JoggingTrack</th>\n",
              "        <th style=\"padding-left: 1em; padding-right: 1em; text-align: center\">RainWaterHarvesting</th>\n",
              "        <th style=\"padding-left: 1em; padding-right: 1em; text-align: center\">IndoorGames</th>\n",
              "        <th style=\"padding-left: 1em; padding-right: 1em; text-align: center\">ShoppingMall</th>\n",
              "        <th style=\"padding-left: 1em; padding-right: 1em; text-align: center\">Intercom</th>\n",
              "        <th style=\"padding-left: 1em; padding-right: 1em; text-align: center\">SportsFacility</th>\n",
              "        <th style=\"padding-left: 1em; padding-right: 1em; text-align: center\">ATM</th>\n",
              "        <th style=\"padding-left: 1em; padding-right: 1em; text-align: center\">ClubHouse</th>\n",
              "        <th style=\"padding-left: 1em; padding-right: 1em; text-align: center\">School</th>\n",
              "    </tr>\n",
              "    <tr>\n",
              "        <td style=\"padding-left: 1em; padding-right: 1em; text-align: center; vertical-align: top\">1</td>\n",
              "        <td style=\"padding-left: 1em; padding-right: 1em; text-align: center; vertical-align: top\">1</td>\n",
              "        <td style=\"padding-left: 1em; padding-right: 1em; text-align: center; vertical-align: top\">1</td>\n",
              "        <td style=\"padding-left: 1em; padding-right: 1em; text-align: center; vertical-align: top\">0</td>\n",
              "        <td style=\"padding-left: 1em; padding-right: 1em; text-align: center; vertical-align: top\">1</td>\n",
              "        <td style=\"padding-left: 1em; padding-right: 1em; text-align: center; vertical-align: top\">0</td>\n",
              "        <td style=\"padding-left: 1em; padding-right: 1em; text-align: center; vertical-align: top\">0</td>\n",
              "        <td style=\"padding-left: 1em; padding-right: 1em; text-align: center; vertical-align: top\">1</td>\n",
              "        <td style=\"padding-left: 1em; padding-right: 1em; text-align: center; vertical-align: top\">0</td>\n",
              "    </tr>\n",
              "    <tr>\n",
              "        <td style=\"padding-left: 1em; padding-right: 1em; text-align: center; vertical-align: top\">1</td>\n",
              "        <td style=\"padding-left: 1em; padding-right: 1em; text-align: center; vertical-align: top\">1</td>\n",
              "        <td style=\"padding-left: 1em; padding-right: 1em; text-align: center; vertical-align: top\">1</td>\n",
              "        <td style=\"padding-left: 1em; padding-right: 1em; text-align: center; vertical-align: top\">0</td>\n",
              "        <td style=\"padding-left: 1em; padding-right: 1em; text-align: center; vertical-align: top\">1</td>\n",
              "        <td style=\"padding-left: 1em; padding-right: 1em; text-align: center; vertical-align: top\">0</td>\n",
              "        <td style=\"padding-left: 1em; padding-right: 1em; text-align: center; vertical-align: top\">1</td>\n",
              "        <td style=\"padding-left: 1em; padding-right: 1em; text-align: center; vertical-align: top\">1</td>\n",
              "        <td style=\"padding-left: 1em; padding-right: 1em; text-align: center; vertical-align: top\">0</td>\n",
              "    </tr>\n",
              "    <tr>\n",
              "        <td style=\"padding-left: 1em; padding-right: 1em; text-align: center; vertical-align: top\">0</td>\n",
              "        <td style=\"padding-left: 1em; padding-right: 1em; text-align: center; vertical-align: top\">0</td>\n",
              "        <td style=\"padding-left: 1em; padding-right: 1em; text-align: center; vertical-align: top\">1</td>\n",
              "        <td style=\"padding-left: 1em; padding-right: 1em; text-align: center; vertical-align: top\">0</td>\n",
              "        <td style=\"padding-left: 1em; padding-right: 1em; text-align: center; vertical-align: top\">0</td>\n",
              "        <td style=\"padding-left: 1em; padding-right: 1em; text-align: center; vertical-align: top\">0</td>\n",
              "        <td style=\"padding-left: 1em; padding-right: 1em; text-align: center; vertical-align: top\">0</td>\n",
              "        <td style=\"padding-left: 1em; padding-right: 1em; text-align: center; vertical-align: top\">0</td>\n",
              "        <td style=\"padding-left: 1em; padding-right: 1em; text-align: center; vertical-align: top\">0</td>\n",
              "    </tr>\n",
              "    <tr>\n",
              "        <td style=\"padding-left: 1em; padding-right: 1em; text-align: center; vertical-align: top\">0</td>\n",
              "        <td style=\"padding-left: 1em; padding-right: 1em; text-align: center; vertical-align: top\">0</td>\n",
              "        <td style=\"padding-left: 1em; padding-right: 1em; text-align: center; vertical-align: top\">0</td>\n",
              "        <td style=\"padding-left: 1em; padding-right: 1em; text-align: center; vertical-align: top\">0</td>\n",
              "        <td style=\"padding-left: 1em; padding-right: 1em; text-align: center; vertical-align: top\">0</td>\n",
              "        <td style=\"padding-left: 1em; padding-right: 1em; text-align: center; vertical-align: top\">0</td>\n",
              "        <td style=\"padding-left: 1em; padding-right: 1em; text-align: center; vertical-align: top\">0</td>\n",
              "        <td style=\"padding-left: 1em; padding-right: 1em; text-align: center; vertical-align: top\">0</td>\n",
              "        <td style=\"padding-left: 1em; padding-right: 1em; text-align: center; vertical-align: top\">0</td>\n",
              "    </tr>\n",
              "    <tr>\n",
              "        <td style=\"padding-left: 1em; padding-right: 1em; text-align: center; vertical-align: top\">0</td>\n",
              "        <td style=\"padding-left: 1em; padding-right: 1em; text-align: center; vertical-align: top\">0</td>\n",
              "        <td style=\"padding-left: 1em; padding-right: 1em; text-align: center; vertical-align: top\">0</td>\n",
              "        <td style=\"padding-left: 1em; padding-right: 1em; text-align: center; vertical-align: top\">0</td>\n",
              "        <td style=\"padding-left: 1em; padding-right: 1em; text-align: center; vertical-align: top\">0</td>\n",
              "        <td style=\"padding-left: 1em; padding-right: 1em; text-align: center; vertical-align: top\">0</td>\n",
              "        <td style=\"padding-left: 1em; padding-right: 1em; text-align: center; vertical-align: top\">0</td>\n",
              "        <td style=\"padding-left: 1em; padding-right: 1em; text-align: center; vertical-align: top\">0</td>\n",
              "        <td style=\"padding-left: 1em; padding-right: 1em; text-align: center; vertical-align: top\">0</td>\n",
              "    </tr>\n",
              "    <tr>\n",
              "        <td style=\"padding-left: 1em; padding-right: 1em; text-align: center; vertical-align: top\">0</td>\n",
              "        <td style=\"padding-left: 1em; padding-right: 1em; text-align: center; vertical-align: top\">0</td>\n",
              "        <td style=\"padding-left: 1em; padding-right: 1em; text-align: center; vertical-align: top\">0</td>\n",
              "        <td style=\"padding-left: 1em; padding-right: 1em; text-align: center; vertical-align: top\">0</td>\n",
              "        <td style=\"padding-left: 1em; padding-right: 1em; text-align: center; vertical-align: top\">0</td>\n",
              "        <td style=\"padding-left: 1em; padding-right: 1em; text-align: center; vertical-align: top\">0</td>\n",
              "        <td style=\"padding-left: 1em; padding-right: 1em; text-align: center; vertical-align: top\">0</td>\n",
              "        <td style=\"padding-left: 1em; padding-right: 1em; text-align: center; vertical-align: top\">0</td>\n",
              "        <td style=\"padding-left: 1em; padding-right: 1em; text-align: center; vertical-align: top\">0</td>\n",
              "    </tr>\n",
              "    <tr>\n",
              "        <td style=\"padding-left: 1em; padding-right: 1em; text-align: center; vertical-align: top\">0</td>\n",
              "        <td style=\"padding-left: 1em; padding-right: 1em; text-align: center; vertical-align: top\">0</td>\n",
              "        <td style=\"padding-left: 1em; padding-right: 1em; text-align: center; vertical-align: top\">0</td>\n",
              "        <td style=\"padding-left: 1em; padding-right: 1em; text-align: center; vertical-align: top\">0</td>\n",
              "        <td style=\"padding-left: 1em; padding-right: 1em; text-align: center; vertical-align: top\">0</td>\n",
              "        <td style=\"padding-left: 1em; padding-right: 1em; text-align: center; vertical-align: top\">0</td>\n",
              "        <td style=\"padding-left: 1em; padding-right: 1em; text-align: center; vertical-align: top\">0</td>\n",
              "        <td style=\"padding-left: 1em; padding-right: 1em; text-align: center; vertical-align: top\">0</td>\n",
              "        <td style=\"padding-left: 1em; padding-right: 1em; text-align: center; vertical-align: top\">0</td>\n",
              "    </tr>\n",
              "    <tr>\n",
              "        <td style=\"padding-left: 1em; padding-right: 1em; text-align: center; vertical-align: top\">0</td>\n",
              "        <td style=\"padding-left: 1em; padding-right: 1em; text-align: center; vertical-align: top\">0</td>\n",
              "        <td style=\"padding-left: 1em; padding-right: 1em; text-align: center; vertical-align: top\">0</td>\n",
              "        <td style=\"padding-left: 1em; padding-right: 1em; text-align: center; vertical-align: top\">0</td>\n",
              "        <td style=\"padding-left: 1em; padding-right: 1em; text-align: center; vertical-align: top\">1</td>\n",
              "        <td style=\"padding-left: 1em; padding-right: 1em; text-align: center; vertical-align: top\">1</td>\n",
              "        <td style=\"padding-left: 1em; padding-right: 1em; text-align: center; vertical-align: top\">0</td>\n",
              "        <td style=\"padding-left: 1em; padding-right: 1em; text-align: center; vertical-align: top\">1</td>\n",
              "        <td style=\"padding-left: 1em; padding-right: 1em; text-align: center; vertical-align: top\">0</td>\n",
              "    </tr>\n",
              "    <tr>\n",
              "        <td style=\"padding-left: 1em; padding-right: 1em; text-align: center; vertical-align: top\">0</td>\n",
              "        <td style=\"padding-left: 1em; padding-right: 1em; text-align: center; vertical-align: top\">0</td>\n",
              "        <td style=\"padding-left: 1em; padding-right: 1em; text-align: center; vertical-align: top\">1</td>\n",
              "        <td style=\"padding-left: 1em; padding-right: 1em; text-align: center; vertical-align: top\">0</td>\n",
              "        <td style=\"padding-left: 1em; padding-right: 1em; text-align: center; vertical-align: top\">0</td>\n",
              "        <td style=\"padding-left: 1em; padding-right: 1em; text-align: center; vertical-align: top\">0</td>\n",
              "        <td style=\"padding-left: 1em; padding-right: 1em; text-align: center; vertical-align: top\">0</td>\n",
              "        <td style=\"padding-left: 1em; padding-right: 1em; text-align: center; vertical-align: top\">1</td>\n",
              "        <td style=\"padding-left: 1em; padding-right: 1em; text-align: center; vertical-align: top\">0</td>\n",
              "    </tr>\n",
              "    <tr>\n",
              "        <td style=\"padding-left: 1em; padding-right: 1em; text-align: center; vertical-align: top\">0</td>\n",
              "        <td style=\"padding-left: 1em; padding-right: 1em; text-align: center; vertical-align: top\">0</td>\n",
              "        <td style=\"padding-left: 1em; padding-right: 1em; text-align: center; vertical-align: top\">0</td>\n",
              "        <td style=\"padding-left: 1em; padding-right: 1em; text-align: center; vertical-align: top\">0</td>\n",
              "        <td style=\"padding-left: 1em; padding-right: 1em; text-align: center; vertical-align: top\">0</td>\n",
              "        <td style=\"padding-left: 1em; padding-right: 1em; text-align: center; vertical-align: top\">0</td>\n",
              "        <td style=\"padding-left: 1em; padding-right: 1em; text-align: center; vertical-align: top\">0</td>\n",
              "        <td style=\"padding-left: 1em; padding-right: 1em; text-align: center; vertical-align: top\">0</td>\n",
              "        <td style=\"padding-left: 1em; padding-right: 1em; text-align: center; vertical-align: top\">0</td>\n",
              "    </tr>\n",
              "</table>\n",
              "<table frame=\"box\" rules=\"cols\">\n",
              "    <tr>\n",
              "        <th style=\"padding-left: 1em; padding-right: 1em; text-align: center\">24X7Security</th>\n",
              "        <th style=\"padding-left: 1em; padding-right: 1em; text-align: center\">PowerBackup</th>\n",
              "        <th style=\"padding-left: 1em; padding-right: 1em; text-align: center\">CarParking</th>\n",
              "        <th style=\"padding-left: 1em; padding-right: 1em; text-align: center\">StaffQuarter</th>\n",
              "        <th style=\"padding-left: 1em; padding-right: 1em; text-align: center\">Cafeteria</th>\n",
              "        <th style=\"padding-left: 1em; padding-right: 1em; text-align: center\">MultipurposeRoom</th>\n",
              "        <th style=\"padding-left: 1em; padding-right: 1em; text-align: center\">Hospital</th>\n",
              "        <th style=\"padding-left: 1em; padding-right: 1em; text-align: center\">WashingMachine</th>\n",
              "        <th style=\"padding-left: 1em; padding-right: 1em; text-align: center\">Gasconnection</th>\n",
              "    </tr>\n",
              "    <tr>\n",
              "        <td style=\"padding-left: 1em; padding-right: 1em; text-align: center; vertical-align: top\">1</td>\n",
              "        <td style=\"padding-left: 1em; padding-right: 1em; text-align: center; vertical-align: top\">1</td>\n",
              "        <td style=\"padding-left: 1em; padding-right: 1em; text-align: center; vertical-align: top\">1</td>\n",
              "        <td style=\"padding-left: 1em; padding-right: 1em; text-align: center; vertical-align: top\">0</td>\n",
              "        <td style=\"padding-left: 1em; padding-right: 1em; text-align: center; vertical-align: top\">0</td>\n",
              "        <td style=\"padding-left: 1em; padding-right: 1em; text-align: center; vertical-align: top\">1</td>\n",
              "        <td style=\"padding-left: 1em; padding-right: 1em; text-align: center; vertical-align: top\">0</td>\n",
              "        <td style=\"padding-left: 1em; padding-right: 1em; text-align: center; vertical-align: top\">0</td>\n",
              "        <td style=\"padding-left: 1em; padding-right: 1em; text-align: center; vertical-align: top\">0</td>\n",
              "    </tr>\n",
              "    <tr>\n",
              "        <td style=\"padding-left: 1em; padding-right: 1em; text-align: center; vertical-align: top\">1</td>\n",
              "        <td style=\"padding-left: 1em; padding-right: 1em; text-align: center; vertical-align: top\">1</td>\n",
              "        <td style=\"padding-left: 1em; padding-right: 1em; text-align: center; vertical-align: top\">1</td>\n",
              "        <td style=\"padding-left: 1em; padding-right: 1em; text-align: center; vertical-align: top\">1</td>\n",
              "        <td style=\"padding-left: 1em; padding-right: 1em; text-align: center; vertical-align: top\">0</td>\n",
              "        <td style=\"padding-left: 1em; padding-right: 1em; text-align: center; vertical-align: top\">1</td>\n",
              "        <td style=\"padding-left: 1em; padding-right: 1em; text-align: center; vertical-align: top\">0</td>\n",
              "        <td style=\"padding-left: 1em; padding-right: 1em; text-align: center; vertical-align: top\">0</td>\n",
              "        <td style=\"padding-left: 1em; padding-right: 1em; text-align: center; vertical-align: top\">0</td>\n",
              "    </tr>\n",
              "    <tr>\n",
              "        <td style=\"padding-left: 1em; padding-right: 1em; text-align: center; vertical-align: top\">0</td>\n",
              "        <td style=\"padding-left: 1em; padding-right: 1em; text-align: center; vertical-align: top\">0</td>\n",
              "        <td style=\"padding-left: 1em; padding-right: 1em; text-align: center; vertical-align: top\">0</td>\n",
              "        <td style=\"padding-left: 1em; padding-right: 1em; text-align: center; vertical-align: top\">0</td>\n",
              "        <td style=\"padding-left: 1em; padding-right: 1em; text-align: center; vertical-align: top\">0</td>\n",
              "        <td style=\"padding-left: 1em; padding-right: 1em; text-align: center; vertical-align: top\">1</td>\n",
              "        <td style=\"padding-left: 1em; padding-right: 1em; text-align: center; vertical-align: top\">0</td>\n",
              "        <td style=\"padding-left: 1em; padding-right: 1em; text-align: center; vertical-align: top\">0</td>\n",
              "        <td style=\"padding-left: 1em; padding-right: 1em; text-align: center; vertical-align: top\">0</td>\n",
              "    </tr>\n",
              "    <tr>\n",
              "        <td style=\"padding-left: 1em; padding-right: 1em; text-align: center; vertical-align: top\">0</td>\n",
              "        <td style=\"padding-left: 1em; padding-right: 1em; text-align: center; vertical-align: top\">1</td>\n",
              "        <td style=\"padding-left: 1em; padding-right: 1em; text-align: center; vertical-align: top\">0</td>\n",
              "        <td style=\"padding-left: 1em; padding-right: 1em; text-align: center; vertical-align: top\">0</td>\n",
              "        <td style=\"padding-left: 1em; padding-right: 1em; text-align: center; vertical-align: top\">0</td>\n",
              "        <td style=\"padding-left: 1em; padding-right: 1em; text-align: center; vertical-align: top\">0</td>\n",
              "        <td style=\"padding-left: 1em; padding-right: 1em; text-align: center; vertical-align: top\">0</td>\n",
              "        <td style=\"padding-left: 1em; padding-right: 1em; text-align: center; vertical-align: top\">0</td>\n",
              "        <td style=\"padding-left: 1em; padding-right: 1em; text-align: center; vertical-align: top\">0</td>\n",
              "    </tr>\n",
              "    <tr>\n",
              "        <td style=\"padding-left: 1em; padding-right: 1em; text-align: center; vertical-align: top\">0</td>\n",
              "        <td style=\"padding-left: 1em; padding-right: 1em; text-align: center; vertical-align: top\">1</td>\n",
              "        <td style=\"padding-left: 1em; padding-right: 1em; text-align: center; vertical-align: top\">1</td>\n",
              "        <td style=\"padding-left: 1em; padding-right: 1em; text-align: center; vertical-align: top\">0</td>\n",
              "        <td style=\"padding-left: 1em; padding-right: 1em; text-align: center; vertical-align: top\">0</td>\n",
              "        <td style=\"padding-left: 1em; padding-right: 1em; text-align: center; vertical-align: top\">0</td>\n",
              "        <td style=\"padding-left: 1em; padding-right: 1em; text-align: center; vertical-align: top\">0</td>\n",
              "        <td style=\"padding-left: 1em; padding-right: 1em; text-align: center; vertical-align: top\">0</td>\n",
              "        <td style=\"padding-left: 1em; padding-right: 1em; text-align: center; vertical-align: top\">0</td>\n",
              "    </tr>\n",
              "    <tr>\n",
              "        <td style=\"padding-left: 1em; padding-right: 1em; text-align: center; vertical-align: top\">0</td>\n",
              "        <td style=\"padding-left: 1em; padding-right: 1em; text-align: center; vertical-align: top\">1</td>\n",
              "        <td style=\"padding-left: 1em; padding-right: 1em; text-align: center; vertical-align: top\">0</td>\n",
              "        <td style=\"padding-left: 1em; padding-right: 1em; text-align: center; vertical-align: top\">0</td>\n",
              "        <td style=\"padding-left: 1em; padding-right: 1em; text-align: center; vertical-align: top\">0</td>\n",
              "        <td style=\"padding-left: 1em; padding-right: 1em; text-align: center; vertical-align: top\">0</td>\n",
              "        <td style=\"padding-left: 1em; padding-right: 1em; text-align: center; vertical-align: top\">0</td>\n",
              "        <td style=\"padding-left: 1em; padding-right: 1em; text-align: center; vertical-align: top\">0</td>\n",
              "        <td style=\"padding-left: 1em; padding-right: 1em; text-align: center; vertical-align: top\">0</td>\n",
              "    </tr>\n",
              "    <tr>\n",
              "        <td style=\"padding-left: 1em; padding-right: 1em; text-align: center; vertical-align: top\">0</td>\n",
              "        <td style=\"padding-left: 1em; padding-right: 1em; text-align: center; vertical-align: top\">0</td>\n",
              "        <td style=\"padding-left: 1em; padding-right: 1em; text-align: center; vertical-align: top\">0</td>\n",
              "        <td style=\"padding-left: 1em; padding-right: 1em; text-align: center; vertical-align: top\">0</td>\n",
              "        <td style=\"padding-left: 1em; padding-right: 1em; text-align: center; vertical-align: top\">0</td>\n",
              "        <td style=\"padding-left: 1em; padding-right: 1em; text-align: center; vertical-align: top\">0</td>\n",
              "        <td style=\"padding-left: 1em; padding-right: 1em; text-align: center; vertical-align: top\">0</td>\n",
              "        <td style=\"padding-left: 1em; padding-right: 1em; text-align: center; vertical-align: top\">0</td>\n",
              "        <td style=\"padding-left: 1em; padding-right: 1em; text-align: center; vertical-align: top\">0</td>\n",
              "    </tr>\n",
              "    <tr>\n",
              "        <td style=\"padding-left: 1em; padding-right: 1em; text-align: center; vertical-align: top\">0</td>\n",
              "        <td style=\"padding-left: 1em; padding-right: 1em; text-align: center; vertical-align: top\">1</td>\n",
              "        <td style=\"padding-left: 1em; padding-right: 1em; text-align: center; vertical-align: top\">0</td>\n",
              "        <td style=\"padding-left: 1em; padding-right: 1em; text-align: center; vertical-align: top\">0</td>\n",
              "        <td style=\"padding-left: 1em; padding-right: 1em; text-align: center; vertical-align: top\">0</td>\n",
              "        <td style=\"padding-left: 1em; padding-right: 1em; text-align: center; vertical-align: top\">0</td>\n",
              "        <td style=\"padding-left: 1em; padding-right: 1em; text-align: center; vertical-align: top\">0</td>\n",
              "        <td style=\"padding-left: 1em; padding-right: 1em; text-align: center; vertical-align: top\">0</td>\n",
              "        <td style=\"padding-left: 1em; padding-right: 1em; text-align: center; vertical-align: top\">1</td>\n",
              "    </tr>\n",
              "    <tr>\n",
              "        <td style=\"padding-left: 1em; padding-right: 1em; text-align: center; vertical-align: top\">1</td>\n",
              "        <td style=\"padding-left: 1em; padding-right: 1em; text-align: center; vertical-align: top\">1</td>\n",
              "        <td style=\"padding-left: 1em; padding-right: 1em; text-align: center; vertical-align: top\">0</td>\n",
              "        <td style=\"padding-left: 1em; padding-right: 1em; text-align: center; vertical-align: top\">0</td>\n",
              "        <td style=\"padding-left: 1em; padding-right: 1em; text-align: center; vertical-align: top\">1</td>\n",
              "        <td style=\"padding-left: 1em; padding-right: 1em; text-align: center; vertical-align: top\">0</td>\n",
              "        <td style=\"padding-left: 1em; padding-right: 1em; text-align: center; vertical-align: top\">0</td>\n",
              "        <td style=\"padding-left: 1em; padding-right: 1em; text-align: center; vertical-align: top\">0</td>\n",
              "        <td style=\"padding-left: 1em; padding-right: 1em; text-align: center; vertical-align: top\">0</td>\n",
              "    </tr>\n",
              "    <tr>\n",
              "        <td style=\"padding-left: 1em; padding-right: 1em; text-align: center; vertical-align: top\">0</td>\n",
              "        <td style=\"padding-left: 1em; padding-right: 1em; text-align: center; vertical-align: top\">1</td>\n",
              "        <td style=\"padding-left: 1em; padding-right: 1em; text-align: center; vertical-align: top\">0</td>\n",
              "        <td style=\"padding-left: 1em; padding-right: 1em; text-align: center; vertical-align: top\">0</td>\n",
              "        <td style=\"padding-left: 1em; padding-right: 1em; text-align: center; vertical-align: top\">0</td>\n",
              "        <td style=\"padding-left: 1em; padding-right: 1em; text-align: center; vertical-align: top\">0</td>\n",
              "        <td style=\"padding-left: 1em; padding-right: 1em; text-align: center; vertical-align: top\">0</td>\n",
              "        <td style=\"padding-left: 1em; padding-right: 1em; text-align: center; vertical-align: top\">0</td>\n",
              "        <td style=\"padding-left: 1em; padding-right: 1em; text-align: center; vertical-align: top\">0</td>\n",
              "    </tr>\n",
              "</table>\n",
              "<table frame=\"box\" rules=\"cols\">\n",
              "    <tr>\n",
              "        <th style=\"padding-left: 1em; padding-right: 1em; text-align: center\">AC</th>\n",
              "        <th style=\"padding-left: 1em; padding-right: 1em; text-align: center\">Wifi</th>\n",
              "        <th style=\"padding-left: 1em; padding-right: 1em; text-align: center\">Children&#x27;splayarea</th>\n",
              "        <th style=\"padding-left: 1em; padding-right: 1em; text-align: center\">LiftAvailable</th>\n",
              "        <th style=\"padding-left: 1em; padding-right: 1em; text-align: center\">BED</th>\n",
              "        <th style=\"padding-left: 1em; padding-right: 1em; text-align: center\">VaastuCompliant</th>\n",
              "        <th style=\"padding-left: 1em; padding-right: 1em; text-align: center\">Microwave</th>\n",
              "        <th style=\"padding-left: 1em; padding-right: 1em; text-align: center\">GolfCourse</th>\n",
              "        <th style=\"padding-left: 1em; padding-right: 1em; text-align: center\">TV</th>\n",
              "        <th style=\"padding-left: 1em; padding-right: 1em; text-align: center\">DiningTable</th>\n",
              "        <th style=\"padding-left: 1em; padding-right: 1em; text-align: center\">Sofa</th>\n",
              "    </tr>\n",
              "    <tr>\n",
              "        <td style=\"padding-left: 1em; padding-right: 1em; text-align: center; vertical-align: top\">0</td>\n",
              "        <td style=\"padding-left: 1em; padding-right: 1em; text-align: center; vertical-align: top\">0</td>\n",
              "        <td style=\"padding-left: 1em; padding-right: 1em; text-align: center; vertical-align: top\">1</td>\n",
              "        <td style=\"padding-left: 1em; padding-right: 1em; text-align: center; vertical-align: top\">1</td>\n",
              "        <td style=\"padding-left: 1em; padding-right: 1em; text-align: center; vertical-align: top\">0</td>\n",
              "        <td style=\"padding-left: 1em; padding-right: 1em; text-align: center; vertical-align: top\">1</td>\n",
              "        <td style=\"padding-left: 1em; padding-right: 1em; text-align: center; vertical-align: top\">0</td>\n",
              "        <td style=\"padding-left: 1em; padding-right: 1em; text-align: center; vertical-align: top\">0</td>\n",
              "        <td style=\"padding-left: 1em; padding-right: 1em; text-align: center; vertical-align: top\">0</td>\n",
              "        <td style=\"padding-left: 1em; padding-right: 1em; text-align: center; vertical-align: top\">0</td>\n",
              "        <td style=\"padding-left: 1em; padding-right: 1em; text-align: center; vertical-align: top\">0</td>\n",
              "    </tr>\n",
              "    <tr>\n",
              "        <td style=\"padding-left: 1em; padding-right: 1em; text-align: center; vertical-align: top\">0</td>\n",
              "        <td style=\"padding-left: 1em; padding-right: 1em; text-align: center; vertical-align: top\">0</td>\n",
              "        <td style=\"padding-left: 1em; padding-right: 1em; text-align: center; vertical-align: top\">1</td>\n",
              "        <td style=\"padding-left: 1em; padding-right: 1em; text-align: center; vertical-align: top\">1</td>\n",
              "        <td style=\"padding-left: 1em; padding-right: 1em; text-align: center; vertical-align: top\">0</td>\n",
              "        <td style=\"padding-left: 1em; padding-right: 1em; text-align: center; vertical-align: top\">1</td>\n",
              "        <td style=\"padding-left: 1em; padding-right: 1em; text-align: center; vertical-align: top\">0</td>\n",
              "        <td style=\"padding-left: 1em; padding-right: 1em; text-align: center; vertical-align: top\">0</td>\n",
              "        <td style=\"padding-left: 1em; padding-right: 1em; text-align: center; vertical-align: top\">0</td>\n",
              "        <td style=\"padding-left: 1em; padding-right: 1em; text-align: center; vertical-align: top\">0</td>\n",
              "        <td style=\"padding-left: 1em; padding-right: 1em; text-align: center; vertical-align: top\">0</td>\n",
              "    </tr>\n",
              "    <tr>\n",
              "        <td style=\"padding-left: 1em; padding-right: 1em; text-align: center; vertical-align: top\">0</td>\n",
              "        <td style=\"padding-left: 1em; padding-right: 1em; text-align: center; vertical-align: top\">0</td>\n",
              "        <td style=\"padding-left: 1em; padding-right: 1em; text-align: center; vertical-align: top\">1</td>\n",
              "        <td style=\"padding-left: 1em; padding-right: 1em; text-align: center; vertical-align: top\">0</td>\n",
              "        <td style=\"padding-left: 1em; padding-right: 1em; text-align: center; vertical-align: top\">0</td>\n",
              "        <td style=\"padding-left: 1em; padding-right: 1em; text-align: center; vertical-align: top\">0</td>\n",
              "        <td style=\"padding-left: 1em; padding-right: 1em; text-align: center; vertical-align: top\">0</td>\n",
              "        <td style=\"padding-left: 1em; padding-right: 1em; text-align: center; vertical-align: top\">0</td>\n",
              "        <td style=\"padding-left: 1em; padding-right: 1em; text-align: center; vertical-align: top\">0</td>\n",
              "        <td style=\"padding-left: 1em; padding-right: 1em; text-align: center; vertical-align: top\">0</td>\n",
              "        <td style=\"padding-left: 1em; padding-right: 1em; text-align: center; vertical-align: top\">0</td>\n",
              "    </tr>\n",
              "    <tr>\n",
              "        <td style=\"padding-left: 1em; padding-right: 1em; text-align: center; vertical-align: top\">0</td>\n",
              "        <td style=\"padding-left: 1em; padding-right: 1em; text-align: center; vertical-align: top\">0</td>\n",
              "        <td style=\"padding-left: 1em; padding-right: 1em; text-align: center; vertical-align: top\">0</td>\n",
              "        <td style=\"padding-left: 1em; padding-right: 1em; text-align: center; vertical-align: top\">1</td>\n",
              "        <td style=\"padding-left: 1em; padding-right: 1em; text-align: center; vertical-align: top\">0</td>\n",
              "        <td style=\"padding-left: 1em; padding-right: 1em; text-align: center; vertical-align: top\">0</td>\n",
              "        <td style=\"padding-left: 1em; padding-right: 1em; text-align: center; vertical-align: top\">0</td>\n",
              "        <td style=\"padding-left: 1em; padding-right: 1em; text-align: center; vertical-align: top\">0</td>\n",
              "        <td style=\"padding-left: 1em; padding-right: 1em; text-align: center; vertical-align: top\">0</td>\n",
              "        <td style=\"padding-left: 1em; padding-right: 1em; text-align: center; vertical-align: top\">0</td>\n",
              "        <td style=\"padding-left: 1em; padding-right: 1em; text-align: center; vertical-align: top\">0</td>\n",
              "    </tr>\n",
              "    <tr>\n",
              "        <td style=\"padding-left: 1em; padding-right: 1em; text-align: center; vertical-align: top\">0</td>\n",
              "        <td style=\"padding-left: 1em; padding-right: 1em; text-align: center; vertical-align: top\">0</td>\n",
              "        <td style=\"padding-left: 1em; padding-right: 1em; text-align: center; vertical-align: top\">1</td>\n",
              "        <td style=\"padding-left: 1em; padding-right: 1em; text-align: center; vertical-align: top\">1</td>\n",
              "        <td style=\"padding-left: 1em; padding-right: 1em; text-align: center; vertical-align: top\">0</td>\n",
              "        <td style=\"padding-left: 1em; padding-right: 1em; text-align: center; vertical-align: top\">0</td>\n",
              "        <td style=\"padding-left: 1em; padding-right: 1em; text-align: center; vertical-align: top\">0</td>\n",
              "        <td style=\"padding-left: 1em; padding-right: 1em; text-align: center; vertical-align: top\">0</td>\n",
              "        <td style=\"padding-left: 1em; padding-right: 1em; text-align: center; vertical-align: top\">0</td>\n",
              "        <td style=\"padding-left: 1em; padding-right: 1em; text-align: center; vertical-align: top\">0</td>\n",
              "        <td style=\"padding-left: 1em; padding-right: 1em; text-align: center; vertical-align: top\">0</td>\n",
              "    </tr>\n",
              "    <tr>\n",
              "        <td style=\"padding-left: 1em; padding-right: 1em; text-align: center; vertical-align: top\">0</td>\n",
              "        <td style=\"padding-left: 1em; padding-right: 1em; text-align: center; vertical-align: top\">0</td>\n",
              "        <td style=\"padding-left: 1em; padding-right: 1em; text-align: center; vertical-align: top\">0</td>\n",
              "        <td style=\"padding-left: 1em; padding-right: 1em; text-align: center; vertical-align: top\">1</td>\n",
              "        <td style=\"padding-left: 1em; padding-right: 1em; text-align: center; vertical-align: top\">0</td>\n",
              "        <td style=\"padding-left: 1em; padding-right: 1em; text-align: center; vertical-align: top\">0</td>\n",
              "        <td style=\"padding-left: 1em; padding-right: 1em; text-align: center; vertical-align: top\">0</td>\n",
              "        <td style=\"padding-left: 1em; padding-right: 1em; text-align: center; vertical-align: top\">0</td>\n",
              "        <td style=\"padding-left: 1em; padding-right: 1em; text-align: center; vertical-align: top\">0</td>\n",
              "        <td style=\"padding-left: 1em; padding-right: 1em; text-align: center; vertical-align: top\">0</td>\n",
              "        <td style=\"padding-left: 1em; padding-right: 1em; text-align: center; vertical-align: top\">0</td>\n",
              "    </tr>\n",
              "    <tr>\n",
              "        <td style=\"padding-left: 1em; padding-right: 1em; text-align: center; vertical-align: top\">0</td>\n",
              "        <td style=\"padding-left: 1em; padding-right: 1em; text-align: center; vertical-align: top\">0</td>\n",
              "        <td style=\"padding-left: 1em; padding-right: 1em; text-align: center; vertical-align: top\">0</td>\n",
              "        <td style=\"padding-left: 1em; padding-right: 1em; text-align: center; vertical-align: top\">1</td>\n",
              "        <td style=\"padding-left: 1em; padding-right: 1em; text-align: center; vertical-align: top\">0</td>\n",
              "        <td style=\"padding-left: 1em; padding-right: 1em; text-align: center; vertical-align: top\">0</td>\n",
              "        <td style=\"padding-left: 1em; padding-right: 1em; text-align: center; vertical-align: top\">0</td>\n",
              "        <td style=\"padding-left: 1em; padding-right: 1em; text-align: center; vertical-align: top\">0</td>\n",
              "        <td style=\"padding-left: 1em; padding-right: 1em; text-align: center; vertical-align: top\">0</td>\n",
              "        <td style=\"padding-left: 1em; padding-right: 1em; text-align: center; vertical-align: top\">0</td>\n",
              "        <td style=\"padding-left: 1em; padding-right: 1em; text-align: center; vertical-align: top\">0</td>\n",
              "    </tr>\n",
              "    <tr>\n",
              "        <td style=\"padding-left: 1em; padding-right: 1em; text-align: center; vertical-align: top\">0</td>\n",
              "        <td style=\"padding-left: 1em; padding-right: 1em; text-align: center; vertical-align: top\">0</td>\n",
              "        <td style=\"padding-left: 1em; padding-right: 1em; text-align: center; vertical-align: top\">1</td>\n",
              "        <td style=\"padding-left: 1em; padding-right: 1em; text-align: center; vertical-align: top\">1</td>\n",
              "        <td style=\"padding-left: 1em; padding-right: 1em; text-align: center; vertical-align: top\">0</td>\n",
              "        <td style=\"padding-left: 1em; padding-right: 1em; text-align: center; vertical-align: top\">0</td>\n",
              "        <td style=\"padding-left: 1em; padding-right: 1em; text-align: center; vertical-align: top\">0</td>\n",
              "        <td style=\"padding-left: 1em; padding-right: 1em; text-align: center; vertical-align: top\">0</td>\n",
              "        <td style=\"padding-left: 1em; padding-right: 1em; text-align: center; vertical-align: top\">0</td>\n",
              "        <td style=\"padding-left: 1em; padding-right: 1em; text-align: center; vertical-align: top\">0</td>\n",
              "        <td style=\"padding-left: 1em; padding-right: 1em; text-align: center; vertical-align: top\">0</td>\n",
              "    </tr>\n",
              "    <tr>\n",
              "        <td style=\"padding-left: 1em; padding-right: 1em; text-align: center; vertical-align: top\">0</td>\n",
              "        <td style=\"padding-left: 1em; padding-right: 1em; text-align: center; vertical-align: top\">0</td>\n",
              "        <td style=\"padding-left: 1em; padding-right: 1em; text-align: center; vertical-align: top\">1</td>\n",
              "        <td style=\"padding-left: 1em; padding-right: 1em; text-align: center; vertical-align: top\">0</td>\n",
              "        <td style=\"padding-left: 1em; padding-right: 1em; text-align: center; vertical-align: top\">0</td>\n",
              "        <td style=\"padding-left: 1em; padding-right: 1em; text-align: center; vertical-align: top\">0</td>\n",
              "        <td style=\"padding-left: 1em; padding-right: 1em; text-align: center; vertical-align: top\">0</td>\n",
              "        <td style=\"padding-left: 1em; padding-right: 1em; text-align: center; vertical-align: top\">0</td>\n",
              "        <td style=\"padding-left: 1em; padding-right: 1em; text-align: center; vertical-align: top\">0</td>\n",
              "        <td style=\"padding-left: 1em; padding-right: 1em; text-align: center; vertical-align: top\">0</td>\n",
              "        <td style=\"padding-left: 1em; padding-right: 1em; text-align: center; vertical-align: top\">0</td>\n",
              "    </tr>\n",
              "    <tr>\n",
              "        <td style=\"padding-left: 1em; padding-right: 1em; text-align: center; vertical-align: top\">0</td>\n",
              "        <td style=\"padding-left: 1em; padding-right: 1em; text-align: center; vertical-align: top\">0</td>\n",
              "        <td style=\"padding-left: 1em; padding-right: 1em; text-align: center; vertical-align: top\">0</td>\n",
              "        <td style=\"padding-left: 1em; padding-right: 1em; text-align: center; vertical-align: top\">1</td>\n",
              "        <td style=\"padding-left: 1em; padding-right: 1em; text-align: center; vertical-align: top\">0</td>\n",
              "        <td style=\"padding-left: 1em; padding-right: 1em; text-align: center; vertical-align: top\">0</td>\n",
              "        <td style=\"padding-left: 1em; padding-right: 1em; text-align: center; vertical-align: top\">0</td>\n",
              "        <td style=\"padding-left: 1em; padding-right: 1em; text-align: center; vertical-align: top\">0</td>\n",
              "        <td style=\"padding-left: 1em; padding-right: 1em; text-align: center; vertical-align: top\">0</td>\n",
              "        <td style=\"padding-left: 1em; padding-right: 1em; text-align: center; vertical-align: top\">0</td>\n",
              "        <td style=\"padding-left: 1em; padding-right: 1em; text-align: center; vertical-align: top\">0</td>\n",
              "    </tr>\n",
              "</table>\n",
              "<table frame=\"box\" rules=\"cols\">\n",
              "    <tr>\n",
              "        <th style=\"padding-left: 1em; padding-right: 1em; text-align: center\">Wardrobe</th>\n",
              "        <th style=\"padding-left: 1em; padding-right: 1em; text-align: center\">Refrigerator</th>\n",
              "    </tr>\n",
              "    <tr>\n",
              "        <td style=\"padding-left: 1em; padding-right: 1em; text-align: center; vertical-align: top\">0</td>\n",
              "        <td style=\"padding-left: 1em; padding-right: 1em; text-align: center; vertical-align: top\">0</td>\n",
              "    </tr>\n",
              "    <tr>\n",
              "        <td style=\"padding-left: 1em; padding-right: 1em; text-align: center; vertical-align: top\">0</td>\n",
              "        <td style=\"padding-left: 1em; padding-right: 1em; text-align: center; vertical-align: top\">0</td>\n",
              "    </tr>\n",
              "    <tr>\n",
              "        <td style=\"padding-left: 1em; padding-right: 1em; text-align: center; vertical-align: top\">0</td>\n",
              "        <td style=\"padding-left: 1em; padding-right: 1em; text-align: center; vertical-align: top\">0</td>\n",
              "    </tr>\n",
              "    <tr>\n",
              "        <td style=\"padding-left: 1em; padding-right: 1em; text-align: center; vertical-align: top\">0</td>\n",
              "        <td style=\"padding-left: 1em; padding-right: 1em; text-align: center; vertical-align: top\">0</td>\n",
              "    </tr>\n",
              "    <tr>\n",
              "        <td style=\"padding-left: 1em; padding-right: 1em; text-align: center; vertical-align: top\">0</td>\n",
              "        <td style=\"padding-left: 1em; padding-right: 1em; text-align: center; vertical-align: top\">0</td>\n",
              "    </tr>\n",
              "    <tr>\n",
              "        <td style=\"padding-left: 1em; padding-right: 1em; text-align: center; vertical-align: top\">0</td>\n",
              "        <td style=\"padding-left: 1em; padding-right: 1em; text-align: center; vertical-align: top\">0</td>\n",
              "    </tr>\n",
              "    <tr>\n",
              "        <td style=\"padding-left: 1em; padding-right: 1em; text-align: center; vertical-align: top\">0</td>\n",
              "        <td style=\"padding-left: 1em; padding-right: 1em; text-align: center; vertical-align: top\">0</td>\n",
              "    </tr>\n",
              "    <tr>\n",
              "        <td style=\"padding-left: 1em; padding-right: 1em; text-align: center; vertical-align: top\">0</td>\n",
              "        <td style=\"padding-left: 1em; padding-right: 1em; text-align: center; vertical-align: top\">0</td>\n",
              "    </tr>\n",
              "    <tr>\n",
              "        <td style=\"padding-left: 1em; padding-right: 1em; text-align: center; vertical-align: top\">0</td>\n",
              "        <td style=\"padding-left: 1em; padding-right: 1em; text-align: center; vertical-align: top\">0</td>\n",
              "    </tr>\n",
              "    <tr>\n",
              "        <td style=\"padding-left: 1em; padding-right: 1em; text-align: center; vertical-align: top\">0</td>\n",
              "        <td style=\"padding-left: 1em; padding-right: 1em; text-align: center; vertical-align: top\">0</td>\n",
              "    </tr>\n",
              "</table>\n",
              "[2518 rows x 40 columns]<br/>Note: Only the head of the SFrame is printed.<br/>You can use print_rows(num_rows=m, num_columns=n) to print more rows and columns.\n",
              "</div>"
            ]
          },
          "metadata": {},
          "execution_count": 5
        }
      ],
      "source": [
        "data = tc.SFrame('/content/drive/MyDrive/Hyderabad.csv')\n",
        "data"
      ]
    },
    {
      "cell_type": "code",
      "execution_count": 6,
      "metadata": {
        "id": "iPuWJ1CgUNet",
        "colab": {
          "base_uri": "https://localhost:8080/"
        },
        "outputId": "729d54d5-19e8-415f-ea70-ceb11bdb947c"
      },
      "outputs": [
        {
          "output_type": "execute_result",
          "data": {
            "text/plain": [
              "(2518, 40)"
            ]
          },
          "metadata": {},
          "execution_count": 6
        }
      ],
      "source": [
        "data.shape"
      ]
    },
    {
      "cell_type": "code",
      "execution_count": 7,
      "metadata": {
        "id": "vb9Aa-vrUO43",
        "colab": {
          "base_uri": "https://localhost:8080/"
        },
        "outputId": "cebbb4c7-f8de-4f13-9cd7-77eaa6856466"
      },
      "outputs": [
        {
          "output_type": "execute_result",
          "data": {
            "text/plain": [
              "['Price',\n",
              " 'Area',\n",
              " 'Location',\n",
              " 'No. of Bedrooms',\n",
              " 'Resale',\n",
              " 'MaintenanceStaff',\n",
              " 'Gymnasium',\n",
              " 'SwimmingPool',\n",
              " 'LandscapedGardens',\n",
              " 'JoggingTrack',\n",
              " 'RainWaterHarvesting',\n",
              " 'IndoorGames',\n",
              " 'ShoppingMall',\n",
              " 'Intercom',\n",
              " 'SportsFacility',\n",
              " 'ATM',\n",
              " 'ClubHouse',\n",
              " 'School',\n",
              " '24X7Security',\n",
              " 'PowerBackup',\n",
              " 'CarParking',\n",
              " 'StaffQuarter',\n",
              " 'Cafeteria',\n",
              " 'MultipurposeRoom',\n",
              " 'Hospital',\n",
              " 'WashingMachine',\n",
              " 'Gasconnection',\n",
              " 'AC',\n",
              " 'Wifi',\n",
              " \"Children'splayarea\",\n",
              " 'LiftAvailable',\n",
              " 'BED',\n",
              " 'VaastuCompliant',\n",
              " 'Microwave',\n",
              " 'GolfCourse',\n",
              " 'TV',\n",
              " 'DiningTable',\n",
              " 'Sofa',\n",
              " 'Wardrobe',\n",
              " 'Refrigerator']"
            ]
          },
          "metadata": {},
          "execution_count": 7
        }
      ],
      "source": [
        "data.column_names()\n"
      ]
    },
    {
      "cell_type": "code",
      "source": [
        "data.column_types()\n"
      ],
      "metadata": {
        "colab": {
          "base_uri": "https://localhost:8080/"
        },
        "id": "DHYXpngy2wNi",
        "outputId": "96491f2a-cb42-4eb5-f4f6-8454b9dba995"
      },
      "execution_count": 8,
      "outputs": [
        {
          "output_type": "execute_result",
          "data": {
            "text/plain": [
              "[int,\n",
              " int,\n",
              " str,\n",
              " int,\n",
              " int,\n",
              " int,\n",
              " int,\n",
              " int,\n",
              " int,\n",
              " int,\n",
              " int,\n",
              " int,\n",
              " int,\n",
              " int,\n",
              " int,\n",
              " int,\n",
              " int,\n",
              " int,\n",
              " int,\n",
              " int,\n",
              " int,\n",
              " int,\n",
              " int,\n",
              " int,\n",
              " int,\n",
              " int,\n",
              " int,\n",
              " int,\n",
              " int,\n",
              " int,\n",
              " int,\n",
              " int,\n",
              " int,\n",
              " int,\n",
              " int,\n",
              " int,\n",
              " int,\n",
              " int,\n",
              " int,\n",
              " int]"
            ]
          },
          "metadata": {},
          "execution_count": 8
        }
      ]
    },
    {
      "cell_type": "code",
      "source": [
        "data[['Price','Area','Location']].plot()\n"
      ],
      "metadata": {
        "colab": {
          "base_uri": "https://localhost:8080/",
          "height": 1000
        },
        "id": "cfM567lV279x",
        "outputId": "ce60fae2-ffa9-4c58-b0a6-f368192152b6"
      },
      "execution_count": 9,
      "outputs": [
        {
          "output_type": "display_data",
          "data": {
            "text/plain": [
              "Materializing SFrame"
            ],
            "text/html": [
              "<pre>Materializing SFrame</pre>"
            ]
          },
          "metadata": {}
        },
        {
          "output_type": "display_data",
          "data": {
            "text/plain": [
              "<IPython.core.display.HTML object>"
            ],
            "text/html": [
              "<html>                 <body>                     <iframe style=\"border:0;margin:0\" width=\"1000\" height=\"1200\" srcdoc='<html lang=\"en\">                         <head>                             <script src=\"https://cdnjs.cloudflare.com/ajax/libs/vega/5.4.0/vega.js\"></script>                             <script src=\"https://cdnjs.cloudflare.com/ajax/libs/vega-embed/4.0.0/vega-embed.js\"></script>                             <script src=\"https://cdnjs.cloudflare.com/ajax/libs/vega-tooltip/0.5.1/vega-tooltip.min.js\"></script>                             <link rel=\"stylesheet\" type=\"text/css\" href=\"https://cdnjs.cloudflare.com/ajax/libs/vega-tooltip/0.5.1/vega-tooltip.min.css\">                             <style>                             .vega-actions > a{                                 color:white;                                 text-decoration: none;                                 font-family: \"Arial\";                                 cursor:pointer;                                 padding:5px;                                 background:#AAAAAA;                                 border-radius:4px;                                 padding-left:10px;                                 padding-right:10px;                                 margin-right:5px;                             }                             .vega-actions{                                 margin-top:20px;                                 text-align:center                             }                            .vega-actions > a{                                 background:#999999;                            }                             </style>                         </head>                         <body>                             <div id=\"vis\">                             </div>                             <script>                                 var vega_json = \"{\\\"$schema\\\": \\\"https://vega.github.io/schema/vega/v4.json\\\", \\\"metadata\\\": {\\\"bubbleOpts\\\": {\\\"showAllFields\\\": false, \\\"fields\\\": [{\\\"field\\\": \\\"left\\\"}, {\\\"field\\\": \\\"right\\\"}, {\\\"field\\\": \\\"count\\\"}, {\\\"field\\\": \\\"label\\\"}]}}, \\\"width\\\": 800, \\\"height\\\": 980, \\\"padding\\\": 8, \\\"data\\\": [{\\\"name\\\": \\\"pts_store\\\"}, {\\\"name\\\": \\\"source_2\\\", \\\"values\\\": [{\\\"a\\\": 0, \\\"title\\\": \\\"Price\\\", \\\"num_row\\\": 2518, \\\"type\\\": \\\"integer\\\", \\\"num_unique\\\": 690, \\\"num_missing\\\": 0, \\\"mean\\\": 9818379.636616, \\\"min\\\": 2000000.0, \\\"max\\\": 165000000.0, \\\"median\\\": 7755000.0, \\\"stdev\\\": 8775369.830469, \\\"numeric\\\": [{\\\"left\\\": -1051648, \\\"right\\\": 7408640, \\\"count\\\": 1191}, {\\\"left\\\": 7408640, \\\"right\\\": 15868928, \\\"count\\\": 1039}, {\\\"left\\\": 15868928, \\\"right\\\": 24329216, \\\"count\\\": 138}, {\\\"left\\\": 24329216, \\\"right\\\": 32789504, \\\"count\\\": 62}, {\\\"left\\\": 32789504, \\\"right\\\": 41249792, \\\"count\\\": 49}, {\\\"left\\\": 41249792, \\\"right\\\": 49710080, \\\"count\\\": 23}, {\\\"left\\\": 49710080, \\\"right\\\": 58170368, \\\"count\\\": 8}, {\\\"left\\\": 58170368, \\\"right\\\": 66630656, \\\"count\\\": 6}, {\\\"left\\\": 66630656, \\\"right\\\": 75090944, \\\"count\\\": 0}, {\\\"left\\\": 75090944, \\\"right\\\": 83551232, \\\"count\\\": 1}, {\\\"left\\\": 83551232, \\\"right\\\": 92011520, \\\"count\\\": 0}, {\\\"left\\\": 92011520, \\\"right\\\": 100471808, \\\"count\\\": 0}, {\\\"left\\\": 100471808, \\\"right\\\": 108932096, \\\"count\\\": 0}, {\\\"left\\\": 108932096, \\\"right\\\": 117392384, \\\"count\\\": 0}, {\\\"left\\\": 117392384, \\\"right\\\": 125852672, \\\"count\\\": 0}, {\\\"left\\\": 125852672, \\\"right\\\": 134312960, \\\"count\\\": 0}, {\\\"left\\\": 134312960, \\\"right\\\": 142773248, \\\"count\\\": 0}, {\\\"left\\\": 142773248, \\\"right\\\": 151233536, \\\"count\\\": 0}, {\\\"left\\\": 151233536, \\\"right\\\": 159693824, \\\"count\\\": 0}, {\\\"left\\\": 159693824, \\\"right\\\": 168154112, \\\"count\\\": 1}, {\\\"start\\\": -1051648, \\\"stop\\\": 168154112, \\\"step\\\": 8460288}], \\\"categorical\\\": []}, {\\\"a\\\": 1, \\\"title\\\": \\\"Area\\\", \\\"num_row\\\": 2518, \\\"type\\\": \\\"integer\\\", \\\"num_unique\\\": 579, \\\"num_missing\\\": 0, \\\"mean\\\": 1644.571088, \\\"min\\\": 500.0, \\\"max\\\": 9400.0, \\\"median\\\": 1500.0, \\\"stdev\\\": 746.108757, \\\"numeric\\\": [{\\\"left\\\": 403, \\\"right\\\": 859, \\\"count\\\": 44}, {\\\"left\\\": 859, \\\"right\\\": 1315, \\\"count\\\": 986}, {\\\"left\\\": 1315, \\\"right\\\": 1771, \\\"count\\\": 804}, {\\\"left\\\": 1771, \\\"right\\\": 2227, \\\"count\\\": 360}, {\\\"left\\\": 2227, \\\"right\\\": 2683, \\\"count\\\": 117}, {\\\"left\\\": 2683, \\\"right\\\": 3139, \\\"count\\\": 72}, {\\\"left\\\": 3139, \\\"right\\\": 3595, \\\"count\\\": 63}, {\\\"left\\\": 3595, \\\"right\\\": 4051, \\\"count\\\": 16}, {\\\"left\\\": 4051, \\\"right\\\": 4507, \\\"count\\\": 36}, {\\\"left\\\": 4507, \\\"right\\\": 4963, \\\"count\\\": 11}, {\\\"left\\\": 4963, \\\"right\\\": 5419, \\\"count\\\": 3}, {\\\"left\\\": 5419, \\\"right\\\": 5875, \\\"count\\\": 2}, {\\\"left\\\": 5875, \\\"right\\\": 6331, \\\"count\\\": 0}, {\\\"left\\\": 6331, \\\"right\\\": 6787, \\\"count\\\": 1}, {\\\"left\\\": 6787, \\\"right\\\": 7243, \\\"count\\\": 0}, {\\\"left\\\": 7243, \\\"right\\\": 7699, \\\"count\\\": 1}, {\\\"left\\\": 7699, \\\"right\\\": 8155, \\\"count\\\": 0}, {\\\"left\\\": 8155, \\\"right\\\": 8611, \\\"count\\\": 1}, {\\\"left\\\": 8611, \\\"right\\\": 9067, \\\"count\\\": 0}, {\\\"left\\\": 9067, \\\"right\\\": 9523, \\\"count\\\": 1}, {\\\"start\\\": 403, \\\"stop\\\": 9523, \\\"step\\\": 456}], \\\"categorical\\\": []}, {\\\"a\\\": 2, \\\"title\\\": \\\"Location\\\", \\\"num_row\\\": 2518, \\\"type\\\": \\\"str\\\", \\\"num_unique\\\": 243, \\\"num_missing\\\": 0, \\\"categorical\\\": [{\\\"label\\\": \\\"Kukatpally\\\", \\\"label_idx\\\": 0, \\\"count\\\": 166, \\\"percentage\\\": \\\"6.59253%\\\"}, {\\\"label\\\": \\\"Kondapur\\\", \\\"label_idx\\\": 1, \\\"count\\\": 149, \\\"percentage\\\": \\\"5.91739%\\\"}, {\\\"label\\\": \\\"Manikonda\\\", \\\"label_idx\\\": 2, \\\"count\\\": 115, \\\"percentage\\\": \\\"4.56712%\\\"}, {\\\"label\\\": \\\"Nizampet\\\", \\\"label_idx\\\": 3, \\\"count\\\": 106, \\\"percentage\\\": \\\"4.20969%\\\"}, {\\\"label\\\": \\\"Gachibowli\\\", \\\"label_idx\\\": 4, \\\"count\\\": 83, \\\"percentage\\\": \\\"3.29627%\\\"}, {\\\"label\\\": \\\"Hitech City\\\", \\\"label_idx\\\": 5, \\\"count\\\": 82, \\\"percentage\\\": \\\"3.25655%\\\"}, {\\\"label\\\": \\\"Miyapur\\\", \\\"label_idx\\\": 6, \\\"count\\\": 80, \\\"percentage\\\": \\\"3.17712%\\\"}, {\\\"label\\\": \\\"Kokapet\\\", \\\"label_idx\\\": 7, \\\"count\\\": 79, \\\"percentage\\\": \\\"3.13741%\\\"}, {\\\"label\\\": \\\"Pragathi Nagar Kukatpally\\\", \\\"label_idx\\\": 8, \\\"count\\\": 57, \\\"percentage\\\": \\\"2.2637%\\\"}, {\\\"label\\\": \\\"Bachupally Road\\\", \\\"label_idx\\\": 9, \\\"count\\\": 55, \\\"percentage\\\": \\\"2.18427%\\\"}, {\\\"label\\\": \\\"Other (233 labels)\\\", \\\"label_idx\\\": 10, \\\"count\\\": 1546, \\\"percentage\\\": \\\"61.3979%\\\"}], \\\"numeric\\\": []}]}, {\\\"name\\\": \\\"data_2\\\", \\\"source\\\": \\\"source_2\\\", \\\"transform\\\": [{\\\"type\\\": \\\"formula\\\", \\\"expr\\\": \\\"20\\\", \\\"as\\\": \\\"c_x_axis_back\\\"}, {\\\"type\\\": \\\"formula\\\", \\\"expr\\\": \\\"toNumber(datum[\\\\\\\"a\\\\\\\"])*300+66\\\", \\\"as\\\": \\\"c_main_background\\\"}, {\\\"type\\\": \\\"formula\\\", \\\"expr\\\": \\\"toNumber(datum[\\\\\\\"a\\\\\\\"])*300+43\\\", \\\"as\\\": \\\"c_top_bar\\\"}, {\\\"type\\\": \\\"formula\\\", \\\"expr\\\": \\\"toNumber(datum[\\\\\\\"a\\\\\\\"])*300+59\\\", \\\"as\\\": \\\"c_top_title\\\"}, {\\\"type\\\": \\\"formula\\\", \\\"expr\\\": \\\"toNumber(datum[\\\\\\\"a\\\\\\\"])*300+58\\\", \\\"as\\\": \\\"c_top_type\\\"}, {\\\"type\\\": \\\"formula\\\", \\\"expr\\\": \\\"toNumber(datum[\\\\\\\"a\\\\\\\"])*300+178\\\", \\\"as\\\": \\\"c_rule\\\"}, {\\\"type\\\": \\\"formula\\\", \\\"expr\\\": \\\"toNumber(datum[\\\\\\\"a\\\\\\\"])*300+106\\\", \\\"as\\\": \\\"c_num_rows\\\"}, {\\\"type\\\": \\\"formula\\\", \\\"expr\\\": \\\"toNumber(datum[\\\\\\\"a\\\\\\\"])*300+130\\\", \\\"as\\\": \\\"c_num_unique\\\"}, {\\\"type\\\": \\\"formula\\\", \\\"expr\\\": \\\"toNumber(datum[\\\\\\\"a\\\\\\\"])*300+154\\\", \\\"as\\\": \\\"c_missing\\\"}, {\\\"type\\\": \\\"formula\\\", \\\"expr\\\": \\\"toNumber(datum[\\\\\\\"a\\\\\\\"])*300+105\\\", \\\"as\\\": \\\"c_num_rows_val\\\"}, {\\\"type\\\": \\\"formula\\\", \\\"expr\\\": \\\"toNumber(datum[\\\\\\\"a\\\\\\\"])*300+130\\\", \\\"as\\\": \\\"c_num_unique_val\\\"}, {\\\"type\\\": \\\"formula\\\", \\\"expr\\\": \\\"toNumber(datum[\\\\\\\"a\\\\\\\"])*300+154\\\", \\\"as\\\": \\\"c_missing_val\\\"}, {\\\"type\\\": \\\"formula\\\", \\\"expr\\\": \\\"toNumber(datum[\\\\\\\"a\\\\\\\"])*300+195\\\", \\\"as\\\": \\\"c_frequent_items\\\"}, {\\\"type\\\": \\\"formula\\\", \\\"expr\\\": \\\"toNumber(datum[\\\\\\\"a\\\\\\\"])*300+218\\\", \\\"as\\\": \\\"c_first_item\\\"}, {\\\"type\\\": \\\"formula\\\", \\\"expr\\\": \\\"toNumber(datum[\\\\\\\"a\\\\\\\"])*300+235\\\", \\\"as\\\": \\\"c_second_item\\\"}, {\\\"type\\\": \\\"formula\\\", \\\"expr\\\": \\\"toNumber(datum[\\\\\\\"a\\\\\\\"])*300+252\\\", \\\"as\\\": \\\"c_third_item\\\"}, {\\\"type\\\": \\\"formula\\\", \\\"expr\\\": \\\"toNumber(datum[\\\\\\\"a\\\\\\\"])*300+269\\\", \\\"as\\\": \\\"c_fourth_item\\\"}, {\\\"type\\\": \\\"formula\\\", \\\"expr\\\": \\\"toNumber(datum[\\\\\\\"a\\\\\\\"])*300+286\\\", \\\"as\\\": \\\"c_fifth_item\\\"}, {\\\"type\\\": \\\"formula\\\", \\\"expr\\\": \\\"toNumber(datum[\\\\\\\"a\\\\\\\"])*300+200\\\", \\\"as\\\": \\\"c_mean\\\"}, {\\\"type\\\": \\\"formula\\\", \\\"expr\\\": \\\"toNumber(datum[\\\\\\\"a\\\\\\\"])*300+220\\\", \\\"as\\\": \\\"c_min\\\"}, {\\\"type\\\": \\\"formula\\\", \\\"expr\\\": \\\"toNumber(datum[\\\\\\\"a\\\\\\\"])*300+240\\\", \\\"as\\\": \\\"c_max\\\"}, {\\\"type\\\": \\\"formula\\\", \\\"expr\\\": \\\"toNumber(datum[\\\\\\\"a\\\\\\\"])*300+260\\\", \\\"as\\\": \\\"c_median\\\"}, {\\\"type\\\": \\\"formula\\\", \\\"expr\\\": \\\"toNumber(datum[\\\\\\\"a\\\\\\\"])*300+280\\\", \\\"as\\\": \\\"c_stdev\\\"}, {\\\"type\\\": \\\"formula\\\", \\\"expr\\\": \\\"toNumber(datum[\\\\\\\"a\\\\\\\"])*300+198\\\", \\\"as\\\": \\\"c_mean_val\\\"}, {\\\"type\\\": \\\"formula\\\", \\\"expr\\\": \\\"toNumber(datum[\\\\\\\"a\\\\\\\"])*300+218\\\", \\\"as\\\": \\\"c_min_val\\\"}, {\\\"type\\\": \\\"formula\\\", \\\"expr\\\": \\\"toNumber(datum[\\\\\\\"a\\\\\\\"])*300+238\\\", \\\"as\\\": \\\"c_max_val\\\"}, {\\\"type\\\": \\\"formula\\\", \\\"expr\\\": \\\"toNumber(datum[\\\\\\\"a\\\\\\\"])*300+258\\\", \\\"as\\\": \\\"c_median_val\\\"}, {\\\"type\\\": \\\"formula\\\", \\\"expr\\\": \\\"toNumber(datum[\\\\\\\"a\\\\\\\"])*300+278\\\", \\\"as\\\": \\\"c_stdev_val\\\"}, {\\\"type\\\": \\\"formula\\\", \\\"expr\\\": \\\"toNumber(datum[\\\\\\\"a\\\\\\\"])*300+106\\\", \\\"as\\\": \\\"graph_offset\\\"}, {\\\"type\\\": \\\"formula\\\", \\\"expr\\\": \\\"toNumber(datum[\\\\\\\"a\\\\\\\"])*300+132\\\", \\\"as\\\": \\\"graph_offset_categorical\\\"}, {\\\"type\\\": \\\"formula\\\", \\\"expr\\\": \\\"(toString(datum[\\\\\\\"type\\\\\\\"]) == \\\\\\\"integer\\\\\\\" || toString(datum[\\\\\\\"type\\\\\\\"]) == \\\\\\\"float\\\\\\\")?false:true\\\", \\\"as\\\": \\\"c_clip_val\\\"}, {\\\"type\\\": \\\"formula\\\", \\\"expr\\\": \\\"(toString(datum[\\\\\\\"type\\\\\\\"]) == \\\\\\\"integer\\\\\\\" || toString(datum[\\\\\\\"type\\\\\\\"]) == \\\\\\\"float\\\\\\\")?250:0\\\", \\\"as\\\": \\\"c_width_numeric_val\\\"}, {\\\"type\\\": \\\"formula\\\", \\\"expr\\\": \\\"(toString(datum[\\\\\\\"type\\\\\\\"]) == \\\\\\\"str\\\\\\\")?false:true\\\", \\\"as\\\": \\\"c_clip_val_cat\\\"}, {\\\"type\\\": \\\"formula\\\", \\\"expr\\\": \\\"(toString(datum[\\\\\\\"type\\\\\\\"]) == \\\\\\\"str\\\\\\\")?250:0\\\", \\\"as\\\": \\\"c_width_numeric_val_cat\\\"}]}], \\\"marks\\\": [{\\\"encode\\\": {\\\"enter\\\": {\\\"x\\\": {\\\"value\\\": 0}, \\\"width\\\": {\\\"value\\\": 734}, \\\"y\\\": {\\\"value\\\": 0}, \\\"height\\\": {\\\"value\\\": 366}, \\\"clip\\\": {\\\"value\\\": 0}, \\\"fill\\\": {\\\"value\\\": \\\"#ffffff\\\"}, \\\"fillOpacity\\\": {\\\"value\\\": 0}, \\\"stroke\\\": {\\\"value\\\": \\\"#000000\\\"}, \\\"strokeWidth\\\": {\\\"value\\\": 0}}}, \\\"marks\\\": [{\\\"encode\\\": {\\\"enter\\\": {\\\"x\\\": {\\\"value\\\": 0}, \\\"width\\\": {\\\"value\\\": 734}, \\\"y\\\": {\\\"value\\\": 0}, \\\"height\\\": {\\\"value\\\": 366}, \\\"clip\\\": {\\\"value\\\": 0}, \\\"fill\\\": {\\\"value\\\": \\\"#ffffff\\\"}, \\\"fillOpacity\\\": {\\\"value\\\": 0}, \\\"stroke\\\": {\\\"value\\\": \\\"#000000\\\"}, \\\"strokeWidth\\\": {\\\"value\\\": 0}}}, \\\"scales\\\": [], \\\"axes\\\": [], \\\"marks\\\": [{\\\"from\\\": {\\\"data\\\": \\\"data_2\\\"}, \\\"encode\\\": {\\\"enter\\\": {\\\"x\\\": {\\\"value\\\": 33}, \\\"width\\\": {\\\"value\\\": 700}, \\\"y\\\": {\\\"value\\\": 66}, \\\"height\\\": {\\\"value\\\": 250}, \\\"fill\\\": {\\\"value\\\": \\\"#FEFEFE\\\"}, \\\"fillOpacity\\\": {\\\"value\\\": 1}, \\\"stroke\\\": {\\\"value\\\": \\\"#DEDEDE\\\"}, \\\"strokeWidth\\\": {\\\"value\\\": 0.5}}, \\\"update\\\": {\\\"x\\\": {\\\"signal\\\": \\\"datum[\\\\\\\"c_x_axis_back\\\\\\\"]\\\"}, \\\"y\\\": {\\\"field\\\": \\\"c_main_background\\\"}}}, \\\"type\\\": \\\"rect\\\"}, {\\\"from\\\": {\\\"data\\\": \\\"data_2\\\"}, \\\"encode\\\": {\\\"enter\\\": {\\\"x\\\": {\\\"value\\\": 33}, \\\"width\\\": {\\\"value\\\": 700}, \\\"y\\\": {\\\"value\\\": 43}, \\\"height\\\": {\\\"value\\\": 30}, \\\"fill\\\": {\\\"value\\\": \\\"#F5F5F5\\\"}, \\\"fillOpacity\\\": {\\\"value\\\": 1}, \\\"stroke\\\": {\\\"value\\\": \\\"#DEDEDE\\\"}, \\\"strokeWidth\\\": {\\\"value\\\": 0.5}}, \\\"update\\\": {\\\"x\\\": {\\\"signal\\\": \\\"datum[\\\\\\\"c_x_axis_back\\\\\\\"]\\\"}, \\\"y\\\": {\\\"field\\\": \\\"c_top_bar\\\"}}}, \\\"type\\\": \\\"rect\\\"}, {\\\"from\\\": {\\\"data\\\": \\\"data_2\\\"}, \\\"encode\\\": {\\\"enter\\\": {\\\"x\\\": {\\\"value\\\": 720}, \\\"y\\\": {\\\"value\\\": 58}, \\\"text\\\": {\\\"signal\\\": \\\"&apos;&apos;+datum[\\\\\\\"type\\\\\\\"]\\\"}, \\\"align\\\": {\\\"value\\\": \\\"right\\\"}, \\\"baseline\\\": {\\\"value\\\": \\\"middle\\\"}, \\\"dx\\\": {\\\"value\\\": 0, \\\"offset\\\": 0}, \\\"dy\\\": {\\\"value\\\": 0, \\\"offset\\\": 0}, \\\"angle\\\": {\\\"value\\\": 0}, \\\"font\\\": {\\\"value\\\": \\\"AvenirNext-Medium\\\"}, \\\"fontSize\\\": {\\\"value\\\": 12}, \\\"fontWeight\\\": {\\\"value\\\": \\\"normal\\\"}, \\\"fontStyle\\\": {\\\"value\\\": \\\"normal\\\"}, \\\"fill\\\": {\\\"value\\\": \\\"#595859\\\"}}, \\\"update\\\": {\\\"x\\\": {\\\"signal\\\": \\\"datum[\\\\\\\"c_x_axis_back\\\\\\\"]+687\\\"}, \\\"y\\\": {\\\"field\\\": \\\"c_top_type\\\"}}}, \\\"type\\\": \\\"text\\\"}, {\\\"from\\\": {\\\"data\\\": \\\"data_2\\\"}, \\\"encode\\\": {\\\"enter\\\": {\\\"x\\\": {\\\"value\\\": 44}, \\\"y\\\": {\\\"value\\\": 59}, \\\"text\\\": {\\\"signal\\\": \\\"&apos;&apos;+datum[\\\\\\\"title\\\\\\\"]\\\"}, \\\"align\\\": {\\\"value\\\": \\\"left\\\"}, \\\"baseline\\\": {\\\"value\\\": \\\"middle\\\"}, \\\"dx\\\": {\\\"value\\\": 0, \\\"offset\\\": 0}, \\\"dy\\\": {\\\"value\\\": 0, \\\"offset\\\": 0}, \\\"angle\\\": {\\\"value\\\": 0}, \\\"font\\\": {\\\"value\\\": \\\"AvenirNext-Medium\\\"}, \\\"fontSize\\\": {\\\"value\\\": 15}, \\\"fontWeight\\\": {\\\"value\\\": \\\"normal\\\"}, \\\"fontStyle\\\": {\\\"value\\\": \\\"normal\\\"}, \\\"fill\\\": {\\\"value\\\": \\\"#9B9B9B\\\"}}, \\\"update\\\": {\\\"x\\\": {\\\"signal\\\": \\\"datum[\\\\\\\"c_x_axis_back\\\\\\\"]+11\\\"}, \\\"y\\\": {\\\"field\\\": \\\"c_top_title\\\"}}}, \\\"type\\\": \\\"text\\\"}, {\\\"from\\\": {\\\"data\\\": \\\"data_2\\\"}, \\\"encode\\\": {\\\"enter\\\": {\\\"x\\\": {\\\"value\\\": 500}, \\\"y\\\": {\\\"value\\\": 178}, \\\"stroke\\\": {\\\"value\\\": \\\"#EDEDEB\\\"}, \\\"strokeWidth\\\": {\\\"value\\\": 1}, \\\"strokeCap\\\": {\\\"value\\\": \\\"butt\\\"}, \\\"x2\\\": {\\\"value\\\": 720}, \\\"y2\\\": {\\\"value\\\": 178}}, \\\"update\\\": {\\\"x\\\": {\\\"signal\\\": \\\"datum[\\\\\\\"c_x_axis_back\\\\\\\"]+467\\\"}, \\\"x2\\\": {\\\"signal\\\": \\\"datum[\\\\\\\"c_x_axis_back\\\\\\\"]+687\\\"}, \\\"y\\\": {\\\"field\\\": \\\"c_rule\\\"}, \\\"y2\\\": {\\\"field\\\": \\\"c_rule\\\"}}}, \\\"type\\\": \\\"rule\\\"}, {\\\"from\\\": {\\\"data\\\": \\\"data_2\\\"}, \\\"encode\\\": {\\\"enter\\\": {\\\"x\\\": {\\\"value\\\": 500}, \\\"y\\\": {\\\"value\\\": 106}, \\\"text\\\": {\\\"value\\\": \\\"Num. Rows:\\\"}, \\\"align\\\": {\\\"value\\\": \\\"left\\\"}, \\\"baseline\\\": {\\\"value\\\": \\\"middle\\\"}, \\\"dx\\\": {\\\"value\\\": 0, \\\"offset\\\": 0}, \\\"dy\\\": {\\\"value\\\": 0, \\\"offset\\\": 0}, \\\"angle\\\": {\\\"value\\\": 0}, \\\"font\\\": {\\\"value\\\": \\\"AvenirNext-Medium\\\"}, \\\"fontSize\\\": {\\\"value\\\": 12}, \\\"fontWeight\\\": {\\\"value\\\": \\\"normal\\\"}, \\\"fontStyle\\\": {\\\"value\\\": \\\"normal\\\"}, \\\"fill\\\": {\\\"value\\\": \\\"#4A4A4A\\\"}}, \\\"update\\\": {\\\"x\\\": {\\\"signal\\\": \\\"datum[\\\\\\\"c_x_axis_back\\\\\\\"]+467\\\"}, \\\"y\\\": {\\\"field\\\": \\\"c_num_rows\\\"}}}, \\\"type\\\": \\\"text\\\"}, {\\\"from\\\": {\\\"data\\\": \\\"data_2\\\"}, \\\"encode\\\": {\\\"enter\\\": {\\\"x\\\": {\\\"value\\\": 500}, \\\"y\\\": {\\\"value\\\": 130}, \\\"text\\\": {\\\"value\\\": \\\"Num. Unique:\\\"}, \\\"align\\\": {\\\"value\\\": \\\"left\\\"}, \\\"baseline\\\": {\\\"value\\\": \\\"middle\\\"}, \\\"dx\\\": {\\\"value\\\": 0, \\\"offset\\\": 0}, \\\"dy\\\": {\\\"value\\\": 0, \\\"offset\\\": 0}, \\\"angle\\\": {\\\"value\\\": 0}, \\\"font\\\": {\\\"value\\\": \\\"AvenirNext-Medium\\\"}, \\\"fontSize\\\": {\\\"value\\\": 12}, \\\"fontWeight\\\": {\\\"value\\\": \\\"normal\\\"}, \\\"fontStyle\\\": {\\\"value\\\": \\\"normal\\\"}, \\\"fill\\\": {\\\"value\\\": \\\"#4A4A4A\\\"}}, \\\"update\\\": {\\\"x\\\": {\\\"signal\\\": \\\"datum[\\\\\\\"c_x_axis_back\\\\\\\"]+467\\\"}, \\\"y\\\": {\\\"field\\\": \\\"c_num_unique\\\"}}}, \\\"type\\\": \\\"text\\\"}, {\\\"from\\\": {\\\"data\\\": \\\"data_2\\\"}, \\\"encode\\\": {\\\"enter\\\": {\\\"x\\\": {\\\"value\\\": 500}, \\\"y\\\": {\\\"value\\\": 154}, \\\"text\\\": {\\\"value\\\": \\\"Missing:\\\"}, \\\"align\\\": {\\\"value\\\": \\\"left\\\"}, \\\"baseline\\\": {\\\"value\\\": \\\"middle\\\"}, \\\"dx\\\": {\\\"value\\\": 0, \\\"offset\\\": 0}, \\\"dy\\\": {\\\"value\\\": 0, \\\"offset\\\": 0}, \\\"angle\\\": {\\\"value\\\": 0}, \\\"font\\\": {\\\"value\\\": \\\"AvenirNext-Medium\\\"}, \\\"fontSize\\\": {\\\"value\\\": 12}, \\\"fontWeight\\\": {\\\"value\\\": \\\"normal\\\"}, \\\"fontStyle\\\": {\\\"value\\\": \\\"normal\\\"}, \\\"fill\\\": {\\\"value\\\": \\\"#4A4A4A\\\"}}, \\\"update\\\": {\\\"x\\\": {\\\"signal\\\": \\\"datum[\\\\\\\"c_x_axis_back\\\\\\\"]+467\\\"}, \\\"y\\\": {\\\"field\\\": \\\"c_missing\\\"}}}, \\\"type\\\": \\\"text\\\"}, {\\\"from\\\": {\\\"data\\\": \\\"data_2\\\"}, \\\"encode\\\": {\\\"enter\\\": {\\\"x\\\": {\\\"value\\\": 700}, \\\"y\\\": {\\\"value\\\": 105}, \\\"text\\\": {\\\"signal\\\": \\\"toString(format(datum[\\\\\\\"num_row\\\\\\\"], \\\\\\\",\\\\\\\"))\\\"}, \\\"align\\\": {\\\"value\\\": \\\"right\\\"}, \\\"baseline\\\": {\\\"value\\\": \\\"middle\\\"}, \\\"dx\\\": {\\\"value\\\": 0, \\\"offset\\\": 0}, \\\"dy\\\": {\\\"value\\\": 0, \\\"offset\\\": 0}, \\\"angle\\\": {\\\"value\\\": 0}, \\\"font\\\": {\\\"value\\\": \\\"AvenirNext-Medium\\\"}, \\\"fontSize\\\": {\\\"value\\\": 12}, \\\"fontWeight\\\": {\\\"value\\\": \\\"normal\\\"}, \\\"fontStyle\\\": {\\\"value\\\": \\\"normal\\\"}, \\\"fill\\\": {\\\"value\\\": \\\"#5A5A5A\\\"}}, \\\"update\\\": {\\\"x\\\": {\\\"signal\\\": \\\"datum[\\\\\\\"c_x_axis_back\\\\\\\"]+667\\\"}, \\\"y\\\": {\\\"field\\\": \\\"c_num_rows_val\\\"}}}, \\\"type\\\": \\\"text\\\"}, {\\\"from\\\": {\\\"data\\\": \\\"data_2\\\"}, \\\"encode\\\": {\\\"enter\\\": {\\\"x\\\": {\\\"value\\\": 700}, \\\"y\\\": {\\\"value\\\": 130}, \\\"text\\\": {\\\"signal\\\": \\\"toString(format(datum[\\\\\\\"num_unique\\\\\\\"], \\\\\\\",\\\\\\\"))\\\"}, \\\"align\\\": {\\\"value\\\": \\\"right\\\"}, \\\"baseline\\\": {\\\"value\\\": \\\"middle\\\"}, \\\"dx\\\": {\\\"value\\\": 0, \\\"offset\\\": 0}, \\\"dy\\\": {\\\"value\\\": 0, \\\"offset\\\": 0}, \\\"angle\\\": {\\\"value\\\": 0}, \\\"font\\\": {\\\"value\\\": \\\"AvenirNext-Medium\\\"}, \\\"fontSize\\\": {\\\"value\\\": 12}, \\\"fontWeight\\\": {\\\"value\\\": \\\"normal\\\"}, \\\"fontStyle\\\": {\\\"value\\\": \\\"normal\\\"}, \\\"fill\\\": {\\\"value\\\": \\\"#5A5A5A\\\"}}, \\\"update\\\": {\\\"x\\\": {\\\"signal\\\": \\\"datum[\\\\\\\"c_x_axis_back\\\\\\\"]+667\\\"}, \\\"y\\\": {\\\"field\\\": \\\"c_num_unique_val\\\"}}}, \\\"type\\\": \\\"text\\\"}, {\\\"from\\\": {\\\"data\\\": \\\"data_2\\\"}, \\\"encode\\\": {\\\"enter\\\": {\\\"x\\\": {\\\"value\\\": 700}, \\\"y\\\": {\\\"value\\\": 154}, \\\"text\\\": {\\\"signal\\\": \\\"toString(format(datum[\\\\\\\"num_missing\\\\\\\"], \\\\\\\",\\\\\\\"))\\\"}, \\\"align\\\": {\\\"value\\\": \\\"right\\\"}, \\\"baseline\\\": {\\\"value\\\": \\\"middle\\\"}, \\\"dx\\\": {\\\"value\\\": 0, \\\"offset\\\": 0}, \\\"dy\\\": {\\\"value\\\": 0, \\\"offset\\\": 0}, \\\"angle\\\": {\\\"value\\\": 0}, \\\"font\\\": {\\\"value\\\": \\\"AvenirNext-Medium\\\"}, \\\"fontSize\\\": {\\\"value\\\": 12}, \\\"fontWeight\\\": {\\\"value\\\": \\\"normal\\\"}, \\\"fontStyle\\\": {\\\"value\\\": \\\"normal\\\"}, \\\"fill\\\": {\\\"value\\\": \\\"#5A5A5A\\\"}}, \\\"update\\\": {\\\"x\\\": {\\\"signal\\\": \\\"datum[\\\\\\\"c_x_axis_back\\\\\\\"]+667\\\"}, \\\"y\\\": {\\\"field\\\": \\\"c_missing_val\\\"}}}, \\\"type\\\": \\\"text\\\"}, {\\\"from\\\": {\\\"data\\\": \\\"data_2\\\"}, \\\"encode\\\": {\\\"enter\\\": {\\\"x\\\": {\\\"value\\\": 500}, \\\"y\\\": {\\\"value\\\": 200}, \\\"text\\\": {\\\"signal\\\": \\\"(toString(datum[\\\\\\\"type\\\\\\\"]) == \\\\\\\"str\\\\\\\")? \\\\\\\"Frequent Items\\\\\\\":\\\\\\\"\\\\\\\"\\\"}, \\\"align\\\": {\\\"value\\\": \\\"left\\\"}, \\\"baseline\\\": {\\\"value\\\": \\\"middle\\\"}, \\\"dx\\\": {\\\"value\\\": 0, \\\"offset\\\": 0}, \\\"dy\\\": {\\\"value\\\": 0, \\\"offset\\\": 0}, \\\"angle\\\": {\\\"value\\\": 0}, \\\"clip\\\": {\\\"value\\\": true}, \\\"font\\\": {\\\"value\\\": \\\"AvenirNext-Medium\\\"}, \\\"fontSize\\\": {\\\"value\\\": 11}, \\\"fontWeight\\\": {\\\"value\\\": \\\"bold\\\"}, \\\"fontStyle\\\": {\\\"value\\\": \\\"normal\\\"}, \\\"fill\\\": {\\\"value\\\": \\\"#4A4A4A\\\"}}, \\\"update\\\": {\\\"x\\\": {\\\"signal\\\": \\\"datum[\\\\\\\"c_x_axis_back\\\\\\\"]+467\\\"}, \\\"y\\\": {\\\"field\\\": \\\"c_frequent_items\\\"}}}, \\\"type\\\": \\\"text\\\"}, {\\\"from\\\": {\\\"data\\\": \\\"data_2\\\"}, \\\"encode\\\": {\\\"enter\\\": {\\\"x\\\": {\\\"value\\\": 520}, \\\"y\\\": {\\\"value\\\": 200}, \\\"text\\\": {\\\"signal\\\": \\\"((datum[\\\\\\\"categorical\\\\\\\"].length >= 1) &amp;&amp; (toString(datum[\\\\\\\"type\\\\\\\"]) == \\\\\\\"str\\\\\\\"))? toString(datum[\\\\\\\"categorical\\\\\\\"][0][\\\\\\\"label\\\\\\\"]):\\\\\\\"\\\\\\\"\\\"}, \\\"align\\\": {\\\"value\\\": \\\"left\\\"}, \\\"baseline\\\": {\\\"value\\\": \\\"middle\\\"}, \\\"dx\\\": {\\\"value\\\": 0, \\\"offset\\\": 0}, \\\"dy\\\": {\\\"value\\\": 0, \\\"offset\\\": 0}, \\\"angle\\\": {\\\"value\\\": 0}, \\\"clip\\\": {\\\"value\\\": true}, \\\"font\\\": {\\\"value\\\": \\\"AvenirNext-Medium\\\"}, \\\"fontSize\\\": {\\\"value\\\": 11}, \\\"fontWeight\\\": {\\\"value\\\": \\\"normal\\\"}, \\\"fontStyle\\\": {\\\"value\\\": \\\"normal\\\"}, \\\"fill\\\": {\\\"value\\\": \\\"#4A4A4A\\\"}}, \\\"update\\\": {\\\"x\\\": {\\\"signal\\\": \\\"datum[\\\\\\\"c_x_axis_back\\\\\\\"]+487\\\"}, \\\"y\\\": {\\\"field\\\": \\\"c_first_item\\\"}}}, \\\"type\\\": \\\"text\\\"}, {\\\"from\\\": {\\\"data\\\": \\\"data_2\\\"}, \\\"encode\\\": {\\\"enter\\\": {\\\"x\\\": {\\\"value\\\": 520}, \\\"y\\\": {\\\"value\\\": 200}, \\\"text\\\": {\\\"signal\\\": \\\"((datum[\\\\\\\"categorical\\\\\\\"].length >= 2) &amp;&amp; (toString(datum[\\\\\\\"type\\\\\\\"]) == \\\\\\\"str\\\\\\\"))? toString(datum[\\\\\\\"categorical\\\\\\\"][1][\\\\\\\"label\\\\\\\"]):\\\\\\\"\\\\\\\"\\\"}, \\\"align\\\": {\\\"value\\\": \\\"left\\\"}, \\\"baseline\\\": {\\\"value\\\": \\\"middle\\\"}, \\\"dx\\\": {\\\"value\\\": 0, \\\"offset\\\": 0}, \\\"dy\\\": {\\\"value\\\": 0, \\\"offset\\\": 0}, \\\"angle\\\": {\\\"value\\\": 0}, \\\"clip\\\": {\\\"value\\\": true}, \\\"font\\\": {\\\"value\\\": \\\"AvenirNext-Medium\\\"}, \\\"fontSize\\\": {\\\"value\\\": 11}, \\\"fontWeight\\\": {\\\"value\\\": \\\"normal\\\"}, \\\"fontStyle\\\": {\\\"value\\\": \\\"normal\\\"}, \\\"fill\\\": {\\\"value\\\": \\\"#4A4A4A\\\"}}, \\\"update\\\": {\\\"x\\\": {\\\"signal\\\": \\\"datum[\\\\\\\"c_x_axis_back\\\\\\\"]+487\\\"}, \\\"y\\\": {\\\"field\\\": \\\"c_second_item\\\"}}}, \\\"type\\\": \\\"text\\\"}, {\\\"from\\\": {\\\"data\\\": \\\"data_2\\\"}, \\\"encode\\\": {\\\"enter\\\": {\\\"x\\\": {\\\"value\\\": 520}, \\\"y\\\": {\\\"value\\\": 200}, \\\"text\\\": {\\\"signal\\\": \\\"((datum[\\\\\\\"categorical\\\\\\\"].length >= 3) &amp;&amp; (toString(datum[\\\\\\\"type\\\\\\\"]) == \\\\\\\"str\\\\\\\"))? toString(datum[\\\\\\\"categorical\\\\\\\"][2][\\\\\\\"label\\\\\\\"]):\\\\\\\"\\\\\\\"\\\"}, \\\"align\\\": {\\\"value\\\": \\\"left\\\"}, \\\"baseline\\\": {\\\"value\\\": \\\"middle\\\"}, \\\"dx\\\": {\\\"value\\\": 0, \\\"offset\\\": 0}, \\\"dy\\\": {\\\"value\\\": 0, \\\"offset\\\": 0}, \\\"angle\\\": {\\\"value\\\": 0}, \\\"clip\\\": {\\\"value\\\": true}, \\\"font\\\": {\\\"value\\\": \\\"AvenirNext-Medium\\\"}, \\\"fontSize\\\": {\\\"value\\\": 11}, \\\"fontWeight\\\": {\\\"value\\\": \\\"normal\\\"}, \\\"fontStyle\\\": {\\\"value\\\": \\\"normal\\\"}, \\\"fill\\\": {\\\"value\\\": \\\"#4A4A4A\\\"}}, \\\"update\\\": {\\\"x\\\": {\\\"signal\\\": \\\"datum[\\\\\\\"c_x_axis_back\\\\\\\"]+487\\\"}, \\\"y\\\": {\\\"field\\\": \\\"c_third_item\\\"}}}, \\\"type\\\": \\\"text\\\"}, {\\\"from\\\": {\\\"data\\\": \\\"data_2\\\"}, \\\"encode\\\": {\\\"enter\\\": {\\\"x\\\": {\\\"value\\\": 520}, \\\"y\\\": {\\\"value\\\": 200}, \\\"text\\\": {\\\"signal\\\": \\\"((datum[\\\\\\\"categorical\\\\\\\"].length >= 4) &amp;&amp; (toString(datum[\\\\\\\"type\\\\\\\"]) == \\\\\\\"str\\\\\\\"))? toString(datum[\\\\\\\"categorical\\\\\\\"][3][\\\\\\\"label\\\\\\\"]):\\\\\\\"\\\\\\\"\\\"}, \\\"align\\\": {\\\"value\\\": \\\"left\\\"}, \\\"baseline\\\": {\\\"value\\\": \\\"middle\\\"}, \\\"dx\\\": {\\\"value\\\": 0, \\\"offset\\\": 0}, \\\"dy\\\": {\\\"value\\\": 0, \\\"offset\\\": 0}, \\\"angle\\\": {\\\"value\\\": 0}, \\\"clip\\\": {\\\"value\\\": true}, \\\"font\\\": {\\\"value\\\": \\\"AvenirNext-Medium\\\"}, \\\"fontSize\\\": {\\\"value\\\": 11}, \\\"fontWeight\\\": {\\\"value\\\": \\\"normal\\\"}, \\\"fontStyle\\\": {\\\"value\\\": \\\"normal\\\"}, \\\"fill\\\": {\\\"value\\\": \\\"#4A4A4A\\\"}}, \\\"update\\\": {\\\"x\\\": {\\\"signal\\\": \\\"datum[\\\\\\\"c_x_axis_back\\\\\\\"]+487\\\"}, \\\"y\\\": {\\\"field\\\": \\\"c_fourth_item\\\"}}}, \\\"type\\\": \\\"text\\\"}, {\\\"from\\\": {\\\"data\\\": \\\"data_2\\\"}, \\\"encode\\\": {\\\"enter\\\": {\\\"x\\\": {\\\"value\\\": 520}, \\\"y\\\": {\\\"value\\\": 200}, \\\"text\\\": {\\\"signal\\\": \\\"((datum[\\\\\\\"categorical\\\\\\\"].length >= 5) &amp;&amp; (toString(datum[\\\\\\\"type\\\\\\\"]) == \\\\\\\"str\\\\\\\"))? toString(datum[\\\\\\\"categorical\\\\\\\"][4][\\\\\\\"label\\\\\\\"]):\\\\\\\"\\\\\\\"\\\"}, \\\"align\\\": {\\\"value\\\": \\\"left\\\"}, \\\"baseline\\\": {\\\"value\\\": \\\"middle\\\"}, \\\"dx\\\": {\\\"value\\\": 0, \\\"offset\\\": 0}, \\\"dy\\\": {\\\"value\\\": 0, \\\"offset\\\": 0}, \\\"angle\\\": {\\\"value\\\": 0}, \\\"clip\\\": {\\\"value\\\": true}, \\\"font\\\": {\\\"value\\\": \\\"AvenirNext-Medium\\\"}, \\\"fontSize\\\": {\\\"value\\\": 11}, \\\"fontWeight\\\": {\\\"value\\\": \\\"normal\\\"}, \\\"fontStyle\\\": {\\\"value\\\": \\\"normal\\\"}, \\\"fill\\\": {\\\"value\\\": \\\"#4A4A4A\\\"}}, \\\"update\\\": {\\\"x\\\": {\\\"signal\\\": \\\"datum[\\\\\\\"c_x_axis_back\\\\\\\"]+487\\\"}, \\\"y\\\": {\\\"field\\\": \\\"c_fifth_item\\\"}}}, \\\"type\\\": \\\"text\\\"}, {\\\"from\\\": {\\\"data\\\": \\\"data_2\\\"}, \\\"encode\\\": {\\\"enter\\\": {\\\"x\\\": {\\\"value\\\": 700}, \\\"y\\\": {\\\"value\\\": 200}, \\\"text\\\": {\\\"signal\\\": \\\"((datum[\\\\\\\"categorical\\\\\\\"].length >= 1) &amp;&amp; (toString(datum[\\\\\\\"type\\\\\\\"]) == \\\\\\\"str\\\\\\\"))? toString(datum[\\\\\\\"categorical\\\\\\\"][0][\\\\\\\"count\\\\\\\"]):\\\\\\\"\\\\\\\"\\\"}, \\\"align\\\": {\\\"value\\\": \\\"right\\\"}, \\\"baseline\\\": {\\\"value\\\": \\\"middle\\\"}, \\\"dx\\\": {\\\"value\\\": 0, \\\"offset\\\": 0}, \\\"dy\\\": {\\\"value\\\": 0, \\\"offset\\\": 0}, \\\"angle\\\": {\\\"value\\\": 0}, \\\"clip\\\": {\\\"value\\\": true}, \\\"font\\\": {\\\"value\\\": \\\"AvenirNext-Medium\\\"}, \\\"fontSize\\\": {\\\"value\\\": 11}, \\\"fontWeight\\\": {\\\"value\\\": \\\"normal\\\"}, \\\"fontStyle\\\": {\\\"value\\\": \\\"normal\\\"}, \\\"fill\\\": {\\\"value\\\": \\\"#7A7A7A\\\"}}, \\\"update\\\": {\\\"x\\\": {\\\"signal\\\": \\\"datum[\\\\\\\"c_x_axis_back\\\\\\\"]+667\\\"}, \\\"y\\\": {\\\"field\\\": \\\"c_first_item\\\"}}}, \\\"type\\\": \\\"text\\\"}, {\\\"from\\\": {\\\"data\\\": \\\"data_2\\\"}, \\\"encode\\\": {\\\"enter\\\": {\\\"x\\\": {\\\"value\\\": 700}, \\\"y\\\": {\\\"value\\\": 200}, \\\"text\\\": {\\\"signal\\\": \\\"((datum[\\\\\\\"categorical\\\\\\\"].length >= 2) &amp;&amp; (toString(datum[\\\\\\\"type\\\\\\\"]) == \\\\\\\"str\\\\\\\"))? toString(datum[\\\\\\\"categorical\\\\\\\"][1][\\\\\\\"count\\\\\\\"]):\\\\\\\"\\\\\\\"\\\"}, \\\"align\\\": {\\\"value\\\": \\\"right\\\"}, \\\"baseline\\\": {\\\"value\\\": \\\"middle\\\"}, \\\"dx\\\": {\\\"value\\\": 0, \\\"offset\\\": 0}, \\\"dy\\\": {\\\"value\\\": 0, \\\"offset\\\": 0}, \\\"angle\\\": {\\\"value\\\": 0}, \\\"clip\\\": {\\\"value\\\": true}, \\\"font\\\": {\\\"value\\\": \\\"AvenirNext-Medium\\\"}, \\\"fontSize\\\": {\\\"value\\\": 10}, \\\"fontWeight\\\": {\\\"value\\\": \\\"normal\\\"}, \\\"fontStyle\\\": {\\\"value\\\": \\\"normal\\\"}, \\\"fill\\\": {\\\"value\\\": \\\"#7A7A7A\\\"}}, \\\"update\\\": {\\\"x\\\": {\\\"signal\\\": \\\"datum[\\\\\\\"c_x_axis_back\\\\\\\"]+667\\\"}, \\\"y\\\": {\\\"field\\\": \\\"c_second_item\\\"}}}, \\\"type\\\": \\\"text\\\"}, {\\\"from\\\": {\\\"data\\\": \\\"data_2\\\"}, \\\"encode\\\": {\\\"enter\\\": {\\\"x\\\": {\\\"value\\\": 700}, \\\"y\\\": {\\\"value\\\": 200}, \\\"text\\\": {\\\"signal\\\": \\\"((datum[\\\\\\\"categorical\\\\\\\"].length >= 3) &amp;&amp; (toString(datum[\\\\\\\"type\\\\\\\"]) == \\\\\\\"str\\\\\\\"))? toString(datum[\\\\\\\"categorical\\\\\\\"][2][\\\\\\\"count\\\\\\\"]):\\\\\\\"\\\\\\\"\\\"}, \\\"align\\\": {\\\"value\\\": \\\"right\\\"}, \\\"baseline\\\": {\\\"value\\\": \\\"middle\\\"}, \\\"dx\\\": {\\\"value\\\": 0, \\\"offset\\\": 0}, \\\"dy\\\": {\\\"value\\\": 0, \\\"offset\\\": 0}, \\\"angle\\\": {\\\"value\\\": 0}, \\\"clip\\\": {\\\"value\\\": true}, \\\"font\\\": {\\\"value\\\": \\\"AvenirNext-Medium\\\"}, \\\"fontSize\\\": {\\\"value\\\": 10}, \\\"fontWeight\\\": {\\\"value\\\": \\\"normal\\\"}, \\\"fontStyle\\\": {\\\"value\\\": \\\"normal\\\"}, \\\"fill\\\": {\\\"value\\\": \\\"#7A7A7A\\\"}}, \\\"update\\\": {\\\"x\\\": {\\\"signal\\\": \\\"datum[\\\\\\\"c_x_axis_back\\\\\\\"]+667\\\"}, \\\"y\\\": {\\\"field\\\": \\\"c_third_item\\\"}}}, \\\"type\\\": \\\"text\\\"}, {\\\"from\\\": {\\\"data\\\": \\\"data_2\\\"}, \\\"encode\\\": {\\\"enter\\\": {\\\"x\\\": {\\\"value\\\": 700}, \\\"y\\\": {\\\"value\\\": 200}, \\\"text\\\": {\\\"signal\\\": \\\"((datum[\\\\\\\"categorical\\\\\\\"].length >= 4) &amp;&amp; (toString(datum[\\\\\\\"type\\\\\\\"]) == \\\\\\\"str\\\\\\\"))? toString(datum[\\\\\\\"categorical\\\\\\\"][3][\\\\\\\"count\\\\\\\"]):\\\\\\\"\\\\\\\"\\\"}, \\\"align\\\": {\\\"value\\\": \\\"right\\\"}, \\\"baseline\\\": {\\\"value\\\": \\\"middle\\\"}, \\\"dx\\\": {\\\"value\\\": 0, \\\"offset\\\": 0}, \\\"dy\\\": {\\\"value\\\": 0, \\\"offset\\\": 0}, \\\"angle\\\": {\\\"value\\\": 0}, \\\"clip\\\": {\\\"value\\\": true}, \\\"font\\\": {\\\"value\\\": \\\"AvenirNext-Medium\\\"}, \\\"fontSize\\\": {\\\"value\\\": 10}, \\\"fontWeight\\\": {\\\"value\\\": \\\"normal\\\"}, \\\"fontStyle\\\": {\\\"value\\\": \\\"normal\\\"}, \\\"fill\\\": {\\\"value\\\": \\\"#7A7A7A\\\"}}, \\\"update\\\": {\\\"x\\\": {\\\"signal\\\": \\\"datum[\\\\\\\"c_x_axis_back\\\\\\\"]+667\\\"}, \\\"y\\\": {\\\"field\\\": \\\"c_fourth_item\\\"}}}, \\\"type\\\": \\\"text\\\"}, {\\\"from\\\": {\\\"data\\\": \\\"data_2\\\"}, \\\"encode\\\": {\\\"enter\\\": {\\\"x\\\": {\\\"value\\\": 700}, \\\"y\\\": {\\\"value\\\": 200}, \\\"text\\\": {\\\"signal\\\": \\\"((datum[\\\\\\\"categorical\\\\\\\"].length >= 5) &amp;&amp; (toString(datum[\\\\\\\"type\\\\\\\"]) == \\\\\\\"str\\\\\\\"))? toString(datum[\\\\\\\"categorical\\\\\\\"][4][\\\\\\\"count\\\\\\\"]):\\\\\\\"\\\\\\\"\\\"}, \\\"align\\\": {\\\"value\\\": \\\"right\\\"}, \\\"baseline\\\": {\\\"value\\\": \\\"middle\\\"}, \\\"dx\\\": {\\\"value\\\": 0, \\\"offset\\\": 0}, \\\"dy\\\": {\\\"value\\\": 0, \\\"offset\\\": 0}, \\\"angle\\\": {\\\"value\\\": 0}, \\\"clip\\\": {\\\"value\\\": true}, \\\"font\\\": {\\\"value\\\": \\\"AvenirNext-Medium\\\"}, \\\"fontSize\\\": {\\\"value\\\": 10}, \\\"fontWeight\\\": {\\\"value\\\": \\\"normal\\\"}, \\\"fontStyle\\\": {\\\"value\\\": \\\"normal\\\"}, \\\"fill\\\": {\\\"value\\\": \\\"#7A7A7A\\\"}}, \\\"update\\\": {\\\"x\\\": {\\\"signal\\\": \\\"datum[\\\\\\\"c_x_axis_back\\\\\\\"]+667\\\"}, \\\"y\\\": {\\\"field\\\": \\\"c_fifth_item\\\"}}}, \\\"type\\\": \\\"text\\\"}, {\\\"from\\\": {\\\"data\\\": \\\"data_2\\\"}, \\\"encode\\\": {\\\"enter\\\": {\\\"x\\\": {\\\"value\\\": 500}, \\\"y\\\": {\\\"value\\\": 200}, \\\"text\\\": {\\\"signal\\\": \\\"(toString(datum[\\\\\\\"type\\\\\\\"]) == \\\\\\\"integer\\\\\\\" || toString(datum[\\\\\\\"type\\\\\\\"]) == \\\\\\\"float\\\\\\\")? \\\\\\\"Mean:\\\\\\\":\\\\\\\"\\\\\\\"\\\"}, \\\"align\\\": {\\\"value\\\": \\\"left\\\"}, \\\"baseline\\\": {\\\"value\\\": \\\"middle\\\"}, \\\"dx\\\": {\\\"value\\\": 0, \\\"offset\\\": 0}, \\\"dy\\\": {\\\"value\\\": 0, \\\"offset\\\": 0}, \\\"angle\\\": {\\\"value\\\": 0}, \\\"clip\\\": {\\\"value\\\": true}, \\\"font\\\": {\\\"value\\\": \\\"AvenirNext-Medium\\\"}, \\\"fontSize\\\": {\\\"value\\\": 11}, \\\"fontWeight\\\": {\\\"value\\\": \\\"bold\\\"}, \\\"fontStyle\\\": {\\\"value\\\": \\\"normal\\\"}, \\\"fill\\\": {\\\"value\\\": \\\"#4A4A4A\\\"}}, \\\"update\\\": {\\\"x\\\": {\\\"signal\\\": \\\"datum[\\\\\\\"c_x_axis_back\\\\\\\"]+467\\\"}, \\\"y\\\": {\\\"field\\\": \\\"c_mean\\\"}}}, \\\"type\\\": \\\"text\\\"}, {\\\"from\\\": {\\\"data\\\": \\\"data_2\\\"}, \\\"encode\\\": {\\\"enter\\\": {\\\"x\\\": {\\\"value\\\": 500}, \\\"y\\\": {\\\"value\\\": 220}, \\\"text\\\": {\\\"signal\\\": \\\"(toString(datum[\\\\\\\"type\\\\\\\"]) == \\\\\\\"integer\\\\\\\" || toString(datum[\\\\\\\"type\\\\\\\"]) == \\\\\\\"float\\\\\\\")? \\\\\\\"Min:\\\\\\\":\\\\\\\"\\\\\\\"\\\"}, \\\"align\\\": {\\\"value\\\": \\\"left\\\"}, \\\"baseline\\\": {\\\"value\\\": \\\"middle\\\"}, \\\"dx\\\": {\\\"value\\\": 0, \\\"offset\\\": 0}, \\\"dy\\\": {\\\"value\\\": 0, \\\"offset\\\": 0}, \\\"angle\\\": {\\\"value\\\": 0}, \\\"font\\\": {\\\"value\\\": \\\"AvenirNext-Medium\\\"}, \\\"fontSize\\\": {\\\"value\\\": 11}, \\\"fontWeight\\\": {\\\"value\\\": \\\"bold\\\"}, \\\"fontStyle\\\": {\\\"value\\\": \\\"normal\\\"}, \\\"fill\\\": {\\\"value\\\": \\\"#4A4A4A\\\"}}, \\\"update\\\": {\\\"x\\\": {\\\"signal\\\": \\\"datum[\\\\\\\"c_x_axis_back\\\\\\\"]+467\\\"}, \\\"y\\\": {\\\"field\\\": \\\"c_min\\\"}}}, \\\"type\\\": \\\"text\\\"}, {\\\"from\\\": {\\\"data\\\": \\\"data_2\\\"}, \\\"encode\\\": {\\\"enter\\\": {\\\"x\\\": {\\\"value\\\": 500}, \\\"y\\\": {\\\"value\\\": 240}, \\\"text\\\": {\\\"signal\\\": \\\"(toString(datum[\\\\\\\"type\\\\\\\"]) == \\\\\\\"integer\\\\\\\" || toString(datum[\\\\\\\"type\\\\\\\"]) == \\\\\\\"float\\\\\\\")? \\\\\\\"Max:\\\\\\\":\\\\\\\"\\\\\\\"\\\"}, \\\"align\\\": {\\\"value\\\": \\\"left\\\"}, \\\"baseline\\\": {\\\"value\\\": \\\"middle\\\"}, \\\"dx\\\": {\\\"value\\\": 0, \\\"offset\\\": 0}, \\\"dy\\\": {\\\"value\\\": 0, \\\"offset\\\": 0}, \\\"angle\\\": {\\\"value\\\": 0}, \\\"font\\\": {\\\"value\\\": \\\"AvenirNext-Medium\\\"}, \\\"fontSize\\\": {\\\"value\\\": 11}, \\\"fontWeight\\\": {\\\"value\\\": \\\"bold\\\"}, \\\"fontStyle\\\": {\\\"value\\\": \\\"normal\\\"}, \\\"fill\\\": {\\\"value\\\": \\\"#4A4A4A\\\"}}, \\\"update\\\": {\\\"x\\\": {\\\"signal\\\": \\\"datum[\\\\\\\"c_x_axis_back\\\\\\\"]+467\\\"}, \\\"y\\\": {\\\"field\\\": \\\"c_max\\\"}}}, \\\"type\\\": \\\"text\\\"}, {\\\"from\\\": {\\\"data\\\": \\\"data_2\\\"}, \\\"encode\\\": {\\\"enter\\\": {\\\"x\\\": {\\\"value\\\": 500}, \\\"y\\\": {\\\"value\\\": 260}, \\\"text\\\": {\\\"signal\\\": \\\"(toString(datum[\\\\\\\"type\\\\\\\"]) == \\\\\\\"integer\\\\\\\" || toString(datum[\\\\\\\"type\\\\\\\"]) == \\\\\\\"float\\\\\\\")? \\\\\\\"Median:\\\\\\\":\\\\\\\"\\\\\\\"\\\"}, \\\"align\\\": {\\\"value\\\": \\\"left\\\"}, \\\"baseline\\\": {\\\"value\\\": \\\"middle\\\"}, \\\"dx\\\": {\\\"value\\\": 0, \\\"offset\\\": 0}, \\\"dy\\\": {\\\"value\\\": 0, \\\"offset\\\": 0}, \\\"angle\\\": {\\\"value\\\": 0}, \\\"font\\\": {\\\"value\\\": \\\"AvenirNext-Medium\\\"}, \\\"fontSize\\\": {\\\"value\\\": 11}, \\\"fontWeight\\\": {\\\"value\\\": \\\"bold\\\"}, \\\"fontStyle\\\": {\\\"value\\\": \\\"normal\\\"}, \\\"fill\\\": {\\\"value\\\": \\\"#4A4A4A\\\"}}, \\\"update\\\": {\\\"x\\\": {\\\"signal\\\": \\\"datum[\\\\\\\"c_x_axis_back\\\\\\\"]+467\\\"}, \\\"y\\\": {\\\"field\\\": \\\"c_median\\\"}}}, \\\"type\\\": \\\"text\\\"}, {\\\"from\\\": {\\\"data\\\": \\\"data_2\\\"}, \\\"encode\\\": {\\\"enter\\\": {\\\"x\\\": {\\\"value\\\": 500}, \\\"y\\\": {\\\"value\\\": 280}, \\\"text\\\": {\\\"signal\\\": \\\"(toString(datum[\\\\\\\"type\\\\\\\"]) == \\\\\\\"integer\\\\\\\" || toString(datum[\\\\\\\"type\\\\\\\"]) == \\\\\\\"float\\\\\\\")? \\\\\\\"St. Dev:\\\\\\\":\\\\\\\"\\\\\\\"\\\"}, \\\"align\\\": {\\\"value\\\": \\\"left\\\"}, \\\"baseline\\\": {\\\"value\\\": \\\"middle\\\"}, \\\"dx\\\": {\\\"value\\\": 0, \\\"offset\\\": 0}, \\\"dy\\\": {\\\"value\\\": 0, \\\"offset\\\": 0}, \\\"angle\\\": {\\\"value\\\": 0}, \\\"font\\\": {\\\"value\\\": \\\"AvenirNext-Medium\\\"}, \\\"fontSize\\\": {\\\"value\\\": 11}, \\\"fontWeight\\\": {\\\"value\\\": \\\"bold\\\"}, \\\"fontStyle\\\": {\\\"value\\\": \\\"normal\\\"}, \\\"fill\\\": {\\\"value\\\": \\\"#4A4A4A\\\"}}, \\\"update\\\": {\\\"x\\\": {\\\"signal\\\": \\\"datum[\\\\\\\"c_x_axis_back\\\\\\\"]+467\\\"}, \\\"y\\\": {\\\"field\\\": \\\"c_stdev\\\"}}}, \\\"type\\\": \\\"text\\\"}, {\\\"from\\\": {\\\"data\\\": \\\"data_2\\\"}, \\\"encode\\\": {\\\"enter\\\": {\\\"x\\\": {\\\"value\\\": 700}, \\\"y\\\": {\\\"value\\\": 198}, \\\"text\\\": {\\\"signal\\\": \\\"(toString(datum[\\\\\\\"type\\\\\\\"]) == \\\\\\\"integer\\\\\\\" || toString(datum[\\\\\\\"type\\\\\\\"]) == \\\\\\\"float\\\\\\\")?toString(format(datum[\\\\\\\"mean\\\\\\\"], \\\\\\\",\\\\\\\")):\\\\\\\"\\\\\\\"\\\"}, \\\"align\\\": {\\\"value\\\": \\\"right\\\"}, \\\"baseline\\\": {\\\"value\\\": \\\"middle\\\"}, \\\"dx\\\": {\\\"value\\\": 0, \\\"offset\\\": 0}, \\\"dy\\\": {\\\"value\\\": 0, \\\"offset\\\": 0}, \\\"angle\\\": {\\\"value\\\": 0}, \\\"font\\\": {\\\"value\\\": \\\"AvenirNext-Medium\\\"}, \\\"fontSize\\\": {\\\"value\\\": 10}, \\\"fontWeight\\\": {\\\"value\\\": \\\"normal\\\"}, \\\"fontStyle\\\": {\\\"value\\\": \\\"normal\\\"}, \\\"fill\\\": {\\\"value\\\": \\\"#6A6A6A\\\"}}, \\\"update\\\": {\\\"x\\\": {\\\"signal\\\": \\\"datum[\\\\\\\"c_x_axis_back\\\\\\\"]+667\\\"}, \\\"y\\\": {\\\"field\\\": \\\"c_mean_val\\\"}}}, \\\"type\\\": \\\"text\\\"}, {\\\"from\\\": {\\\"data\\\": \\\"data_2\\\"}, \\\"encode\\\": {\\\"enter\\\": {\\\"x\\\": {\\\"value\\\": 700}, \\\"y\\\": {\\\"value\\\": 218}, \\\"text\\\": {\\\"signal\\\": \\\"(toString(datum[\\\\\\\"type\\\\\\\"]) == \\\\\\\"integer\\\\\\\" || toString(datum[\\\\\\\"type\\\\\\\"]) == \\\\\\\"float\\\\\\\")?toString(format(datum[\\\\\\\"min\\\\\\\"], \\\\\\\",\\\\\\\")):\\\\\\\"\\\\\\\"\\\"}, \\\"align\\\": {\\\"value\\\": \\\"right\\\"}, \\\"baseline\\\": {\\\"value\\\": \\\"middle\\\"}, \\\"dx\\\": {\\\"value\\\": 0, \\\"offset\\\": 0}, \\\"dy\\\": {\\\"value\\\": 0, \\\"offset\\\": 0}, \\\"angle\\\": {\\\"value\\\": 0}, \\\"font\\\": {\\\"value\\\": \\\"AvenirNext-Medium\\\"}, \\\"fontSize\\\": {\\\"value\\\": 10}, \\\"fontWeight\\\": {\\\"value\\\": \\\"normal\\\"}, \\\"fontStyle\\\": {\\\"value\\\": \\\"normal\\\"}, \\\"fill\\\": {\\\"value\\\": \\\"#6A6A6A\\\"}}, \\\"update\\\": {\\\"x\\\": {\\\"signal\\\": \\\"datum[\\\\\\\"c_x_axis_back\\\\\\\"]+667\\\"}, \\\"y\\\": {\\\"field\\\": \\\"c_min_val\\\"}}}, \\\"type\\\": \\\"text\\\"}, {\\\"from\\\": {\\\"data\\\": \\\"data_2\\\"}, \\\"encode\\\": {\\\"enter\\\": {\\\"x\\\": {\\\"value\\\": 700}, \\\"y\\\": {\\\"value\\\": 238}, \\\"text\\\": {\\\"signal\\\": \\\"(toString(datum[\\\\\\\"type\\\\\\\"]) == \\\\\\\"integer\\\\\\\" || toString(datum[\\\\\\\"type\\\\\\\"]) == \\\\\\\"float\\\\\\\")?toString(format(datum[\\\\\\\"max\\\\\\\"], \\\\\\\",\\\\\\\")):\\\\\\\"\\\\\\\"\\\"}, \\\"align\\\": {\\\"value\\\": \\\"right\\\"}, \\\"baseline\\\": {\\\"value\\\": \\\"middle\\\"}, \\\"dx\\\": {\\\"value\\\": 0, \\\"offset\\\": 0}, \\\"dy\\\": {\\\"value\\\": 0, \\\"offset\\\": 0}, \\\"angle\\\": {\\\"value\\\": 0}, \\\"font\\\": {\\\"value\\\": \\\"AvenirNext-Medium\\\"}, \\\"fontSize\\\": {\\\"value\\\": 10}, \\\"fontWeight\\\": {\\\"value\\\": \\\"normal\\\"}, \\\"fontStyle\\\": {\\\"value\\\": \\\"normal\\\"}, \\\"fill\\\": {\\\"value\\\": \\\"#6A6A6A\\\"}}, \\\"update\\\": {\\\"x\\\": {\\\"signal\\\": \\\"datum[\\\\\\\"c_x_axis_back\\\\\\\"]+667\\\"}, \\\"y\\\": {\\\"field\\\": \\\"c_max_val\\\"}}}, \\\"type\\\": \\\"text\\\"}, {\\\"from\\\": {\\\"data\\\": \\\"data_2\\\"}, \\\"encode\\\": {\\\"enter\\\": {\\\"x\\\": {\\\"value\\\": 700}, \\\"y\\\": {\\\"value\\\": 258}, \\\"text\\\": {\\\"signal\\\": \\\"(toString(datum[\\\\\\\"type\\\\\\\"]) == \\\\\\\"integer\\\\\\\" || toString(datum[\\\\\\\"type\\\\\\\"]) == \\\\\\\"float\\\\\\\")?toString(format(datum[\\\\\\\"median\\\\\\\"], \\\\\\\",\\\\\\\")):\\\\\\\"\\\\\\\"\\\"}, \\\"align\\\": {\\\"value\\\": \\\"right\\\"}, \\\"baseline\\\": {\\\"value\\\": \\\"middle\\\"}, \\\"dx\\\": {\\\"value\\\": 0, \\\"offset\\\": 0}, \\\"dy\\\": {\\\"value\\\": 0, \\\"offset\\\": 0}, \\\"angle\\\": {\\\"value\\\": 0}, \\\"font\\\": {\\\"value\\\": \\\"AvenirNext-Medium\\\"}, \\\"fontSize\\\": {\\\"value\\\": 10}, \\\"fontWeight\\\": {\\\"value\\\": \\\"normal\\\"}, \\\"fontStyle\\\": {\\\"value\\\": \\\"normal\\\"}, \\\"fill\\\": {\\\"value\\\": \\\"#6A6A6A\\\"}}, \\\"update\\\": {\\\"x\\\": {\\\"signal\\\": \\\"datum[\\\\\\\"c_x_axis_back\\\\\\\"]+667\\\"}, \\\"y\\\": {\\\"field\\\": \\\"c_median_val\\\"}}}, \\\"type\\\": \\\"text\\\"}, {\\\"from\\\": {\\\"data\\\": \\\"data_2\\\"}, \\\"encode\\\": {\\\"enter\\\": {\\\"x\\\": {\\\"value\\\": 700}, \\\"y\\\": {\\\"value\\\": 278}, \\\"text\\\": {\\\"signal\\\": \\\"(toString(datum[\\\\\\\"type\\\\\\\"]) == \\\\\\\"integer\\\\\\\" || toString(datum[\\\\\\\"type\\\\\\\"]) == \\\\\\\"float\\\\\\\")?toString(format(datum[\\\\\\\"stdev\\\\\\\"], \\\\\\\",\\\\\\\")):\\\\\\\"\\\\\\\"\\\"}, \\\"align\\\": {\\\"value\\\": \\\"right\\\"}, \\\"baseline\\\": {\\\"value\\\": \\\"middle\\\"}, \\\"dx\\\": {\\\"value\\\": 0, \\\"offset\\\": 0}, \\\"dy\\\": {\\\"value\\\": 0, \\\"offset\\\": 0}, \\\"angle\\\": {\\\"value\\\": 0}, \\\"font\\\": {\\\"value\\\": \\\"AvenirNext-Medium\\\"}, \\\"fontSize\\\": {\\\"value\\\": 10}, \\\"fontWeight\\\": {\\\"value\\\": \\\"normal\\\"}, \\\"fontStyle\\\": {\\\"value\\\": \\\"normal\\\"}, \\\"fill\\\": {\\\"value\\\": \\\"#6A6A6A\\\"}}, \\\"update\\\": {\\\"x\\\": {\\\"signal\\\": \\\"datum[\\\\\\\"c_x_axis_back\\\\\\\"]+667\\\"}, \\\"y\\\": {\\\"field\\\": \\\"c_stdev_val\\\"}}}, \\\"type\\\": \\\"text\\\"}, {\\\"from\\\": {\\\"facet\\\": {\\\"name\\\": \\\"new_data\\\", \\\"data\\\": \\\"data_2\\\", \\\"field\\\": \\\"numeric\\\"}}, \\\"encode\\\": {\\\"enter\\\": {\\\"x\\\": {\\\"value\\\": 120}, \\\"width\\\": {\\\"value\\\": 250}, \\\"y\\\": {\\\"field\\\": \\\"graph_offset\\\"}, \\\"height\\\": {\\\"value\\\": 150}, \\\"fill\\\": {\\\"value\\\": \\\"#ffffff\\\"}, \\\"fillOpacity\\\": {\\\"value\\\": 0}, \\\"stroke\\\": {\\\"value\\\": \\\"#000000\\\"}, \\\"strokeWidth\\\": {\\\"value\\\": 0}}, \\\"update\\\": {\\\"x\\\": {\\\"signal\\\": \\\"datum[\\\\\\\"c_x_axis_back\\\\\\\"]+87\\\"}, \\\"clip\\\": {\\\"field\\\": \\\"c_clip_val\\\"}, \\\"width\\\": {\\\"field\\\": \\\"c_width_numeric_val\\\"}}}, \\\"type\\\": \\\"group\\\", \\\"scales\\\": [{\\\"name\\\": \\\"x\\\", \\\"type\\\": \\\"linear\\\", \\\"domain\\\": {\\\"data\\\": \\\"new_data\\\", \\\"fields\\\": [\\\"left\\\", \\\"right\\\"], \\\"sort\\\": true}, \\\"range\\\": [0, {\\\"signal\\\": \\\"width\\\"}], \\\"nice\\\": true, \\\"zero\\\": true}, {\\\"name\\\": \\\"y\\\", \\\"type\\\": \\\"linear\\\", \\\"domain\\\": {\\\"data\\\": \\\"new_data\\\", \\\"field\\\": \\\"count\\\"}, \\\"range\\\": [{\\\"signal\\\": \\\"height\\\"}, 0], \\\"nice\\\": true, \\\"zero\\\": true}], \\\"axes\\\": [{\\\"title\\\": \\\"Values\\\", \\\"scale\\\": \\\"x\\\", \\\"labelOverlap\\\": true, \\\"orient\\\": \\\"bottom\\\", \\\"tickCount\\\": {\\\"signal\\\": \\\"ceil(width/40)\\\"}, \\\"zindex\\\": 1}, {\\\"scale\\\": \\\"x\\\", \\\"domain\\\": false, \\\"grid\\\": true, \\\"labels\\\": false, \\\"maxExtent\\\": 0, \\\"minExtent\\\": 0, \\\"orient\\\": \\\"bottom\\\", \\\"tickCount\\\": {\\\"signal\\\": \\\"ceil(width/40)\\\"}, \\\"ticks\\\": false, \\\"zindex\\\": 0, \\\"gridScale\\\": \\\"y\\\"}, {\\\"title\\\": \\\"Count\\\", \\\"scale\\\": \\\"y\\\", \\\"labelOverlap\\\": true, \\\"orient\\\": \\\"left\\\", \\\"tickCount\\\": {\\\"signal\\\": \\\"ceil(height/40)\\\"}, \\\"zindex\\\": 1}, {\\\"scale\\\": \\\"y\\\", \\\"domain\\\": false, \\\"grid\\\": true, \\\"labels\\\": false, \\\"maxExtent\\\": 0, \\\"minExtent\\\": 0, \\\"orient\\\": \\\"left\\\", \\\"tickCount\\\": {\\\"signal\\\": \\\"ceil(height/40)\\\"}, \\\"ticks\\\": false, \\\"zindex\\\": 0, \\\"gridScale\\\": \\\"x\\\"}], \\\"style\\\": \\\"cell\\\", \\\"signals\\\": [{\\\"name\\\": \\\"width\\\", \\\"update\\\": \\\"250\\\"}, {\\\"name\\\": \\\"height\\\", \\\"update\\\": \\\"150\\\"}], \\\"marks\\\": [{\\\"name\\\": \\\"marks\\\", \\\"type\\\": \\\"rect\\\", \\\"style\\\": [\\\"rect\\\"], \\\"from\\\": {\\\"data\\\": \\\"new_data\\\"}, \\\"encode\\\": {\\\"hover\\\": {\\\"fill\\\": {\\\"value\\\": \\\"#7EC2F3\\\"}}, \\\"update\\\": {\\\"x\\\": {\\\"scale\\\": \\\"x\\\", \\\"field\\\": \\\"left\\\"}, \\\"x2\\\": {\\\"scale\\\": \\\"x\\\", \\\"field\\\": \\\"right\\\"}, \\\"y\\\": {\\\"scale\\\": \\\"y\\\", \\\"field\\\": \\\"count\\\"}, \\\"y2\\\": {\\\"scale\\\": \\\"y\\\", \\\"value\\\": 0}, \\\"fill\\\": {\\\"value\\\": \\\"#108EE9\\\"}}}}]}, {\\\"from\\\": {\\\"facet\\\": {\\\"name\\\": \\\"data_5\\\", \\\"data\\\": \\\"data_2\\\", \\\"field\\\": \\\"categorical\\\"}}, \\\"encode\\\": {\\\"enter\\\": {\\\"x\\\": {\\\"value\\\": 170}, \\\"width\\\": {\\\"value\\\": 250}, \\\"y\\\": {\\\"field\\\": \\\"graph_offset_categorical\\\"}, \\\"height\\\": {\\\"value\\\": 150}, \\\"fill\\\": {\\\"value\\\": \\\"#ffffff\\\"}, \\\"fillOpacity\\\": {\\\"value\\\": 0}, \\\"stroke\\\": {\\\"value\\\": \\\"#000000\\\"}, \\\"strokeWidth\\\": {\\\"value\\\": 0}}, \\\"update\\\": {\\\"x\\\": {\\\"signal\\\": \\\"datum[\\\\\\\"c_x_axis_back\\\\\\\"]+137\\\"}, \\\"clip\\\": {\\\"field\\\": \\\"c_clip_val_cat\\\"}, \\\"width\\\": {\\\"field\\\": \\\"c_width_numeric_val_cat\\\"}}}, \\\"type\\\": \\\"group\\\", \\\"style\\\": \\\"cell\\\", \\\"signals\\\": [{\\\"name\\\": \\\"unit\\\", \\\"value\\\": {}, \\\"on\\\": [{\\\"events\\\": \\\"mousemove\\\", \\\"update\\\": \\\"isTuple(group()) ? group() : unit\\\"}]}, {\\\"name\\\": \\\"pts\\\", \\\"update\\\": \\\"data(\\\\\\\"pts_store\\\\\\\").length &amp;&amp; {count: data(\\\\\\\"pts_store\\\\\\\")[0].values[0]}\\\"}, {\\\"name\\\": \\\"pts_tuple\\\", \\\"value\\\": {}, \\\"on\\\": [{\\\"events\\\": [{\\\"source\\\": \\\"scope\\\", \\\"type\\\": \\\"click\\\"}], \\\"update\\\": \\\"datum &amp;&amp; item().mark.marktype !== &apos;group&apos; ? {unit: \\\\\\\"\\\\\\\", encodings: [\\\\\\\"x\\\\\\\"], fields: [\\\\\\\"count\\\\\\\"], values: [datum[\\\\\\\"count\\\\\\\"]]} : null\\\", \\\"force\\\": true}]}, {\\\"name\\\": \\\"pts_modify\\\", \\\"on\\\": [{\\\"events\\\": {\\\"signal\\\": \\\"pts_tuple\\\"}, \\\"update\\\": \\\"modify(\\\\\\\"pts_store\\\\\\\", pts_tuple, true)\\\"}]}], \\\"marks\\\": [{\\\"name\\\": \\\"marks\\\", \\\"type\\\": \\\"rect\\\", \\\"style\\\": [\\\"bar\\\"], \\\"from\\\": {\\\"data\\\": \\\"data_5\\\"}, \\\"encode\\\": {\\\"hover\\\": {\\\"fill\\\": {\\\"value\\\": \\\"#7EC2F3\\\"}}, \\\"update\\\": {\\\"x\\\": {\\\"scale\\\": \\\"x\\\", \\\"field\\\": \\\"count\\\"}, \\\"x2\\\": {\\\"scale\\\": \\\"x\\\", \\\"value\\\": 0}, \\\"y\\\": {\\\"scale\\\": \\\"y\\\", \\\"field\\\": \\\"label\\\"}, \\\"height\\\": {\\\"scale\\\": \\\"y\\\", \\\"band\\\": true}, \\\"fill\\\": {\\\"value\\\": \\\"#108EE9\\\"}}}}], \\\"scales\\\": [{\\\"name\\\": \\\"x\\\", \\\"type\\\": \\\"linear\\\", \\\"domain\\\": {\\\"data\\\": \\\"data_5\\\", \\\"field\\\": \\\"count\\\"}, \\\"range\\\": [0, 250], \\\"nice\\\": true, \\\"zero\\\": true}, {\\\"name\\\": \\\"y\\\", \\\"type\\\": \\\"band\\\", \\\"domain\\\": {\\\"data\\\": \\\"data_5\\\", \\\"field\\\": \\\"label\\\", \\\"sort\\\": {\\\"op\\\": \\\"mean\\\", \\\"field\\\": \\\"label_idx\\\", \\\"order\\\": \\\"descending\\\"}}, \\\"range\\\": [150, 0], \\\"paddingInner\\\": 0.1, \\\"paddingOuter\\\": 0.05}], \\\"axes\\\": [{\\\"orient\\\": \\\"top\\\", \\\"scale\\\": \\\"x\\\", \\\"labelOverlap\\\": true, \\\"tickCount\\\": {\\\"signal\\\": \\\"ceil(width/40)\\\"}, \\\"title\\\": \\\"Count\\\", \\\"zindex\\\": 1}, {\\\"orient\\\": \\\"top\\\", \\\"scale\\\": \\\"x\\\", \\\"domain\\\": false, \\\"grid\\\": true, \\\"labels\\\": false, \\\"maxExtent\\\": 0, \\\"minExtent\\\": 0, \\\"tickCount\\\": {\\\"signal\\\": \\\"ceil(width/40)\\\"}, \\\"ticks\\\": false, \\\"zindex\\\": 0, \\\"gridScale\\\": \\\"y\\\"}, {\\\"scale\\\": \\\"y\\\", \\\"labelOverlap\\\": true, \\\"orient\\\": \\\"left\\\", \\\"title\\\": \\\"Label\\\", \\\"zindex\\\": 1}]}], \\\"type\\\": \\\"group\\\"}], \\\"type\\\": \\\"group\\\"}], \\\"config\\\": {\\\"axis\\\": {\\\"labelFont\\\": \\\"HelveticaNeue-Light, Arial\\\", \\\"labelFontSize\\\": 7, \\\"labelPadding\\\": 10, \\\"labelColor\\\": \\\"#595959\\\", \\\"titleFont\\\": \\\"HelveticaNeue-Light, Arial\\\", \\\"titleFontWeight\\\": \\\"normal\\\", \\\"titlePadding\\\": 9, \\\"titleFontSize\\\": 12, \\\"titleColor\\\": \\\"#595959\\\"}, \\\"axisY\\\": {\\\"minExtent\\\": 30}, \\\"style\\\": {\\\"rect\\\": {\\\"stroke\\\": \\\"rgba(200, 200, 200, 0.5)\\\"}, \\\"group-title\\\": {\\\"fontSize\\\": 20, \\\"font\\\": \\\"HelveticaNeue-Light, Arial\\\", \\\"fontWeight\\\": \\\"normal\\\", \\\"fill\\\": \\\"#595959\\\"}}}}\";                                 var vega_json_parsed = JSON.parse(vega_json);                                 var toolTipOpts = {                                     showAllFields: true                                 };                                 if(vega_json_parsed[\"metadata\"] != null){                                     if(vega_json_parsed[\"metadata\"][\"bubbleOpts\"] != null){                                         toolTipOpts = vega_json_parsed[\"metadata\"][\"bubbleOpts\"];                                     };                                 };                                 vegaEmbed(\"#vis\", vega_json_parsed).then(function (result) {                                     vegaTooltip.vega(result.view, toolTipOpts);                                  });                             </script>                         </body>                     </html>' src=\"demo_iframe_srcdoc.htm\">                         <p>Your browser does not support iframes.</p>                     </iframe>                 </body>             </html>"
            ]
          },
          "metadata": {}
        },
        {
          "output_type": "execute_result",
          "data": {
            "text/plain": [
              "<turicreate.visualization._plot.Plot at 0x7f90d80f1df0>"
            ]
          },
          "metadata": {},
          "execution_count": 9
        }
      ]
    },
    {
      "cell_type": "code",
      "source": [
        "#Exploring the relationship between price and area\n",
        "tc.visualization.scatter(data[\"Area\"], \n",
        "                         data[\"Price\"],\n",
        "                        xlabel = \"Area\", \n",
        "                        ylabel = \"House Price\")"
      ],
      "metadata": {
        "colab": {
          "base_uri": "https://localhost:8080/",
          "height": 809
        },
        "id": "4hMye-G64hLf",
        "outputId": "5c47d2be-c0e3-437a-8ac7-bf8368b0a3b5"
      },
      "execution_count": 10,
      "outputs": [
        {
          "output_type": "display_data",
          "data": {
            "text/plain": [
              "<IPython.core.display.HTML object>"
            ],
            "text/html": [
              "<html>                 <body>                     <iframe style=\"border:0;margin:0\" width=\"920\" height=\"770\" srcdoc='<html lang=\"en\">                         <head>                             <script src=\"https://cdnjs.cloudflare.com/ajax/libs/vega/5.4.0/vega.js\"></script>                             <script src=\"https://cdnjs.cloudflare.com/ajax/libs/vega-embed/4.0.0/vega-embed.js\"></script>                             <script src=\"https://cdnjs.cloudflare.com/ajax/libs/vega-tooltip/0.5.1/vega-tooltip.min.js\"></script>                             <link rel=\"stylesheet\" type=\"text/css\" href=\"https://cdnjs.cloudflare.com/ajax/libs/vega-tooltip/0.5.1/vega-tooltip.min.css\">                             <style>                             .vega-actions > a{                                 color:white;                                 text-decoration: none;                                 font-family: \"Arial\";                                 cursor:pointer;                                 padding:5px;                                 background:#AAAAAA;                                 border-radius:4px;                                 padding-left:10px;                                 padding-right:10px;                                 margin-right:5px;                             }                             .vega-actions{                                 margin-top:20px;                                 text-align:center                             }                            .vega-actions > a{                                 background:#999999;                            }                             </style>                         </head>                         <body>                             <div id=\"vis\">                             </div>                             <script>                                 var vega_json = \"{\\\"$schema\\\": \\\"https://vega.github.io/schema/vega/v4.json\\\", \\\"autosize\\\": {\\\"type\\\": \\\"fit\\\", \\\"resize\\\": false, \\\"contains\\\": \\\"padding\\\"}, \\\"padding\\\": 8, \\\"width\\\": 720, \\\"height\\\": 550, \\\"style\\\": \\\"cell\\\", \\\"title\\\": \\\"Area vs. House Price\\\", \\\"data\\\": [{\\\"name\\\": \\\"source_2\\\", \\\"values\\\": [{\\\"x\\\": 1340, \\\"y\\\": 6968000}, {\\\"x\\\": 3498, \\\"y\\\": 29000000}, {\\\"x\\\": 1318, \\\"y\\\": 6590000}, {\\\"x\\\": 1295, \\\"y\\\": 5739000}, {\\\"x\\\": 1145, \\\"y\\\": 5679000}, {\\\"x\\\": 1230, \\\"y\\\": 6099000}, {\\\"x\\\": 1350, \\\"y\\\": 7000000}, {\\\"x\\\": 1400, \\\"y\\\": 4198000}, {\\\"x\\\": 2240, \\\"y\\\": 9900000}, {\\\"x\\\": 1520, \\\"y\\\": 9800000}, {\\\"x\\\": 1535, \\\"y\\\": 8903000}, {\\\"x\\\": 1150, \\\"y\\\": 6300000}, {\\\"x\\\": 1285, \\\"y\\\": 6300000}, {\\\"x\\\": 1897, \\\"y\\\": 9000000}, {\\\"x\\\": 1725, \\\"y\\\": 11100000}, {\\\"x\\\": 1665, \\\"y\\\": 11500000}, {\\\"x\\\": 1592, \\\"y\\\": 10900000}, {\\\"x\\\": 1150, \\\"y\\\": 8625000}, {\\\"x\\\": 2240, \\\"y\\\": 9900000}, {\\\"x\\\": 1050, \\\"y\\\": 3900000}, {\\\"x\\\": 1340, \\\"y\\\": 6968000}, {\\\"x\\\": 3498, \\\"y\\\": 29000000}, {\\\"x\\\": 1318, \\\"y\\\": 6590000}, {\\\"x\\\": 1295, \\\"y\\\": 5739000}, {\\\"x\\\": 1145, \\\"y\\\": 5679000}, {\\\"x\\\": 1230, \\\"y\\\": 6099000}, {\\\"x\\\": 1350, \\\"y\\\": 7000000}, {\\\"x\\\": 1400, \\\"y\\\": 4198000}, {\\\"x\\\": 2240, \\\"y\\\": 9900000}, {\\\"x\\\": 1520, \\\"y\\\": 9800000}, {\\\"x\\\": 1535, \\\"y\\\": 8903000}, {\\\"x\\\": 1150, \\\"y\\\": 6300000}, {\\\"x\\\": 1285, \\\"y\\\": 6300000}, {\\\"x\\\": 1897, \\\"y\\\": 9000000}, {\\\"x\\\": 1725, \\\"y\\\": 11100000}, {\\\"x\\\": 1665, \\\"y\\\": 11500000}, {\\\"x\\\": 1592, \\\"y\\\": 10900000}, {\\\"x\\\": 1150, \\\"y\\\": 8625000}, {\\\"x\\\": 2240, \\\"y\\\": 9900000}, {\\\"x\\\": 1050, \\\"y\\\": 3900000}, {\\\"x\\\": 1735, \\\"y\\\": 7800000}, {\\\"x\\\": 2800, \\\"y\\\": 19600000}, {\\\"x\\\": 1050, \\\"y\\\": 6050000}, {\\\"x\\\": 1230, \\\"y\\\": 6150000}, {\\\"x\\\": 1175, \\\"y\\\": 5000000}, {\\\"x\\\": 1190, \\\"y\\\": 4760000}, {\\\"x\\\": 2956, \\\"y\\\": 30000000}, {\\\"x\\\": 680, \\\"y\\\": 2500000}, {\\\"x\\\": 1350, \\\"y\\\": 5900000}, {\\\"x\\\": 1970, \\\"y\\\": 9700000}, {\\\"x\\\": 1105, \\\"y\\\": 4641000}, {\\\"x\\\": 2005, \\\"y\\\": 16000000}, {\\\"x\\\": 1105, \\\"y\\\": 4641000}, {\\\"x\\\": 1406, \\\"y\\\": 7500000}, {\\\"x\\\": 1545, \\\"y\\\": 6140000}, {\\\"x\\\": 1495, \\\"y\\\": 10500000}, {\\\"x\\\": 1300, \\\"y\\\": 7200000}, {\\\"x\\\": 1200, \\\"y\\\": 4600000}, {\\\"x\\\": 1450, \\\"y\\\": 10400000}, {\\\"x\\\": 1450, \\\"y\\\": 9500000}, {\\\"x\\\": 1912, \\\"y\\\": 9942000}, {\\\"x\\\": 1850, \\\"y\\\": 9250000}, {\\\"x\\\": 1300, \\\"y\\\": 4500000}, {\\\"x\\\": 1674, \\\"y\\\": 9600000}, {\\\"x\\\": 1242, \\\"y\\\": 8600000}, {\\\"x\\\": 850, \\\"y\\\": 2700000}, {\\\"x\\\": 1895, \\\"y\\\": 6600000}, {\\\"x\\\": 1636, \\\"y\\\": 8589000}, {\\\"x\\\": 1076, \\\"y\\\": 5500000}, {\\\"x\\\": 1080, \\\"y\\\": 3200000}, {\\\"x\\\": 2100, \\\"y\\\": 20500000}, {\\\"x\\\": 1265, \\\"y\\\": 6300000}, {\\\"x\\\": 1300, \\\"y\\\": 6400000}, {\\\"x\\\": 1089, \\\"y\\\": 4988000}, {\\\"x\\\": 1400, \\\"y\\\": 10500000}, {\\\"x\\\": 850, \\\"y\\\": 4300000}, {\\\"x\\\": 1100, \\\"y\\\": 3900000}, {\\\"x\\\": 1700, \\\"y\\\": 5500000}, {\\\"x\\\": 2150, \\\"y\\\": 10300000}, {\\\"x\\\": 1195, \\\"y\\\": 6600000}, {\\\"x\\\": 1105, \\\"y\\\": 6500000}, {\\\"x\\\": 1205, \\\"y\\\": 5784000}, {\\\"x\\\": 1250, \\\"y\\\": 5500000}, {\\\"x\\\": 1340, \\\"y\\\": 6700000}, {\\\"x\\\": 950, \\\"y\\\": 3000000}, {\\\"x\\\": 1100, \\\"y\\\": 4700000}, {\\\"x\\\": 1908, \\\"y\\\": 15000000}, {\\\"x\\\": 1675, \\\"y\\\": 7872000}, {\\\"x\\\": 1420, \\\"y\\\": 7500000}, {\\\"x\\\": 1535, \\\"y\\\": 8903000}, {\\\"x\\\": 910, \\\"y\\\": 3200000}, {\\\"x\\\": 1325, \\\"y\\\": 5600000}, {\\\"x\\\": 1717, \\\"y\\\": 11000000}, {\\\"x\\\": 2400, \\\"y\\\": 12000000}, {\\\"x\\\": 1150, \\\"y\\\": 6900000}, {\\\"x\\\": 1000, \\\"y\\\": 3900000}, {\\\"x\\\": 1200, \\\"y\\\": 3999000}, {\\\"x\\\": 1040, \\\"y\\\": 4460000}, {\\\"x\\\": 1181, \\\"y\\\": 7298999}, {\\\"x\\\": 2100, \\\"y\\\": 10500000}, {\\\"x\\\": 1550, \\\"y\\\": 12000000}, {\\\"x\\\": 1280, \\\"y\\\": 7700000}, {\\\"x\\\": 1945, \\\"y\\\": 12400000}, {\\\"x\\\": 3500, \\\"y\\\": 28200000}, {\\\"x\\\": 1000, \\\"y\\\": 3700000}, {\\\"x\\\": 1200, \\\"y\\\": 8000000}, {\\\"x\\\": 2729, \\\"y\\\": 17700000}, {\\\"x\\\": 1500, \\\"y\\\": 6998999}, {\\\"x\\\": 2165, \\\"y\\\": 19400000}, {\\\"x\\\": 1050, \\\"y\\\": 3000000}, {\\\"x\\\": 1150, \\\"y\\\": 2999000}, {\\\"x\\\": 1822, \\\"y\\\": 8500000}, {\\\"x\\\": 1270, \\\"y\\\": 6500000}, {\\\"x\\\": 1300, \\\"y\\\": 4500000}, {\\\"x\\\": 1600, \\\"y\\\": 8500000}, {\\\"x\\\": 1818, \\\"y\\\": 14500000}, {\\\"x\\\": 1282, \\\"y\\\": 8000000}, {\\\"x\\\": 1830, \\\"y\\\": 8600000}, {\\\"x\\\": 1815, \\\"y\\\": 9073000}, {\\\"x\\\": 1400, \\\"y\\\": 6700000}, {\\\"x\\\": 1220, \\\"y\\\": 6344000}, {\\\"x\\\": 1650, \\\"y\\\": 8580000}, {\\\"x\\\": 1680, \\\"y\\\": 8736000}, {\\\"x\\\": 1555, \\\"y\\\": 8086000}, {\\\"x\\\": 1685, \\\"y\\\": 8762000}, {\\\"x\\\": 1520, \\\"y\\\": 7904000}, {\\\"x\\\": 1225, \\\"y\\\": 6370000}, {\\\"x\\\": 1795, \\\"y\\\": 9334000}, {\\\"x\\\": 1435, \\\"y\\\": 7462000}, {\\\"x\\\": 1430, \\\"y\\\": 7436000}, {\\\"x\\\": 1265, \\\"y\\\": 6578000}, {\\\"x\\\": 2080, \\\"y\\\": 10400000}, {\\\"x\\\": 2092, \\\"y\\\": 10400000}, {\\\"x\\\": 1370, \\\"y\\\": 6850000}, {\\\"x\\\": 2232, \\\"y\\\": 11100000}, {\\\"x\\\": 2063, \\\"y\\\": 10300000}, {\\\"x\\\": 1400, \\\"y\\\": 7000000}, {\\\"x\\\": 1865, \\\"y\\\": 9325000}, {\\\"x\\\": 2270, \\\"y\\\": 11299999}, {\\\"x\\\": 1896, \\\"y\\\": 9480000}, {\\\"x\\\": 3031, \\\"y\\\": 25600000}, {\\\"x\\\": 1702, \\\"y\\\": 8510000}, {\\\"x\\\": 1350, \\\"y\\\": 6750000}, {\\\"x\\\": 1525, \\\"y\\\": 7625000}, {\\\"x\\\": 1225, \\\"y\\\": 6125000}, {\\\"x\\\": 1728, \\\"y\\\": 8640000}, {\\\"x\\\": 1725, \\\"y\\\": 8625000}, {\\\"x\\\": 1300, \\\"y\\\": 6500000}, {\\\"x\\\": 1600, \\\"y\\\": 8000000}, {\\\"x\\\": 1200, \\\"y\\\": 6000000}, {\\\"x\\\": 1640, \\\"y\\\": 9900000}, {\\\"x\\\": 1830, \\\"y\\\": 8234999}, {\\\"x\\\": 1835, \\\"y\\\": 8256999}, {\\\"x\\\": 1570, \\\"y\\\": 7100000}, {\\\"x\\\": 1570, \\\"y\\\": 9900000}, {\\\"x\\\": 2240, \\\"y\\\": 9900000}, {\\\"x\\\": 2240, \\\"y\\\": 9900000}, {\\\"x\\\": 1895, \\\"y\\\": 16000000}, {\\\"x\\\": 1600, \\\"y\\\": 8000000}, {\\\"x\\\": 1140, \\\"y\\\": 5654000}, {\\\"x\\\": 1150, \\\"y\\\": 5704000}, {\\\"x\\\": 1530, \\\"y\\\": 7588000}, {\\\"x\\\": 1230, \\\"y\\\": 5999000}, {\\\"x\\\": 1300, \\\"y\\\": 6000000}, {\\\"x\\\": 1050, \\\"y\\\": 3148000}, {\\\"x\\\": 1665, \\\"y\\\": 6325000}, {\\\"x\\\": 1250, \\\"y\\\": 4748000}, {\\\"x\\\": 1250, \\\"y\\\": 4748000}, {\\\"x\\\": 1900, \\\"y\\\": 8168000}, {\\\"x\\\": 1900, \\\"y\\\": 8168000}, {\\\"x\\\": 1815, \\\"y\\\": 7802000}, {\\\"x\\\": 1250, \\\"y\\\": 5373000}, {\\\"x\\\": 1530, \\\"y\\\": 7400000}, {\\\"x\\\": 1530, \\\"y\\\": 7400000}, {\\\"x\\\": 1535, \\\"y\\\": 8903000}, {\\\"x\\\": 3380, \\\"y\\\": 20200000}, {\\\"x\\\": 3380, \\\"y\\\": 20200000}, {\\\"x\\\": 1875, \\\"y\\\": 10800000}, {\\\"x\\\": 1875, \\\"y\\\": 10800000}, {\\\"x\\\": 2540, \\\"y\\\": 15200000}, {\\\"x\\\": 2540, \\\"y\\\": 15200000}, {\\\"x\\\": 2630, \\\"y\\\": 15200000}, {\\\"x\\\": 2630, \\\"y\\\": 15200000}, {\\\"x\\\": 4500, \\\"y\\\": 47200000}, {\\\"x\\\": 3380, \\\"y\\\": 21500000}, {\\\"x\\\": 2700, \\\"y\\\": 12000000}, {\\\"x\\\": 1792, \\\"y\\\": 10000000}, {\\\"x\\\": 1673, \\\"y\\\": 9500000}, {\\\"x\\\": 1665, \\\"y\\\": 10700000}, {\\\"x\\\": 1640, \\\"y\\\": 10700000}, {\\\"x\\\": 1640, \\\"y\\\": 10700000}, {\\\"x\\\": 1665, \\\"y\\\": 11500000}, {\\\"x\\\": 2200, \\\"y\\\": 17000000}, {\\\"x\\\": 1170, \\\"y\\\": 4000000}, {\\\"x\\\": 1170, \\\"y\\\": 4000000}, {\\\"x\\\": 1600, \\\"y\\\": 8500000}, {\\\"x\\\": 1644, \\\"y\\\": 8600000}, {\\\"x\\\": 1644, \\\"y\\\": 8599000}, {\\\"x\\\": 1687, \\\"y\\\": 8898000}, {\\\"x\\\": 1650, \\\"y\\\": 8599000}, {\\\"x\\\": 1554, \\\"y\\\": 8298999}, {\\\"x\\\": 1684, \\\"y\\\": 8598000}, {\\\"x\\\": 1650, \\\"y\\\": 8898000}, {\\\"x\\\": 970, \\\"y\\\": 4200000}, {\\\"x\\\": 970, \\\"y\\\": 4200000}, {\\\"x\\\": 2240, \\\"y\\\": 10000000}, {\\\"x\\\": 1050, \\\"y\\\": 3900000}, {\\\"x\\\": 2240, \\\"y\\\": 10000000}, {\\\"x\\\": 2240, \\\"y\\\": 9900000}, {\\\"x\\\": 1190, \\\"y\\\": 4760000}, {\\\"x\\\": 1100, \\\"y\\\": 4400000}, {\\\"x\\\": 1600, \\\"y\\\": 7840000}, {\\\"x\\\": 1190, \\\"y\\\": 4760000}, {\\\"x\\\": 1100, \\\"y\\\": 4400000}, {\\\"x\\\": 1150, \\\"y\\\": 8600000}, {\\\"x\\\": 1415, \\\"y\\\": 6800000}, {\\\"x\\\": 1980, \\\"y\\\": 18500000}, {\\\"x\\\": 1100, \\\"y\\\": 4400000}, {\\\"x\\\": 1190, \\\"y\\\": 4760000}, {\\\"x\\\": 1100, \\\"y\\\": 4400000}, {\\\"x\\\": 1600, \\\"y\\\": 7840000}, {\\\"x\\\": 1190, \\\"y\\\": 4760000}, {\\\"x\\\": 1100, \\\"y\\\": 4400000}, {\\\"x\\\": 1150, \\\"y\\\": 8600000}, {\\\"x\\\": 1200, \\\"y\\\": 5880000}, {\\\"x\\\": 1100, \\\"y\\\": 4400000}, {\\\"x\\\": 1190, \\\"y\\\": 4760000}, {\\\"x\\\": 1190, \\\"y\\\": 4760000}, {\\\"x\\\": 1190, \\\"y\\\": 4760000}, {\\\"x\\\": 1100, \\\"y\\\": 4400000}, {\\\"x\\\": 1190, \\\"y\\\": 4760000}, {\\\"x\\\": 1190, \\\"y\\\": 4760000}, {\\\"x\\\": 1190, \\\"y\\\": 4760000}, {\\\"x\\\": 1905, \\\"y\\\": 9906000}, {\\\"x\\\": 1925, \\\"y\\\": 10000000}, {\\\"x\\\": 1482, \\\"y\\\": 6187000}, {\\\"x\\\": 1100, \\\"y\\\": 3800000}, {\\\"x\\\": 1800, \\\"y\\\": 11500000}, {\\\"x\\\": 1800, \\\"y\\\": 12000000}, {\\\"x\\\": 1105, \\\"y\\\": 4641000}, {\\\"x\\\": 1105, \\\"y\\\": 4641000}, {\\\"x\\\": 1105, \\\"y\\\": 4641000}, {\\\"x\\\": 1980, \\\"y\\\": 18500000}, {\\\"x\\\": 1150, \\\"y\\\": 8600000}, {\\\"x\\\": 1415, \\\"y\\\": 6800000}, {\\\"x\\\": 1730, \\\"y\\\": 11100000}, {\\\"x\\\": 1100, \\\"y\\\": 4400000}, {\\\"x\\\": 1100, \\\"y\\\": 4400000}, {\\\"x\\\": 1100, \\\"y\\\": 4400000}, {\\\"x\\\": 1100, \\\"y\\\": 4400000}, {\\\"x\\\": 1100, \\\"y\\\": 4400000}, {\\\"x\\\": 1100, \\\"y\\\": 4400000}, {\\\"x\\\": 1100, \\\"y\\\": 4400000}, {\\\"x\\\": 1100, \\\"y\\\": 4400000}, {\\\"x\\\": 1100, \\\"y\\\": 4400000}, {\\\"x\\\": 1100, \\\"y\\\": 4400000}, {\\\"x\\\": 1105, \\\"y\\\": 4641000}, {\\\"x\\\": 1100, \\\"y\\\": 4400000}, {\\\"x\\\": 1105, \\\"y\\\": 4641000}, {\\\"x\\\": 1105, \\\"y\\\": 4641000}, {\\\"x\\\": 1105, \\\"y\\\": 4641000}, {\\\"x\\\": 1105, \\\"y\\\": 4641000}, {\\\"x\\\": 1105, \\\"y\\\": 4641000}, {\\\"x\\\": 1165, \\\"y\\\": 7847000}, {\\\"x\\\": 1100, \\\"y\\\": 4400000}, {\\\"x\\\": 1535, \\\"y\\\": 10000000}, {\\\"x\\\": 1110, \\\"y\\\": 4400000}, {\\\"x\\\": 1105, \\\"y\\\": 4641000}, {\\\"x\\\": 2240, \\\"y\\\": 9900000}, {\\\"x\\\": 1278, \\\"y\\\": 6500000}, {\\\"x\\\": 1406, \\\"y\\\": 7500000}, {\\\"x\\\": 1190, \\\"y\\\": 6500000}, {\\\"x\\\": 1215, \\\"y\\\": 5300000}, {\\\"x\\\": 1105, \\\"y\\\": 4641000}, {\\\"x\\\": 1150, \\\"y\\\": 8600000}, {\\\"x\\\": 1105, \\\"y\\\": 4641000}, {\\\"x\\\": 1105, \\\"y\\\": 4641000}, {\\\"x\\\": 1770, \\\"y\\\": 10700000}, {\\\"x\\\": 1210, \\\"y\\\": 4840000}, {\\\"x\\\": 1010, \\\"y\\\": 4542000}, {\\\"x\\\": 1620, \\\"y\\\": 8100000}, {\\\"x\\\": 1555, \\\"y\\\": 6931000}, {\\\"x\\\": 1190, \\\"y\\\": 7098999}, {\\\"x\\\": 1730, \\\"y\\\": 11100000}, {\\\"x\\\": 1165, \\\"y\\\": 7240000}, {\\\"x\\\": 1670, \\\"y\\\": 10000000}, {\\\"x\\\": 1350, \\\"y\\\": 13000000}, {\\\"x\\\": 4780, \\\"y\\\": 43000000}, {\\\"x\\\": 1836, \\\"y\\\": 8900000}, {\\\"x\\\": 1970, \\\"y\\\": 15000000}, {\\\"x\\\": 1970, \\\"y\\\": 15000000}, {\\\"x\\\": 2000, \\\"y\\\": 12000000}, {\\\"x\\\": 2000, \\\"y\\\": 12000000}, {\\\"x\\\": 2000, \\\"y\\\": 12000000}, {\\\"x\\\": 2000, \\\"y\\\": 12000000}, {\\\"x\\\": 2000, \\\"y\\\": 12000000}, {\\\"x\\\": 2000, \\\"y\\\": 12000000}, {\\\"x\\\": 1210, \\\"y\\\": 7744000}, {\\\"x\\\": 1535, \\\"y\\\": 9760000}, {\\\"x\\\": 1315, \\\"y\\\": 8500000}, {\\\"x\\\": 680, \\\"y\\\": 2500000}, {\\\"x\\\": 1200, \\\"y\\\": 8200000}, {\\\"x\\\": 1200, \\\"y\\\": 8200000}, {\\\"x\\\": 1200, \\\"y\\\": 8200000}, {\\\"x\\\": 1200, \\\"y\\\": 8200000}, {\\\"x\\\": 1200, \\\"y\\\": 8200000}, {\\\"x\\\": 1200, \\\"y\\\": 8200000}, {\\\"x\\\": 1200, \\\"y\\\": 8200000}, {\\\"x\\\": 1200, \\\"y\\\": 8200000}, {\\\"x\\\": 1200, \\\"y\\\": 8200000}, {\\\"x\\\": 1200, \\\"y\\\": 8200000}, {\\\"x\\\": 1735, \\\"y\\\": 10800000}, {\\\"x\\\": 2500, \\\"y\\\": 27500000}, {\\\"x\\\": 3959, \\\"y\\\": 35000000}, {\\\"x\\\": 1889, \\\"y\\\": 9822000}, {\\\"x\\\": 4500, \\\"y\\\": 30000000}, {\\\"x\\\": 2500, \\\"y\\\": 27500000}, {\\\"x\\\": 1220, \\\"y\\\": 4880000}, {\\\"x\\\": 1920, \\\"y\\\": 9984000}, {\\\"x\\\": 2700, \\\"y\\\": 25000000}, {\\\"x\\\": 1300, \\\"y\\\": 5400000}, {\\\"x\\\": 2100, \\\"y\\\": 15000000}, {\\\"x\\\": 1920, \\\"y\\\": 9984000}, {\\\"x\\\": 1925, \\\"y\\\": 10000000}, {\\\"x\\\": 1885, \\\"y\\\": 11800000}, {\\\"x\\\": 1010, \\\"y\\\": 4542000}, {\\\"x\\\": 1695, \\\"y\\\": 10900000}, {\\\"x\\\": 1090, \\\"y\\\": 7098999}, {\\\"x\\\": 3100, \\\"y\\\": 46000000}, {\\\"x\\\": 2200, \\\"y\\\": 19800000}, {\\\"x\\\": 1521, \\\"y\\\": 7600000}, {\\\"x\\\": 2490, \\\"y\\\": 18000000}, {\\\"x\\\": 1675, \\\"y\\\": 12300000}, {\\\"x\\\": 1675, \\\"y\\\": 12300000}, {\\\"x\\\": 1260, \\\"y\\\": 5500000}, {\\\"x\\\": 1105, \\\"y\\\": 3700000}, {\\\"x\\\": 1675, \\\"y\\\": 12300000}, {\\\"x\\\": 1675, \\\"y\\\": 12300000}, {\\\"x\\\": 1675, \\\"y\\\": 12300000}, {\\\"x\\\": 1675, \\\"y\\\": 12300000}, {\\\"x\\\": 1200, \\\"y\\\": 4850000}, {\\\"x\\\": 1200, \\\"y\\\": 4850000}, {\\\"x\\\": 1200, \\\"y\\\": 4850000}, {\\\"x\\\": 1200, \\\"y\\\": 4850000}, {\\\"x\\\": 1200, \\\"y\\\": 4850000}, {\\\"x\\\": 900, \\\"y\\\": 4500000}, {\\\"x\\\": 1710, \\\"y\\\": 7600000}, {\\\"x\\\": 1242, \\\"y\\\": 8600000}, {\\\"x\\\": 1705, \\\"y\\\": 7500000}, {\\\"x\\\": 1050, \\\"y\\\": 5200000}, {\\\"x\\\": 1225, \\\"y\\\": 5700000}, {\\\"x\\\": 1555, \\\"y\\\": 6931000}, {\\\"x\\\": 1675, \\\"y\\\": 10800000}, {\\\"x\\\": 1695, \\\"y\\\": 10900000}, {\\\"x\\\": 1945, \\\"y\\\": 13000000}, {\\\"x\\\": 1000, \\\"y\\\": 3650000}, {\\\"x\\\": 1150, \\\"y\\\": 8625000}, {\\\"x\\\": 1330, \\\"y\\\": 7500000}, {\\\"x\\\": 2250, \\\"y\\\": 20000000}, {\\\"x\\\": 2240, \\\"y\\\": 10000000}, {\\\"x\\\": 4500, \\\"y\\\": 45000000}, {\\\"x\\\": 4500, \\\"y\\\": 45000000}, {\\\"x\\\": 4500, \\\"y\\\": 45000000}, {\\\"x\\\": 800, \\\"y\\\": 3300000}, {\\\"x\\\": 800, \\\"y\\\": 3300000}, {\\\"x\\\": 800, \\\"y\\\": 3300000}, {\\\"x\\\": 800, \\\"y\\\": 3300000}, {\\\"x\\\": 1150, \\\"y\\\": 5635000}, {\\\"x\\\": 1840, \\\"y\\\": 12900000}, {\\\"x\\\": 1560, \\\"y\\\": 7800000}, {\\\"x\\\": 1300, \\\"y\\\": 6300000}, {\\\"x\\\": 3200, \\\"y\\\": 28000000}, {\\\"x\\\": 2950, \\\"y\\\": 30000000}, {\\\"x\\\": 2950, \\\"y\\\": 30000000}, {\\\"x\\\": 1699, \\\"y\\\": 12500000}, {\\\"x\\\": 1254, \\\"y\\\": 6583000}, {\\\"x\\\": 1710, \\\"y\\\": 8977000}, {\\\"x\\\": 4067, \\\"y\\\": 35500000}, {\\\"x\\\": 1320, \\\"y\\\": 7500000}, {\\\"x\\\": 1605, \\\"y\\\": 7000000}, {\\\"x\\\": 2120, \\\"y\\\": 14500000}, {\\\"x\\\": 1860, \\\"y\\\": 13500000}, {\\\"x\\\": 1860, \\\"y\\\": 13500000}, {\\\"x\\\": 1050, \\\"y\\\": 2700000}, {\\\"x\\\": 1550, \\\"y\\\": 8990000}, {\\\"x\\\": 3090, \\\"y\\\": 27500000}, {\\\"x\\\": 6718, \\\"y\\\": 66400000}, {\\\"x\\\": 1195, \\\"y\\\": 7500000}, {\\\"x\\\": 1230, \\\"y\\\": 5700000}, {\\\"x\\\": 2956, \\\"y\\\": 33000000}, {\\\"x\\\": 2956, \\\"y\\\": 33000000}, {\\\"x\\\": 1076, \\\"y\\\": 5500000}, {\\\"x\\\": 842, \\\"y\\\": 3578000}, {\\\"x\\\": 1200, \\\"y\\\": 7800000}, {\\\"x\\\": 4500, \\\"y\\\": 52000000}, {\\\"x\\\": 4500, \\\"y\\\": 52000000}, {\\\"x\\\": 3600, \\\"y\\\": 40000000}, {\\\"x\\\": 3600, \\\"y\\\": 40000000}, {\\\"x\\\": 3500, \\\"y\\\": 36700000}, {\\\"x\\\": 3500, \\\"y\\\": 36700000}, {\\\"x\\\": 1150, \\\"y\\\": 8600000}, {\\\"x\\\": 1150, \\\"y\\\": 9000000}, {\\\"x\\\": 1150, \\\"y\\\": 9000000}, {\\\"x\\\": 1245, \\\"y\\\": 9877000}, {\\\"x\\\": 1600, \\\"y\\\": 13000000}, {\\\"x\\\": 2270, \\\"y\\\": 18800000}, {\\\"x\\\": 1200, \\\"y\\\": 6000000}, {\\\"x\\\": 1418, \\\"y\\\": 7000000}, {\\\"x\\\": 1920, \\\"y\\\": 9984000}, {\\\"x\\\": 1925, \\\"y\\\": 10000000}, {\\\"x\\\": 1905, \\\"y\\\": 9906000}, {\\\"x\\\": 850, \\\"y\\\": 5500000}, {\\\"x\\\": 1940, \\\"y\\\": 8000000}, {\\\"x\\\": 1150, \\\"y\\\": 8600000}, {\\\"x\\\": 1730, \\\"y\\\": 11100000}, {\\\"x\\\": 1730, \\\"y\\\": 11100000}, {\\\"x\\\": 1050, \\\"y\\\": 4200000}, {\\\"x\\\": 1050, \\\"y\\\": 4200000}, {\\\"x\\\": 1908, \\\"y\\\": 14500000}, {\\\"x\\\": 1090, \\\"y\\\": 7098999}, {\\\"x\\\": 1905, \\\"y\\\": 8953000}, {\\\"x\\\": 1675, \\\"y\\\": 7872000}, {\\\"x\\\": 1615, \\\"y\\\": 7590000}, {\\\"x\\\": 1160, \\\"y\\\": 5452000}, {\\\"x\\\": 1800, \\\"y\\\": 8459000}, {\\\"x\\\": 1200, \\\"y\\\": 5640000}, {\\\"x\\\": 908, \\\"y\\\": 4500000}, {\\\"x\\\": 1100, \\\"y\\\": 4830000}, {\\\"x\\\": 1380, \\\"y\\\": 4900000}, {\\\"x\\\": 970, \\\"y\\\": 6000000}, {\\\"x\\\": 1160, \\\"y\\\": 4500000}, {\\\"x\\\": 840, \\\"y\\\": 4299000}, {\\\"x\\\": 1100, \\\"y\\\": 4750000}, {\\\"x\\\": 931, \\\"y\\\": 4200000}, {\\\"x\\\": 1670, \\\"y\\\": 12500000}, {\\\"x\\\": 2000, \\\"y\\\": 12000000}, {\\\"x\\\": 2000, \\\"y\\\": 12000000}, {\\\"x\\\": 1554, \\\"y\\\": 8298999}, {\\\"x\\\": 1650, \\\"y\\\": 8898000}, {\\\"x\\\": 1554, \\\"y\\\": 7998999}, {\\\"x\\\": 1900, \\\"y\\\": 23000000}, {\\\"x\\\": 1900, \\\"y\\\": 22900000}, {\\\"x\\\": 1900, \\\"y\\\": 23000000}, {\\\"x\\\": 1900, \\\"y\\\": 23000000}, {\\\"x\\\": 1740, \\\"y\\\": 14500000}, {\\\"x\\\": 3145, \\\"y\\\": 20000000}, {\\\"x\\\": 963, \\\"y\\\": 2800000}, {\\\"x\\\": 909, \\\"y\\\": 3500000}, {\\\"x\\\": 850, \\\"y\\\": 3500000}, {\\\"x\\\": 950, \\\"y\\\": 4700000}, {\\\"x\\\": 1730, \\\"y\\\": 11399999}, {\\\"x\\\": 1555, \\\"y\\\": 6931000}, {\\\"x\\\": 1180, \\\"y\\\": 5256000}, {\\\"x\\\": 1675, \\\"y\\\": 11100000}, {\\\"x\\\": 845, \\\"y\\\": 5300000}, {\\\"x\\\": 1100, \\\"y\\\": 4500000}, {\\\"x\\\": 1905, \\\"y\\\": 14600000}, {\\\"x\\\": 1460, \\\"y\\\": 11200000}, {\\\"x\\\": 1460, \\\"y\\\": 11200000}, {\\\"x\\\": 1175, \\\"y\\\": 4200000}, {\\\"x\\\": 1360, \\\"y\\\": 4900000}, {\\\"x\\\": 1220, \\\"y\\\": 7554000}, {\\\"x\\\": 1885, \\\"y\\\": 11399999}, {\\\"x\\\": 1165, \\\"y\\\": 7240000}, {\\\"x\\\": 1295, \\\"y\\\": 9600000}, {\\\"x\\\": 1295, \\\"y\\\": 9600000}, {\\\"x\\\": 1295, \\\"y\\\": 9600000}, {\\\"x\\\": 1295, \\\"y\\\": 9600000}, {\\\"x\\\": 1295, \\\"y\\\": 9600000}, {\\\"x\\\": 1295, \\\"y\\\": 10200000}, {\\\"x\\\": 1670, \\\"y\\\": 12500000}, {\\\"x\\\": 1670, \\\"y\\\": 12500000}, {\\\"x\\\": 1200, \\\"y\\\": 4800000}, {\\\"x\\\": 1200, \\\"y\\\": 4800000}, {\\\"x\\\": 1670, \\\"y\\\": 12500000}, {\\\"x\\\": 2460, \\\"y\\\": 16800000}, {\\\"x\\\": 1040, \\\"y\\\": 4000000}, {\\\"x\\\": 1107, \\\"y\\\": 3600000}, {\\\"x\\\": 1050, \\\"y\\\": 6000000}, {\\\"x\\\": 1050, \\\"y\\\": 6000000}, {\\\"x\\\": 2900, \\\"y\\\": 33300000}, {\\\"x\\\": 1150, \\\"y\\\": 8625000}, {\\\"x\\\": 1040, \\\"y\\\": 4000000}, {\\\"x\\\": 1107, \\\"y\\\": 3600000}, {\\\"x\\\": 850, \\\"y\\\": 4000000}, {\\\"x\\\": 1050, \\\"y\\\": 6000000}, {\\\"x\\\": 1050, \\\"y\\\": 6000000}, {\\\"x\\\": 1080, \\\"y\\\": 3500000}, {\\\"x\\\": 1080, \\\"y\\\": 3500000}, {\\\"x\\\": 1100, \\\"y\\\": 2300000}, {\\\"x\\\": 1100, \\\"y\\\": 2300000}, {\\\"x\\\": 1745, \\\"y\\\": 12000000}, {\\\"x\\\": 970, \\\"y\\\": 2500000}, {\\\"x\\\": 1090, \\\"y\\\": 5777000}, {\\\"x\\\": 1435, \\\"y\\\": 7605000}, {\\\"x\\\": 684, \\\"y\\\": 2600000}, {\\\"x\\\": 1040, \\\"y\\\": 4500000}, {\\\"x\\\": 850, \\\"y\\\": 3000000}, {\\\"x\\\": 1150, \\\"y\\\": 3200000}, {\\\"x\\\": 1605, \\\"y\\\": 7000000}, {\\\"x\\\": 850, \\\"y\\\": 3000000}, {\\\"x\\\": 1150, \\\"y\\\": 3200000}, {\\\"x\\\": 1605, \\\"y\\\": 7000000}, {\\\"x\\\": 1000, \\\"y\\\": 5500000}, {\\\"x\\\": 1090, \\\"y\\\": 5777000}, {\\\"x\\\": 1435, \\\"y\\\": 7605000}, {\\\"x\\\": 1635, \\\"y\\\": 8502000}, {\\\"x\\\": 1585, \\\"y\\\": 8242000}, {\\\"x\\\": 1730, \\\"y\\\": 11000000}, {\\\"x\\\": 1665, \\\"y\\\": 10700000}, {\\\"x\\\": 1482, \\\"y\\\": 9240000}, {\\\"x\\\": 1385, \\\"y\\\": 8800000}, {\\\"x\\\": 1000, \\\"y\\\": 3400000}, {\\\"x\\\": 1035, \\\"y\\\": 9500000}, {\\\"x\\\": 1250, \\\"y\\\": 4700000}, {\\\"x\\\": 1250, \\\"y\\\": 4700000}, {\\\"x\\\": 1000, \\\"y\\\": 5000000}, {\\\"x\\\": 1260, \\\"y\\\": 4788000}, {\\\"x\\\": 950, \\\"y\\\": 2880000}, {\\\"x\\\": 850, \\\"y\\\": 5500000}, {\\\"x\\\": 1260, \\\"y\\\": 8500000}, {\\\"x\\\": 1050, \\\"y\\\": 5500000}, {\\\"x\\\": 1250, \\\"y\\\": 4400000}, {\\\"x\\\": 1908, \\\"y\\\": 14000000}, {\\\"x\\\": 1555, \\\"y\\\": 6931000}, {\\\"x\\\": 1720, \\\"y\\\": 12000000}, {\\\"x\\\": 1327, \\\"y\\\": 7540000}, {\\\"x\\\": 1110, \\\"y\\\": 6290000}, {\\\"x\\\": 941, \\\"y\\\": 5290000}, {\\\"x\\\": 1200, \\\"y\\\": 5580000}, {\\\"x\\\": 1200, \\\"y\\\": 4300000}, {\\\"x\\\": 1390, \\\"y\\\": 5560000}, {\\\"x\\\": 540, \\\"y\\\": 2400000}, {\\\"x\\\": 1717, \\\"y\\\": 12500000}, {\\\"x\\\": 1717, \\\"y\\\": 12500000}, {\\\"x\\\": 900, \\\"y\\\": 3570000}, {\\\"x\\\": 2150, \\\"y\\\": 12600000}, {\\\"x\\\": 810, \\\"y\\\": 4800000}, {\\\"x\\\": 1985, \\\"y\\\": 11600000}, {\\\"x\\\": 1555, \\\"y\\\": 9563000}, {\\\"x\\\": 810, \\\"y\\\": 4800000}, {\\\"x\\\": 1985, \\\"y\\\": 11600000}, {\\\"x\\\": 1555, \\\"y\\\": 9563000}, {\\\"x\\\": 1050, \\\"y\\\": 3600000}, {\\\"x\\\": 1014, \\\"y\\\": 4500000}, {\\\"x\\\": 1085, \\\"y\\\": 3900000}, {\\\"x\\\": 1100, \\\"y\\\": 5800000}, {\\\"x\\\": 1050, \\\"y\\\": 3500000}, {\\\"x\\\": 1050, \\\"y\\\": 3500000}, {\\\"x\\\": 1860, \\\"y\\\": 11399999}, {\\\"x\\\": 1860, \\\"y\\\": 11399999}, {\\\"x\\\": 3000, \\\"y\\\": 35000000}, {\\\"x\\\": 3000, \\\"y\\\": 35000000}, {\\\"x\\\": 955, \\\"y\\\": 4500000}, {\\\"x\\\": 1155, \\\"y\\\": 4500000}, {\\\"x\\\": 1120, \\\"y\\\": 3500000}, {\\\"x\\\": 850, \\\"y\\\": 3500000}, {\\\"x\\\": 1000, \\\"y\\\": 3800000}, {\\\"x\\\": 1000, \\\"y\\\": 3800000}, {\\\"x\\\": 1000, \\\"y\\\": 3800000}, {\\\"x\\\": 1000, \\\"y\\\": 3800000}, {\\\"x\\\": 1000, \\\"y\\\": 3800000}, {\\\"x\\\": 966, \\\"y\\\": 3960000}, {\\\"x\\\": 1000, \\\"y\\\": 3800000}, {\\\"x\\\": 1000, \\\"y\\\": 3800000}, {\\\"x\\\": 1050, \\\"y\\\": 4100000}, {\\\"x\\\": 1575, \\\"y\\\": 5500000}, {\\\"x\\\": 1700, \\\"y\\\": 9600000}, {\\\"x\\\": 1700, \\\"y\\\": 9600000}, {\\\"x\\\": 1535, \\\"y\\\": 6795000}, {\\\"x\\\": 940, \\\"y\\\": 3600000}, {\\\"x\\\": 1060, \\\"y\\\": 3400000}, {\\\"x\\\": 1015, \\\"y\\\": 3500000}, {\\\"x\\\": 1015, \\\"y\\\": 3500000}, {\\\"x\\\": 1600, \\\"y\\\": 5000000}, {\\\"x\\\": 1150, \\\"y\\\": 7000000}, {\\\"x\\\": 1500, \\\"y\\\": 5500000}, {\\\"x\\\": 1000, \\\"y\\\": 3870000}, {\\\"x\\\": 1208, \\\"y\\\": 5800000}, {\\\"x\\\": 1000, \\\"y\\\": 4700000}, {\\\"x\\\": 1150, \\\"y\\\": 7000000}, {\\\"x\\\": 1500, \\\"y\\\": 5500000}, {\\\"x\\\": 1700, \\\"y\\\": 11299999}, {\\\"x\\\": 1170, \\\"y\\\": 4500000}, {\\\"x\\\": 1090, \\\"y\\\": 7317000}, {\\\"x\\\": 1090, \\\"y\\\": 7317000}, {\\\"x\\\": 1050, \\\"y\\\": 3800000}, {\\\"x\\\": 1425, \\\"y\\\": 4850000}, {\\\"x\\\": 1060, \\\"y\\\": 4010000}, {\\\"x\\\": 1130, \\\"y\\\": 3550000}, {\\\"x\\\": 930, \\\"y\\\": 3300000}, {\\\"x\\\": 1085, \\\"y\\\": 3500000}, {\\\"x\\\": 1420, \\\"y\\\": 7500000}, {\\\"x\\\": 1120, \\\"y\\\": 4600000}, {\\\"x\\\": 1506, \\\"y\\\": 8500000}, {\\\"x\\\": 1506, \\\"y\\\": 8500000}, {\\\"x\\\": 1650, \\\"y\\\": 5500000}, {\\\"x\\\": 1650, \\\"y\\\": 5500000}, {\\\"x\\\": 1200, \\\"y\\\": 3900000}, {\\\"x\\\": 1145, \\\"y\\\": 4580000}, {\\\"x\\\": 1875, \\\"y\\\": 10800000}, {\\\"x\\\": 2540, \\\"y\\\": 15200000}, {\\\"x\\\": 2630, \\\"y\\\": 15200000}, {\\\"x\\\": 1145, \\\"y\\\": 4580000}, {\\\"x\\\": 2450, \\\"y\\\": 15000000}, {\\\"x\\\": 1425, \\\"y\\\": 5700000}, {\\\"x\\\": 1720, \\\"y\\\": 7200000}, {\\\"x\\\": 2405, \\\"y\\\": 20000000}, {\\\"x\\\": 1725, \\\"y\\\": 8797000}, {\\\"x\\\": 1730, \\\"y\\\": 10500000}, {\\\"x\\\": 4070, \\\"y\\\": 43000000}, {\\\"x\\\": 2000, \\\"y\\\": 10000000}, {\\\"x\\\": 1295, \\\"y\\\": 10000000}, {\\\"x\\\": 1490, \\\"y\\\": 12000000}, {\\\"x\\\": 1905, \\\"y\\\": 10700000}, {\\\"x\\\": 1905, \\\"y\\\": 10700000}, {\\\"x\\\": 1525, \\\"y\\\": 7900000}, {\\\"x\\\": 1120, \\\"y\\\": 4900000}, {\\\"x\\\": 1080, \\\"y\\\": 3800000}, {\\\"x\\\": 950, \\\"y\\\": 4000000}, {\\\"x\\\": 2700, \\\"y\\\": 13500000}, {\\\"x\\\": 1755, \\\"y\\\": 10000000}, {\\\"x\\\": 1755, \\\"y\\\": 10000000}, {\\\"x\\\": 1216, \\\"y\\\": 6200000}, {\\\"x\\\": 1210, \\\"y\\\": 7000000}, {\\\"x\\\": 1525, \\\"y\\\": 7900000}, {\\\"x\\\": 1340, \\\"y\\\": 6700000}, {\\\"x\\\": 1216, \\\"y\\\": 6200000}, {\\\"x\\\": 1725, \\\"y\\\": 8452000}, {\\\"x\\\": 2070, \\\"y\\\": 20000000}, {\\\"x\\\": 3025, \\\"y\\\": 30200000}, {\\\"x\\\": 1670, \\\"y\\\": 12500000}, {\\\"x\\\": 1150, \\\"y\\\": 8200000}, {\\\"x\\\": 1150, \\\"y\\\": 6900000}, {\\\"x\\\": 1600, \\\"y\\\": 9026000}, {\\\"x\\\": 2786, \\\"y\\\": 18200000}, {\\\"x\\\": 1525, \\\"y\\\": 8500000}, {\\\"x\\\": 1555, \\\"y\\\": 6531000}, {\\\"x\\\": 1315, \\\"y\\\": 8095000}, {\\\"x\\\": 2050, \\\"y\\\": 14000000}, {\\\"x\\\": 1675, \\\"y\\\": 10200000}, {\\\"x\\\": 1725, \\\"y\\\": 10000000}, {\\\"x\\\": 1770, \\\"y\\\": 10700000}, {\\\"x\\\": 3200, \\\"y\\\": 24000000}, {\\\"x\\\": 1900, \\\"y\\\": 22000000}, {\\\"x\\\": 1880, \\\"y\\\": 21400000}, {\\\"x\\\": 2050, \\\"y\\\": 16000000}, {\\\"x\\\": 3600, \\\"y\\\": 36500000}, {\\\"x\\\": 2665, \\\"y\\\": 15000000}, {\\\"x\\\": 1216, \\\"y\\\": 8500000}, {\\\"x\\\": 3031, \\\"y\\\": 28000000}, {\\\"x\\\": 2220, \\\"y\\\": 15500000}, {\\\"x\\\": 3448, \\\"y\\\": 32500000}, {\\\"x\\\": 3015, \\\"y\\\": 20700000}, {\\\"x\\\": 1430, \\\"y\\\": 10500000}, {\\\"x\\\": 2007, \\\"y\\\": 28000000}, {\\\"x\\\": 1695, \\\"y\\\": 10300000}, {\\\"x\\\": 1815, \\\"y\\\": 11000000}, {\\\"x\\\": 1630, \\\"y\\\": 9991000}, {\\\"x\\\": 1620, \\\"y\\\": 8014000}, {\\\"x\\\": 1200, \\\"y\\\": 4000000}, {\\\"x\\\": 1650, \\\"y\\\": 12500000}, {\\\"x\\\": 1550, \\\"y\\\": 8925000}, {\\\"x\\\": 1535, \\\"y\\\": 9296000}, {\\\"x\\\": 1165, \\\"y\\\": 7598999}, {\\\"x\\\": 1400, \\\"y\\\": 8500000}, {\\\"x\\\": 2600, \\\"y\\\": 20000000}, {\\\"x\\\": 1100, \\\"y\\\": 5250000}, {\\\"x\\\": 1010, \\\"y\\\": 4000000}, {\\\"x\\\": 1195, \\\"y\\\": 7500000}, {\\\"x\\\": 970, \\\"y\\\": 5253000}, {\\\"x\\\": 1050, \\\"y\\\": 5800000}, {\\\"x\\\": 1130, \\\"y\\\": 5085000}, {\\\"x\\\": 2300, \\\"y\\\": 12000000}, {\\\"x\\\": 1015, \\\"y\\\": 3500000}, {\\\"x\\\": 2960, \\\"y\\\": 25500000}, {\\\"x\\\": 1190, \\\"y\\\": 6500000}, {\\\"x\\\": 1190, \\\"y\\\": 6000000}, {\\\"x\\\": 1340, \\\"y\\\": 6700000}, {\\\"x\\\": 1875, \\\"y\\\": 16000000}, {\\\"x\\\": 1900, \\\"y\\\": 23000000}, {\\\"x\\\": 1920, \\\"y\\\": 19500000}, {\\\"x\\\": 1330, \\\"y\\\": 5320000}, {\\\"x\\\": 2350, \\\"y\\\": 19500000}, {\\\"x\\\": 1120, \\\"y\\\": 4800000}, {\\\"x\\\": 1924, \\\"y\\\": 13000000}, {\\\"x\\\": 1575, \\\"y\\\": 10200000}, {\\\"x\\\": 2350, \\\"y\\\": 19500000}, {\\\"x\\\": 3000, \\\"y\\\": 20000000}, {\\\"x\\\": 1350, \\\"y\\\": 5900000}, {\\\"x\\\": 1580, \\\"y\\\": 8500000}, {\\\"x\\\": 1200, \\\"y\\\": 6000000}, {\\\"x\\\": 1050, \\\"y\\\": 4710000}, {\\\"x\\\": 1090, \\\"y\\\": 7317000}, {\\\"x\\\": 1730, \\\"y\\\": 11399999}, {\\\"x\\\": 1535, \\\"y\\\": 9449000}, {\\\"x\\\": 1700, \\\"y\\\": 11299999}, {\\\"x\\\": 1050, \\\"y\\\": 4000000}, {\\\"x\\\": 1300, \\\"y\\\": 5450000}, {\\\"x\\\": 1770, \\\"y\\\": 10600000}, {\\\"x\\\": 1050, \\\"y\\\": 4000000}, {\\\"x\\\": 1300, \\\"y\\\": 5450000}, {\\\"x\\\": 1770, \\\"y\\\": 10600000}, {\\\"x\\\": 1430, \\\"y\\\": 7500000}, {\\\"x\\\": 1800, \\\"y\\\": 12400000}, {\\\"x\\\": 1530, \\\"y\\\": 7800000}, {\\\"x\\\": 1000, \\\"y\\\": 4800000}, {\\\"x\\\": 1905, \\\"y\\\": 9525000}, {\\\"x\\\": 1885, \\\"y\\\": 12200000}, {\\\"x\\\": 1885, \\\"y\\\": 12300000}, {\\\"x\\\": 1885, \\\"y\\\": 12300000}, {\\\"x\\\": 1560, \\\"y\\\": 8800000}, {\\\"x\\\": 1190, \\\"y\\\": 6798999}, {\\\"x\\\": 1450, \\\"y\\\": 9300000}, {\\\"x\\\": 1450, \\\"y\\\": 9300000}, {\\\"x\\\": 1050, \\\"y\\\": 4710000}, {\\\"x\\\": 1875, \\\"y\\\": 12000000}, {\\\"x\\\": 1555, \\\"y\\\": 6931000}, {\\\"x\\\": 900, \\\"y\\\": 3499000}, {\\\"x\\\": 1418, \\\"y\\\": 7100000}, {\\\"x\\\": 1418, \\\"y\\\": 7100000}, {\\\"x\\\": 1125, \\\"y\\\": 4800000}, {\\\"x\\\": 1515, \\\"y\\\": 5500000}, {\\\"x\\\": 1600, \\\"y\\\": 7500000}, {\\\"x\\\": 1260, \\\"y\\\": 5600000}, {\\\"x\\\": 2848, \\\"y\\\": 19400000}, {\\\"x\\\": 1492, \\\"y\\\": 9908000}, {\\\"x\\\": 1283, \\\"y\\\": 8126000}, {\\\"x\\\": 1410, \\\"y\\\": 9110000}, {\\\"x\\\": 2000, \\\"y\\\": 14000000}, {\\\"x\\\": 1463, \\\"y\\\": 7000000}, {\\\"x\\\": 1730, \\\"y\\\": 11399999}, {\\\"x\\\": 1600, \\\"y\\\": 8500000}, {\\\"x\\\": 2600, \\\"y\\\": 17000000}, {\\\"x\\\": 840, \\\"y\\\": 2500000}, {\\\"x\\\": 1725, \\\"y\\\": 8600000}, {\\\"x\\\": 1980, \\\"y\\\": 17800000}, {\\\"x\\\": 2085, \\\"y\\\": 18700000}, {\\\"x\\\": 2580, \\\"y\\\": 23200000}, {\\\"x\\\": 2185, \\\"y\\\": 19600000}, {\\\"x\\\": 1920, \\\"y\\\": 17200000}, {\\\"x\\\": 2210, \\\"y\\\": 19800000}, {\\\"x\\\": 1111, \\\"y\\\": 4500000}, {\\\"x\\\": 1161, \\\"y\\\": 4031000}, {\\\"x\\\": 1500, \\\"y\\\": 6399000}, {\\\"x\\\": 1500, \\\"y\\\": 6399000}, {\\\"x\\\": 2021, \\\"y\\\": 8000000}, {\\\"x\\\": 1300, \\\"y\\\": 5200000}, {\\\"x\\\": 1000, \\\"y\\\": 4000000}, {\\\"x\\\": 1060, \\\"y\\\": 7200000}, {\\\"x\\\": 9400, \\\"y\\\": 80000000}, {\\\"x\\\": 950, \\\"y\\\": 3200000}, {\\\"x\\\": 1350, \\\"y\\\": 3800000}, {\\\"x\\\": 1600, \\\"y\\\": 6000000}, {\\\"x\\\": 1000, \\\"y\\\": 3500000}, {\\\"x\\\": 1450, \\\"y\\\": 5000000}, {\\\"x\\\": 1050, \\\"y\\\": 2800000}, {\\\"x\\\": 1150, \\\"y\\\": 3600000}, {\\\"x\\\": 1900, \\\"y\\\": 8000000}, {\\\"x\\\": 1465, \\\"y\\\": 5034000}, {\\\"x\\\": 1228, \\\"y\\\": 4252000}, {\\\"x\\\": 1165, \\\"y\\\": 4044000}, {\\\"x\\\": 1106, \\\"y\\\": 3849000}, {\\\"x\\\": 1315, \\\"y\\\": 3500000}, {\\\"x\\\": 3200, \\\"y\\\": 20000000}, {\\\"x\\\": 1250, \\\"y\\\": 4800000}, {\\\"x\\\": 1050, \\\"y\\\": 4500000}, {\\\"x\\\": 1900, \\\"y\\\": 8000000}, {\\\"x\\\": 1096, \\\"y\\\": 3800000}, {\\\"x\\\": 1765, \\\"y\\\": 13500000}, {\\\"x\\\": 2021, \\\"y\\\": 8000000}, {\\\"x\\\": 1005, \\\"y\\\": 2700000}, {\\\"x\\\": 1750, \\\"y\\\": 6000000}, {\\\"x\\\": 1100, \\\"y\\\": 3740000}, {\\\"x\\\": 1100, \\\"y\\\": 3740000}, {\\\"x\\\": 1200, \\\"y\\\": 5280000}, {\\\"x\\\": 1160, \\\"y\\\": 5100000}, {\\\"x\\\": 1060, \\\"y\\\": 5500000}, {\\\"x\\\": 1506, \\\"y\\\": 6000000}, {\\\"x\\\": 1165, \\\"y\\\": 4500000}, {\\\"x\\\": 1471, \\\"y\\\": 6500000}, {\\\"x\\\": 3200, \\\"y\\\": 20000000}, {\\\"x\\\": 1350, \\\"y\\\": 4500000}, {\\\"x\\\": 1850, \\\"y\\\": 10100000}, {\\\"x\\\": 1600, \\\"y\\\": 5500000}, {\\\"x\\\": 1250, \\\"y\\\": 4800000}, {\\\"x\\\": 1050, \\\"y\\\": 4500000}, {\\\"x\\\": 1900, \\\"y\\\": 8000000}, {\\\"x\\\": 1150, \\\"y\\\": 3800000}, {\\\"x\\\": 1700, \\\"y\\\": 8000000}, {\\\"x\\\": 1765, \\\"y\\\": 13500000}, {\\\"x\\\": 1050, \\\"y\\\": 3000000}, {\\\"x\\\": 1050, \\\"y\\\": 3200000}, {\\\"x\\\": 1750, \\\"y\\\": 6000000}, {\\\"x\\\": 1150, \\\"y\\\": 3400000}, {\\\"x\\\": 990, \\\"y\\\": 7000000}, {\\\"x\\\": 1150, \\\"y\\\": 5000000}, {\\\"x\\\": 2400, \\\"y\\\": 22000000}, {\\\"x\\\": 1200, \\\"y\\\": 5280000}, {\\\"x\\\": 1060, \\\"y\\\": 5500000}, {\\\"x\\\": 1160, \\\"y\\\": 5100000}, {\\\"x\\\": 1165, \\\"y\\\": 4500000}, {\\\"x\\\": 1278, \\\"y\\\": 6000000}, {\\\"x\\\": 2021, \\\"y\\\": 8000000}, {\\\"x\\\": 1765, \\\"y\\\": 13500000}, {\\\"x\\\": 2021, \\\"y\\\": 8000000}, {\\\"x\\\": 1005, \\\"y\\\": 2700000}, {\\\"x\\\": 3180, \\\"y\\\": 34000000}, {\\\"x\\\": 3180, \\\"y\\\": 34000000}, {\\\"x\\\": 1000, \\\"y\\\": 3300000}, {\\\"x\\\": 987, \\\"y\\\": 6900000}, {\\\"x\\\": 1075, \\\"y\\\": 3200000}, {\\\"x\\\": 600, \\\"y\\\": 2000000}, {\\\"x\\\": 1400, \\\"y\\\": 7000000}, {\\\"x\\\": 1300, \\\"y\\\": 4600000}, {\\\"x\\\": 1300, \\\"y\\\": 4600000}, {\\\"x\\\": 1490, \\\"y\\\": 7000000}, {\\\"x\\\": 1275, \\\"y\\\": 8599000}, {\\\"x\\\": 1096, \\\"y\\\": 3800000}, {\\\"x\\\": 1100, \\\"y\\\": 3740000}, {\\\"x\\\": 1000, \\\"y\\\": 3500000}, {\\\"x\\\": 1050, \\\"y\\\": 3570000}, {\\\"x\\\": 1100, \\\"y\\\": 3740000}, {\\\"x\\\": 1100, \\\"y\\\": 3740000}, {\\\"x\\\": 1450, \\\"y\\\": 3300000}, {\\\"x\\\": 1376, \\\"y\\\": 6742000}, {\\\"x\\\": 1972, \\\"y\\\": 9662000}, {\\\"x\\\": 1180, \\\"y\\\": 5782000}, {\\\"x\\\": 1554, \\\"y\\\": 7614000}, {\\\"x\\\": 1628, \\\"y\\\": 7977000}, {\\\"x\\\": 1274, \\\"y\\\": 6242000}, {\\\"x\\\": 1784, \\\"y\\\": 8741000}, {\\\"x\\\": 1788, \\\"y\\\": 8761000}, {\\\"x\\\": 1400, \\\"y\\\": 6859999}, {\\\"x\\\": 1966, \\\"y\\\": 9633000}, {\\\"x\\\": 1502, \\\"y\\\": 7359000}, {\\\"x\\\": 1707, \\\"y\\\": 8364000}, {\\\"x\\\": 1642, \\\"y\\\": 8045000}, {\\\"x\\\": 1487, \\\"y\\\": 7286000}, {\\\"x\\\": 1633, \\\"y\\\": 8001000}, {\\\"x\\\": 1800, \\\"y\\\": 8820000}, {\\\"x\\\": 1877, \\\"y\\\": 9197000}, {\\\"x\\\": 1524, \\\"y\\\": 7467000}, {\\\"x\\\": 1326, \\\"y\\\": 6497000}, {\\\"x\\\": 1465, \\\"y\\\": 7178000}, {\\\"x\\\": 1597, \\\"y\\\": 7825000}, {\\\"x\\\": 1265, \\\"y\\\": 9075000}, {\\\"x\\\": 1945, \\\"y\\\": 10100000}, {\\\"x\\\": 1435, \\\"y\\\": 7962000}, {\\\"x\\\": 1925, \\\"y\\\": 12700000}, {\\\"x\\\": 1265, \\\"y\\\": 9075000}, {\\\"x\\\": 1905, \\\"y\\\": 10700000}, {\\\"x\\\": 1090, \\\"y\\\": 6168000}, {\\\"x\\\": 1230, \\\"y\\\": 6895999}, {\\\"x\\\": 1920, \\\"y\\\": 10700000}, {\\\"x\\\": 1905, \\\"y\\\": 10700000}, {\\\"x\\\": 1170, \\\"y\\\": 6233000}, {\\\"x\\\": 1385, \\\"y\\\": 8800000}, {\\\"x\\\": 1390, \\\"y\\\": 8998000}, {\\\"x\\\": 1282, \\\"y\\\": 7998999}, {\\\"x\\\": 1020, \\\"y\\\": 4284000}, {\\\"x\\\": 1935, \\\"y\\\": 10000000}, {\\\"x\\\": 1090, \\\"y\\\": 7098999}, {\\\"x\\\": 1630, \\\"y\\\": 9828000}, {\\\"x\\\": 1695, \\\"y\\\": 10900000}, {\\\"x\\\": 1282, \\\"y\\\": 7998999}, {\\\"x\\\": 1390, \\\"y\\\": 8998000}, {\\\"x\\\": 1385, \\\"y\\\": 8800000}, {\\\"x\\\": 1385, \\\"y\\\": 8800000}, {\\\"x\\\": 1080, \\\"y\\\": 3500000}, {\\\"x\\\": 1045, \\\"y\\\": 3300000}, {\\\"x\\\": 1100, \\\"y\\\": 3200000}, {\\\"x\\\": 1090, \\\"y\\\": 7317000}, {\\\"x\\\": 1700, \\\"y\\\": 10900000}, {\\\"x\\\": 1730, \\\"y\\\": 11100000}, {\\\"x\\\": 1700, \\\"y\\\": 10900000}, {\\\"x\\\": 1050, \\\"y\\\": 4600000}, {\\\"x\\\": 2400, \\\"y\\\": 15000000}, {\\\"x\\\": 1214, \\\"y\\\": 5500000}, {\\\"x\\\": 1080, \\\"y\\\": 3500000}, {\\\"x\\\": 1090, \\\"y\\\": 7317000}, {\\\"x\\\": 1840, \\\"y\\\": 11800000}, {\\\"x\\\": 1620, \\\"y\\\": 8098000}, {\\\"x\\\": 1125, \\\"y\\\": 5623000}, {\\\"x\\\": 1368, \\\"y\\\": 6838000}, {\\\"x\\\": 2115, \\\"y\\\": 10500000}, {\\\"x\\\": 1695, \\\"y\\\": 11200000}, {\\\"x\\\": 1125, \\\"y\\\": 3375000}, {\\\"x\\\": 1170, \\\"y\\\": 5500000}, {\\\"x\\\": 1200, \\\"y\\\": 4200000}, {\\\"x\\\": 902, \\\"y\\\": 4700000}, {\\\"x\\\": 1695, \\\"y\\\": 10600000}, {\\\"x\\\": 1200, \\\"y\\\": 6500000}, {\\\"x\\\": 1100, \\\"y\\\": 3600000}, {\\\"x\\\": 1035, \\\"y\\\": 3300000}, {\\\"x\\\": 1025, \\\"y\\\": 3300000}, {\\\"x\\\": 1490, \\\"y\\\": 8100000}, {\\\"x\\\": 1130, \\\"y\\\": 4500000}, {\\\"x\\\": 1480, \\\"y\\\": 8900000}, {\\\"x\\\": 1050, \\\"y\\\": 4710000}, {\\\"x\\\": 1510, \\\"y\\\": 8100000}, {\\\"x\\\": 1925, \\\"y\\\": 12700000}, {\\\"x\\\": 1525, \\\"y\\\": 8700000}, {\\\"x\\\": 1523, \\\"y\\\": 6300000}, {\\\"x\\\": 1200, \\\"y\\\": 6700000}, {\\\"x\\\": 3233, \\\"y\\\": 45000000}, {\\\"x\\\": 1620, \\\"y\\\": 5000000}, {\\\"x\\\": 1500, \\\"y\\\": 10000000}, {\\\"x\\\": 1650, \\\"y\\\": 7500000}, {\\\"x\\\": 1908, \\\"y\\\": 15000000}, {\\\"x\\\": 1130, \\\"y\\\": 4500000}, {\\\"x\\\": 1480, \\\"y\\\": 8900000}, {\\\"x\\\": 1050, \\\"y\\\": 4710000}, {\\\"x\\\": 1548, \\\"y\\\": 8500000}, {\\\"x\\\": 1725, \\\"y\\\": 5499000}, {\\\"x\\\": 1500, \\\"y\\\": 7500000}, {\\\"x\\\": 1430, \\\"y\\\": 8500000}, {\\\"x\\\": 1050, \\\"y\\\": 3200000}, {\\\"x\\\": 1294, \\\"y\\\": 3828000}, {\\\"x\\\": 1050, \\\"y\\\": 3200000}, {\\\"x\\\": 1100, \\\"y\\\": 3200000}, {\\\"x\\\": 1080, \\\"y\\\": 3500000}, {\\\"x\\\": 1100, \\\"y\\\": 3600000}, {\\\"x\\\": 1025, \\\"y\\\": 3300000}, {\\\"x\\\": 1035, \\\"y\\\": 3299000}, {\\\"x\\\": 1085, \\\"y\\\": 3500000}, {\\\"x\\\": 1480, \\\"y\\\": 6500000}, {\\\"x\\\": 1100, \\\"y\\\": 3600000}, {\\\"x\\\": 1920, \\\"y\\\": 10700000}, {\\\"x\\\": 1190, \\\"y\\\": 8573000}, {\\\"x\\\": 1080, \\\"y\\\": 3600000}, {\\\"x\\\": 1465, \\\"y\\\": 6300000}, {\\\"x\\\": 1190, \\\"y\\\": 8573000}, {\\\"x\\\": 1050, \\\"y\\\": 4600000}, {\\\"x\\\": 1538, \\\"y\\\": 8298999}, {\\\"x\\\": 1678, \\\"y\\\": 8800000}, {\\\"x\\\": 1678, \\\"y\\\": 8800000}, {\\\"x\\\": 1080, \\\"y\\\": 3600000}, {\\\"x\\\": 1080, \\\"y\\\": 3600000}, {\\\"x\\\": 1695, \\\"y\\\": 11200000}, {\\\"x\\\": 1700, \\\"y\\\": 13500000}, {\\\"x\\\": 1500, \\\"y\\\": 10000000}, {\\\"x\\\": 1650, \\\"y\\\": 7500000}, {\\\"x\\\": 1920, \\\"y\\\": 10700000}, {\\\"x\\\": 1190, \\\"y\\\": 8573000}, {\\\"x\\\": 1130, \\\"y\\\": 4500000}, {\\\"x\\\": 1480, \\\"y\\\": 8900000}, {\\\"x\\\": 2000, \\\"y\\\": 10000000}, {\\\"x\\\": 1050, \\\"y\\\": 4710000}, {\\\"x\\\": 1170, \\\"y\\\": 5500000}, {\\\"x\\\": 1548, \\\"y\\\": 8500000}, {\\\"x\\\": 1725, \\\"y\\\": 5499000}, {\\\"x\\\": 1500, \\\"y\\\": 7500000}, {\\\"x\\\": 1430, \\\"y\\\": 8500000}, {\\\"x\\\": 1045, \\\"y\\\": 3300000}, {\\\"x\\\": 1035, \\\"y\\\": 3300000}, {\\\"x\\\": 1025, \\\"y\\\": 3300000}, {\\\"x\\\": 1080, \\\"y\\\": 3500000}, {\\\"x\\\": 1080, \\\"y\\\": 3500000}, {\\\"x\\\": 1035, \\\"y\\\": 3299000}, {\\\"x\\\": 1085, \\\"y\\\": 3500000}, {\\\"x\\\": 1480, \\\"y\\\": 6500000}, {\\\"x\\\": 1100, \\\"y\\\": 3600000}, {\\\"x\\\": 1045, \\\"y\\\": 3300000}, {\\\"x\\\": 1035, \\\"y\\\": 3300000}, {\\\"x\\\": 1025, \\\"y\\\": 3300000}, {\\\"x\\\": 1525, \\\"y\\\": 8500000}, {\\\"x\\\": 1080, \\\"y\\\": 3500000}, {\\\"x\\\": 1730, \\\"y\\\": 11399999}, {\\\"x\\\": 1361, \\\"y\\\": 6500000}, {\\\"x\\\": 1265, \\\"y\\\": 9075000}, {\\\"x\\\": 1555, \\\"y\\\": 6600000}, {\\\"x\\\": 1200, \\\"y\\\": 6500000}, {\\\"x\\\": 1681, \\\"y\\\": 10200000}, {\\\"x\\\": 1250, \\\"y\\\": 7500000}, {\\\"x\\\": 1050, \\\"y\\\": 4500000}, {\\\"x\\\": 1700, \\\"y\\\": 11000000}, {\\\"x\\\": 1555, \\\"y\\\": 6600000}, {\\\"x\\\": 1170, \\\"y\\\": 6233000}, {\\\"x\\\": 1620, \\\"y\\\": 5000000}, {\\\"x\\\": 607, \\\"y\\\": 3000000}, {\\\"x\\\": 990, \\\"y\\\": 8000000}, {\\\"x\\\": 1000, \\\"y\\\": 4000000}, {\\\"x\\\": 1565, \\\"y\\\": 6200000}, {\\\"x\\\": 1630, \\\"y\\\": 11000000}, {\\\"x\\\": 1100, \\\"y\\\": 3700000}, {\\\"x\\\": 1100, \\\"y\\\": 3200000}, {\\\"x\\\": 1025, \\\"y\\\": 3300000}, {\\\"x\\\": 1080, \\\"y\\\": 3500000}, {\\\"x\\\": 1100, \\\"y\\\": 3600000}, {\\\"x\\\": 1100, \\\"y\\\": 3600000}, {\\\"x\\\": 1025, \\\"y\\\": 3300000}, {\\\"x\\\": 682, \\\"y\\\": 2700000}, {\\\"x\\\": 1245, \\\"y\\\": 7498999}, {\\\"x\\\": 1500, \\\"y\\\": 8500000}, {\\\"x\\\": 900, \\\"y\\\": 3000000}, {\\\"x\\\": 1320, \\\"y\\\": 6800000}, {\\\"x\\\": 1530, \\\"y\\\": 7500000}, {\\\"x\\\": 1190, \\\"y\\\": 8573000}, {\\\"x\\\": 1695, \\\"y\\\": 10600000}, {\\\"x\\\": 1200, \\\"y\\\": 6500000}, {\\\"x\\\": 1080, \\\"y\\\": 3500000}, {\\\"x\\\": 1080, \\\"y\\\": 3500000}, {\\\"x\\\": 1080, \\\"y\\\": 3500000}, {\\\"x\\\": 1100, \\\"y\\\": 3600000}, {\\\"x\\\": 1035, \\\"y\\\": 3300000}, {\\\"x\\\": 1025, \\\"y\\\": 3300000}, {\\\"x\\\": 1490, \\\"y\\\": 8100000}, {\\\"x\\\": 1539, \\\"y\\\": 8998000}, {\\\"x\\\": 1641, \\\"y\\\": 7900000}, {\\\"x\\\": 1640, \\\"y\\\": 7900000}, {\\\"x\\\": 1402, \\\"y\\\": 6700000}, {\\\"x\\\": 1401, \\\"y\\\": 6700000}, {\\\"x\\\": 1925, \\\"y\\\": 12700000}, {\\\"x\\\": 1050, \\\"y\\\": 4600000}, {\\\"x\\\": 1555, \\\"y\\\": 6600000}, {\\\"x\\\": 1008, \\\"y\\\": 3800000}, {\\\"x\\\": 1080, \\\"y\\\": 3500000}, {\\\"x\\\": 1080, \\\"y\\\": 3500000}, {\\\"x\\\": 1230, \\\"y\\\": 6895999}, {\\\"x\\\": 1050, \\\"y\\\": 4600000}, {\\\"x\\\": 1925, \\\"y\\\": 12700000}, {\\\"x\\\": 1525, \\\"y\\\": 8700000}, {\\\"x\\\": 1523, \\\"y\\\": 6300000}, {\\\"x\\\": 1200, \\\"y\\\": 6700000}, {\\\"x\\\": 3233, \\\"y\\\": 45000000}, {\\\"x\\\": 1350, \\\"y\\\": 8200000}, {\\\"x\\\": 1188, \\\"y\\\": 14000000}, {\\\"x\\\": 1199, \\\"y\\\": 6200000}, {\\\"x\\\": 1538, \\\"y\\\": 8600000}, {\\\"x\\\": 1730, \\\"y\\\": 11399999}, {\\\"x\\\": 1080, \\\"y\\\": 3600000}, {\\\"x\\\": 1080, \\\"y\\\": 3600000}, {\\\"x\\\": 1045, \\\"y\\\": 3300000}, {\\\"x\\\": 1035, \\\"y\\\": 3300000}, {\\\"x\\\": 1025, \\\"y\\\": 3300000}, {\\\"x\\\": 1525, \\\"y\\\": 8500000}, {\\\"x\\\": 1080, \\\"y\\\": 3500000}, {\\\"x\\\": 1115, \\\"y\\\": 8070000}, {\\\"x\\\": 1090, \\\"y\\\": 7317000}, {\\\"x\\\": 3233, \\\"y\\\": 45000000}, {\\\"x\\\": 1080, \\\"y\\\": 3500000}, {\\\"x\\\": 1568, \\\"y\\\": 9000000}, {\\\"x\\\": 1568, \\\"y\\\": 9000000}, {\\\"x\\\": 1568, \\\"y\\\": 9000000}, {\\\"x\\\": 1794, \\\"y\\\": 10100000}, {\\\"x\\\": 1794, \\\"y\\\": 10100000}, {\\\"x\\\": 1350, \\\"y\\\": 8200000}, {\\\"x\\\": 1525, \\\"y\\\": 8500000}, {\\\"x\\\": 1530, \\\"y\\\": 7800000}, {\\\"x\\\": 1953, \\\"y\\\": 14600000}, {\\\"x\\\": 3434, \\\"y\\\": 26000000}, {\\\"x\\\": 1580, \\\"y\\\": 9800000}, {\\\"x\\\": 1815, \\\"y\\\": 10600000}, {\\\"x\\\": 1935, \\\"y\\\": 10000000}, {\\\"x\\\": 1905, \\\"y\\\": 9906000}, {\\\"x\\\": 1695, \\\"y\\\": 10900000}, {\\\"x\\\": 1090, \\\"y\\\": 7098999}, {\\\"x\\\": 1555, \\\"y\\\": 5909000}, {\\\"x\\\": 1265, \\\"y\\\": 7843000}, {\\\"x\\\": 1490, \\\"y\\\": 8100000}, {\\\"x\\\": 1115, \\\"y\\\": 7581999}, {\\\"x\\\": 1555, \\\"y\\\": 6600000}, {\\\"x\\\": 1390, \\\"y\\\": 9000000}, {\\\"x\\\": 1799, \\\"y\\\": 10100000}, {\\\"x\\\": 1799, \\\"y\\\": 10100000}, {\\\"x\\\": 1799, \\\"y\\\": 10100000}, {\\\"x\\\": 1638, \\\"y\\\": 9298000}, {\\\"x\\\": 1638, \\\"y\\\": 9300000}, {\\\"x\\\": 1638, \\\"y\\\": 9300000}, {\\\"x\\\": 1794, \\\"y\\\": 10100000}, {\\\"x\\\": 1230, \\\"y\\\": 6895999}, {\\\"x\\\": 1200, \\\"y\\\": 3850000}, {\\\"x\\\": 1200, \\\"y\\\": 3200000}, {\\\"x\\\": 2000, \\\"y\\\": 10000000}, {\\\"x\\\": 1170, \\\"y\\\": 6233000}, {\\\"x\\\": 682, \\\"y\\\": 2700000}, {\\\"x\\\": 1245, \\\"y\\\": 7498999}, {\\\"x\\\": 1530, \\\"y\\\": 7500000}, {\\\"x\\\": 1568, \\\"y\\\": 9000000}, {\\\"x\\\": 1390, \\\"y\\\": 9000000}, {\\\"x\\\": 1282, \\\"y\\\": 8000000}, {\\\"x\\\": 1282, \\\"y\\\": 8000000}, {\\\"x\\\": 1282, \\\"y\\\": 8000000}, {\\\"x\\\": 1390, \\\"y\\\": 9000000}, {\\\"x\\\": 1282, \\\"y\\\": 8000000}, {\\\"x\\\": 1282, \\\"y\\\": 8000000}, {\\\"x\\\": 1282, \\\"y\\\": 8000000}, {\\\"x\\\": 1214, \\\"y\\\": 7100000}, {\\\"x\\\": 1390, \\\"y\\\": 9000000}, {\\\"x\\\": 1392, \\\"y\\\": 8000000}, {\\\"x\\\": 1392, \\\"y\\\": 8000000}, {\\\"x\\\": 1390, \\\"y\\\": 9000000}, {\\\"x\\\": 1282, \\\"y\\\": 7998999}, {\\\"x\\\": 1020, \\\"y\\\": 5800000}, {\\\"x\\\": 905, \\\"y\\\": 4800000}, {\\\"x\\\": 1730, \\\"y\\\": 11399999}, {\\\"x\\\": 1925, \\\"y\\\": 12600000}, {\\\"x\\\": 1925, \\\"y\\\": 12600000}, {\\\"x\\\": 1925, \\\"y\\\": 12600000}, {\\\"x\\\": 1265, \\\"y\\\": 9075000}, {\\\"x\\\": 1465, \\\"y\\\": 6300000}, {\\\"x\\\": 1050, \\\"y\\\": 4500000}, {\\\"x\\\": 1430, \\\"y\\\": 9400000}, {\\\"x\\\": 1430, \\\"y\\\": 9400000}, {\\\"x\\\": 1430, \\\"y\\\": 9400000}, {\\\"x\\\": 1430, \\\"y\\\": 9400000}, {\\\"x\\\": 1385, \\\"y\\\": 8798000}, {\\\"x\\\": 1525, \\\"y\\\": 8500000}, {\\\"x\\\": 1799, \\\"y\\\": 10100000}, {\\\"x\\\": 1799, \\\"y\\\": 10100000}, {\\\"x\\\": 1799, \\\"y\\\": 10100000}, {\\\"x\\\": 1638, \\\"y\\\": 9298000}, {\\\"x\\\": 1638, \\\"y\\\": 9300000}, {\\\"x\\\": 1638, \\\"y\\\": 9300000}, {\\\"x\\\": 1794, \\\"y\\\": 10100000}, {\\\"x\\\": 1568, \\\"y\\\": 9000000}, {\\\"x\\\": 1568, \\\"y\\\": 9000000}, {\\\"x\\\": 1568, \\\"y\\\": 9000000}, {\\\"x\\\": 1794, \\\"y\\\": 10100000}, {\\\"x\\\": 1100, \\\"y\\\": 6000000}, {\\\"x\\\": 3266, \\\"y\\\": 21700000}, {\\\"x\\\": 1200, \\\"y\\\": 5200000}, {\\\"x\\\": 1555, \\\"y\\\": 6600000}, {\\\"x\\\": 1620, \\\"y\\\": 4900000}, {\\\"x\\\": 1125, \\\"y\\\": 3375000}, {\\\"x\\\": 1100, \\\"y\\\": 3315000}, {\\\"x\\\": 1050, \\\"y\\\": 4600000}, {\\\"x\\\": 1080, \\\"y\\\": 3500000}, {\\\"x\\\": 1090, \\\"y\\\": 7317000}, {\\\"x\\\": 1380, \\\"y\\\": 6600000}, {\\\"x\\\": 1510, \\\"y\\\": 11000000}, {\\\"x\\\": 1652, \\\"y\\\": 9581000}, {\\\"x\\\": 3147, \\\"y\\\": 26100000}, {\\\"x\\\": 3090, \\\"y\\\": 25600000}, {\\\"x\\\": 3044, \\\"y\\\": 25200000}, {\\\"x\\\": 2051, \\\"y\\\": 17000000}, {\\\"x\\\": 3498, \\\"y\\\": 29000000}, {\\\"x\\\": 3101, \\\"y\\\": 25700000}, {\\\"x\\\": 3049, \\\"y\\\": 25299999}, {\\\"x\\\": 1738, \\\"y\\\": 14400000}, {\\\"x\\\": 1355, \\\"y\\\": 11200000}, {\\\"x\\\": 1334, \\\"y\\\": 11000000}, {\\\"x\\\": 1346, \\\"y\\\": 11100000}, {\\\"x\\\": 1327, \\\"y\\\": 11000000}, {\\\"x\\\": 1652, \\\"y\\\": 9581000}, {\\\"x\\\": 1473, \\\"y\\\": 9942000}, {\\\"x\\\": 2607, \\\"y\\\": 17500000}, {\\\"x\\\": 2800, \\\"y\\\": 18900000}, {\\\"x\\\": 2192, \\\"y\\\": 14700000}, {\\\"x\\\": 2815, \\\"y\\\": 19000000}, {\\\"x\\\": 2452, \\\"y\\\": 16500000}, {\\\"x\\\": 2191, \\\"y\\\": 14700000}, {\\\"x\\\": 2813, \\\"y\\\": 18900000}, {\\\"x\\\": 1290, \\\"y\\\": 8707000}, {\\\"x\\\": 1300, \\\"y\\\": 8775000}, {\\\"x\\\": 1368, \\\"y\\\": 9234000}, {\\\"x\\\": 1550, \\\"y\\\": 8000000}, {\\\"x\\\": 1550, \\\"y\\\": 6509999}, {\\\"x\\\": 2049, \\\"y\\\": 23000000}, {\\\"x\\\": 3494, \\\"y\\\": 29000000}, {\\\"x\\\": 1336, \\\"y\\\": 11000000}, {\\\"x\\\": 1850, \\\"y\\\": 12400000}, {\\\"x\\\": 1500, \\\"y\\\": 10100000}, {\\\"x\\\": 1620, \\\"y\\\": 7500000}, {\\\"x\\\": 1200, \\\"y\\\": 6200000}, {\\\"x\\\": 2700, \\\"y\\\": 17500000}, {\\\"x\\\": 3600, \\\"y\\\": 29000000}, {\\\"x\\\": 1530, \\\"y\\\": 8700000}, {\\\"x\\\": 1265, \\\"y\\\": 6956999}, {\\\"x\\\": 1260, \\\"y\\\": 6676000}, {\\\"x\\\": 1695, \\\"y\\\": 9066000}, {\\\"x\\\": 1860, \\\"y\\\": 9949000}, {\\\"x\\\": 1520, \\\"y\\\": 7600000}, {\\\"x\\\": 1655, \\\"y\\\": 8275000}, {\\\"x\\\": 1665, \\\"y\\\": 8325000}, {\\\"x\\\": 1755, \\\"y\\\": 9126000}, {\\\"x\\\": 1765, \\\"y\\\": 8825000}, {\\\"x\\\": 1940, \\\"y\\\": 10000000}, {\\\"x\\\": 1260, \\\"y\\\": 7243000}, {\\\"x\\\": 1695, \\\"y\\\": 11000000}, {\\\"x\\\": 1860, \\\"y\\\": 10600000}, {\\\"x\\\": 1313, \\\"y\\\": 5514000}, {\\\"x\\\": 1256, \\\"y\\\": 5275000}, {\\\"x\\\": 1150, \\\"y\\\": 4830000}, {\\\"x\\\": 1495, \\\"y\\\": 12000000}, {\\\"x\\\": 1500, \\\"y\\\": 12000000}, {\\\"x\\\": 1685, \\\"y\\\": 13500000}, {\\\"x\\\": 1895, \\\"y\\\": 10400000}, {\\\"x\\\": 1780, \\\"y\\\": 14200000}, {\\\"x\\\": 1785, \\\"y\\\": 14300000}, {\\\"x\\\": 1265, \\\"y\\\": 6323000}, {\\\"x\\\": 1270, \\\"y\\\": 6348000}, {\\\"x\\\": 1511, \\\"y\\\": 7553000}, {\\\"x\\\": 1270, \\\"y\\\": 6348000}, {\\\"x\\\": 1665, \\\"y\\\": 8323000}, {\\\"x\\\": 1265, \\\"y\\\": 7272000}, {\\\"x\\\": 1430, \\\"y\\\": 7150000}, {\\\"x\\\": 1610, \\\"y\\\": 8050000}, {\\\"x\\\": 1320, \\\"y\\\": 6600000}, {\\\"x\\\": 1435, \\\"y\\\": 7175000}, {\\\"x\\\": 1510, \\\"y\\\": 7550000}, {\\\"x\\\": 1270, \\\"y\\\": 7301000}, {\\\"x\\\": 1511, \\\"y\\\": 8686000}, {\\\"x\\\": 1270, \\\"y\\\": 7301000}, {\\\"x\\\": 1665, \\\"y\\\": 9571000}, {\\\"x\\\": 1280, \\\"y\\\": 5376000}, {\\\"x\\\": 1278, \\\"y\\\": 5367000}, {\\\"x\\\": 1230, \\\"y\\\": 5166000}, {\\\"x\\\": 1503, \\\"y\\\": 6312000}, {\\\"x\\\": 1585, \\\"y\\\": 6656999}, {\\\"x\\\": 1189, \\\"y\\\": 4993000}, {\\\"x\\\": 1209, \\\"y\\\": 5077000}, {\\\"x\\\": 1279, \\\"y\\\": 5371000}, {\\\"x\\\": 1311, \\\"y\\\": 5506000}, {\\\"x\\\": 1405, \\\"y\\\": 5901000}, {\\\"x\\\": 1495, \\\"y\\\": 6279000}, {\\\"x\\\": 1953, \\\"y\\\": 8202000}, {\\\"x\\\": 1627, \\\"y\\\": 6833000}, {\\\"x\\\": 1778, \\\"y\\\": 7467000}, {\\\"x\\\": 1970, \\\"y\\\": 8273999}, {\\\"x\\\": 1900, \\\"y\\\": 7980000}, {\\\"x\\\": 1971, \\\"y\\\": 8278000}, {\\\"x\\\": 1846, \\\"y\\\": 7753000}, {\\\"x\\\": 1804, \\\"y\\\": 7576000}, {\\\"x\\\": 1550, \\\"y\\\": 6509999}, {\\\"x\\\": 1559, \\\"y\\\": 6547000}, {\\\"x\\\": 1629, \\\"y\\\": 6841000}, {\\\"x\\\": 1752, \\\"y\\\": 7358000}, {\\\"x\\\": 1808, \\\"y\\\": 7593000}, {\\\"x\\\": 1986, \\\"y\\\": 8341000}, {\\\"x\\\": 1605, \\\"y\\\": 6741000}, {\\\"x\\\": 1715, \\\"y\\\": 7203000}, {\\\"x\\\": 1826, \\\"y\\\": 7669000}, {\\\"x\\\": 1995, \\\"y\\\": 8379000}, {\\\"x\\\": 1996, \\\"y\\\": 8383000}, {\\\"x\\\": 1655, \\\"y\\\": 10200000}, {\\\"x\\\": 1020, \\\"y\\\": 4284000}, {\\\"x\\\": 1160, \\\"y\\\": 4640000}, {\\\"x\\\": 5200, \\\"y\\\": 59600000}, {\\\"x\\\": 2250, \\\"y\\\": 12500000}, {\\\"x\\\": 1160, \\\"y\\\": 4640000}, {\\\"x\\\": 1990, \\\"y\\\": 12600000}, {\\\"x\\\": 1585, \\\"y\\\": 6340000}, {\\\"x\\\": 1165, \\\"y\\\": 4660000}, {\\\"x\\\": 550, \\\"y\\\": 2200000}, {\\\"x\\\": 550, \\\"y\\\": 2200000}, {\\\"x\\\": 1260, \\\"y\\\": 5500000}, {\\\"x\\\": 1105, \\\"y\\\": 3700000}, {\\\"x\\\": 1105, \\\"y\\\": 3700000}, {\\\"x\\\": 2080, \\\"y\\\": 14500000}, {\\\"x\\\": 1235, \\\"y\\\": 4993000}, {\\\"x\\\": 2260, \\\"y\\\": 17000000}, {\\\"x\\\": 2015, \\\"y\\\": 15000000}, {\\\"x\\\": 2015, \\\"y\\\": 15000000}, {\\\"x\\\": 1700, \\\"y\\\": 12000000}, {\\\"x\\\": 1265, \\\"y\\\": 9300000}, {\\\"x\\\": 4650, \\\"y\\\": 45000000}, {\\\"x\\\": 1742, \\\"y\\\": 13700000}, {\\\"x\\\": 2300, \\\"y\\\": 12500000}, {\\\"x\\\": 1110, \\\"y\\\": 3700000}, {\\\"x\\\": 1110, \\\"y\\\": 4300000}, {\\\"x\\\": 1050, \\\"y\\\": 4800000}, {\\\"x\\\": 1050, \\\"y\\\": 4850000}, {\\\"x\\\": 1505, \\\"y\\\": 8426000}, {\\\"x\\\": 2026, \\\"y\\\": 11299999}, {\\\"x\\\": 1640, \\\"y\\\": 8000000}, {\\\"x\\\": 1650, \\\"y\\\": 8200000}, {\\\"x\\\": 1880, \\\"y\\\": 10500000}, {\\\"x\\\": 1216, \\\"y\\\": 8200000}, {\\\"x\\\": 2026, \\\"y\\\": 11500000}, {\\\"x\\\": 1585, \\\"y\\\": 6340000}, {\\\"x\\\": 2015, \\\"y\\\": 15000000}, {\\\"x\\\": 2500, \\\"y\\\": 19000000}, {\\\"x\\\": 2771, \\\"y\\\": 13000000}, {\\\"x\\\": 1895, \\\"y\\\": 16900000}, {\\\"x\\\": 1500, \\\"y\\\": 14900000}, {\\\"x\\\": 2595, \\\"y\\\": 26900000}, {\\\"x\\\": 2250, \\\"y\\\": 23000000}, {\\\"x\\\": 2060, \\\"y\\\": 14400000}, {\\\"x\\\": 1880, \\\"y\\\": 17600000}, {\\\"x\\\": 1620, \\\"y\\\": 9500000}, {\\\"x\\\": 1620, \\\"y\\\": 9499000}, {\\\"x\\\": 2250, \\\"y\\\": 23000000}, {\\\"x\\\": 2060, \\\"y\\\": 14400000}, {\\\"x\\\": 1390, \\\"y\\\": 9728000}, {\\\"x\\\": 1255, \\\"y\\\": 6623000}, {\\\"x\\\": 2285, \\\"y\\\": 12300000}, {\\\"x\\\": 1993, \\\"y\\\": 17600000}, {\\\"x\\\": 2282, \\\"y\\\": 12300000}, {\\\"x\\\": 1384, \\\"y\\\": 9254000}, {\\\"x\\\": 1880, \\\"y\\\": 10500000}, {\\\"x\\\": 1874, \\\"y\\\": 11100000}, {\\\"x\\\": 1165, \\\"y\\\": 4660000}, {\\\"x\\\": 2000, \\\"y\\\": 8500000}, {\\\"x\\\": 1820, \\\"y\\\": 7280000}, {\\\"x\\\": 4160, \\\"y\\\": 35000000}, {\\\"x\\\": 1020, \\\"y\\\": 5300000}, {\\\"x\\\": 1430, \\\"y\\\": 5720000}, {\\\"x\\\": 1360, \\\"y\\\": 9000000}, {\\\"x\\\": 1125, \\\"y\\\": 3600000}, {\\\"x\\\": 1430, \\\"y\\\": 5720000}, {\\\"x\\\": 3044, \\\"y\\\": 23000000}, {\\\"x\\\": 3101, \\\"y\\\": 23000000}, {\\\"x\\\": 3147, \\\"y\\\": 23600000}, {\\\"x\\\": 3090, \\\"y\\\": 23000000}, {\\\"x\\\": 1139, \\\"y\\\": 3800000}, {\\\"x\\\": 1560, \\\"y\\\": 8800000}, {\\\"x\\\": 1880, \\\"y\\\": 10200000}, {\\\"x\\\": 1687, \\\"y\\\": 9278000}, {\\\"x\\\": 770, \\\"y\\\": 2800000}, {\\\"x\\\": 1257, \\\"y\\\": 6800000}, {\\\"x\\\": 2225, \\\"y\\\": 11100000}, {\\\"x\\\": 2170, \\\"y\\\": 10800000}, {\\\"x\\\": 1425, \\\"y\\\": 7125000}, {\\\"x\\\": 2025, \\\"y\\\": 10100000}, {\\\"x\\\": 1410, \\\"y\\\": 7755000}, {\\\"x\\\": 2160, \\\"y\\\": 11800000}, {\\\"x\\\": 1905, \\\"y\\\": 10400000}, {\\\"x\\\": 2665, \\\"y\\\": 14600000}, {\\\"x\\\": 2400, \\\"y\\\": 13200000}, {\\\"x\\\": 1395, \\\"y\\\": 7672000}, {\\\"x\\\": 1945, \\\"y\\\": 12600000}, {\\\"x\\\": 1945, \\\"y\\\": 12600000}, {\\\"x\\\": 1945, \\\"y\\\": 12600000}, {\\\"x\\\": 1680, \\\"y\\\": 10900000}, {\\\"x\\\": 1680, \\\"y\\\": 10900000}, {\\\"x\\\": 1270, \\\"y\\\": 8255000}, {\\\"x\\\": 1270, \\\"y\\\": 8255000}, {\\\"x\\\": 1270, \\\"y\\\": 8255000}, {\\\"x\\\": 1480, \\\"y\\\": 9620000}, {\\\"x\\\": 3000, \\\"y\\\": 9900000}, {\\\"x\\\": 1225, \\\"y\\\": 4800000}, {\\\"x\\\": 2026, \\\"y\\\": 11200000}, {\\\"x\\\": 1525, \\\"y\\\": 7900000}, {\\\"x\\\": 1265, \\\"y\\\": 5692000}, {\\\"x\\\": 1640, \\\"y\\\": 10500000}, {\\\"x\\\": 1360, \\\"y\\\": 8900000}, {\\\"x\\\": 1560, \\\"y\\\": 8600000}, {\\\"x\\\": 2026, \\\"y\\\": 11399999}, {\\\"x\\\": 1125, \\\"y\\\": 4161999}, {\\\"x\\\": 1515, \\\"y\\\": 6800000}, {\\\"x\\\": 1515, \\\"y\\\": 6800000}, {\\\"x\\\": 950, \\\"y\\\": 3300000}, {\\\"x\\\": 1515, \\\"y\\\": 6800000}, {\\\"x\\\": 1515, \\\"y\\\": 6800000}, {\\\"x\\\": 1820, \\\"y\\\": 7280000}, {\\\"x\\\": 1515, \\\"y\\\": 6800000}, {\\\"x\\\": 2026, \\\"y\\\": 11200000}, {\\\"x\\\": 1366, \\\"y\\\": 9000000}, {\\\"x\\\": 1146, \\\"y\\\": 4300000}, {\\\"x\\\": 1441, \\\"y\\\": 9400000}, {\\\"x\\\": 1360, \\\"y\\\": 8900000}, {\\\"x\\\": 3090, \\\"y\\\": 23000000}, {\\\"x\\\": 1000, \\\"y\\\": 2850000}, {\\\"x\\\": 2026, \\\"y\\\": 11200000}, {\\\"x\\\": 2026, \\\"y\\\": 11299999}, {\\\"x\\\": 1880, \\\"y\\\": 10500000}, {\\\"x\\\": 2026, \\\"y\\\": 11200000}, {\\\"x\\\": 1820, \\\"y\\\": 7280000}, {\\\"x\\\": 1125, \\\"y\\\": 3600000}, {\\\"x\\\": 1950, \\\"y\\\": 8383000}, {\\\"x\\\": 1951, \\\"y\\\": 8387000}, {\\\"x\\\": 1951, \\\"y\\\": 8387000}, {\\\"x\\\": 1441, \\\"y\\\": 9400000}, {\\\"x\\\": 1700, \\\"y\\\": 10500000}, {\\\"x\\\": 1700, \\\"y\\\": 10500000}, {\\\"x\\\": 1700, \\\"y\\\": 10500000}, {\\\"x\\\": 1700, \\\"y\\\": 10500000}, {\\\"x\\\": 1279, \\\"y\\\": 8400000}, {\\\"x\\\": 1570, \\\"y\\\": 8200000}, {\\\"x\\\": 1215, \\\"y\\\": 4600000}, {\\\"x\\\": 1050, \\\"y\\\": 4300000}, {\\\"x\\\": 1260, \\\"y\\\": 8800000}, {\\\"x\\\": 1515, \\\"y\\\": 6900000}, {\\\"x\\\": 1300, \\\"y\\\": 4810000}, {\\\"x\\\": 1700, \\\"y\\\": 10500000}, {\\\"x\\\": 3090, \\\"y\\\": 23000000}, {\\\"x\\\": 1274, \\\"y\\\": 8400000}, {\\\"x\\\": 1274, \\\"y\\\": 8400000}, {\\\"x\\\": 1400, \\\"y\\\": 7980000}, {\\\"x\\\": 1621, \\\"y\\\": 6500000}, {\\\"x\\\": 1800, \\\"y\\\": 10200000}, {\\\"x\\\": 1200, \\\"y\\\": 4800000}, {\\\"x\\\": 1400, \\\"y\\\": 4099000}, {\\\"x\\\": 1200, \\\"y\\\": 4800000}, {\\\"x\\\": 1155, \\\"y\\\": 4158000}, {\\\"x\\\": 1175, \\\"y\\\": 4239000}, {\\\"x\\\": 1128, \\\"y\\\": 4500000}, {\\\"x\\\": 1150, \\\"y\\\": 7000000}, {\\\"x\\\": 2026, \\\"y\\\": 11299999}, {\\\"x\\\": 1880, \\\"y\\\": 10500000}, {\\\"x\\\": 1880, \\\"y\\\": 10200000}, {\\\"x\\\": 1350, \\\"y\\\": 4000000}, {\\\"x\\\": 1155, \\\"y\\\": 4158000}, {\\\"x\\\": 1155, \\\"y\\\": 4158000}, {\\\"x\\\": 3090, \\\"y\\\": 23000000}, {\\\"x\\\": 3090, \\\"y\\\": 23000000}, {\\\"x\\\": 3090, \\\"y\\\": 23000000}, {\\\"x\\\": 1650, \\\"y\\\": 8150000}, {\\\"x\\\": 1650, \\\"y\\\": 8200000}, {\\\"x\\\": 1650, \\\"y\\\": 8200000}, {\\\"x\\\": 1650, \\\"y\\\": 8200000}, {\\\"x\\\": 1650, \\\"y\\\": 8200000}, {\\\"x\\\": 1650, \\\"y\\\": 8200000}, {\\\"x\\\": 1650, \\\"y\\\": 8200000}, {\\\"x\\\": 1235, \\\"y\\\": 4940000}, {\\\"x\\\": 1515, \\\"y\\\": 6800000}, {\\\"x\\\": 1650, \\\"y\\\": 8150000}, {\\\"x\\\": 1650, \\\"y\\\": 8150000}, {\\\"x\\\": 1650, \\\"y\\\": 8200000}, {\\\"x\\\": 1650, \\\"y\\\": 8200000}, {\\\"x\\\": 1650, \\\"y\\\": 8200000}, {\\\"x\\\": 1650, \\\"y\\\": 8200000}, {\\\"x\\\": 1650, \\\"y\\\": 8200000}, {\\\"x\\\": 1700, \\\"y\\\": 7500000}, {\\\"x\\\": 960, \\\"y\\\": 3500000}, {\\\"x\\\": 1155, \\\"y\\\": 4158000}, {\\\"x\\\": 1650, \\\"y\\\": 8150000}, {\\\"x\\\": 1650, \\\"y\\\": 8150000}, {\\\"x\\\": 1650, \\\"y\\\": 8200000}, {\\\"x\\\": 1175, \\\"y\\\": 4239000}, {\\\"x\\\": 1650, \\\"y\\\": 8200000}, {\\\"x\\\": 1175, \\\"y\\\": 4239000}, {\\\"x\\\": 1370, \\\"y\\\": 7000000}, {\\\"x\\\": 1216, \\\"y\\\": 8000000}, {\\\"x\\\": 1366, \\\"y\\\": 9000000}, {\\\"x\\\": 1216, \\\"y\\\": 8000000}, {\\\"x\\\": 1155, \\\"y\\\": 4158000}, {\\\"x\\\": 2026, \\\"y\\\": 11299999}, {\\\"x\\\": 1570, \\\"y\\\": 8000000}, {\\\"x\\\": 1950, \\\"y\\\": 8383000}, {\\\"x\\\": 1170, \\\"y\\\": 6786000}, {\\\"x\\\": 1515, \\\"y\\\": 6000000}, {\\\"x\\\": 1471, \\\"y\\\": 6323000}, {\\\"x\\\": 1470, \\\"y\\\": 6319000}, {\\\"x\\\": 1470, \\\"y\\\": 6319000}, {\\\"x\\\": 1955, \\\"y\\\": 8404000}, {\\\"x\\\": 1000, \\\"y\\\": 4500000}, {\\\"x\\\": 1515, \\\"y\\\": 6000000}, {\\\"x\\\": 1515, \\\"y\\\": 6000000}, {\\\"x\\\": 1274, \\\"y\\\": 8400000}, {\\\"x\\\": 2865, \\\"y\\\": 40000000}, {\\\"x\\\": 1090, \\\"y\\\": 7317000}, {\\\"x\\\": 2026, \\\"y\\\": 11200000}, {\\\"x\\\": 1515, \\\"y\\\": 6000000}, {\\\"x\\\": 950, \\\"y\\\": 6500000}, {\\\"x\\\": 1515, \\\"y\\\": 6000000}, {\\\"x\\\": 1515, \\\"y\\\": 6000000}, {\\\"x\\\": 1880, \\\"y\\\": 10500000}, {\\\"x\\\": 2220, \\\"y\\\": 15500000}, {\\\"x\\\": 1600, \\\"y\\\": 9120000}, {\\\"x\\\": 1201, \\\"y\\\": 4804000}, {\\\"x\\\": 1150, \\\"y\\\": 5000000}, {\\\"x\\\": 1155, \\\"y\\\": 4158000}, {\\\"x\\\": 1050, \\\"y\\\": 4600000}, {\\\"x\\\": 1555, \\\"y\\\": 6600000}, {\\\"x\\\": 2026, \\\"y\\\": 11200000}, {\\\"x\\\": 1880, \\\"y\\\": 10200000}, {\\\"x\\\": 1155, \\\"y\\\": 4158000}, {\\\"x\\\": 2380, \\\"y\\\": 21000000}, {\\\"x\\\": 1402, \\\"y\\\": 6000000}, {\\\"x\\\": 1515, \\\"y\\\": 6000000}, {\\\"x\\\": 1120, \\\"y\\\": 4500000}, {\\\"x\\\": 1279, \\\"y\\\": 8400000}, {\\\"x\\\": 1274, \\\"y\\\": 8400000}, {\\\"x\\\": 1155, \\\"y\\\": 4158000}, {\\\"x\\\": 1650, \\\"y\\\": 8000000}, {\\\"x\\\": 1515, \\\"y\\\": 6000000}, {\\\"x\\\": 1650, \\\"y\\\": 8000000}, {\\\"x\\\": 1687, \\\"y\\\": 9447000}, {\\\"x\\\": 800, \\\"y\\\": 3500000}, {\\\"x\\\": 1515, \\\"y\\\": 6000000}, {\\\"x\\\": 1515, \\\"y\\\": 6000000}, {\\\"x\\\": 1515, \\\"y\\\": 6000000}, {\\\"x\\\": 1441, \\\"y\\\": 9500000}, {\\\"x\\\": 1100, \\\"y\\\": 4070000}, {\\\"x\\\": 2150, \\\"y\\\": 13700000}, {\\\"x\\\": 1515, \\\"y\\\": 6000000}, {\\\"x\\\": 1515, \\\"y\\\": 6000000}, {\\\"x\\\": 1515, \\\"y\\\": 6000000}, {\\\"x\\\": 1515, \\\"y\\\": 6000000}, {\\\"x\\\": 1155, \\\"y\\\": 4158000}, {\\\"x\\\": 600, \\\"y\\\": 2300000}, {\\\"x\\\": 1650, \\\"y\\\": 8150000}, {\\\"x\\\": 1880, \\\"y\\\": 16000000}, {\\\"x\\\": 1360, \\\"y\\\": 8900000}, {\\\"x\\\": 1216, \\\"y\\\": 8000000}, {\\\"x\\\": 1538, \\\"y\\\": 8766000}, {\\\"x\\\": 1920, \\\"y\\\": 10700000}, {\\\"x\\\": 1190, \\\"y\\\": 8573000}, {\\\"x\\\": 2925, \\\"y\\\": 18400000}, {\\\"x\\\": 1650, \\\"y\\\": 8150000}, {\\\"x\\\": 2150, \\\"y\\\": 12400000}, {\\\"x\\\": 1695, \\\"y\\\": 11200000}, {\\\"x\\\": 2700, \\\"y\\\": 5999000}, {\\\"x\\\": 1250, \\\"y\\\": 6000000}, {\\\"x\\\": 1100, \\\"y\\\": 5600000}, {\\\"x\\\": 1003, \\\"y\\\": 3510000}, {\\\"x\\\": 1400, \\\"y\\\": 2800000}, {\\\"x\\\": 1400, \\\"y\\\": 2800000}, {\\\"x\\\": 5000, \\\"y\\\": 21000000}, {\\\"x\\\": 850, \\\"y\\\": 3500000}, {\\\"x\\\": 1800, \\\"y\\\": 8000000}, {\\\"x\\\": 1235, \\\"y\\\": 5187000}, {\\\"x\\\": 1515, \\\"y\\\": 6000000}, {\\\"x\\\": 750, \\\"y\\\": 2700000}, {\\\"x\\\": 1155, \\\"y\\\": 4158000}, {\\\"x\\\": 900, \\\"y\\\": 4000000}, {\\\"x\\\": 3300, \\\"y\\\": 35000000}, {\\\"x\\\": 1538, \\\"y\\\": 8000000}, {\\\"x\\\": 1195, \\\"y\\\": 6800000}, {\\\"x\\\": 1100, \\\"y\\\": 4179999}, {\\\"x\\\": 1650, \\\"y\\\": 8200000}, {\\\"x\\\": 1650, \\\"y\\\": 8200000}, {\\\"x\\\": 1214, \\\"y\\\": 4856000}, {\\\"x\\\": 1175, \\\"y\\\": 4230000}, {\\\"x\\\": 1155, \\\"y\\\": 4158000}, {\\\"x\\\": 1175, \\\"y\\\": 4236000}, {\\\"x\\\": 1175, \\\"y\\\": 4236000}, {\\\"x\\\": 1175, \\\"y\\\": 4236000}, {\\\"x\\\": 1028, \\\"y\\\": 5654000}, {\\\"x\\\": 1350, \\\"y\\\": 4000000}, {\\\"x\\\": 1050, \\\"y\\\": 3700000}, {\\\"x\\\": 1300, \\\"y\\\": 5600000}, {\\\"x\\\": 1500, \\\"y\\\": 3750000}, {\\\"x\\\": 1400, \\\"y\\\": 3500000}, {\\\"x\\\": 1130, \\\"y\\\": 4700000}, {\\\"x\\\": 1500, \\\"y\\\": 4600000}, {\\\"x\\\": 3000, \\\"y\\\": 30000000}, {\\\"x\\\": 1650, \\\"y\\\": 8100000}, {\\\"x\\\": 3498, \\\"y\\\": 29000000}, {\\\"x\\\": 1100, \\\"y\\\": 5500000}, {\\\"x\\\": 1200, \\\"y\\\": 4680000}, {\\\"x\\\": 1175, \\\"y\\\": 4230000}, {\\\"x\\\": 1620, \\\"y\\\": 8800000}, {\\\"x\\\": 1100, \\\"y\\\": 4200000}, {\\\"x\\\": 1205, \\\"y\\\": 5061000}, {\\\"x\\\": 1180, \\\"y\\\": 4600000}, {\\\"x\\\": 1591, \\\"y\\\": 10900000}, {\\\"x\\\": 1441, \\\"y\\\": 11000000}, {\\\"x\\\": 1050, \\\"y\\\": 3148000}, {\\\"x\\\": 1665, \\\"y\\\": 6325000}, {\\\"x\\\": 1250, \\\"y\\\": 4748000}, {\\\"x\\\": 1175, \\\"y\\\": 4230000}, {\\\"x\\\": 1256, \\\"y\\\": 5652000}, {\\\"x\\\": 1200, \\\"y\\\": 4680000}, {\\\"x\\\": 4320, \\\"y\\\": 38700000}, {\\\"x\\\": 1735, \\\"y\\\": 10000000}, {\\\"x\\\": 1150, \\\"y\\\": 6500000}, {\\\"x\\\": 1500, \\\"y\\\": 12400000}, {\\\"x\\\": 1175, \\\"y\\\": 4230000}, {\\\"x\\\": 1507, \\\"y\\\": 7800000}, {\\\"x\\\": 1412, \\\"y\\\": 8000000}, {\\\"x\\\": 2160, \\\"y\\\": 12500000}, {\\\"x\\\": 1500, \\\"y\\\": 10000000}, {\\\"x\\\": 1050, \\\"y\\\": 3500000}, {\\\"x\\\": 550, \\\"y\\\": 2310000}, {\\\"x\\\": 1220, \\\"y\\\": 7554000}, {\\\"x\\\": 1010, \\\"y\\\": 4542000}, {\\\"x\\\": 1090, \\\"y\\\": 7098999}, {\\\"x\\\": 1555, \\\"y\\\": 6931000}, {\\\"x\\\": 1885, \\\"y\\\": 11399999}, {\\\"x\\\": 1730, \\\"y\\\": 11100000}, {\\\"x\\\": 1155, \\\"y\\\": 4158000}, {\\\"x\\\": 1650, \\\"y\\\": 8150000}, {\\\"x\\\": 5000, \\\"y\\\": 40000000}, {\\\"x\\\": 600, \\\"y\\\": 2500000}, {\\\"x\\\": 1600, \\\"y\\\": 10500000}, {\\\"x\\\": 2800, \\\"y\\\": 19300000}, {\\\"x\\\": 2405, \\\"y\\\": 16500000}, {\\\"x\\\": 1000, \\\"y\\\": 2500000}, {\\\"x\\\": 1400, \\\"y\\\": 3500000}, {\\\"x\\\": 1330, \\\"y\\\": 5600000}, {\\\"x\\\": 1000, \\\"y\\\": 3500000}, {\\\"x\\\": 3350, \\\"y\\\": 27000000}, {\\\"x\\\": 1630, \\\"y\\\": 9291000}, {\\\"x\\\": 1650, \\\"y\\\": 8150000}, {\\\"x\\\": 3350, \\\"y\\\": 42900000}, {\\\"x\\\": 1250, \\\"y\\\": 6000000}, {\\\"x\\\": 1055, \\\"y\\\": 4700000}, {\\\"x\\\": 1190, \\\"y\\\": 4403000}, {\\\"x\\\": 550, \\\"y\\\": 2200000}, {\\\"x\\\": 1076, \\\"y\\\": 4304000}, {\\\"x\\\": 933, \\\"y\\\": 3732000}, {\\\"x\\\": 1026, \\\"y\\\": 4104000}, {\\\"x\\\": 982, \\\"y\\\": 3928000}, {\\\"x\\\": 1792, \\\"y\\\": 9100000}, {\\\"x\\\": 3498, \\\"y\\\": 29000000}, {\\\"x\\\": 1155, \\\"y\\\": 4389000}, {\\\"x\\\": 2771, \\\"y\\\": 13700000}, {\\\"x\\\": 1480, \\\"y\\\": 9974000}, {\\\"x\\\": 2250, \\\"y\\\": 20000000}, {\\\"x\\\": 700, \\\"y\\\": 3000000}, {\\\"x\\\": 1155, \\\"y\\\": 4158000}, {\\\"x\\\": 1155, \\\"y\\\": 4158000}, {\\\"x\\\": 1175, \\\"y\\\": 4239000}, {\\\"x\\\": 1715, \\\"y\\\": 11000000}, {\\\"x\\\": 1100, \\\"y\\\": 4950000}, {\\\"x\\\": 2380, \\\"y\\\": 21000000}, {\\\"x\\\": 1430, \\\"y\\\": 6006000}, {\\\"x\\\": 1008, \\\"y\\\": 2116000}, {\\\"x\\\": 1225, \\\"y\\\": 4800000}, {\\\"x\\\": 1175, \\\"y\\\": 4236000}, {\\\"x\\\": 1580, \\\"y\\\": 9638000}, {\\\"x\\\": 1170, \\\"y\\\": 7000000}, {\\\"x\\\": 1055, \\\"y\\\": 4100000}, {\\\"x\\\": 1216, \\\"y\\\": 8400000}, {\\\"x\\\": 4799, \\\"y\\\": 40700000}, {\\\"x\\\": 1780, \\\"y\\\": 14900000}, {\\\"x\\\": 1515, \\\"y\\\": 6800000}, {\\\"x\\\": 4152, \\\"y\\\": 45000000}, {\\\"x\\\": 2100, \\\"y\\\": 15000000}, {\\\"x\\\": 1155, \\\"y\\\": 4389000}, {\\\"x\\\": 1597, \\\"y\\\": 8300000}, {\\\"x\\\": 1200, \\\"y\\\": 5200000}, {\\\"x\\\": 1000, \\\"y\\\": 15000000}, {\\\"x\\\": 1585, \\\"y\\\": 6340000}, {\\\"x\\\": 3025, \\\"y\\\": 37000000}, {\\\"x\\\": 2166, \\\"y\\\": 27000000}, {\\\"x\\\": 1620, \\\"y\\\": 9200000}, {\\\"x\\\": 2612, \\\"y\\\": 10400000}, {\\\"x\\\": 1620, \\\"y\\\": 9351000}, {\\\"x\\\": 1620, \\\"y\\\": 9200000}, {\\\"x\\\": 1170, \\\"y\\\": 7028000}, {\\\"x\\\": 1680, \\\"y\\\": 12000000}, {\\\"x\\\": 1400, \\\"y\\\": 8000000}, {\\\"x\\\": 1400, \\\"y\\\": 4198000}, {\\\"x\\\": 1585, \\\"y\\\": 6340000}, {\\\"x\\\": 1620, \\\"y\\\": 9500000}, {\\\"x\\\": 1620, \\\"y\\\": 9500000}, {\\\"x\\\": 1620, \\\"y\\\": 9500000}, {\\\"x\\\": 1620, \\\"y\\\": 9500000}, {\\\"x\\\": 1232, \\\"y\\\": 4600000}, {\\\"x\\\": 1470, \\\"y\\\": 5800000}, {\\\"x\\\": 1555, \\\"y\\\": 6220000}, {\\\"x\\\": 1175, \\\"y\\\": 4230000}, {\\\"x\\\": 1470, \\\"y\\\": 5800000}, {\\\"x\\\": 1360, \\\"y\\\": 9400000}, {\\\"x\\\": 1400, \\\"y\\\": 4000000}, {\\\"x\\\": 1090, \\\"y\\\": 4300000}, {\\\"x\\\": 1170, \\\"y\\\": 5967000}, {\\\"x\\\": 1441, \\\"y\\\": 8900000}, {\\\"x\\\": 1735, \\\"y\\\": 10500000}, {\\\"x\\\": 3230, \\\"y\\\": 22000000}, {\\\"x\\\": 1271, \\\"y\\\": 7800000}, {\\\"x\\\": 750, \\\"y\\\": 2700000}, {\\\"x\\\": 1740, \\\"y\\\": 12000000}, {\\\"x\\\": 1155, \\\"y\\\": 4158000}, {\\\"x\\\": 1155, \\\"y\\\": 4158000}, {\\\"x\\\": 1175, \\\"y\\\": 4500000}, {\\\"x\\\": 1175, \\\"y\\\": 4500000}, {\\\"x\\\": 1155, \\\"y\\\": 4389000}, {\\\"x\\\": 1220, \\\"y\\\": 6500000}, {\\\"x\\\": 1320, \\\"y\\\": 10500000}, {\\\"x\\\": 3380, \\\"y\\\": 21000000}, {\\\"x\\\": 1482, \\\"y\\\": 10000000}, {\\\"x\\\": 4395, \\\"y\\\": 45000000}, {\\\"x\\\": 1860, \\\"y\\\": 12000000}, {\\\"x\\\": 1500, \\\"y\\\": 6200000}, {\\\"x\\\": 1170, \\\"y\\\": 6800000}, {\\\"x\\\": 2865, \\\"y\\\": 40000000}, {\\\"x\\\": 4152, \\\"y\\\": 45000000}, {\\\"x\\\": 1270, \\\"y\\\": 8522000}, {\\\"x\\\": 1735, \\\"y\\\": 11200000}, {\\\"x\\\": 1735, \\\"y\\\": 11000000}, {\\\"x\\\": 1216, \\\"y\\\": 11000000}, {\\\"x\\\": 1755, \\\"y\\\": 10900000}, {\\\"x\\\": 1665, \\\"y\\\": 10500000}, {\\\"x\\\": 1620, \\\"y\\\": 8259999}, {\\\"x\\\": 1130, \\\"y\\\": 4600000}, {\\\"x\\\": 1100, \\\"y\\\": 5700000}, {\\\"x\\\": 1160, \\\"y\\\": 4872000}, {\\\"x\\\": 1490, \\\"y\\\": 11299999}, {\\\"x\\\": 1300, \\\"y\\\": 5000000}, {\\\"x\\\": 1280, \\\"y\\\": 4500000}, {\\\"x\\\": 1000, \\\"y\\\": 4500000}, {\\\"x\\\": 1515, \\\"y\\\": 6800000}, {\\\"x\\\": 1170, \\\"y\\\": 7000000}, {\\\"x\\\": 4146, \\\"y\\\": 35200000}, {\\\"x\\\": 4146, \\\"y\\\": 35200000}, {\\\"x\\\": 4146, \\\"y\\\": 35200000}, {\\\"x\\\": 4146, \\\"y\\\": 35200000}, {\\\"x\\\": 2875, \\\"y\\\": 10900000}, {\\\"x\\\": 2744, \\\"y\\\": 22500000}, {\\\"x\\\": 2192, \\\"y\\\": 10500000}, {\\\"x\\\": 550, \\\"y\\\": 2310000}, {\\\"x\\\": 2595, \\\"y\\\": 27000000}, {\\\"x\\\": 1875, \\\"y\\\": 15000000}, {\\\"x\\\": 1460, \\\"y\\\": 7519000}, {\\\"x\\\": 1680, \\\"y\\\": 11200000}, {\\\"x\\\": 1155, \\\"y\\\": 4389000}, {\\\"x\\\": 1175, \\\"y\\\": 4500000}, {\\\"x\\\": 1650, \\\"y\\\": 8200000}, {\\\"x\\\": 1515, \\\"y\\\": 6363000}, {\\\"x\\\": 1500, \\\"y\\\": 6500000}, {\\\"x\\\": 1050, \\\"y\\\": 4500000}, {\\\"x\\\": 1600, \\\"y\\\": 7998000}, {\\\"x\\\": 1511, \\\"y\\\": 8811000}, {\\\"x\\\": 2141, \\\"y\\\": 23000000}, {\\\"x\\\": 1670, \\\"y\\\": 8624000}, {\\\"x\\\": 1155, \\\"y\\\": 4158000}, {\\\"x\\\": 1155, \\\"y\\\": 4389000}, {\\\"x\\\": 1175, \\\"y\\\": 4500000}, {\\\"x\\\": 1931, \\\"y\\\": 13300000}, {\\\"x\\\": 1782, \\\"y\\\": 11500000}, {\\\"x\\\": 1441, \\\"y\\\": 9400000}, {\\\"x\\\": 1441, \\\"y\\\": 9400000}, {\\\"x\\\": 1515, \\\"y\\\": 6363000}, {\\\"x\\\": 1165, \\\"y\\\": 5100000}, {\\\"x\\\": 1740, \\\"y\\\": 12000000}, {\\\"x\\\": 1360, \\\"y\\\": 9382000}, {\\\"x\\\": 1110, \\\"y\\\": 4500000}, {\\\"x\\\": 1675, \\\"y\\\": 11000000}, {\\\"x\\\": 1725, \\\"y\\\": 11000000}, {\\\"x\\\": 1255, \\\"y\\\": 5647000}, {\\\"x\\\": 1515, \\\"y\\\": 6800000}, {\\\"x\\\": 1515, \\\"y\\\": 6800000}, {\\\"x\\\": 1505, \\\"y\\\": 14000000}, {\\\"x\\\": 1650, \\\"y\\\": 8150000}, {\\\"x\\\": 1090, \\\"y\\\": 7098999}, {\\\"x\\\": 1695, \\\"y\\\": 10900000}, {\\\"x\\\": 1315, \\\"y\\\": 8095000}, {\\\"x\\\": 1885, \\\"y\\\": 11399999}, {\\\"x\\\": 1180, \\\"y\\\": 5256000}, {\\\"x\\\": 1555, \\\"y\\\": 6931000}, {\\\"x\\\": 1728, \\\"y\\\": 13500000}, {\\\"x\\\": 1189, \\\"y\\\": 6000000}, {\\\"x\\\": 1100, \\\"y\\\": 6000000}, {\\\"x\\\": 1782, \\\"y\\\": 11500000}, {\\\"x\\\": 1782, \\\"y\\\": 11500000}, {\\\"x\\\": 1735, \\\"y\\\": 11000000}, {\\\"x\\\": 2192, \\\"y\\\": 10500000}, {\\\"x\\\": 1075, \\\"y\\\": 4085000}, {\\\"x\\\": 1265, \\\"y\\\": 4427000}, {\\\"x\\\": 1782, \\\"y\\\": 15400000}, {\\\"x\\\": 2700, \\\"y\\\": 45000000}, {\\\"x\\\": 4829, \\\"y\\\": 24500000}, {\\\"x\\\": 1279, \\\"y\\\": 8823000}, {\\\"x\\\": 1216, \\\"y\\\": 8389000}, {\\\"x\\\": 1441, \\\"y\\\": 9941000}, {\\\"x\\\": 1200, \\\"y\\\": 6180000}, {\\\"x\\\": 1150, \\\"y\\\": 4340000}, {\\\"x\\\": 1475, \\\"y\\\": 5510000}, {\\\"x\\\": 1100, \\\"y\\\": 5050000}, {\\\"x\\\": 1470, \\\"y\\\": 9300000}, {\\\"x\\\": 1780, \\\"y\\\": 13000000}, {\\\"x\\\": 2460, \\\"y\\\": 18500000}, {\\\"x\\\": 2540, \\\"y\\\": 17500000}, {\\\"x\\\": 1130, \\\"y\\\": 6102000}, {\\\"x\\\": 1495, \\\"y\\\": 8070000}, {\\\"x\\\": 1395, \\\"y\\\": 7533000}, {\\\"x\\\": 1275, \\\"y\\\": 6884999}, {\\\"x\\\": 1875, \\\"y\\\": 10800000}, {\\\"x\\\": 2630, \\\"y\\\": 17000000}, {\\\"x\\\": 2630, \\\"y\\\": 17000000}, {\\\"x\\\": 4700, \\\"y\\\": 61000000}, {\\\"x\\\": 4300, \\\"y\\\": 55800000}, {\\\"x\\\": 1700, \\\"y\\\": 8000000}, {\\\"x\\\": 2630, \\\"y\\\": 18400000}, {\\\"x\\\": 1230, \\\"y\\\": 4500000}, {\\\"x\\\": 1000, \\\"y\\\": 3600000}, {\\\"x\\\": 1150, \\\"y\\\": 3500000}, {\\\"x\\\": 1195, \\\"y\\\": 4000000}, {\\\"x\\\": 1050, \\\"y\\\": 5200000}, {\\\"x\\\": 1122, \\\"y\\\": 5900000}, {\\\"x\\\": 1441, \\\"y\\\": 9400000}, {\\\"x\\\": 1710, \\\"y\\\": 13300000}, {\\\"x\\\": 1600, \\\"y\\\": 7998000}, {\\\"x\\\": 2020, \\\"y\\\": 10500000}, {\\\"x\\\": 3190, \\\"y\\\": 32000000}, {\\\"x\\\": 1175, \\\"y\\\": 4236000}, {\\\"x\\\": 1175, \\\"y\\\": 4236000}, {\\\"x\\\": 1155, \\\"y\\\": 4158000}, {\\\"x\\\": 1155, \\\"y\\\": 4158000}, {\\\"x\\\": 1155, \\\"y\\\": 4158000}, {\\\"x\\\": 1175, \\\"y\\\": 4236000}, {\\\"x\\\": 1220, \\\"y\\\": 4158000}, {\\\"x\\\": 1155, \\\"y\\\": 4158000}, {\\\"x\\\": 1155, \\\"y\\\": 4158000}, {\\\"x\\\": 1155, \\\"y\\\": 4158000}, {\\\"x\\\": 1155, \\\"y\\\": 4389000}, {\\\"x\\\": 1175, \\\"y\\\": 4236000}, {\\\"x\\\": 1155, \\\"y\\\": 4158000}, {\\\"x\\\": 1165, \\\"y\\\": 6640000}, {\\\"x\\\": 1775, \\\"y\\\": 6000000}, {\\\"x\\\": 1662, \\\"y\\\": 16000000}, {\\\"x\\\": 1770, \\\"y\\\": 9558000}, {\\\"x\\\": 3493, \\\"y\\\": 29000000}, {\\\"x\\\": 1050, \\\"y\\\": 5500000}, {\\\"x\\\": 1515, \\\"y\\\": 6363000}, {\\\"x\\\": 2815, \\\"y\\\": 13500000}, {\\\"x\\\": 2191, \\\"y\\\": 10500000}, {\\\"x\\\": 2813, \\\"y\\\": 13500000}, {\\\"x\\\": 1535, \\\"y\\\": 9517000}, {\\\"x\\\": 1535, \\\"y\\\": 9517000}, {\\\"x\\\": 1535, \\\"y\\\": 8903000}, {\\\"x\\\": 2630, \\\"y\\\": 16299999}, {\\\"x\\\": 2630, \\\"y\\\": 16299999}, {\\\"x\\\": 2630, \\\"y\\\": 16299999}, {\\\"x\\\": 2630, \\\"y\\\": 16299999}, {\\\"x\\\": 2630, \\\"y\\\": 15200000}, {\\\"x\\\": 2630, \\\"y\\\": 15200000}, {\\\"x\\\": 2630, \\\"y\\\": 15200000}, {\\\"x\\\": 2630, \\\"y\\\": 15200000}, {\\\"x\\\": 2630, \\\"y\\\": 15200000}, {\\\"x\\\": 2630, \\\"y\\\": 15200000}, {\\\"x\\\": 2630, \\\"y\\\": 15200000}, {\\\"x\\\": 2630, \\\"y\\\": 15200000}, {\\\"x\\\": 4146, \\\"y\\\": 35200000}, {\\\"x\\\": 4146, \\\"y\\\": 35200000}, {\\\"x\\\": 4146, \\\"y\\\": 35200000}, {\\\"x\\\": 4146, \\\"y\\\": 35200000}, {\\\"x\\\": 1050, \\\"y\\\": 4500000}, {\\\"x\\\": 4800, \\\"y\\\": 62300000}, {\\\"x\\\": 2607, \\\"y\\\": 12500000}, {\\\"x\\\": 1535, \\\"y\\\": 12000000}, {\\\"x\\\": 1185, \\\"y\\\": 2962000}, {\\\"x\\\": 1730, \\\"y\\\": 14500000}, {\\\"x\\\": 3490, \\\"y\\\": 34000000}, {\\\"x\\\": 1834, \\\"y\\\": 15000000}, {\\\"x\\\": 2025, \\\"y\\\": 7200000}, {\\\"x\\\": 1000, \\\"y\\\": 3700000}, {\\\"x\\\": 1580, \\\"y\\\": 9800000}, {\\\"x\\\": 2615, \\\"y\\\": 13000000}, {\\\"x\\\": 2191, \\\"y\\\": 15800000}, {\\\"x\\\": 1190, \\\"y\\\": 4600000}, {\\\"x\\\": 4400, \\\"y\\\": 30000000}, {\\\"x\\\": 1270, \\\"y\\\": 7438000}, {\\\"x\\\": 2100, \\\"y\\\": 13400000}, {\\\"x\\\": 1100, \\\"y\\\": 4800000}, {\\\"x\\\": 8500, \\\"y\\\": 29000000}, {\\\"x\\\": 900, \\\"y\\\": 3800000}, {\\\"x\\\": 3448, \\\"y\\\": 27000000}, {\\\"x\\\": 1865, \\\"y\\\": 12100000}, {\\\"x\\\": 1589, \\\"y\\\": 7950000}, {\\\"x\\\": 2025, \\\"y\\\": 10500000}, {\\\"x\\\": 2191, \\\"y\\\": 10500000}, {\\\"x\\\": 2270, \\\"y\\\": 14500000}, {\\\"x\\\": 1615, \\\"y\\\": 14000000}, {\\\"x\\\": 1745, \\\"y\\\": 11200000}, {\\\"x\\\": 960, \\\"y\\\": 7500000}, {\\\"x\\\": 1190, \\\"y\\\": 4641000}, {\\\"x\\\": 2615, \\\"y\\\": 16600000}, {\\\"x\\\": 2815, \\\"y\\\": 13500000}, {\\\"x\\\": 2800, \\\"y\\\": 13400000}, {\\\"x\\\": 2600, \\\"y\\\": 12400000}, {\\\"x\\\": 2452, \\\"y\\\": 11700000}, {\\\"x\\\": 2815, \\\"y\\\": 13500000}, {\\\"x\\\": 1604, \\\"y\\\": 5500000}, {\\\"x\\\": 1050, \\\"y\\\": 5500000}, {\\\"x\\\": 1620, \\\"y\\\": 8000000}, {\\\"x\\\": 2540, \\\"y\\\": 16000000}, {\\\"x\\\": 2160, \\\"y\\\": 15000000}, {\\\"x\\\": 1630, \\\"y\\\": 7000000}, {\\\"x\\\": 1050, \\\"y\\\": 5400000}, {\\\"x\\\": 1150, \\\"y\\\": 3900000}, {\\\"x\\\": 2265, \\\"y\\\": 14800000}, {\\\"x\\\": 1035, \\\"y\\\": 5000000}, {\\\"x\\\": 1500, \\\"y\\\": 8000000}, {\\\"x\\\": 1688, \\\"y\\\": 9800000}, {\\\"x\\\": 1100, \\\"y\\\": 4600000}, {\\\"x\\\": 1875, \\\"y\\\": 12100000}, {\\\"x\\\": 1050, \\\"y\\\": 4200000}, {\\\"x\\\": 1800, \\\"y\\\": 10000000}, {\\\"x\\\": 2625, \\\"y\\\": 27000000}, {\\\"x\\\": 3448, \\\"y\\\": 27000000}, {\\\"x\\\": 2385, \\\"y\\\": 15000000}, {\\\"x\\\": 1800, \\\"y\\\": 11200000}, {\\\"x\\\": 2607, \\\"y\\\": 20000000}, {\\\"x\\\": 3240, \\\"y\\\": 29200000}, {\\\"x\\\": 2865, \\\"y\\\": 25800000}, {\\\"x\\\": 1125, \\\"y\\\": 4060000}, {\\\"x\\\": 2050, \\\"y\\\": 14000000}, {\\\"x\\\": 3300, \\\"y\\\": 29700000}, {\\\"x\\\": 1300, \\\"y\\\": 3250000}, {\\\"x\\\": 1240, \\\"y\\\": 3450000}, {\\\"x\\\": 1665, \\\"y\\\": 9855000}, {\\\"x\\\": 1265, \\\"y\\\": 7536000}, {\\\"x\\\": 2644, \\\"y\\\": 9782000}, {\\\"x\\\": 1000, \\\"y\\\": 2500000}, {\\\"x\\\": 1550, \\\"y\\\": 6500000}, {\\\"x\\\": 4500, \\\"y\\\": 18000000}, {\\\"x\\\": 1640, \\\"y\\\": 5300000}, {\\\"x\\\": 3450, \\\"y\\\": 55000000}, {\\\"x\\\": 1150, \\\"y\\\": 3900000}, {\\\"x\\\": 1150, \\\"y\\\": 3900000}, {\\\"x\\\": 1770, \\\"y\\\": 10700000}, {\\\"x\\\": 1960, \\\"y\\\": 12000000}, {\\\"x\\\": 980, \\\"y\\\": 3800000}, {\\\"x\\\": 1195, \\\"y\\\": 7500000}, {\\\"x\\\": 1200, \\\"y\\\": 9000000}, {\\\"x\\\": 1590, \\\"y\\\": 12000000}, {\\\"x\\\": 2220, \\\"y\\\": 15000000}, {\\\"x\\\": 1592, \\\"y\\\": 12600000}, {\\\"x\\\": 1380, \\\"y\\\": 6500000}, {\\\"x\\\": 4375, \\\"y\\\": 32799999}, {\\\"x\\\": 1640, \\\"y\\\": 5500000}, {\\\"x\\\": 1240, \\\"y\\\": 3720000}, {\\\"x\\\": 1300, \\\"y\\\": 3200000}, {\\\"x\\\": 1240, \\\"y\\\": 3720000}, {\\\"x\\\": 1160, \\\"y\\\": 5600000}, {\\\"x\\\": 1695, \\\"y\\\": 11200000}, {\\\"x\\\": 1090, \\\"y\\\": 7317000}, {\\\"x\\\": 1275, \\\"y\\\": 11500000}, {\\\"x\\\": 1350, \\\"y\\\": 10200000}, {\\\"x\\\": 1250, \\\"y\\\": 6300000}, {\\\"x\\\": 2500, \\\"y\\\": 13500000}, {\\\"x\\\": 3258, \\\"y\\\": 22700000}, {\\\"x\\\": 1165, \\\"y\\\": 5242000}, {\\\"x\\\": 1250, \\\"y\\\": 5200000}, {\\\"x\\\": 1300, \\\"y\\\": 4000000}, {\\\"x\\\": 950, \\\"y\\\": 2400000}, {\\\"x\\\": 1100, \\\"y\\\": 3100000}, {\\\"x\\\": 1007, \\\"y\\\": 2014000}, {\\\"x\\\": 1640, \\\"y\\\": 3936000}, {\\\"x\\\": 2925, \\\"y\\\": 14600000}, {\\\"x\\\": 1710, \\\"y\\\": 13000000}, {\\\"x\\\": 2664, \\\"y\\\": 9782000}, {\\\"x\\\": 2000, \\\"y\\\": 7400000}, {\\\"x\\\": 1150, \\\"y\\\": 4800000}, {\\\"x\\\": 1150, \\\"y\\\": 4140000}, {\\\"x\\\": 1145, \\\"y\\\": 8500000}, {\\\"x\\\": 1900, \\\"y\\\": 16500000}, {\\\"x\\\": 1580, \\\"y\\\": 10000000}, {\\\"x\\\": 2192, \\\"y\\\": 10500000}, {\\\"x\\\": 2595, \\\"y\\\": 20500000}, {\\\"x\\\": 960, \\\"y\\\": 5760000}, {\\\"x\\\": 1665, \\\"y\\\": 5500000}, {\\\"x\\\": 950, \\\"y\\\": 2400000}, {\\\"x\\\": 1735, \\\"y\\\": 12200000}, {\\\"x\\\": 1360, \\\"y\\\": 9600000}, {\\\"x\\\": 1208, \\\"y\\\": 8500000}, {\\\"x\\\": 1740, \\\"y\\\": 12200000}, {\\\"x\\\": 1200, \\\"y\\\": 4680000}, {\\\"x\\\": 1240, \\\"y\\\": 4836000}, {\\\"x\\\": 1240, \\\"y\\\": 4836000}, {\\\"x\\\": 1200, \\\"y\\\": 4680000}, {\\\"x\\\": 1600, \\\"y\\\": 6240000}, {\\\"x\\\": 1270, \\\"y\\\": 4953000}, {\\\"x\\\": 1080, \\\"y\\\": 4320000}, {\\\"x\\\": 1020, \\\"y\\\": 4850000}, {\\\"x\\\": 1145, \\\"y\\\": 4800000}, {\\\"x\\\": 1575, \\\"y\\\": 8031999}, {\\\"x\\\": 1700, \\\"y\\\": 10300000}, {\\\"x\\\": 1730, \\\"y\\\": 10500000}, {\\\"x\\\": 1090, \\\"y\\\": 6648999}, {\\\"x\\\": 2300, \\\"y\\\": 17000000}, {\\\"x\\\": 1147, \\\"y\\\": 4500000}, {\\\"x\\\": 3900, \\\"y\\\": 41500000}, {\\\"x\\\": 3765, \\\"y\\\": 45100000}, {\\\"x\\\": 2021, \\\"y\\\": 12700000}, {\\\"x\\\": 2000, \\\"y\\\": 7400000}, {\\\"x\\\": 1125, \\\"y\\\": 3210000}, {\\\"x\\\": 2220, \\\"y\\\": 15000000}, {\\\"x\\\": 2230, \\\"y\\\": 15000000}, {\\\"x\\\": 1834, \\\"y\\\": 16200000}, {\\\"x\\\": 4070, \\\"y\\\": 42500000}, {\\\"x\\\": 1834, \\\"y\\\": 16000000}, {\\\"x\\\": 4700, \\\"y\\\": 41000000}, {\\\"x\\\": 1314, \\\"y\\\": 10000000}, {\\\"x\\\": 3355, \\\"y\\\": 26800000}, {\\\"x\\\": 4146, \\\"y\\\": 33100000}, {\\\"x\\\": 3448, \\\"y\\\": 27500000}, {\\\"x\\\": 1200, \\\"y\\\": 3200000}, {\\\"x\\\": 1300, \\\"y\\\": 3250000}, {\\\"x\\\": 1600, \\\"y\\\": 9000000}, {\\\"x\\\": 7600, \\\"y\\\": 35000000}, {\\\"x\\\": 1515, \\\"y\\\": 6800000}, {\\\"x\\\": 1515, \\\"y\\\": 6800000}, {\\\"x\\\": 1515, \\\"y\\\": 6800000}, {\\\"x\\\": 1515, \\\"y\\\": 6800000}, {\\\"x\\\": 1515, \\\"y\\\": 6800000}, {\\\"x\\\": 1515, \\\"y\\\": 6800000}, {\\\"x\\\": 1515, \\\"y\\\": 6800000}, {\\\"x\\\": 1515, \\\"y\\\": 6800000}, {\\\"x\\\": 1515, \\\"y\\\": 6800000}, {\\\"x\\\": 1515, \\\"y\\\": 6800000}, {\\\"x\\\": 1515, \\\"y\\\": 6800000}, {\\\"x\\\": 1515, \\\"y\\\": 6800000}, {\\\"x\\\": 1515, \\\"y\\\": 6800000}, {\\\"x\\\": 1515, \\\"y\\\": 6800000}, {\\\"x\\\": 1515, \\\"y\\\": 6800000}, {\\\"x\\\": 1515, \\\"y\\\": 6800000}, {\\\"x\\\": 1515, \\\"y\\\": 6800000}, {\\\"x\\\": 1515, \\\"y\\\": 6800000}, {\\\"x\\\": 1513, \\\"y\\\": 6800000}, {\\\"x\\\": 1515, \\\"y\\\": 6800000}, {\\\"x\\\": 1557, \\\"y\\\": 11000000}, {\\\"x\\\": 1300, \\\"y\\\": 3100000}, {\\\"x\\\": 2025, \\\"y\\\": 12500000}, {\\\"x\\\": 1260, \\\"y\\\": 7800000}, {\\\"x\\\": 1834, \\\"y\\\": 14500000}, {\\\"x\\\": 1580, \\\"y\\\": 7200000}, {\\\"x\\\": 1860, \\\"y\\\": 14000000}, {\\\"x\\\": 1005, \\\"y\\\": 2211000}, {\\\"x\\\": 1200, \\\"y\\\": 3500000}, {\\\"x\\\": 1057, \\\"y\\\": 3000000}, {\\\"x\\\": 2122, \\\"y\\\": 13300000}, {\\\"x\\\": 910, \\\"y\\\": 3200000}, {\\\"x\\\": 1375, \\\"y\\\": 4000000}, {\\\"x\\\": 1001, \\\"y\\\": 2002000}, {\\\"x\\\": 2000, \\\"y\\\": 10000000}, {\\\"x\\\": 1615, \\\"y\\\": 14000000}, {\\\"x\\\": 3085, \\\"y\\\": 40000000}, {\\\"x\\\": 2250, \\\"y\\\": 17000000}, {\\\"x\\\": 3195, \\\"y\\\": 21500000}, {\\\"x\\\": 1735, \\\"y\\\": 9542000}, {\\\"x\\\": 3450, \\\"y\\\": 33500000}, {\\\"x\\\": 1500, \\\"y\\\": 8200000}, {\\\"x\\\": 1175, \\\"y\\\": 4230000}, {\\\"x\\\": 1155, \\\"y\\\": 4158000}, {\\\"x\\\": 910, \\\"y\\\": 3300000}, {\\\"x\\\": 1005, \\\"y\\\": 3500000}, {\\\"x\\\": 1150, \\\"y\\\": 5500000}, {\\\"x\\\": 1002, \\\"y\\\": 3507000}, {\\\"x\\\": 1013, \\\"y\\\": 3545000}, {\\\"x\\\": 1005, \\\"y\\\": 3517000}, {\\\"x\\\": 1007, \\\"y\\\": 3524000}, {\\\"x\\\": 1012, \\\"y\\\": 3542000}, {\\\"x\\\": 1010, \\\"y\\\": 2022000}, {\\\"x\\\": 1010, \\\"y\\\": 2020000}, {\\\"x\\\": 1400, \\\"y\\\": 2800000}, {\\\"x\\\": 1665, \\\"y\\\": 5700000}, {\\\"x\\\": 1002, \\\"y\\\": 4008000}, {\\\"x\\\": 1050, \\\"y\\\": 2200000}, {\\\"x\\\": 1350, \\\"y\\\": 5500000}, {\\\"x\\\": 2200, \\\"y\\\": 9300000}, {\\\"x\\\": 2000, \\\"y\\\": 9200000}, {\\\"x\\\": 1600, \\\"y\\\": 9300000}, {\\\"x\\\": 1691, \\\"y\\\": 9300000}, {\\\"x\\\": 1500, \\\"y\\\": 9300000}, {\\\"x\\\": 1175, \\\"y\\\": 3600000}, {\\\"x\\\": 1600, \\\"y\\\": 8460000}, {\\\"x\\\": 1150, \\\"y\\\": 6165000}, {\\\"x\\\": 1230, \\\"y\\\": 6895999}, {\\\"x\\\": 1090, \\\"y\\\": 6168000}, {\\\"x\\\": 1190, \\\"y\\\": 8692000}, {\\\"x\\\": 1920, \\\"y\\\": 10700000}, {\\\"x\\\": 1905, \\\"y\\\": 10700000}, {\\\"x\\\": 1295, \\\"y\\\": 11200000}, {\\\"x\\\": 3380, \\\"y\\\": 22500000}, {\\\"x\\\": 3615, \\\"y\\\": 27100000}, {\\\"x\\\": 2600, \\\"y\\\": 22100000}, {\\\"x\\\": 2100, \\\"y\\\": 10900000}, {\\\"x\\\": 3025, \\\"y\\\": 28700000}, {\\\"x\\\": 2600, \\\"y\\\": 22100000}, {\\\"x\\\": 3590, \\\"y\\\": 39400000}, {\\\"x\\\": 3590, \\\"y\\\": 39400000}, {\\\"x\\\": 3875, \\\"y\\\": 29000000}, {\\\"x\\\": 4290, \\\"y\\\": 32100000}, {\\\"x\\\": 1765, \\\"y\\\": 6354000}, {\\\"x\\\": 1940, \\\"y\\\": 6984000}, {\\\"x\\\": 2445, \\\"y\\\": 16500000}, {\\\"x\\\": 1830, \\\"y\\\": 12000000}, {\\\"x\\\": 1125, \\\"y\\\": 5000000}, {\\\"x\\\": 1300, \\\"y\\\": 3200000}, {\\\"x\\\": 910, \\\"y\\\": 3250000}, {\\\"x\\\": 1550, \\\"y\\\": 4750000}, {\\\"x\\\": 1650, \\\"y\\\": 4800000}, {\\\"x\\\": 1650, \\\"y\\\": 4800000}, {\\\"x\\\": 1475, \\\"y\\\": 4550000}, {\\\"x\\\": 1475, \\\"y\\\": 4150000}, {\\\"x\\\": 1500, \\\"y\\\": 3550000}, {\\\"x\\\": 1550, \\\"y\\\": 4450000}, {\\\"x\\\": 1400, \\\"y\\\": 3900000}, {\\\"x\\\": 1350, \\\"y\\\": 3800000}, {\\\"x\\\": 1475, \\\"y\\\": 4250000}, {\\\"x\\\": 1650, \\\"y\\\": 4850000}, {\\\"x\\\": 1375, \\\"y\\\": 4050000}, {\\\"x\\\": 1475, \\\"y\\\": 4500000}, {\\\"x\\\": 1000, \\\"y\\\": 4800000}, {\\\"x\\\": 1950, \\\"y\\\": 8600000}, {\\\"x\\\": 1050, \\\"y\\\": 3675000}, {\\\"x\\\": 1535, \\\"y\\\": 8749000}, {\\\"x\\\": 1550, \\\"y\\\": 8300000}, {\\\"x\\\": 1510, \\\"y\\\": 8700000}, {\\\"x\\\": 920, \\\"y\\\": 4000000}, {\\\"x\\\": 1742, \\\"y\\\": 13700000}, {\\\"x\\\": 3765, \\\"y\\\": 57500000}, {\\\"x\\\": 2750, \\\"y\\\": 16500000}, {\\\"x\\\": 1160, \\\"y\\\": 4582000}, {\\\"x\\\": 2450, \\\"y\\\": 11200000}, {\\\"x\\\": 4700, \\\"y\\\": 55000000}, {\\\"x\\\": 1100, \\\"y\\\": 4600000}, {\\\"x\\\": 1250, \\\"y\\\": 3375000}, {\\\"x\\\": 1250, \\\"y\\\": 4300000}, {\\\"x\\\": 1200, \\\"y\\\": 2800000}, {\\\"x\\\": 1006, \\\"y\\\": 3521000}, {\\\"x\\\": 1200, \\\"y\\\": 4500000}, {\\\"x\\\": 1250, \\\"y\\\": 4250000}, {\\\"x\\\": 1250, \\\"y\\\": 4600000}, {\\\"x\\\": 1205, \\\"y\\\": 4217000}, {\\\"x\\\": 1206, \\\"y\\\": 4221000}, {\\\"x\\\": 1208, \\\"y\\\": 4228000}, {\\\"x\\\": 1202, \\\"y\\\": 4207000}, {\\\"x\\\": 1203, \\\"y\\\": 4210000}, {\\\"x\\\": 1104, \\\"y\\\": 4968000}, {\\\"x\\\": 1600, \\\"y\\\": 7200000}, {\\\"x\\\": 1242, \\\"y\\\": 4469000}, {\\\"x\\\": 1210, \\\"y\\\": 3600000}, {\\\"x\\\": 1630, \\\"y\\\": 5200000}, {\\\"x\\\": 990, \\\"y\\\": 3200000}, {\\\"x\\\": 1450, \\\"y\\\": 6500000}, {\\\"x\\\": 1000, \\\"y\\\": 3800000}, {\\\"x\\\": 950, \\\"y\\\": 2900000}, {\\\"x\\\": 1050, \\\"y\\\": 4830000}, {\\\"x\\\": 1400, \\\"y\\\": 19500000}, {\\\"x\\\": 1050, \\\"y\\\": 5200000}, {\\\"x\\\": 1200, \\\"y\\\": 7800000}, {\\\"x\\\": 4150, \\\"y\\\": 26000000}, {\\\"x\\\": 1500, \\\"y\\\": 3700000}, {\\\"x\\\": 1530, \\\"y\\\": 9800000}, {\\\"x\\\": 1250, \\\"y\\\": 10500000}, {\\\"x\\\": 1296, \\\"y\\\": 4276000}, {\\\"x\\\": 998, \\\"y\\\": 3400000}, {\\\"x\\\": 1850, \\\"y\\\": 9800000}, {\\\"x\\\": 1115, \\\"y\\\": 9500000}, {\\\"x\\\": 2630, \\\"y\\\": 21000000}, {\\\"x\\\": 500, \\\"y\\\": 2800000}, {\\\"x\\\": 1085, \\\"y\\\": 6300000}, {\\\"x\\\": 1325, \\\"y\\\": 5100000}, {\\\"x\\\": 1200, \\\"y\\\": 4200000}, {\\\"x\\\": 1201, \\\"y\\\": 4203000}, {\\\"x\\\": 1260, \\\"y\\\": 4600000}, {\\\"x\\\": 1103, \\\"y\\\": 4963000}, {\\\"x\\\": 1106, \\\"y\\\": 4977000}, {\\\"x\\\": 1000, \\\"y\\\": 2200000}, {\\\"x\\\": 1360, \\\"y\\\": 9500000}, {\\\"x\\\": 1740, \\\"y\\\": 12200000}, {\\\"x\\\": 920, \\\"y\\\": 4000000}, {\\\"x\\\": 1200, \\\"y\\\": 6000000}, {\\\"x\\\": 1440, \\\"y\\\": 5200000}, {\\\"x\\\": 1010, \\\"y\\\": 5500000}, {\\\"x\\\": 1080, \\\"y\\\": 4500000}, {\\\"x\\\": 1950, \\\"y\\\": 6500000}, {\\\"x\\\": 1834, \\\"y\\\": 15000000}, {\\\"x\\\": 2200, \\\"y\\\": 13500000}, {\\\"x\\\": 1133, \\\"y\\\": 6900000}, {\\\"x\\\": 1650, \\\"y\\\": 8200000}, {\\\"x\\\": 2600, \\\"y\\\": 17500000}, {\\\"x\\\": 1100, \\\"y\\\": 2500000}, {\\\"x\\\": 1002, \\\"y\\\": 2304000}, {\\\"x\\\": 500, \\\"y\\\": 2750000}, {\\\"x\\\": 1000, \\\"y\\\": 2300000}, {\\\"x\\\": 1075, \\\"y\\\": 4000000}, {\\\"x\\\": 1100, \\\"y\\\": 5000000}, {\\\"x\\\": 1120, \\\"y\\\": 9500000}, {\\\"x\\\": 1200, \\\"y\\\": 3800000}, {\\\"x\\\": 1200, \\\"y\\\": 4000000}, {\\\"x\\\": 1120, \\\"y\\\": 3900000}, {\\\"x\\\": 1295, \\\"y\\\": 10000000}, {\\\"x\\\": 1490, \\\"y\\\": 12000000}, {\\\"x\\\": 1270, \\\"y\\\": 8255000}, {\\\"x\\\": 1100, \\\"y\\\": 3900000}, {\\\"x\\\": 1134, \\\"y\\\": 3742000}, {\\\"x\\\": 1190, \\\"y\\\": 3927000}, {\\\"x\\\": 1050, \\\"y\\\": 4216000}, {\\\"x\\\": 710, \\\"y\\\": 2536000}, {\\\"x\\\": 1390, \\\"y\\\": 5004000}, {\\\"x\\\": 1978, \\\"y\\\": 7912000}, {\\\"x\\\": 1360, \\\"y\\\": 5900000}, {\\\"x\\\": 2000, \\\"y\\\": 9500000}, {\\\"x\\\": 3537, \\\"y\\\": 45000000}, {\\\"x\\\": 1100, \\\"y\\\": 4900000}, {\\\"x\\\": 1210, \\\"y\\\": 5082000}, {\\\"x\\\": 1935, \\\"y\\\": 9500000}, {\\\"x\\\": 1080, \\\"y\\\": 5700000}, {\\\"x\\\": 1200, \\\"y\\\": 6000000}, {\\\"x\\\": 1905, \\\"y\\\": 15400000}, {\\\"x\\\": 1570, \\\"y\\\": 11299999}, {\\\"x\\\": 1570, \\\"y\\\": 11299999}, {\\\"x\\\": 1800, \\\"y\\\": 10500000}, {\\\"x\\\": 1700, \\\"y\\\": 10000000}, {\\\"x\\\": 1600, \\\"y\\\": 11500000}, {\\\"x\\\": 1655, \\\"y\\\": 10000000}, {\\\"x\\\": 1800, \\\"y\\\": 9800000}, {\\\"x\\\": 1300, \\\"y\\\": 6500000}, {\\\"x\\\": 1207, \\\"y\\\": 4224000}, {\\\"x\\\": 3430, \\\"y\\\": 35800000}, {\\\"x\\\": 2160, \\\"y\\\": 19500000}, {\\\"x\\\": 3430, \\\"y\\\": 36000000}, {\\\"x\\\": 3430, \\\"y\\\": 35800000}, {\\\"x\\\": 2655, \\\"y\\\": 27500000}, {\\\"x\\\": 861, \\\"y\\\": 4500000}, {\\\"x\\\": 3152, \\\"y\\\": 17300000}, {\\\"x\\\": 1650, \\\"y\\\": 8200000}, {\\\"x\\\": 1550, \\\"y\\\": 8525000}, {\\\"x\\\": 1030, \\\"y\\\": 5200000}, {\\\"x\\\": 3550, \\\"y\\\": 17500000}, {\\\"x\\\": 2983, \\\"y\\\": 18000000}, {\\\"x\\\": 2225, \\\"y\\\": 19300000}, {\\\"x\\\": 4160, \\\"y\\\": 35000000}, {\\\"x\\\": 1900, \\\"y\\\": 12500000}, {\\\"x\\\": 1105, \\\"y\\\": 7200000}, {\\\"x\\\": 1150, \\\"y\\\": 3900000}, {\\\"x\\\": 1625, \\\"y\\\": 6500000}, {\\\"x\\\": 4600, \\\"y\\\": 46000000}, {\\\"x\\\": 2120, \\\"y\\\": 15000000}, {\\\"x\\\": 2103, \\\"y\\\": 12000000}, {\\\"x\\\": 1760, \\\"y\\\": 11000000}, {\\\"x\\\": 1150, \\\"y\\\": 3900000}, {\\\"x\\\": 1150, \\\"y\\\": 3900000}, {\\\"x\\\": 1700, \\\"y\\\": 11000000}, {\\\"x\\\": 2232, \\\"y\\\": 16500000}, {\\\"x\\\": 1740, \\\"y\\\": 12200000}, {\\\"x\\\": 1592, \\\"y\\\": 11500000}, {\\\"x\\\": 1360, \\\"y\\\": 9500000}, {\\\"x\\\": 1208, \\\"y\\\": 8400000}, {\\\"x\\\": 1200, \\\"y\\\": 3500000}, {\\\"x\\\": 2160, \\\"y\\\": 15200000}, {\\\"x\\\": 1834, \\\"y\\\": 14800000}, {\\\"x\\\": 1650, \\\"y\\\": 7500000}, {\\\"x\\\": 1180, \\\"y\\\": 4567000}, {\\\"x\\\": 1200, \\\"y\\\": 4650000}, {\\\"x\\\": 1220, \\\"y\\\": 4700000}, {\\\"x\\\": 1180, \\\"y\\\": 4567000}, {\\\"x\\\": 1200, \\\"y\\\": 4650000}, {\\\"x\\\": 1140, \\\"y\\\": 2848000}, {\\\"x\\\": 1140, \\\"y\\\": 2850000}, {\\\"x\\\": 3975, \\\"y\\\": 39800000}, {\\\"x\\\": 2655, \\\"y\\\": 27000000}, {\\\"x\\\": 1160, \\\"y\\\": 4700000}, {\\\"x\\\": 1570, \\\"y\\\": 7065000}, {\\\"x\\\": 1725, \\\"y\\\": 12400000}, {\\\"x\\\": 1725, \\\"y\\\": 12400000}, {\\\"x\\\": 1725, \\\"y\\\": 12400000}, {\\\"x\\\": 1725, \\\"y\\\": 12400000}, {\\\"x\\\": 1570, \\\"y\\\": 11299999}, {\\\"x\\\": 2644, \\\"y\\\": 9782000}, {\\\"x\\\": 965, \\\"y\\\": 4400000}, {\\\"x\\\": 1850, \\\"y\\\": 8510000}, {\\\"x\\\": 1000, \\\"y\\\": 5500000}, {\\\"x\\\": 1310, \\\"y\\\": 5700000}, {\\\"x\\\": 2150, \\\"y\\\": 15000000}, {\\\"x\\\": 1150, \\\"y\\\": 3900000}, {\\\"x\\\": 1150, \\\"y\\\": 3900000}, {\\\"x\\\": 1150, \\\"y\\\": 3900000}, {\\\"x\\\": 1150, \\\"y\\\": 3900000}, {\\\"x\\\": 1150, \\\"y\\\": 3900000}, {\\\"x\\\": 1945, \\\"y\\\": 12500000}, {\\\"x\\\": 1360, \\\"y\\\": 10500000}, {\\\"x\\\": 1150, \\\"y\\\": 3900000}, {\\\"x\\\": 1150, \\\"y\\\": 3900000}, {\\\"x\\\": 1150, \\\"y\\\": 3900000}, {\\\"x\\\": 1150, \\\"y\\\": 3900000}, {\\\"x\\\": 1150, \\\"y\\\": 3900000}, {\\\"x\\\": 1150, \\\"y\\\": 3900000}, {\\\"x\\\": 1150, \\\"y\\\": 3900000}, {\\\"x\\\": 1150, \\\"y\\\": 3900000}, {\\\"x\\\": 1150, \\\"y\\\": 3900000}, {\\\"x\\\": 1150, \\\"y\\\": 3900000}, {\\\"x\\\": 1150, \\\"y\\\": 3900000}, {\\\"x\\\": 1150, \\\"y\\\": 3900000}, {\\\"x\\\": 1150, \\\"y\\\": 3900000}, {\\\"x\\\": 1150, \\\"y\\\": 3900000}, {\\\"x\\\": 1150, \\\"y\\\": 3900000}, {\\\"x\\\": 1269, \\\"y\\\": 6000000}, {\\\"x\\\": 1200, \\\"y\\\": 4876000}, {\\\"x\\\": 1100, \\\"y\\\": 4367000}, {\\\"x\\\": 1150, \\\"y\\\": 3900000}, {\\\"x\\\": 1150, \\\"y\\\": 3900000}, {\\\"x\\\": 1150, \\\"y\\\": 3900000}, {\\\"x\\\": 1150, \\\"y\\\": 3900000}, {\\\"x\\\": 1150, \\\"y\\\": 3900000}, {\\\"x\\\": 1150, \\\"y\\\": 3900000}, {\\\"x\\\": 1150, \\\"y\\\": 3900000}, {\\\"x\\\": 1150, \\\"y\\\": 3900000}, {\\\"x\\\": 1150, \\\"y\\\": 3900000}, {\\\"x\\\": 1200, \\\"y\\\": 4876000}, {\\\"x\\\": 1100, \\\"y\\\": 4367000}, {\\\"x\\\": 1600, \\\"y\\\": 7600000}, {\\\"x\\\": 1510, \\\"y\\\": 5587000}, {\\\"x\\\": 1365, \\\"y\\\": 5050000}, {\\\"x\\\": 1691, \\\"y\\\": 9300000}, {\\\"x\\\": 1725, \\\"y\\\": 12400000}, {\\\"x\\\": 4070, \\\"y\\\": 43500000}, {\\\"x\\\": 3430, \\\"y\\\": 35000000}, {\\\"x\\\": 1100, \\\"y\\\": 6300000}, {\\\"x\\\": 1450, \\\"y\\\": 7000000}, {\\\"x\\\": 3434, \\\"y\\\": 26500000}, {\\\"x\\\": 1314, \\\"y\\\": 9900000}, {\\\"x\\\": 3474, \\\"y\\\": 24000000}, {\\\"x\\\": 4600, \\\"y\\\": 31000000}, {\\\"x\\\": 1250, \\\"y\\\": 6000000}, {\\\"x\\\": 2100, \\\"y\\\": 12500000}, {\\\"x\\\": 1150, \\\"y\\\": 5500000}, {\\\"x\\\": 4070, \\\"y\\\": 42000000}, {\\\"x\\\": 1695, \\\"y\\\": 9000000}, {\\\"x\\\": 2460, \\\"y\\\": 15500000}, {\\\"x\\\": 2000, \\\"y\\\": 11000000}, {\\\"x\\\": 3695, \\\"y\\\": 50000000}, {\\\"x\\\": 2220, \\\"y\\\": 15000000}, {\\\"x\\\": 1822, \\\"y\\\": 8500000}, {\\\"x\\\": 1595, \\\"y\\\": 5000000}, {\\\"x\\\": 1535, \\\"y\\\": 12600000}, {\\\"x\\\": 1665, \\\"y\\\": 5000000}, {\\\"x\\\": 1278, \\\"y\\\": 11000000}, {\\\"x\\\": 2600, \\\"y\\\": 18500000}, {\\\"x\\\": 2500, \\\"y\\\": 20000000}, {\\\"x\\\": 1535, \\\"y\\\": 12600000}, {\\\"x\\\": 2460, \\\"y\\\": 15500000}, {\\\"x\\\": 2270, \\\"y\\\": 18000000}, {\\\"x\\\": 1600, \\\"y\\\": 12000000}, {\\\"x\\\": 1000, \\\"y\\\": 4000000}, {\\\"x\\\": 1180, \\\"y\\\": 4566000}, {\\\"x\\\": 1100, \\\"y\\\": 3829999}, {\\\"x\\\": 3180, \\\"y\\\": 32000000}, {\\\"x\\\": 1691, \\\"y\\\": 9300000}, {\\\"x\\\": 1691, \\\"y\\\": 9300000}, {\\\"x\\\": 1691, \\\"y\\\": 9300000}, {\\\"x\\\": 5440, \\\"y\\\": 60000000}, {\\\"x\\\": 2850, \\\"y\\\": 19800000}, {\\\"x\\\": 3556, \\\"y\\\": 27500000}, {\\\"x\\\": 1300, \\\"y\\\": 5500000}, {\\\"x\\\": 1050, \\\"y\\\": 4500000}, {\\\"x\\\": 2566, \\\"y\\\": 15000000}, {\\\"x\\\": 1100, \\\"y\\\": 4000000}, {\\\"x\\\": 1980, \\\"y\\\": 9000000}, {\\\"x\\\": 1436, \\\"y\\\": 3500000}, {\\\"x\\\": 4000, \\\"y\\\": 22000000}, {\\\"x\\\": 1000, \\\"y\\\": 3500000}, {\\\"x\\\": 1050, \\\"y\\\": 4500000}, {\\\"x\\\": 2644, \\\"y\\\": 9782000}, {\\\"x\\\": 2813, \\\"y\\\": 13500000}, {\\\"x\\\": 2815, \\\"y\\\": 13500000}, {\\\"x\\\": 1300, \\\"y\\\": 4800000}, {\\\"x\\\": 4320, \\\"y\\\": 40000000}, {\\\"x\\\": 1450, \\\"y\\\": 9300000}, {\\\"x\\\": 1331, \\\"y\\\": 7200000}, {\\\"x\\\": 2650, \\\"y\\\": 17000000}, {\\\"x\\\": 1570, \\\"y\\\": 11299999}, {\\\"x\\\": 2160, \\\"y\\\": 14000000}, {\\\"x\\\": 1580, \\\"y\\\": 11200000}, {\\\"x\\\": 2160, \\\"y\\\": 15500000}, {\\\"x\\\": 970, \\\"y\\\": 5000000}, {\\\"x\\\": 800, \\\"y\\\": 4000000}, {\\\"x\\\": 1358, \\\"y\\\": 10000000}, {\\\"x\\\": 1145, \\\"y\\\": 3800000}, {\\\"x\\\": 2000, \\\"y\\\": 14000000}, {\\\"x\\\": 2075, \\\"y\\\": 13400000}, {\\\"x\\\": 1600, \\\"y\\\": 7500000}, {\\\"x\\\": 1230, \\\"y\\\": 4000000}, {\\\"x\\\": 1060, \\\"y\\\": 7200000}, {\\\"x\\\": 3325, \\\"y\\\": 37500000}, {\\\"x\\\": 1822, \\\"y\\\": 8500000}, {\\\"x\\\": 2115, \\\"y\\\": 14000000}, {\\\"x\\\": 880, \\\"y\\\": 4000000}, {\\\"x\\\": 925, \\\"y\\\": 4600000}, {\\\"x\\\": 1554, \\\"y\\\": 6200000}, {\\\"x\\\": 1000, \\\"y\\\": 2400000}, {\\\"x\\\": 1650, \\\"y\\\": 4750000}, {\\\"x\\\": 1475, \\\"y\\\": 4750000}, {\\\"x\\\": 1450, \\\"y\\\": 4650000}, {\\\"x\\\": 4730, \\\"y\\\": 61400000}, {\\\"x\\\": 1645, \\\"y\\\": 7567000}, {\\\"x\\\": 1605, \\\"y\\\": 7222000}, {\\\"x\\\": 1725, \\\"y\\\": 12400000}, {\\\"x\\\": 1525, \\\"y\\\": 11000000}, {\\\"x\\\": 1525, \\\"y\\\": 11000000}, {\\\"x\\\": 3883, \\\"y\\\": 29500000}, {\\\"x\\\": 5440, \\\"y\\\": 57500000}, {\\\"x\\\": 3031, \\\"y\\\": 24000000}, {\\\"x\\\": 1860, \\\"y\\\": 15500000}, {\\\"x\\\": 1875, \\\"y\\\": 7875000}, {\\\"x\\\": 2008, \\\"y\\\": 7429000}, {\\\"x\\\": 1290, \\\"y\\\": 8500000}, {\\\"x\\\": 2160, \\\"y\\\": 14000000}, {\\\"x\\\": 1000, \\\"y\\\": 3500000}, {\\\"x\\\": 1150, \\\"y\\\": 4140000}, {\\\"x\\\": 1170, \\\"y\\\": 4680000}, {\\\"x\\\": 4305, \\\"y\\\": 33000000}, {\\\"x\\\": 2800, \\\"y\\\": 13400000}, {\\\"x\\\": 1500, \\\"y\\\": 5700000}, {\\\"x\\\": 1620, \\\"y\\\": 4620000}, {\\\"x\\\": 1368, \\\"y\\\": 3900000}, {\\\"x\\\": 1090, \\\"y\\\": 6277000}, {\\\"x\\\": 1230, \\\"y\\\": 7019000}, {\\\"x\\\": 1435, \\\"y\\\": 8105000}, {\\\"x\\\": 1115, \\\"y\\\": 8181999}, {\\\"x\\\": 1945, \\\"y\\\": 10900000}, {\\\"x\\\": 1616, \\\"y\\\": 14000000}, {\\\"x\\\": 1100, \\\"y\\\": 4400000}, {\\\"x\\\": 1300, \\\"y\\\": 5200000}, {\\\"x\\\": 2690, \\\"y\\\": 20000000}, {\\\"x\\\": 2750, \\\"y\\\": 165000000}, {\\\"x\\\": 1834, \\\"y\\\": 14500000}, {\\\"x\\\": 1091, \\\"y\\\": 3500000}, {\\\"x\\\": 1500, \\\"y\\\": 7500000}, {\\\"x\\\": 1500, \\\"y\\\": 7500000}, {\\\"x\\\": 1834, \\\"y\\\": 15500000}, {\\\"x\\\": 1920, \\\"y\\\": 10700000}, {\\\"x\\\": 1425, \\\"y\\\": 10200000}, {\\\"x\\\": 1220, \\\"y\\\": 4700000}, {\\\"x\\\": 1615, \\\"y\\\": 7400000}, {\\\"x\\\": 1540, \\\"y\\\": 8500000}, {\\\"x\\\": 1400, \\\"y\\\": 6000000}, {\\\"x\\\": 1200, \\\"y\\\": 5200000}, {\\\"x\\\": 1425, \\\"y\\\": 5500000}, {\\\"x\\\": 1580, \\\"y\\\": 6500000}, {\\\"x\\\": 1844, \\\"y\\\": 9293000}, {\\\"x\\\": 2120, \\\"y\\\": 10600000}, {\\\"x\\\": 1000, \\\"y\\\": 6500000}, {\\\"x\\\": 965, \\\"y\\\": 6000000}, {\\\"x\\\": 2500, \\\"y\\\": 19500000}, {\\\"x\\\": 1100, \\\"y\\\": 4200000}, {\\\"x\\\": 875, \\\"y\\\": 4000000}, {\\\"x\\\": 1610, \\\"y\\\": 8000000}, {\\\"x\\\": 1420, \\\"y\\\": 8520000}, {\\\"x\\\": 2460, \\\"y\\\": 17300000}, {\\\"x\\\": 3250, \\\"y\\\": 32500000}, {\\\"x\\\": 1100, \\\"y\\\": 4070000}, {\\\"x\\\": 1100, \\\"y\\\": 4070000}, {\\\"x\\\": 1735, \\\"y\\\": 11200000}, {\\\"x\\\": 1510, \\\"y\\\": 6342000}, {\\\"x\\\": 1320, \\\"y\\\": 5544000}, {\\\"x\\\": 2175, \\\"y\\\": 9135000}, {\\\"x\\\": 1980, \\\"y\\\": 8316000}, {\\\"x\\\": 1560, \\\"y\\\": 6552000}, {\\\"x\\\": 2000, \\\"y\\\": 8400000}, {\\\"x\\\": 2005, \\\"y\\\": 8421000}, {\\\"x\\\": 1340, \\\"y\\\": 5628000}, {\\\"x\\\": 1880, \\\"y\\\": 7895999}, {\\\"x\\\": 1415, \\\"y\\\": 5943000}, {\\\"x\\\": 2180, \\\"y\\\": 9156000}, {\\\"x\\\": 2190, \\\"y\\\": 9198000}, {\\\"x\\\": 1600, \\\"y\\\": 6720000}, {\\\"x\\\": 2260, \\\"y\\\": 17000000}, {\\\"x\\\": 2015, \\\"y\\\": 15000000}, {\\\"x\\\": 1250, \\\"y\\\": 4500000}, {\\\"x\\\": 1001, \\\"y\\\": 3503000}, {\\\"x\\\": 1551, \\\"y\\\": 5600000}, {\\\"x\\\": 3000, \\\"y\\\": 7500000}, {\\\"x\\\": 1245, \\\"y\\\": 4600000}, {\\\"x\\\": 1100, \\\"y\\\": 7500000}, {\\\"x\\\": 1725, \\\"y\\\": 8105000}, {\\\"x\\\": 1435, \\\"y\\\": 6277000}, {\\\"x\\\": 1090, \\\"y\\\": 7019000}, {\\\"x\\\": 1230, \\\"y\\\": 4800000}, {\\\"x\\\": 1200, \\\"y\\\": 4600000}, {\\\"x\\\": 1150, \\\"y\\\": 8460000}, {\\\"x\\\": 1600, \\\"y\\\": 6675000}, {\\\"x\\\": 1250, \\\"y\\\": 10700000}, {\\\"x\\\": 1905, \\\"y\\\": 10800000}, {\\\"x\\\": 1925, \\\"y\\\": 7800000}, {\\\"x\\\": 2300, \\\"y\\\": 3000000}, {\\\"x\\\": 1045, \\\"y\\\": 32000000}, {\\\"x\\\": 3190, \\\"y\\\": 3690000}, {\\\"x\\\": 1800, \\\"y\\\": 5700000}, {\\\"x\\\": 1665, \\\"y\\\": 4200000}, {\\\"x\\\": 2000, \\\"y\\\": 2110000}, {\\\"x\\\": 1005, \\\"y\\\": 2114000}, {\\\"x\\\": 1007, \\\"y\\\": 2102000}, {\\\"x\\\": 1001, \\\"y\\\": 2104000}, {\\\"x\\\": 1002, \\\"y\\\": 6500000}, {\\\"x\\\": 1655, \\\"y\\\": 6240000}, {\\\"x\\\": 1650, \\\"y\\\": 8779000}, {\\\"x\\\": 1742, \\\"y\\\": 10100000}, {\\\"x\\\": 2010, \\\"y\\\": 11900000}, {\\\"x\\\": 2380, \\\"y\\\": 6000000}, {\\\"x\\\": 1045, \\\"y\\\": 9991000}, {\\\"x\\\": 1630, \\\"y\\\": 11399999}, {\\\"x\\\": 1885, \\\"y\\\": 7240000}, {\\\"x\\\": 1165, \\\"y\\\": 36000000}, {\\\"x\\\": 4320, \\\"y\\\": 12600000}, {\\\"x\\\": 1900, \\\"y\\\": 7000000}, {\\\"x\\\": 3600, \\\"y\\\": 6500000}, {\\\"x\\\": 1700, \\\"y\\\": 5900000}, {\\\"x\\\": 1060, \\\"y\\\": 3200000}, {\\\"x\\\": 1100, \\\"y\\\": 8000000}, {\\\"x\\\": 1450, \\\"y\\\": 22000000}, {\\\"x\\\": 4000, \\\"y\\\": 9057000}, {\\\"x\\\": 1460, \\\"y\\\": 3650000}, {\\\"x\\\": 1093, \\\"y\\\": 2200000}, {\\\"x\\\": 1000, \\\"y\\\": 4700000}, {\\\"x\\\": 1080, \\\"y\\\": 15500000}, {\\\"x\\\": 2220, \\\"y\\\": 5200000}, {\\\"x\\\": 1250, \\\"y\\\": 7584999}, {\\\"x\\\": 1945, \\\"y\\\": 13500000}, {\\\"x\\\": 2815, \\\"y\\\": 7584999}, {\\\"x\\\": 1945, \\\"y\\\": 14600000}, {\\\"x\\\": 2220, \\\"y\\\": 19600000}, {\\\"x\\\": 2225, \\\"y\\\": 12500000}, {\\\"x\\\": 1880, \\\"y\\\": 4400000}, {\\\"x\\\": 1146, \\\"y\\\": 18500000}, {\\\"x\\\": 2460, \\\"y\\\": 13200000}, {\\\"x\\\": 1600, \\\"y\\\": 10000000}, {\\\"x\\\": 1245, \\\"y\\\": 20000000}, {\\\"x\\\": 3405, \\\"y\\\": 12500000}, {\\\"x\\\": 1860, \\\"y\\\": 17000000}, {\\\"x\\\": 2585, \\\"y\\\": 5000000}, {\\\"x\\\": 1197, \\\"y\\\": 9000000}, {\\\"x\\\": 1485, \\\"y\\\": 5250000}, {\\\"x\\\": 1250, \\\"y\\\": 7750000}, {\\\"x\\\": 1550, \\\"y\\\": 6250000}, {\\\"x\\\": 1250, \\\"y\\\": 10300000}, {\\\"x\\\": 1887, \\\"y\\\": 5500000}, {\\\"x\\\": 1400, \\\"y\\\": 5700000}, {\\\"x\\\": 1050, \\\"y\\\": 14000000}, {\\\"x\\\": 1860, \\\"y\\\": 5500000}, {\\\"x\\\": 1200, \\\"y\\\": 5900000}, {\\\"x\\\": 1100, \\\"y\\\": 5700000}, {\\\"x\\\": 1050, \\\"y\\\": 5500000}, {\\\"x\\\": 1050, \\\"y\\\": 3500000}, {\\\"x\\\": 1000, \\\"y\\\": 10100000}, {\\\"x\\\": 1800, \\\"y\\\": 4000000}, {\\\"x\\\": 961, \\\"y\\\": 14000000}, {\\\"x\\\": 1650, \\\"y\\\": 9800000}, {\\\"x\\\": 1550, \\\"y\\\": 7500000}, {\\\"x\\\": 1260, \\\"y\\\": 3800000}, {\\\"x\\\": 950, \\\"y\\\": 4000000}, {\\\"x\\\": 1060, \\\"y\\\": 4000000}, {\\\"x\\\": 1000, \\\"y\\\": 6200000}, {\\\"x\\\": 1460, \\\"y\\\": 11000000}, {\\\"x\\\": 1314, \\\"y\\\": 26000000}, {\\\"x\\\": 2625, \\\"y\\\": 13300000}, {\\\"x\\\": 2050, \\\"y\\\": 10800000}, {\\\"x\\\": 1805, \\\"y\\\": 10400000}]}], \\\"marks\\\": [{\\\"name\\\": \\\"marks\\\", \\\"type\\\": \\\"symbol\\\", \\\"style\\\": [\\\"circle\\\"], \\\"from\\\": {\\\"data\\\": \\\"source_2\\\"}, \\\"encode\\\": {\\\"hover\\\": {\\\"fill\\\": {\\\"value\\\": \\\"#7EC2F3\\\"}}, \\\"update\\\": {\\\"x\\\": {\\\"scale\\\": \\\"x\\\", \\\"field\\\": \\\"x\\\"}, \\\"y\\\": {\\\"scale\\\": \\\"y\\\", \\\"field\\\": \\\"y\\\", \\\"title\\\": \\\"Miles per Gallon\\\"}, \\\"fill\\\": {\\\"value\\\": \\\"#108EE9\\\"}, \\\"shape\\\": {\\\"value\\\": \\\"circle\\\"}, \\\"opacity\\\": {\\\"value\\\": 0.7}}}}], \\\"scales\\\": [{\\\"name\\\": \\\"x\\\", \\\"type\\\": \\\"linear\\\", \\\"domain\\\": {\\\"data\\\": \\\"source_2\\\", \\\"field\\\": \\\"x\\\"}, \\\"range\\\": [0, {\\\"signal\\\": \\\"width\\\"}], \\\"nice\\\": true, \\\"zero\\\": false, \\\"padding\\\": 5}, {\\\"name\\\": \\\"y\\\", \\\"type\\\": \\\"linear\\\", \\\"domain\\\": {\\\"data\\\": \\\"source_2\\\", \\\"field\\\": \\\"y\\\"}, \\\"range\\\": [{\\\"signal\\\": \\\"height\\\"}, 0], \\\"nice\\\": true, \\\"zero\\\": false, \\\"padding\\\": 5}], \\\"axes\\\": [{\\\"scale\\\": \\\"x\\\", \\\"labelOverlap\\\": true, \\\"orient\\\": \\\"bottom\\\", \\\"tickCount\\\": {\\\"signal\\\": \\\"ceil(width/40)\\\"}, \\\"title\\\": \\\"Area\\\", \\\"zindex\\\": 1}, {\\\"scale\\\": \\\"x\\\", \\\"domain\\\": false, \\\"grid\\\": true, \\\"labels\\\": false, \\\"maxExtent\\\": 0, \\\"minExtent\\\": 0, \\\"orient\\\": \\\"bottom\\\", \\\"tickCount\\\": {\\\"signal\\\": \\\"ceil(width/40)\\\"}, \\\"ticks\\\": false, \\\"zindex\\\": 0, \\\"gridScale\\\": \\\"y\\\"}, {\\\"scale\\\": \\\"y\\\", \\\"labelOverlap\\\": true, \\\"orient\\\": \\\"left\\\", \\\"tickCount\\\": {\\\"signal\\\": \\\"ceil(height/40)\\\"}, \\\"title\\\": \\\"House Price\\\", \\\"zindex\\\": 1}, {\\\"scale\\\": \\\"y\\\", \\\"domain\\\": false, \\\"grid\\\": true, \\\"labels\\\": false, \\\"maxExtent\\\": 0, \\\"minExtent\\\": 0, \\\"orient\\\": \\\"left\\\", \\\"tickCount\\\": {\\\"signal\\\": \\\"ceil(height/40)\\\"}, \\\"ticks\\\": false, \\\"zindex\\\": 0, \\\"gridScale\\\": \\\"x\\\"}], \\\"config\\\": {\\\"axis\\\": {\\\"gridColor\\\": \\\"rgba(204,204,204,1.0)\\\", \\\"labelFont\\\": \\\"\\\\\\\"San Francisco\\\\\\\", HelveticaNeue, Arial\\\", \\\"labelFontSize\\\": 12, \\\"labelPadding\\\": 10, \\\"labelColor\\\": \\\"rgba(0,0,0,0.847)\\\", \\\"tickColor\\\": \\\"rgb(136,136,136)\\\", \\\"titleFont\\\": \\\"\\\\\\\"San Francisco\\\\\\\", HelveticaNeue, Arial\\\", \\\"titleFontWeight\\\": \\\"normal\\\", \\\"titlePadding\\\": 20, \\\"titleFontSize\\\": 14, \\\"titleColor\\\": \\\"rgba(0,0,0,0.847)\\\"}, \\\"axisY\\\": {\\\"minExtent\\\": 30}, \\\"legend\\\": {\\\"labelFont\\\": \\\"\\\\\\\"San Francisco\\\\\\\", HelveticaNeue, Arial\\\", \\\"labelColor\\\": \\\"rgba(0,0,0,0.847)\\\", \\\"titleFont\\\": \\\"\\\\\\\"San Francisco\\\\\\\", HelveticaNeue, Arial\\\", \\\"cornerRadius\\\": 30, \\\"gradientLength\\\": 608, \\\"titleColor\\\": \\\"rgba(0,0,0,0.847)\\\"}, \\\"range\\\": {\\\"heatmap\\\": {\\\"scheme\\\": \\\"greenblue\\\"}}, \\\"style\\\": {\\\"rect\\\": {\\\"stroke\\\": \\\"rgba(200, 200, 200, 0.5)\\\"}, \\\"cell\\\": {\\\"stroke\\\": \\\"transparent\\\"}, \\\"group-title\\\": {\\\"fontSize\\\": 29, \\\"font\\\": \\\"HelveticaNeue, Arial\\\", \\\"fontWeight\\\": \\\"normal\\\", \\\"fill\\\": \\\"rgba(0,0,0,0.65)\\\"}}, \\\"title\\\": {\\\"color\\\": \\\"rgba(0,0,0,0.847)\\\", \\\"font\\\": \\\"\\\\\\\"San Francisco\\\\\\\", HelveticaNeue, Arial\\\", \\\"fontSize\\\": 18, \\\"fontWeight\\\": \\\"normal\\\", \\\"offset\\\": 30}}}\";                                 var vega_json_parsed = JSON.parse(vega_json);                                 var toolTipOpts = {                                     showAllFields: true                                 };                                 if(vega_json_parsed[\"metadata\"] != null){                                     if(vega_json_parsed[\"metadata\"][\"bubbleOpts\"] != null){                                         toolTipOpts = vega_json_parsed[\"metadata\"][\"bubbleOpts\"];                                     };                                 };                                 vegaEmbed(\"#vis\", vega_json_parsed).then(function (result) {                                     vegaTooltip.vega(result.view, toolTipOpts);                                  });                             </script>                         </body>                     </html>' src=\"demo_iframe_srcdoc.htm\">                         <p>Your browser does not support iframes.</p>                     </iframe>                 </body>             </html>"
            ]
          },
          "metadata": {}
        },
        {
          "output_type": "execute_result",
          "data": {
            "text/plain": [
              "<turicreate.visualization._plot.Plot at 0x7f90eef4a070>"
            ]
          },
          "metadata": {},
          "execution_count": 10
        }
      ]
    },
    {
      "cell_type": "code",
      "source": [
        "#Exploring the relationship between price and No. of Bedrooms\n",
        "tc.visualization.scatter(data[\"No. of Bedrooms\"], \n",
        "                         data[\"Price\"],\n",
        "                        xlabel = \"No. of Bedrooms\", \n",
        "                        ylabel = \"House Price\")"
      ],
      "metadata": {
        "colab": {
          "base_uri": "https://localhost:8080/",
          "height": 809
        },
        "id": "8aAL2lXO6bZt",
        "outputId": "0e9b4efd-32b5-4da5-874b-5b24210dcbff"
      },
      "execution_count": 11,
      "outputs": [
        {
          "output_type": "display_data",
          "data": {
            "text/plain": [
              "<IPython.core.display.HTML object>"
            ],
            "text/html": [
              "<html>                 <body>                     <iframe style=\"border:0;margin:0\" width=\"920\" height=\"770\" srcdoc='<html lang=\"en\">                         <head>                             <script src=\"https://cdnjs.cloudflare.com/ajax/libs/vega/5.4.0/vega.js\"></script>                             <script src=\"https://cdnjs.cloudflare.com/ajax/libs/vega-embed/4.0.0/vega-embed.js\"></script>                             <script src=\"https://cdnjs.cloudflare.com/ajax/libs/vega-tooltip/0.5.1/vega-tooltip.min.js\"></script>                             <link rel=\"stylesheet\" type=\"text/css\" href=\"https://cdnjs.cloudflare.com/ajax/libs/vega-tooltip/0.5.1/vega-tooltip.min.css\">                             <style>                             .vega-actions > a{                                 color:white;                                 text-decoration: none;                                 font-family: \"Arial\";                                 cursor:pointer;                                 padding:5px;                                 background:#AAAAAA;                                 border-radius:4px;                                 padding-left:10px;                                 padding-right:10px;                                 margin-right:5px;                             }                             .vega-actions{                                 margin-top:20px;                                 text-align:center                             }                            .vega-actions > a{                                 background:#999999;                            }                             </style>                         </head>                         <body>                             <div id=\"vis\">                             </div>                             <script>                                 var vega_json = \"{\\\"$schema\\\": \\\"https://vega.github.io/schema/vega/v4.json\\\", \\\"autosize\\\": {\\\"type\\\": \\\"fit\\\", \\\"resize\\\": false, \\\"contains\\\": \\\"padding\\\"}, \\\"padding\\\": 8, \\\"width\\\": 720, \\\"height\\\": 550, \\\"style\\\": \\\"cell\\\", \\\"title\\\": \\\"Area vs. House Price\\\", \\\"data\\\": [{\\\"name\\\": \\\"source_2\\\", \\\"values\\\": [{\\\"x\\\": 2, \\\"y\\\": 6968000}, {\\\"x\\\": 4, \\\"y\\\": 29000000}, {\\\"x\\\": 2, \\\"y\\\": 6590000}, {\\\"x\\\": 3, \\\"y\\\": 5739000}, {\\\"x\\\": 2, \\\"y\\\": 5679000}, {\\\"x\\\": 2, \\\"y\\\": 6099000}, {\\\"x\\\": 2, \\\"y\\\": 7000000}, {\\\"x\\\": 3, \\\"y\\\": 4198000}, {\\\"x\\\": 3, \\\"y\\\": 9900000}, {\\\"x\\\": 2, \\\"y\\\": 9800000}, {\\\"x\\\": 3, \\\"y\\\": 8903000}, {\\\"x\\\": 2, \\\"y\\\": 6300000}, {\\\"x\\\": 2, \\\"y\\\": 6300000}, {\\\"x\\\": 3, \\\"y\\\": 9000000}, {\\\"x\\\": 3, \\\"y\\\": 11100000}, {\\\"x\\\": 3, \\\"y\\\": 11500000}, {\\\"x\\\": 3, \\\"y\\\": 10900000}, {\\\"x\\\": 2, \\\"y\\\": 8625000}, {\\\"x\\\": 3, \\\"y\\\": 9900000}, {\\\"x\\\": 3, \\\"y\\\": 3900000}, {\\\"x\\\": 2, \\\"y\\\": 6968000}, {\\\"x\\\": 4, \\\"y\\\": 29000000}, {\\\"x\\\": 2, \\\"y\\\": 6590000}, {\\\"x\\\": 3, \\\"y\\\": 5739000}, {\\\"x\\\": 2, \\\"y\\\": 5679000}, {\\\"x\\\": 2, \\\"y\\\": 6099000}, {\\\"x\\\": 2, \\\"y\\\": 7000000}, {\\\"x\\\": 3, \\\"y\\\": 4198000}, {\\\"x\\\": 3, \\\"y\\\": 9900000}, {\\\"x\\\": 2, \\\"y\\\": 9800000}, {\\\"x\\\": 3, \\\"y\\\": 8903000}, {\\\"x\\\": 2, \\\"y\\\": 6300000}, {\\\"x\\\": 2, \\\"y\\\": 6300000}, {\\\"x\\\": 3, \\\"y\\\": 9000000}, {\\\"x\\\": 3, \\\"y\\\": 11100000}, {\\\"x\\\": 3, \\\"y\\\": 11500000}, {\\\"x\\\": 3, \\\"y\\\": 10900000}, {\\\"x\\\": 2, \\\"y\\\": 8625000}, {\\\"x\\\": 3, \\\"y\\\": 9900000}, {\\\"x\\\": 3, \\\"y\\\": 3900000}, {\\\"x\\\": 3, \\\"y\\\": 7800000}, {\\\"x\\\": 3, \\\"y\\\": 19600000}, {\\\"x\\\": 2, \\\"y\\\": 6050000}, {\\\"x\\\": 2, \\\"y\\\": 6150000}, {\\\"x\\\": 2, \\\"y\\\": 5000000}, {\\\"x\\\": 2, \\\"y\\\": 4760000}, {\\\"x\\\": 4, \\\"y\\\": 30000000}, {\\\"x\\\": 2, \\\"y\\\": 2500000}, {\\\"x\\\": 2, \\\"y\\\": 5900000}, {\\\"x\\\": 3, \\\"y\\\": 9700000}, {\\\"x\\\": 2, \\\"y\\\": 4641000}, {\\\"x\\\": 3, \\\"y\\\": 16000000}, {\\\"x\\\": 2, \\\"y\\\": 4641000}, {\\\"x\\\": 3, \\\"y\\\": 7500000}, {\\\"x\\\": 3, \\\"y\\\": 6140000}, {\\\"x\\\": 3, \\\"y\\\": 10500000}, {\\\"x\\\": 3, \\\"y\\\": 7200000}, {\\\"x\\\": 2, \\\"y\\\": 4600000}, {\\\"x\\\": 3, \\\"y\\\": 10400000}, {\\\"x\\\": 3, \\\"y\\\": 9500000}, {\\\"x\\\": 3, \\\"y\\\": 9942000}, {\\\"x\\\": 3, \\\"y\\\": 9250000}, {\\\"x\\\": 3, \\\"y\\\": 4500000}, {\\\"x\\\": 3, \\\"y\\\": 9600000}, {\\\"x\\\": 3, \\\"y\\\": 8600000}, {\\\"x\\\": 2, \\\"y\\\": 2700000}, {\\\"x\\\": 3, \\\"y\\\": 6600000}, {\\\"x\\\": 3, \\\"y\\\": 8589000}, {\\\"x\\\": 2, \\\"y\\\": 5500000}, {\\\"x\\\": 2, \\\"y\\\": 3200000}, {\\\"x\\\": 3, \\\"y\\\": 20500000}, {\\\"x\\\": 2, \\\"y\\\": 6300000}, {\\\"x\\\": 3, \\\"y\\\": 6400000}, {\\\"x\\\": 2, \\\"y\\\": 4988000}, {\\\"x\\\": 2, \\\"y\\\": 10500000}, {\\\"x\\\": 2, \\\"y\\\": 4300000}, {\\\"x\\\": 2, \\\"y\\\": 3900000}, {\\\"x\\\": 3, \\\"y\\\": 5500000}, {\\\"x\\\": 3, \\\"y\\\": 10300000}, {\\\"x\\\": 2, \\\"y\\\": 6600000}, {\\\"x\\\": 2, \\\"y\\\": 6500000}, {\\\"x\\\": 2, \\\"y\\\": 5784000}, {\\\"x\\\": 3, \\\"y\\\": 5500000}, {\\\"x\\\": 2, \\\"y\\\": 6700000}, {\\\"x\\\": 2, \\\"y\\\": 3000000}, {\\\"x\\\": 2, \\\"y\\\": 4700000}, {\\\"x\\\": 3, \\\"y\\\": 15000000}, {\\\"x\\\": 3, \\\"y\\\": 7872000}, {\\\"x\\\": 3, \\\"y\\\": 7500000}, {\\\"x\\\": 3, \\\"y\\\": 8903000}, {\\\"x\\\": 2, \\\"y\\\": 3200000}, {\\\"x\\\": 3, \\\"y\\\": 5600000}, {\\\"x\\\": 3, \\\"y\\\": 11000000}, {\\\"x\\\": 3, \\\"y\\\": 12000000}, {\\\"x\\\": 2, \\\"y\\\": 6900000}, {\\\"x\\\": 3, \\\"y\\\": 3900000}, {\\\"x\\\": 2, \\\"y\\\": 3999000}, {\\\"x\\\": 2, \\\"y\\\": 4460000}, {\\\"x\\\": 2, \\\"y\\\": 7298999}, {\\\"x\\\": 3, \\\"y\\\": 10500000}, {\\\"x\\\": 3, \\\"y\\\": 12000000}, {\\\"x\\\": 3, \\\"y\\\": 7700000}, {\\\"x\\\": 3, \\\"y\\\": 12400000}, {\\\"x\\\": 4, \\\"y\\\": 28200000}, {\\\"x\\\": 2, \\\"y\\\": 3700000}, {\\\"x\\\": 2, \\\"y\\\": 8000000}, {\\\"x\\\": 4, \\\"y\\\": 17700000}, {\\\"x\\\": 3, \\\"y\\\": 6998999}, {\\\"x\\\": 3, \\\"y\\\": 19400000}, {\\\"x\\\": 2, \\\"y\\\": 3000000}, {\\\"x\\\": 2, \\\"y\\\": 2999000}, {\\\"x\\\": 3, \\\"y\\\": 8500000}, {\\\"x\\\": 1, \\\"y\\\": 6500000}, {\\\"x\\\": 1, \\\"y\\\": 4500000}, {\\\"x\\\": 3, \\\"y\\\": 8500000}, {\\\"x\\\": 3, \\\"y\\\": 14500000}, {\\\"x\\\": 2, \\\"y\\\": 8000000}, {\\\"x\\\": 3, \\\"y\\\": 8600000}, {\\\"x\\\": 3, \\\"y\\\": 9073000}, {\\\"x\\\": 1, \\\"y\\\": 6700000}, {\\\"x\\\": 2, \\\"y\\\": 6344000}, {\\\"x\\\": 3, \\\"y\\\": 8580000}, {\\\"x\\\": 3, \\\"y\\\": 8736000}, {\\\"x\\\": 3, \\\"y\\\": 8086000}, {\\\"x\\\": 3, \\\"y\\\": 8762000}, {\\\"x\\\": 3, \\\"y\\\": 7904000}, {\\\"x\\\": 2, \\\"y\\\": 6370000}, {\\\"x\\\": 3, \\\"y\\\": 9334000}, {\\\"x\\\": 2, \\\"y\\\": 7462000}, {\\\"x\\\": 2, \\\"y\\\": 7436000}, {\\\"x\\\": 2, \\\"y\\\": 6578000}, {\\\"x\\\": 3, \\\"y\\\": 10400000}, {\\\"x\\\": 3, \\\"y\\\": 10400000}, {\\\"x\\\": 2, \\\"y\\\": 6850000}, {\\\"x\\\": 3, \\\"y\\\": 11100000}, {\\\"x\\\": 3, \\\"y\\\": 10300000}, {\\\"x\\\": 2, \\\"y\\\": 7000000}, {\\\"x\\\": 3, \\\"y\\\": 9325000}, {\\\"x\\\": 3, \\\"y\\\": 11299999}, {\\\"x\\\": 3, \\\"y\\\": 9480000}, {\\\"x\\\": 4, \\\"y\\\": 25600000}, {\\\"x\\\": 3, \\\"y\\\": 8510000}, {\\\"x\\\": 2, \\\"y\\\": 6750000}, {\\\"x\\\": 3, \\\"y\\\": 7625000}, {\\\"x\\\": 2, \\\"y\\\": 6125000}, {\\\"x\\\": 3, \\\"y\\\": 8640000}, {\\\"x\\\": 3, \\\"y\\\": 8625000}, {\\\"x\\\": 2, \\\"y\\\": 6500000}, {\\\"x\\\": 3, \\\"y\\\": 8000000}, {\\\"x\\\": 2, \\\"y\\\": 6000000}, {\\\"x\\\": 3, \\\"y\\\": 9900000}, {\\\"x\\\": 3, \\\"y\\\": 8234999}, {\\\"x\\\": 3, \\\"y\\\": 8256999}, {\\\"x\\\": 3, \\\"y\\\": 7100000}, {\\\"x\\\": 3, \\\"y\\\": 9900000}, {\\\"x\\\": 3, \\\"y\\\": 9900000}, {\\\"x\\\": 3, \\\"y\\\": 9900000}, {\\\"x\\\": 3, \\\"y\\\": 16000000}, {\\\"x\\\": 3, \\\"y\\\": 8000000}, {\\\"x\\\": 2, \\\"y\\\": 5654000}, {\\\"x\\\": 2, \\\"y\\\": 5704000}, {\\\"x\\\": 3, \\\"y\\\": 7588000}, {\\\"x\\\": 2, \\\"y\\\": 5999000}, {\\\"x\\\": 2, \\\"y\\\": 6000000}, {\\\"x\\\": 2, \\\"y\\\": 3148000}, {\\\"x\\\": 3, \\\"y\\\": 6325000}, {\\\"x\\\": 2, \\\"y\\\": 4748000}, {\\\"x\\\": 2, \\\"y\\\": 4748000}, {\\\"x\\\": 3, \\\"y\\\": 8168000}, {\\\"x\\\": 3, \\\"y\\\": 8168000}, {\\\"x\\\": 2, \\\"y\\\": 7802000}, {\\\"x\\\": 2, \\\"y\\\": 5373000}, {\\\"x\\\": 3, \\\"y\\\": 7400000}, {\\\"x\\\": 3, \\\"y\\\": 7400000}, {\\\"x\\\": 3, \\\"y\\\": 8903000}, {\\\"x\\\": 4, \\\"y\\\": 20200000}, {\\\"x\\\": 4, \\\"y\\\": 20200000}, {\\\"x\\\": 3, \\\"y\\\": 10800000}, {\\\"x\\\": 3, \\\"y\\\": 10800000}, {\\\"x\\\": 3, \\\"y\\\": 15200000}, {\\\"x\\\": 3, \\\"y\\\": 15200000}, {\\\"x\\\": 4, \\\"y\\\": 15200000}, {\\\"x\\\": 4, \\\"y\\\": 15200000}, {\\\"x\\\": 4, \\\"y\\\": 47200000}, {\\\"x\\\": 4, \\\"y\\\": 21500000}, {\\\"x\\\": 3, \\\"y\\\": 12000000}, {\\\"x\\\": 3, \\\"y\\\": 10000000}, {\\\"x\\\": 3, \\\"y\\\": 9500000}, {\\\"x\\\": 3, \\\"y\\\": 10700000}, {\\\"x\\\": 3, \\\"y\\\": 10700000}, {\\\"x\\\": 3, \\\"y\\\": 10700000}, {\\\"x\\\": 3, \\\"y\\\": 11500000}, {\\\"x\\\": 3, \\\"y\\\": 17000000}, {\\\"x\\\": 2, \\\"y\\\": 4000000}, {\\\"x\\\": 2, \\\"y\\\": 4000000}, {\\\"x\\\": 4, \\\"y\\\": 8500000}, {\\\"x\\\": 3, \\\"y\\\": 8600000}, {\\\"x\\\": 3, \\\"y\\\": 8599000}, {\\\"x\\\": 3, \\\"y\\\": 8898000}, {\\\"x\\\": 3, \\\"y\\\": 8599000}, {\\\"x\\\": 3, \\\"y\\\": 8298999}, {\\\"x\\\": 3, \\\"y\\\": 8598000}, {\\\"x\\\": 3, \\\"y\\\": 8898000}, {\\\"x\\\": 2, \\\"y\\\": 4200000}, {\\\"x\\\": 2, \\\"y\\\": 4200000}, {\\\"x\\\": 3, \\\"y\\\": 10000000}, {\\\"x\\\": 3, \\\"y\\\": 3900000}, {\\\"x\\\": 3, \\\"y\\\": 10000000}, {\\\"x\\\": 3, \\\"y\\\": 9900000}, {\\\"x\\\": 2, \\\"y\\\": 4760000}, {\\\"x\\\": 2, \\\"y\\\": 4400000}, {\\\"x\\\": 3, \\\"y\\\": 7840000}, {\\\"x\\\": 2, \\\"y\\\": 4760000}, {\\\"x\\\": 2, \\\"y\\\": 4400000}, {\\\"x\\\": 2, \\\"y\\\": 8600000}, {\\\"x\\\": 3, \\\"y\\\": 6800000}, {\\\"x\\\": 3, \\\"y\\\": 18500000}, {\\\"x\\\": 2, \\\"y\\\": 4400000}, {\\\"x\\\": 2, \\\"y\\\": 4760000}, {\\\"x\\\": 2, \\\"y\\\": 4400000}, {\\\"x\\\": 3, \\\"y\\\": 7840000}, {\\\"x\\\": 2, \\\"y\\\": 4760000}, {\\\"x\\\": 2, \\\"y\\\": 4400000}, {\\\"x\\\": 2, \\\"y\\\": 8600000}, {\\\"x\\\": 2, \\\"y\\\": 5880000}, {\\\"x\\\": 2, \\\"y\\\": 4400000}, {\\\"x\\\": 2, \\\"y\\\": 4760000}, {\\\"x\\\": 2, \\\"y\\\": 4760000}, {\\\"x\\\": 2, \\\"y\\\": 4760000}, {\\\"x\\\": 2, \\\"y\\\": 4400000}, {\\\"x\\\": 2, \\\"y\\\": 4760000}, {\\\"x\\\": 2, \\\"y\\\": 4760000}, {\\\"x\\\": 2, \\\"y\\\": 4760000}, {\\\"x\\\": 3, \\\"y\\\": 9906000}, {\\\"x\\\": 3, \\\"y\\\": 10000000}, {\\\"x\\\": 3, \\\"y\\\": 6187000}, {\\\"x\\\": 2, \\\"y\\\": 3800000}, {\\\"x\\\": 3, \\\"y\\\": 11500000}, {\\\"x\\\": 3, \\\"y\\\": 12000000}, {\\\"x\\\": 2, \\\"y\\\": 4641000}, {\\\"x\\\": 2, \\\"y\\\": 4641000}, {\\\"x\\\": 2, \\\"y\\\": 4641000}, {\\\"x\\\": 3, \\\"y\\\": 18500000}, {\\\"x\\\": 2, \\\"y\\\": 8600000}, {\\\"x\\\": 3, \\\"y\\\": 6800000}, {\\\"x\\\": 3, \\\"y\\\": 11100000}, {\\\"x\\\": 2, \\\"y\\\": 4400000}, {\\\"x\\\": 2, \\\"y\\\": 4400000}, {\\\"x\\\": 2, \\\"y\\\": 4400000}, {\\\"x\\\": 2, \\\"y\\\": 4400000}, {\\\"x\\\": 2, \\\"y\\\": 4400000}, {\\\"x\\\": 2, \\\"y\\\": 4400000}, {\\\"x\\\": 2, \\\"y\\\": 4400000}, {\\\"x\\\": 2, \\\"y\\\": 4400000}, {\\\"x\\\": 2, \\\"y\\\": 4400000}, {\\\"x\\\": 2, \\\"y\\\": 4400000}, {\\\"x\\\": 2, \\\"y\\\": 4641000}, {\\\"x\\\": 2, \\\"y\\\": 4400000}, {\\\"x\\\": 2, \\\"y\\\": 4641000}, {\\\"x\\\": 2, \\\"y\\\": 4641000}, {\\\"x\\\": 2, \\\"y\\\": 4641000}, {\\\"x\\\": 2, \\\"y\\\": 4641000}, {\\\"x\\\": 2, \\\"y\\\": 4641000}, {\\\"x\\\": 2, \\\"y\\\": 7847000}, {\\\"x\\\": 2, \\\"y\\\": 4400000}, {\\\"x\\\": 3, \\\"y\\\": 10000000}, {\\\"x\\\": 2, \\\"y\\\": 4400000}, {\\\"x\\\": 2, \\\"y\\\": 4641000}, {\\\"x\\\": 3, \\\"y\\\": 9900000}, {\\\"x\\\": 2, \\\"y\\\": 6500000}, {\\\"x\\\": 3, \\\"y\\\": 7500000}, {\\\"x\\\": 2, \\\"y\\\": 6500000}, {\\\"x\\\": 2, \\\"y\\\": 5300000}, {\\\"x\\\": 2, \\\"y\\\": 4641000}, {\\\"x\\\": 2, \\\"y\\\": 8600000}, {\\\"x\\\": 2, \\\"y\\\": 4641000}, {\\\"x\\\": 2, \\\"y\\\": 4641000}, {\\\"x\\\": 3, \\\"y\\\": 10700000}, {\\\"x\\\": 2, \\\"y\\\": 4840000}, {\\\"x\\\": 2, \\\"y\\\": 4542000}, {\\\"x\\\": 3, \\\"y\\\": 8100000}, {\\\"x\\\": 3, \\\"y\\\": 6931000}, {\\\"x\\\": 2, \\\"y\\\": 7098999}, {\\\"x\\\": 3, \\\"y\\\": 11100000}, {\\\"x\\\": 2, \\\"y\\\": 7240000}, {\\\"x\\\": 3, \\\"y\\\": 10000000}, {\\\"x\\\": 3, \\\"y\\\": 13000000}, {\\\"x\\\": 4, \\\"y\\\": 43000000}, {\\\"x\\\": 3, \\\"y\\\": 8900000}, {\\\"x\\\": 3, \\\"y\\\": 15000000}, {\\\"x\\\": 3, \\\"y\\\": 15000000}, {\\\"x\\\": 3, \\\"y\\\": 12000000}, {\\\"x\\\": 3, \\\"y\\\": 12000000}, {\\\"x\\\": 3, \\\"y\\\": 12000000}, {\\\"x\\\": 3, \\\"y\\\": 12000000}, {\\\"x\\\": 3, \\\"y\\\": 12000000}, {\\\"x\\\": 3, \\\"y\\\": 12000000}, {\\\"x\\\": 2, \\\"y\\\": 7744000}, {\\\"x\\\": 3, \\\"y\\\": 9760000}, {\\\"x\\\": 2, \\\"y\\\": 8500000}, {\\\"x\\\": 1, \\\"y\\\": 2500000}, {\\\"x\\\": 2, \\\"y\\\": 8200000}, {\\\"x\\\": 2, \\\"y\\\": 8200000}, {\\\"x\\\": 2, \\\"y\\\": 8200000}, {\\\"x\\\": 2, \\\"y\\\": 8200000}, {\\\"x\\\": 2, \\\"y\\\": 8200000}, {\\\"x\\\": 2, \\\"y\\\": 8200000}, {\\\"x\\\": 2, \\\"y\\\": 8200000}, {\\\"x\\\": 2, \\\"y\\\": 8200000}, {\\\"x\\\": 2, \\\"y\\\": 8200000}, {\\\"x\\\": 2, \\\"y\\\": 8200000}, {\\\"x\\\": 3, \\\"y\\\": 10800000}, {\\\"x\\\": 3, \\\"y\\\": 27500000}, {\\\"x\\\": 4, \\\"y\\\": 35000000}, {\\\"x\\\": 3, \\\"y\\\": 9822000}, {\\\"x\\\": 4, \\\"y\\\": 30000000}, {\\\"x\\\": 3, \\\"y\\\": 27500000}, {\\\"x\\\": 2, \\\"y\\\": 4880000}, {\\\"x\\\": 3, \\\"y\\\": 9984000}, {\\\"x\\\": 4, \\\"y\\\": 25000000}, {\\\"x\\\": 3, \\\"y\\\": 5400000}, {\\\"x\\\": 3, \\\"y\\\": 15000000}, {\\\"x\\\": 3, \\\"y\\\": 9984000}, {\\\"x\\\": 3, \\\"y\\\": 10000000}, {\\\"x\\\": 2, \\\"y\\\": 11800000}, {\\\"x\\\": 2, \\\"y\\\": 4542000}, {\\\"x\\\": 3, \\\"y\\\": 10900000}, {\\\"x\\\": 2, \\\"y\\\": 7098999}, {\\\"x\\\": 3, \\\"y\\\": 46000000}, {\\\"x\\\": 3, \\\"y\\\": 19800000}, {\\\"x\\\": 3, \\\"y\\\": 7600000}, {\\\"x\\\": 3, \\\"y\\\": 18000000}, {\\\"x\\\": 3, \\\"y\\\": 12300000}, {\\\"x\\\": 3, \\\"y\\\": 12300000}, {\\\"x\\\": 2, \\\"y\\\": 5500000}, {\\\"x\\\": 2, \\\"y\\\": 3700000}, {\\\"x\\\": 3, \\\"y\\\": 12300000}, {\\\"x\\\": 3, \\\"y\\\": 12300000}, {\\\"x\\\": 3, \\\"y\\\": 12300000}, {\\\"x\\\": 3, \\\"y\\\": 12300000}, {\\\"x\\\": 2, \\\"y\\\": 4850000}, {\\\"x\\\": 2, \\\"y\\\": 4850000}, {\\\"x\\\": 2, \\\"y\\\": 4850000}, {\\\"x\\\": 2, \\\"y\\\": 4850000}, {\\\"x\\\": 2, \\\"y\\\": 4850000}, {\\\"x\\\": 2, \\\"y\\\": 4500000}, {\\\"x\\\": 3, \\\"y\\\": 7600000}, {\\\"x\\\": 3, \\\"y\\\": 8600000}, {\\\"x\\\": 3, \\\"y\\\": 7500000}, {\\\"x\\\": 2, \\\"y\\\": 5200000}, {\\\"x\\\": 3, \\\"y\\\": 5700000}, {\\\"x\\\": 3, \\\"y\\\": 6931000}, {\\\"x\\\": 3, \\\"y\\\": 10800000}, {\\\"x\\\": 3, \\\"y\\\": 10900000}, {\\\"x\\\": 3, \\\"y\\\": 13000000}, {\\\"x\\\": 2, \\\"y\\\": 3650000}, {\\\"x\\\": 2, \\\"y\\\": 8625000}, {\\\"x\\\": 3, \\\"y\\\": 7500000}, {\\\"x\\\": 3, \\\"y\\\": 20000000}, {\\\"x\\\": 3, \\\"y\\\": 10000000}, {\\\"x\\\": 4, \\\"y\\\": 45000000}, {\\\"x\\\": 4, \\\"y\\\": 45000000}, {\\\"x\\\": 4, \\\"y\\\": 45000000}, {\\\"x\\\": 2, \\\"y\\\": 3300000}, {\\\"x\\\": 2, \\\"y\\\": 3300000}, {\\\"x\\\": 2, \\\"y\\\": 3300000}, {\\\"x\\\": 2, \\\"y\\\": 3300000}, {\\\"x\\\": 2, \\\"y\\\": 5635000}, {\\\"x\\\": 3, \\\"y\\\": 12900000}, {\\\"x\\\": 3, \\\"y\\\": 7800000}, {\\\"x\\\": 2, \\\"y\\\": 6300000}, {\\\"x\\\": 4, \\\"y\\\": 28000000}, {\\\"x\\\": 3, \\\"y\\\": 30000000}, {\\\"x\\\": 3, \\\"y\\\": 30000000}, {\\\"x\\\": 4, \\\"y\\\": 12500000}, {\\\"x\\\": 2, \\\"y\\\": 6583000}, {\\\"x\\\": 3, \\\"y\\\": 8977000}, {\\\"x\\\": 4, \\\"y\\\": 35500000}, {\\\"x\\\": 2, \\\"y\\\": 7500000}, {\\\"x\\\": 3, \\\"y\\\": 7000000}, {\\\"x\\\": 3, \\\"y\\\": 14500000}, {\\\"x\\\": 3, \\\"y\\\": 13500000}, {\\\"x\\\": 3, \\\"y\\\": 13500000}, {\\\"x\\\": 2, \\\"y\\\": 2700000}, {\\\"x\\\": 3, \\\"y\\\": 8990000}, {\\\"x\\\": 4, \\\"y\\\": 27500000}, {\\\"x\\\": 5, \\\"y\\\": 66400000}, {\\\"x\\\": 2, \\\"y\\\": 7500000}, {\\\"x\\\": 3, \\\"y\\\": 5700000}, {\\\"x\\\": 4, \\\"y\\\": 33000000}, {\\\"x\\\": 4, \\\"y\\\": 33000000}, {\\\"x\\\": 2, \\\"y\\\": 5500000}, {\\\"x\\\": 2, \\\"y\\\": 3578000}, {\\\"x\\\": 2, \\\"y\\\": 7800000}, {\\\"x\\\": 4, \\\"y\\\": 52000000}, {\\\"x\\\": 4, \\\"y\\\": 52000000}, {\\\"x\\\": 4, \\\"y\\\": 40000000}, {\\\"x\\\": 4, \\\"y\\\": 40000000}, {\\\"x\\\": 3, \\\"y\\\": 36700000}, {\\\"x\\\": 3, \\\"y\\\": 36700000}, {\\\"x\\\": 2, \\\"y\\\": 8600000}, {\\\"x\\\": 2, \\\"y\\\": 9000000}, {\\\"x\\\": 2, \\\"y\\\": 9000000}, {\\\"x\\\": 2, \\\"y\\\": 9877000}, {\\\"x\\\": 3, \\\"y\\\": 13000000}, {\\\"x\\\": 3, \\\"y\\\": 18800000}, {\\\"x\\\": 2, \\\"y\\\": 6000000}, {\\\"x\\\": 3, \\\"y\\\": 7000000}, {\\\"x\\\": 3, \\\"y\\\": 9984000}, {\\\"x\\\": 3, \\\"y\\\": 10000000}, {\\\"x\\\": 3, \\\"y\\\": 9906000}, {\\\"x\\\": 2, \\\"y\\\": 5500000}, {\\\"x\\\": 3, \\\"y\\\": 8000000}, {\\\"x\\\": 2, \\\"y\\\": 8600000}, {\\\"x\\\": 3, \\\"y\\\": 11100000}, {\\\"x\\\": 3, \\\"y\\\": 11100000}, {\\\"x\\\": 2, \\\"y\\\": 4200000}, {\\\"x\\\": 2, \\\"y\\\": 4200000}, {\\\"x\\\": 3, \\\"y\\\": 14500000}, {\\\"x\\\": 2, \\\"y\\\": 7098999}, {\\\"x\\\": 3, \\\"y\\\": 8953000}, {\\\"x\\\": 3, \\\"y\\\": 7872000}, {\\\"x\\\": 3, \\\"y\\\": 7590000}, {\\\"x\\\": 2, \\\"y\\\": 5452000}, {\\\"x\\\": 3, \\\"y\\\": 8459000}, {\\\"x\\\": 2, \\\"y\\\": 5640000}, {\\\"x\\\": 2, \\\"y\\\": 4500000}, {\\\"x\\\": 2, \\\"y\\\": 4830000}, {\\\"x\\\": 2, \\\"y\\\": 4900000}, {\\\"x\\\": 2, \\\"y\\\": 6000000}, {\\\"x\\\": 2, \\\"y\\\": 4500000}, {\\\"x\\\": 2, \\\"y\\\": 4299000}, {\\\"x\\\": 2, \\\"y\\\": 4750000}, {\\\"x\\\": 2, \\\"y\\\": 4200000}, {\\\"x\\\": 3, \\\"y\\\": 12500000}, {\\\"x\\\": 3, \\\"y\\\": 12000000}, {\\\"x\\\": 3, \\\"y\\\": 12000000}, {\\\"x\\\": 3, \\\"y\\\": 8298999}, {\\\"x\\\": 3, \\\"y\\\": 8898000}, {\\\"x\\\": 3, \\\"y\\\": 7998999}, {\\\"x\\\": 3, \\\"y\\\": 23000000}, {\\\"x\\\": 3, \\\"y\\\": 22900000}, {\\\"x\\\": 3, \\\"y\\\": 23000000}, {\\\"x\\\": 3, \\\"y\\\": 23000000}, {\\\"x\\\": 3, \\\"y\\\": 14500000}, {\\\"x\\\": 3, \\\"y\\\": 20000000}, {\\\"x\\\": 2, \\\"y\\\": 2800000}, {\\\"x\\\": 3, \\\"y\\\": 3500000}, {\\\"x\\\": 2, \\\"y\\\": 3500000}, {\\\"x\\\": 2, \\\"y\\\": 4700000}, {\\\"x\\\": 3, \\\"y\\\": 11399999}, {\\\"x\\\": 3, \\\"y\\\": 6931000}, {\\\"x\\\": 2, \\\"y\\\": 5256000}, {\\\"x\\\": 3, \\\"y\\\": 11100000}, {\\\"x\\\": 2, \\\"y\\\": 5300000}, {\\\"x\\\": 2, \\\"y\\\": 4500000}, {\\\"x\\\": 3, \\\"y\\\": 14600000}, {\\\"x\\\": 3, \\\"y\\\": 11200000}, {\\\"x\\\": 3, \\\"y\\\": 11200000}, {\\\"x\\\": 2, \\\"y\\\": 4200000}, {\\\"x\\\": 2, \\\"y\\\": 4900000}, {\\\"x\\\": 2, \\\"y\\\": 7554000}, {\\\"x\\\": 3, \\\"y\\\": 11399999}, {\\\"x\\\": 2, \\\"y\\\": 7240000}, {\\\"x\\\": 2, \\\"y\\\": 9600000}, {\\\"x\\\": 2, \\\"y\\\": 9600000}, {\\\"x\\\": 2, \\\"y\\\": 9600000}, {\\\"x\\\": 2, \\\"y\\\": 9600000}, {\\\"x\\\": 2, \\\"y\\\": 9600000}, {\\\"x\\\": 2, \\\"y\\\": 10200000}, {\\\"x\\\": 3, \\\"y\\\": 12500000}, {\\\"x\\\": 3, \\\"y\\\": 12500000}, {\\\"x\\\": 2, \\\"y\\\": 4800000}, {\\\"x\\\": 2, \\\"y\\\": 4800000}, {\\\"x\\\": 3, \\\"y\\\": 12500000}, {\\\"x\\\": 3, \\\"y\\\": 16800000}, {\\\"x\\\": 2, \\\"y\\\": 4000000}, {\\\"x\\\": 2, \\\"y\\\": 3600000}, {\\\"x\\\": 2, \\\"y\\\": 6000000}, {\\\"x\\\": 2, \\\"y\\\": 6000000}, {\\\"x\\\": 3, \\\"y\\\": 33300000}, {\\\"x\\\": 2, \\\"y\\\": 8625000}, {\\\"x\\\": 2, \\\"y\\\": 4000000}, {\\\"x\\\": 2, \\\"y\\\": 3600000}, {\\\"x\\\": 2, \\\"y\\\": 4000000}, {\\\"x\\\": 2, \\\"y\\\": 6000000}, {\\\"x\\\": 2, \\\"y\\\": 6000000}, {\\\"x\\\": 2, \\\"y\\\": 3500000}, {\\\"x\\\": 2, \\\"y\\\": 3500000}, {\\\"x\\\": 2, \\\"y\\\": 2300000}, {\\\"x\\\": 2, \\\"y\\\": 2300000}, {\\\"x\\\": 3, \\\"y\\\": 12000000}, {\\\"x\\\": 2, \\\"y\\\": 2500000}, {\\\"x\\\": 2, \\\"y\\\": 5777000}, {\\\"x\\\": 3, \\\"y\\\": 7605000}, {\\\"x\\\": 1, \\\"y\\\": 2600000}, {\\\"x\\\": 2, \\\"y\\\": 4500000}, {\\\"x\\\": 2, \\\"y\\\": 3000000}, {\\\"x\\\": 2, \\\"y\\\": 3200000}, {\\\"x\\\": 3, \\\"y\\\": 7000000}, {\\\"x\\\": 2, \\\"y\\\": 3000000}, {\\\"x\\\": 2, \\\"y\\\": 3200000}, {\\\"x\\\": 3, \\\"y\\\": 7000000}, {\\\"x\\\": 2, \\\"y\\\": 5500000}, {\\\"x\\\": 2, \\\"y\\\": 5777000}, {\\\"x\\\": 3, \\\"y\\\": 7605000}, {\\\"x\\\": 3, \\\"y\\\": 8502000}, {\\\"x\\\": 3, \\\"y\\\": 8242000}, {\\\"x\\\": 3, \\\"y\\\": 11000000}, {\\\"x\\\": 3, \\\"y\\\": 10700000}, {\\\"x\\\": 2, \\\"y\\\": 9240000}, {\\\"x\\\": 2, \\\"y\\\": 8800000}, {\\\"x\\\": 2, \\\"y\\\": 3400000}, {\\\"x\\\": 2, \\\"y\\\": 9500000}, {\\\"x\\\": 2, \\\"y\\\": 4700000}, {\\\"x\\\": 2, \\\"y\\\": 4700000}, {\\\"x\\\": 2, \\\"y\\\": 5000000}, {\\\"x\\\": 2, \\\"y\\\": 4788000}, {\\\"x\\\": 2, \\\"y\\\": 2880000}, {\\\"x\\\": 2, \\\"y\\\": 5500000}, {\\\"x\\\": 2, \\\"y\\\": 8500000}, {\\\"x\\\": 2, \\\"y\\\": 5500000}, {\\\"x\\\": 2, \\\"y\\\": 4400000}, {\\\"x\\\": 3, \\\"y\\\": 14000000}, {\\\"x\\\": 3, \\\"y\\\": 6931000}, {\\\"x\\\": 3, \\\"y\\\": 12000000}, {\\\"x\\\": 3, \\\"y\\\": 7540000}, {\\\"x\\\": 3, \\\"y\\\": 6290000}, {\\\"x\\\": 2, \\\"y\\\": 5290000}, {\\\"x\\\": 2, \\\"y\\\": 5580000}, {\\\"x\\\": 1, \\\"y\\\": 4300000}, {\\\"x\\\": 3, \\\"y\\\": 5560000}, {\\\"x\\\": 1, \\\"y\\\": 2400000}, {\\\"x\\\": 2, \\\"y\\\": 12500000}, {\\\"x\\\": 2, \\\"y\\\": 12500000}, {\\\"x\\\": 2, \\\"y\\\": 3570000}, {\\\"x\\\": 3, \\\"y\\\": 12600000}, {\\\"x\\\": 2, \\\"y\\\": 4800000}, {\\\"x\\\": 3, \\\"y\\\": 11600000}, {\\\"x\\\": 3, \\\"y\\\": 9563000}, {\\\"x\\\": 2, \\\"y\\\": 4800000}, {\\\"x\\\": 3, \\\"y\\\": 11600000}, {\\\"x\\\": 3, \\\"y\\\": 9563000}, {\\\"x\\\": 2, \\\"y\\\": 3600000}, {\\\"x\\\": 2, \\\"y\\\": 4500000}, {\\\"x\\\": 2, \\\"y\\\": 3900000}, {\\\"x\\\": 2, \\\"y\\\": 5800000}, {\\\"x\\\": 2, \\\"y\\\": 3500000}, {\\\"x\\\": 2, \\\"y\\\": 3500000}, {\\\"x\\\": 3, \\\"y\\\": 11399999}, {\\\"x\\\": 3, \\\"y\\\": 11399999}, {\\\"x\\\": 3, \\\"y\\\": 35000000}, {\\\"x\\\": 3, \\\"y\\\": 35000000}, {\\\"x\\\": 2, \\\"y\\\": 4500000}, {\\\"x\\\": 2, \\\"y\\\": 4500000}, {\\\"x\\\": 2, \\\"y\\\": 3500000}, {\\\"x\\\": 2, \\\"y\\\": 3500000}, {\\\"x\\\": 2, \\\"y\\\": 3800000}, {\\\"x\\\": 2, \\\"y\\\": 3800000}, {\\\"x\\\": 2, \\\"y\\\": 3800000}, {\\\"x\\\": 2, \\\"y\\\": 3800000}, {\\\"x\\\": 2, \\\"y\\\": 3800000}, {\\\"x\\\": 2, \\\"y\\\": 3960000}, {\\\"x\\\": 2, \\\"y\\\": 3800000}, {\\\"x\\\": 2, \\\"y\\\": 3800000}, {\\\"x\\\": 2, \\\"y\\\": 4100000}, {\\\"x\\\": 3, \\\"y\\\": 5500000}, {\\\"x\\\": 3, \\\"y\\\": 9600000}, {\\\"x\\\": 3, \\\"y\\\": 9600000}, {\\\"x\\\": 3, \\\"y\\\": 6795000}, {\\\"x\\\": 2, \\\"y\\\": 3600000}, {\\\"x\\\": 2, \\\"y\\\": 3400000}, {\\\"x\\\": 2, \\\"y\\\": 3500000}, {\\\"x\\\": 2, \\\"y\\\": 3500000}, {\\\"x\\\": 3, \\\"y\\\": 5000000}, {\\\"x\\\": 2, \\\"y\\\": 7000000}, {\\\"x\\\": 2, \\\"y\\\": 5500000}, {\\\"x\\\": 2, \\\"y\\\": 3870000}, {\\\"x\\\": 2, \\\"y\\\": 5800000}, {\\\"x\\\": 2, \\\"y\\\": 4700000}, {\\\"x\\\": 2, \\\"y\\\": 7000000}, {\\\"x\\\": 2, \\\"y\\\": 5500000}, {\\\"x\\\": 3, \\\"y\\\": 11299999}, {\\\"x\\\": 2, \\\"y\\\": 4500000}, {\\\"x\\\": 2, \\\"y\\\": 7317000}, {\\\"x\\\": 2, \\\"y\\\": 7317000}, {\\\"x\\\": 2, \\\"y\\\": 3800000}, {\\\"x\\\": 3, \\\"y\\\": 4850000}, {\\\"x\\\": 2, \\\"y\\\": 4010000}, {\\\"x\\\": 2, \\\"y\\\": 3550000}, {\\\"x\\\": 2, \\\"y\\\": 3300000}, {\\\"x\\\": 2, \\\"y\\\": 3500000}, {\\\"x\\\": 3, \\\"y\\\": 7500000}, {\\\"x\\\": 2, \\\"y\\\": 4600000}, {\\\"x\\\": 2, \\\"y\\\": 8500000}, {\\\"x\\\": 2, \\\"y\\\": 8500000}, {\\\"x\\\": 3, \\\"y\\\": 5500000}, {\\\"x\\\": 3, \\\"y\\\": 5500000}, {\\\"x\\\": 2, \\\"y\\\": 3900000}, {\\\"x\\\": 2, \\\"y\\\": 4580000}, {\\\"x\\\": 3, \\\"y\\\": 10800000}, {\\\"x\\\": 3, \\\"y\\\": 15200000}, {\\\"x\\\": 4, \\\"y\\\": 15200000}, {\\\"x\\\": 2, \\\"y\\\": 4580000}, {\\\"x\\\": 3, \\\"y\\\": 15000000}, {\\\"x\\\": 3, \\\"y\\\": 5700000}, {\\\"x\\\": 3, \\\"y\\\": 7200000}, {\\\"x\\\": 3, \\\"y\\\": 20000000}, {\\\"x\\\": 3, \\\"y\\\": 8797000}, {\\\"x\\\": 3, \\\"y\\\": 10500000}, {\\\"x\\\": 4, \\\"y\\\": 43000000}, {\\\"x\\\": 3, \\\"y\\\": 10000000}, {\\\"x\\\": 2, \\\"y\\\": 10000000}, {\\\"x\\\": 3, \\\"y\\\": 12000000}, {\\\"x\\\": 3, \\\"y\\\": 10700000}, {\\\"x\\\": 3, \\\"y\\\": 10700000}, {\\\"x\\\": 3, \\\"y\\\": 7900000}, {\\\"x\\\": 2, \\\"y\\\": 4900000}, {\\\"x\\\": 3, \\\"y\\\": 3800000}, {\\\"x\\\": 2, \\\"y\\\": 4000000}, {\\\"x\\\": 3, \\\"y\\\": 13500000}, {\\\"x\\\": 3, \\\"y\\\": 10000000}, {\\\"x\\\": 3, \\\"y\\\": 10000000}, {\\\"x\\\": 2, \\\"y\\\": 6200000}, {\\\"x\\\": 2, \\\"y\\\": 7000000}, {\\\"x\\\": 3, \\\"y\\\": 7900000}, {\\\"x\\\": 2, \\\"y\\\": 6700000}, {\\\"x\\\": 2, \\\"y\\\": 6200000}, {\\\"x\\\": 2, \\\"y\\\": 8452000}, {\\\"x\\\": 3, \\\"y\\\": 20000000}, {\\\"x\\\": 4, \\\"y\\\": 30200000}, {\\\"x\\\": 3, \\\"y\\\": 12500000}, {\\\"x\\\": 2, \\\"y\\\": 8200000}, {\\\"x\\\": 2, \\\"y\\\": 6900000}, {\\\"x\\\": 3, \\\"y\\\": 9026000}, {\\\"x\\\": 3, \\\"y\\\": 18200000}, {\\\"x\\\": 3, \\\"y\\\": 8500000}, {\\\"x\\\": 3, \\\"y\\\": 6531000}, {\\\"x\\\": 2, \\\"y\\\": 8095000}, {\\\"x\\\": 3, \\\"y\\\": 14000000}, {\\\"x\\\": 3, \\\"y\\\": 10200000}, {\\\"x\\\": 3, \\\"y\\\": 10000000}, {\\\"x\\\": 3, \\\"y\\\": 10700000}, {\\\"x\\\": 3, \\\"y\\\": 24000000}, {\\\"x\\\": 3, \\\"y\\\": 22000000}, {\\\"x\\\": 3, \\\"y\\\": 21400000}, {\\\"x\\\": 3, \\\"y\\\": 16000000}, {\\\"x\\\": 3, \\\"y\\\": 36500000}, {\\\"x\\\": 3, \\\"y\\\": 15000000}, {\\\"x\\\": 2, \\\"y\\\": 8500000}, {\\\"x\\\": 4, \\\"y\\\": 28000000}, {\\\"x\\\": 3, \\\"y\\\": 15500000}, {\\\"x\\\": 3, \\\"y\\\": 32500000}, {\\\"x\\\": 3, \\\"y\\\": 20700000}, {\\\"x\\\": 3, \\\"y\\\": 10500000}, {\\\"x\\\": 5, \\\"y\\\": 28000000}, {\\\"x\\\": 3, \\\"y\\\": 10300000}, {\\\"x\\\": 3, \\\"y\\\": 11000000}, {\\\"x\\\": 3, \\\"y\\\": 9991000}, {\\\"x\\\": 3, \\\"y\\\": 8014000}, {\\\"x\\\": 2, \\\"y\\\": 4000000}, {\\\"x\\\": 2, \\\"y\\\": 12500000}, {\\\"x\\\": 3, \\\"y\\\": 8925000}, {\\\"x\\\": 3, \\\"y\\\": 9296000}, {\\\"x\\\": 2, \\\"y\\\": 7598999}, {\\\"x\\\": 3, \\\"y\\\": 8500000}, {\\\"x\\\": 3, \\\"y\\\": 20000000}, {\\\"x\\\": 2, \\\"y\\\": 5250000}, {\\\"x\\\": 2, \\\"y\\\": 4000000}, {\\\"x\\\": 2, \\\"y\\\": 7500000}, {\\\"x\\\": 2, \\\"y\\\": 5253000}, {\\\"x\\\": 2, \\\"y\\\": 5800000}, {\\\"x\\\": 2, \\\"y\\\": 5085000}, {\\\"x\\\": 3, \\\"y\\\": 12000000}, {\\\"x\\\": 2, \\\"y\\\": 3500000}, {\\\"x\\\": 4, \\\"y\\\": 25500000}, {\\\"x\\\": 2, \\\"y\\\": 6500000}, {\\\"x\\\": 2, \\\"y\\\": 6000000}, {\\\"x\\\": 2, \\\"y\\\": 6700000}, {\\\"x\\\": 3, \\\"y\\\": 16000000}, {\\\"x\\\": 3, \\\"y\\\": 23000000}, {\\\"x\\\": 4, \\\"y\\\": 19500000}, {\\\"x\\\": 2, \\\"y\\\": 5320000}, {\\\"x\\\": 3, \\\"y\\\": 19500000}, {\\\"x\\\": 2, \\\"y\\\": 4800000}, {\\\"x\\\": 3, \\\"y\\\": 13000000}, {\\\"x\\\": 3, \\\"y\\\": 10200000}, {\\\"x\\\": 3, \\\"y\\\": 19500000}, {\\\"x\\\": 4, \\\"y\\\": 20000000}, {\\\"x\\\": 3, \\\"y\\\": 5900000}, {\\\"x\\\": 3, \\\"y\\\": 8500000}, {\\\"x\\\": 2, \\\"y\\\": 6000000}, {\\\"x\\\": 2, \\\"y\\\": 4710000}, {\\\"x\\\": 2, \\\"y\\\": 7317000}, {\\\"x\\\": 3, \\\"y\\\": 11399999}, {\\\"x\\\": 3, \\\"y\\\": 9449000}, {\\\"x\\\": 3, \\\"y\\\": 11299999}, {\\\"x\\\": 2, \\\"y\\\": 4000000}, {\\\"x\\\": 2, \\\"y\\\": 5450000}, {\\\"x\\\": 3, \\\"y\\\": 10600000}, {\\\"x\\\": 2, \\\"y\\\": 4000000}, {\\\"x\\\": 2, \\\"y\\\": 5450000}, {\\\"x\\\": 3, \\\"y\\\": 10600000}, {\\\"x\\\": 3, \\\"y\\\": 7500000}, {\\\"x\\\": 3, \\\"y\\\": 12400000}, {\\\"x\\\": 3, \\\"y\\\": 7800000}, {\\\"x\\\": 2, \\\"y\\\": 4800000}, {\\\"x\\\": 3, \\\"y\\\": 9525000}, {\\\"x\\\": 3, \\\"y\\\": 12200000}, {\\\"x\\\": 3, \\\"y\\\": 12300000}, {\\\"x\\\": 3, \\\"y\\\": 12300000}, {\\\"x\\\": 3, \\\"y\\\": 8800000}, {\\\"x\\\": 2, \\\"y\\\": 6798999}, {\\\"x\\\": 3, \\\"y\\\": 9300000}, {\\\"x\\\": 3, \\\"y\\\": 9300000}, {\\\"x\\\": 2, \\\"y\\\": 4710000}, {\\\"x\\\": 3, \\\"y\\\": 12000000}, {\\\"x\\\": 3, \\\"y\\\": 6931000}, {\\\"x\\\": 2, \\\"y\\\": 3499000}, {\\\"x\\\": 3, \\\"y\\\": 7100000}, {\\\"x\\\": 3, \\\"y\\\": 7100000}, {\\\"x\\\": 2, \\\"y\\\": 4800000}, {\\\"x\\\": 3, \\\"y\\\": 5500000}, {\\\"x\\\": 3, \\\"y\\\": 7500000}, {\\\"x\\\": 2, \\\"y\\\": 5600000}, {\\\"x\\\": 4, \\\"y\\\": 19400000}, {\\\"x\\\": 2, \\\"y\\\": 9908000}, {\\\"x\\\": 2, \\\"y\\\": 8126000}, {\\\"x\\\": 2, \\\"y\\\": 9110000}, {\\\"x\\\": 3, \\\"y\\\": 14000000}, {\\\"x\\\": 3, \\\"y\\\": 7000000}, {\\\"x\\\": 3, \\\"y\\\": 11399999}, {\\\"x\\\": 3, \\\"y\\\": 8500000}, {\\\"x\\\": 3, \\\"y\\\": 17000000}, {\\\"x\\\": 1, \\\"y\\\": 2500000}, {\\\"x\\\": 3, \\\"y\\\": 8600000}, {\\\"x\\\": 3, \\\"y\\\": 17800000}, {\\\"x\\\": 3, \\\"y\\\": 18700000}, {\\\"x\\\": 3, \\\"y\\\": 23200000}, {\\\"x\\\": 3, \\\"y\\\": 19600000}, {\\\"x\\\": 3, \\\"y\\\": 17200000}, {\\\"x\\\": 3, \\\"y\\\": 19800000}, {\\\"x\\\": 3, \\\"y\\\": 4500000}, {\\\"x\\\": 2, \\\"y\\\": 4031000}, {\\\"x\\\": 3, \\\"y\\\": 6399000}, {\\\"x\\\": 3, \\\"y\\\": 6399000}, {\\\"x\\\": 2, \\\"y\\\": 8000000}, {\\\"x\\\": 3, \\\"y\\\": 5200000}, {\\\"x\\\": 2, \\\"y\\\": 4000000}, {\\\"x\\\": 2, \\\"y\\\": 7200000}, {\\\"x\\\": 8, \\\"y\\\": 80000000}, {\\\"x\\\": 2, \\\"y\\\": 3200000}, {\\\"x\\\": 3, \\\"y\\\": 3800000}, {\\\"x\\\": 3, \\\"y\\\": 6000000}, {\\\"x\\\": 2, \\\"y\\\": 3500000}, {\\\"x\\\": 3, \\\"y\\\": 5000000}, {\\\"x\\\": 2, \\\"y\\\": 2800000}, {\\\"x\\\": 2, \\\"y\\\": 3600000}, {\\\"x\\\": 3, \\\"y\\\": 8000000}, {\\\"x\\\": 3, \\\"y\\\": 5034000}, {\\\"x\\\": 2, \\\"y\\\": 4252000}, {\\\"x\\\": 2, \\\"y\\\": 4044000}, {\\\"x\\\": 2, \\\"y\\\": 3849000}, {\\\"x\\\": 3, \\\"y\\\": 3500000}, {\\\"x\\\": 3, \\\"y\\\": 20000000}, {\\\"x\\\": 3, \\\"y\\\": 4800000}, {\\\"x\\\": 2, \\\"y\\\": 4500000}, {\\\"x\\\": 2, \\\"y\\\": 8000000}, {\\\"x\\\": 2, \\\"y\\\": 3800000}, {\\\"x\\\": 3, \\\"y\\\": 13500000}, {\\\"x\\\": 2, \\\"y\\\": 8000000}, {\\\"x\\\": 2, \\\"y\\\": 2700000}, {\\\"x\\\": 3, \\\"y\\\": 6000000}, {\\\"x\\\": 2, \\\"y\\\": 3740000}, {\\\"x\\\": 2, \\\"y\\\": 3740000}, {\\\"x\\\": 2, \\\"y\\\": 5280000}, {\\\"x\\\": 2, \\\"y\\\": 5100000}, {\\\"x\\\": 2, \\\"y\\\": 5500000}, {\\\"x\\\": 3, \\\"y\\\": 6000000}, {\\\"x\\\": 2, \\\"y\\\": 4500000}, {\\\"x\\\": 3, \\\"y\\\": 6500000}, {\\\"x\\\": 3, \\\"y\\\": 20000000}, {\\\"x\\\": 3, \\\"y\\\": 4500000}, {\\\"x\\\": 3, \\\"y\\\": 10100000}, {\\\"x\\\": 2, \\\"y\\\": 5500000}, {\\\"x\\\": 3, \\\"y\\\": 4800000}, {\\\"x\\\": 2, \\\"y\\\": 4500000}, {\\\"x\\\": 2, \\\"y\\\": 8000000}, {\\\"x\\\": 2, \\\"y\\\": 3800000}, {\\\"x\\\": 3, \\\"y\\\": 8000000}, {\\\"x\\\": 3, \\\"y\\\": 13500000}, {\\\"x\\\": 1, \\\"y\\\": 3000000}, {\\\"x\\\": 2, \\\"y\\\": 3200000}, {\\\"x\\\": 3, \\\"y\\\": 6000000}, {\\\"x\\\": 2, \\\"y\\\": 3400000}, {\\\"x\\\": 2, \\\"y\\\": 7000000}, {\\\"x\\\": 2, \\\"y\\\": 5000000}, {\\\"x\\\": 3, \\\"y\\\": 22000000}, {\\\"x\\\": 2, \\\"y\\\": 5280000}, {\\\"x\\\": 2, \\\"y\\\": 5500000}, {\\\"x\\\": 2, \\\"y\\\": 5100000}, {\\\"x\\\": 2, \\\"y\\\": 4500000}, {\\\"x\\\": 2, \\\"y\\\": 6000000}, {\\\"x\\\": 2, \\\"y\\\": 8000000}, {\\\"x\\\": 3, \\\"y\\\": 13500000}, {\\\"x\\\": 2, \\\"y\\\": 8000000}, {\\\"x\\\": 2, \\\"y\\\": 2700000}, {\\\"x\\\": 3, \\\"y\\\": 34000000}, {\\\"x\\\": 3, \\\"y\\\": 34000000}, {\\\"x\\\": 2, \\\"y\\\": 3300000}, {\\\"x\\\": 2, \\\"y\\\": 6900000}, {\\\"x\\\": 2, \\\"y\\\": 3200000}, {\\\"x\\\": 1, \\\"y\\\": 2000000}, {\\\"x\\\": 3, \\\"y\\\": 7000000}, {\\\"x\\\": 3, \\\"y\\\": 4600000}, {\\\"x\\\": 3, \\\"y\\\": 4600000}, {\\\"x\\\": 3, \\\"y\\\": 7000000}, {\\\"x\\\": 2, \\\"y\\\": 8599000}, {\\\"x\\\": 2, \\\"y\\\": 3800000}, {\\\"x\\\": 2, \\\"y\\\": 3740000}, {\\\"x\\\": 2, \\\"y\\\": 3500000}, {\\\"x\\\": 2, \\\"y\\\": 3570000}, {\\\"x\\\": 2, \\\"y\\\": 3740000}, {\\\"x\\\": 2, \\\"y\\\": 3740000}, {\\\"x\\\": 3, \\\"y\\\": 3300000}, {\\\"x\\\": 2, \\\"y\\\": 6742000}, {\\\"x\\\": 3, \\\"y\\\": 9662000}, {\\\"x\\\": 2, \\\"y\\\": 5782000}, {\\\"x\\\": 3, \\\"y\\\": 7614000}, {\\\"x\\\": 3, \\\"y\\\": 7977000}, {\\\"x\\\": 2, \\\"y\\\": 6242000}, {\\\"x\\\": 3, \\\"y\\\": 8741000}, {\\\"x\\\": 3, \\\"y\\\": 8761000}, {\\\"x\\\": 2, \\\"y\\\": 6859999}, {\\\"x\\\": 3, \\\"y\\\": 9633000}, {\\\"x\\\": 3, \\\"y\\\": 7359000}, {\\\"x\\\": 3, \\\"y\\\": 8364000}, {\\\"x\\\": 3, \\\"y\\\": 8045000}, {\\\"x\\\": 2, \\\"y\\\": 7286000}, {\\\"x\\\": 3, \\\"y\\\": 8001000}, {\\\"x\\\": 3, \\\"y\\\": 8820000}, {\\\"x\\\": 3, \\\"y\\\": 9197000}, {\\\"x\\\": 2, \\\"y\\\": 7467000}, {\\\"x\\\": 2, \\\"y\\\": 6497000}, {\\\"x\\\": 2, \\\"y\\\": 7178000}, {\\\"x\\\": 3, \\\"y\\\": 7825000}, {\\\"x\\\": 2, \\\"y\\\": 9075000}, {\\\"x\\\": 3, \\\"y\\\": 10100000}, {\\\"x\\\": 3, \\\"y\\\": 7962000}, {\\\"x\\\": 3, \\\"y\\\": 12700000}, {\\\"x\\\": 2, \\\"y\\\": 9075000}, {\\\"x\\\": 3, \\\"y\\\": 10700000}, {\\\"x\\\": 2, \\\"y\\\": 6168000}, {\\\"x\\\": 2, \\\"y\\\": 6895999}, {\\\"x\\\": 3, \\\"y\\\": 10700000}, {\\\"x\\\": 3, \\\"y\\\": 10700000}, {\\\"x\\\": 1, \\\"y\\\": 6233000}, {\\\"x\\\": 2, \\\"y\\\": 8800000}, {\\\"x\\\": 2, \\\"y\\\": 8998000}, {\\\"x\\\": 2, \\\"y\\\": 7998999}, {\\\"x\\\": 1, \\\"y\\\": 4284000}, {\\\"x\\\": 3, \\\"y\\\": 10000000}, {\\\"x\\\": 2, \\\"y\\\": 7098999}, {\\\"x\\\": 3, \\\"y\\\": 9828000}, {\\\"x\\\": 3, \\\"y\\\": 10900000}, {\\\"x\\\": 2, \\\"y\\\": 7998999}, {\\\"x\\\": 2, \\\"y\\\": 8998000}, {\\\"x\\\": 2, \\\"y\\\": 8800000}, {\\\"x\\\": 2, \\\"y\\\": 8800000}, {\\\"x\\\": 2, \\\"y\\\": 3500000}, {\\\"x\\\": 2, \\\"y\\\": 3300000}, {\\\"x\\\": 2, \\\"y\\\": 3200000}, {\\\"x\\\": 2, \\\"y\\\": 7317000}, {\\\"x\\\": 2, \\\"y\\\": 10900000}, {\\\"x\\\": 2, \\\"y\\\": 11100000}, {\\\"x\\\": 3, \\\"y\\\": 10900000}, {\\\"x\\\": 2, \\\"y\\\": 4600000}, {\\\"x\\\": 4, \\\"y\\\": 15000000}, {\\\"x\\\": 2, \\\"y\\\": 5500000}, {\\\"x\\\": 2, \\\"y\\\": 3500000}, {\\\"x\\\": 2, \\\"y\\\": 7317000}, {\\\"x\\\": 3, \\\"y\\\": 11800000}, {\\\"x\\\": 3, \\\"y\\\": 8098000}, {\\\"x\\\": 2, \\\"y\\\": 5623000}, {\\\"x\\\": 3, \\\"y\\\": 6838000}, {\\\"x\\\": 3, \\\"y\\\": 10500000}, {\\\"x\\\": 3, \\\"y\\\": 11200000}, {\\\"x\\\": 1, \\\"y\\\": 3375000}, {\\\"x\\\": 2, \\\"y\\\": 5500000}, {\\\"x\\\": 2, \\\"y\\\": 4200000}, {\\\"x\\\": 2, \\\"y\\\": 4700000}, {\\\"x\\\": 3, \\\"y\\\": 10600000}, {\\\"x\\\": 2, \\\"y\\\": 6500000}, {\\\"x\\\": 2, \\\"y\\\": 3600000}, {\\\"x\\\": 2, \\\"y\\\": 3300000}, {\\\"x\\\": 2, \\\"y\\\": 3300000}, {\\\"x\\\": 3, \\\"y\\\": 8100000}, {\\\"x\\\": 2, \\\"y\\\": 4500000}, {\\\"x\\\": 3, \\\"y\\\": 8900000}, {\\\"x\\\": 2, \\\"y\\\": 4710000}, {\\\"x\\\": 3, \\\"y\\\": 8100000}, {\\\"x\\\": 3, \\\"y\\\": 12700000}, {\\\"x\\\": 3, \\\"y\\\": 8700000}, {\\\"x\\\": 2, \\\"y\\\": 6300000}, {\\\"x\\\": 3, \\\"y\\\": 6700000}, {\\\"x\\\": 4, \\\"y\\\": 45000000}, {\\\"x\\\": 3, \\\"y\\\": 5000000}, {\\\"x\\\": 1, \\\"y\\\": 10000000}, {\\\"x\\\": 3, \\\"y\\\": 7500000}, {\\\"x\\\": 3, \\\"y\\\": 15000000}, {\\\"x\\\": 2, \\\"y\\\": 4500000}, {\\\"x\\\": 3, \\\"y\\\": 8900000}, {\\\"x\\\": 2, \\\"y\\\": 4710000}, {\\\"x\\\": 3, \\\"y\\\": 8500000}, {\\\"x\\\": 3, \\\"y\\\": 5499000}, {\\\"x\\\": 2, \\\"y\\\": 7500000}, {\\\"x\\\": 2, \\\"y\\\": 8500000}, {\\\"x\\\": 2, \\\"y\\\": 3200000}, {\\\"x\\\": 2, \\\"y\\\": 3828000}, {\\\"x\\\": 2, \\\"y\\\": 3200000}, {\\\"x\\\": 2, \\\"y\\\": 3200000}, {\\\"x\\\": 2, \\\"y\\\": 3500000}, {\\\"x\\\": 2, \\\"y\\\": 3600000}, {\\\"x\\\": 2, \\\"y\\\": 3300000}, {\\\"x\\\": 2, \\\"y\\\": 3299000}, {\\\"x\\\": 2, \\\"y\\\": 3500000}, {\\\"x\\\": 3, \\\"y\\\": 6500000}, {\\\"x\\\": 2, \\\"y\\\": 3600000}, {\\\"x\\\": 3, \\\"y\\\": 10700000}, {\\\"x\\\": 2, \\\"y\\\": 8573000}, {\\\"x\\\": 2, \\\"y\\\": 3600000}, {\\\"x\\\": 3, \\\"y\\\": 6300000}, {\\\"x\\\": 2, \\\"y\\\": 8573000}, {\\\"x\\\": 2, \\\"y\\\": 4600000}, {\\\"x\\\": 3, \\\"y\\\": 8298999}, {\\\"x\\\": 3, \\\"y\\\": 8800000}, {\\\"x\\\": 3, \\\"y\\\": 8800000}, {\\\"x\\\": 2, \\\"y\\\": 3600000}, {\\\"x\\\": 2, \\\"y\\\": 3600000}, {\\\"x\\\": 3, \\\"y\\\": 11200000}, {\\\"x\\\": 3, \\\"y\\\": 13500000}, {\\\"x\\\": 1, \\\"y\\\": 10000000}, {\\\"x\\\": 3, \\\"y\\\": 7500000}, {\\\"x\\\": 3, \\\"y\\\": 10700000}, {\\\"x\\\": 2, \\\"y\\\": 8573000}, {\\\"x\\\": 2, \\\"y\\\": 4500000}, {\\\"x\\\": 3, \\\"y\\\": 8900000}, {\\\"x\\\": 3, \\\"y\\\": 10000000}, {\\\"x\\\": 2, \\\"y\\\": 4710000}, {\\\"x\\\": 2, \\\"y\\\": 5500000}, {\\\"x\\\": 3, \\\"y\\\": 8500000}, {\\\"x\\\": 3, \\\"y\\\": 5499000}, {\\\"x\\\": 2, \\\"y\\\": 7500000}, {\\\"x\\\": 2, \\\"y\\\": 8500000}, {\\\"x\\\": 2, \\\"y\\\": 3300000}, {\\\"x\\\": 2, \\\"y\\\": 3300000}, {\\\"x\\\": 2, \\\"y\\\": 3300000}, {\\\"x\\\": 2, \\\"y\\\": 3500000}, {\\\"x\\\": 2, \\\"y\\\": 3500000}, {\\\"x\\\": 2, \\\"y\\\": 3299000}, {\\\"x\\\": 2, \\\"y\\\": 3500000}, {\\\"x\\\": 3, \\\"y\\\": 6500000}, {\\\"x\\\": 2, \\\"y\\\": 3600000}, {\\\"x\\\": 2, \\\"y\\\": 3300000}, {\\\"x\\\": 2, \\\"y\\\": 3300000}, {\\\"x\\\": 2, \\\"y\\\": 3300000}, {\\\"x\\\": 2, \\\"y\\\": 8500000}, {\\\"x\\\": 2, \\\"y\\\": 3500000}, {\\\"x\\\": 3, \\\"y\\\": 11399999}, {\\\"x\\\": 3, \\\"y\\\": 6500000}, {\\\"x\\\": 2, \\\"y\\\": 9075000}, {\\\"x\\\": 3, \\\"y\\\": 6600000}, {\\\"x\\\": 2, \\\"y\\\": 6500000}, {\\\"x\\\": 3, \\\"y\\\": 10200000}, {\\\"x\\\": 2, \\\"y\\\": 7500000}, {\\\"x\\\": 2, \\\"y\\\": 4500000}, {\\\"x\\\": 3, \\\"y\\\": 11000000}, {\\\"x\\\": 3, \\\"y\\\": 6600000}, {\\\"x\\\": 2, \\\"y\\\": 6233000}, {\\\"x\\\": 3, \\\"y\\\": 5000000}, {\\\"x\\\": 1, \\\"y\\\": 3000000}, {\\\"x\\\": 1, \\\"y\\\": 8000000}, {\\\"x\\\": 2, \\\"y\\\": 4000000}, {\\\"x\\\": 3, \\\"y\\\": 6200000}, {\\\"x\\\": 3, \\\"y\\\": 11000000}, {\\\"x\\\": 2, \\\"y\\\": 3700000}, {\\\"x\\\": 2, \\\"y\\\": 3200000}, {\\\"x\\\": 2, \\\"y\\\": 3300000}, {\\\"x\\\": 2, \\\"y\\\": 3500000}, {\\\"x\\\": 2, \\\"y\\\": 3600000}, {\\\"x\\\": 2, \\\"y\\\": 3600000}, {\\\"x\\\": 2, \\\"y\\\": 3300000}, {\\\"x\\\": 1, \\\"y\\\": 2700000}, {\\\"x\\\": 2, \\\"y\\\": 7498999}, {\\\"x\\\": 3, \\\"y\\\": 8500000}, {\\\"x\\\": 2, \\\"y\\\": 3000000}, {\\\"x\\\": 3, \\\"y\\\": 6800000}, {\\\"x\\\": 3, \\\"y\\\": 7500000}, {\\\"x\\\": 2, \\\"y\\\": 8573000}, {\\\"x\\\": 3, \\\"y\\\": 10600000}, {\\\"x\\\": 2, \\\"y\\\": 6500000}, {\\\"x\\\": 2, \\\"y\\\": 3500000}, {\\\"x\\\": 2, \\\"y\\\": 3500000}, {\\\"x\\\": 2, \\\"y\\\": 3500000}, {\\\"x\\\": 2, \\\"y\\\": 3600000}, {\\\"x\\\": 2, \\\"y\\\": 3300000}, {\\\"x\\\": 2, \\\"y\\\": 3300000}, {\\\"x\\\": 3, \\\"y\\\": 8100000}, {\\\"x\\\": 3, \\\"y\\\": 8998000}, {\\\"x\\\": 2, \\\"y\\\": 7900000}, {\\\"x\\\": 2, \\\"y\\\": 7900000}, {\\\"x\\\": 1, \\\"y\\\": 6700000}, {\\\"x\\\": 1, \\\"y\\\": 6700000}, {\\\"x\\\": 3, \\\"y\\\": 12700000}, {\\\"x\\\": 2, \\\"y\\\": 4600000}, {\\\"x\\\": 3, \\\"y\\\": 6600000}, {\\\"x\\\": 2, \\\"y\\\": 3800000}, {\\\"x\\\": 2, \\\"y\\\": 3500000}, {\\\"x\\\": 2, \\\"y\\\": 3500000}, {\\\"x\\\": 2, \\\"y\\\": 6895999}, {\\\"x\\\": 2, \\\"y\\\": 4600000}, {\\\"x\\\": 3, \\\"y\\\": 12700000}, {\\\"x\\\": 3, \\\"y\\\": 8700000}, {\\\"x\\\": 2, \\\"y\\\": 6300000}, {\\\"x\\\": 3, \\\"y\\\": 6700000}, {\\\"x\\\": 4, \\\"y\\\": 45000000}, {\\\"x\\\": 3, \\\"y\\\": 8200000}, {\\\"x\\\": 2, \\\"y\\\": 14000000}, {\\\"x\\\": 2, \\\"y\\\": 6200000}, {\\\"x\\\": 3, \\\"y\\\": 8600000}, {\\\"x\\\": 3, \\\"y\\\": 11399999}, {\\\"x\\\": 2, \\\"y\\\": 3600000}, {\\\"x\\\": 2, \\\"y\\\": 3600000}, {\\\"x\\\": 2, \\\"y\\\": 3300000}, {\\\"x\\\": 2, \\\"y\\\": 3300000}, {\\\"x\\\": 2, \\\"y\\\": 3300000}, {\\\"x\\\": 2, \\\"y\\\": 8500000}, {\\\"x\\\": 2, \\\"y\\\": 3500000}, {\\\"x\\\": 2, \\\"y\\\": 8070000}, {\\\"x\\\": 2, \\\"y\\\": 7317000}, {\\\"x\\\": 4, \\\"y\\\": 45000000}, {\\\"x\\\": 2, \\\"y\\\": 3500000}, {\\\"x\\\": 3, \\\"y\\\": 9000000}, {\\\"x\\\": 3, \\\"y\\\": 9000000}, {\\\"x\\\": 3, \\\"y\\\": 9000000}, {\\\"x\\\": 3, \\\"y\\\": 10100000}, {\\\"x\\\": 3, \\\"y\\\": 10100000}, {\\\"x\\\": 3, \\\"y\\\": 8200000}, {\\\"x\\\": 3, \\\"y\\\": 8500000}, {\\\"x\\\": 2, \\\"y\\\": 7800000}, {\\\"x\\\": 2, \\\"y\\\": 14600000}, {\\\"x\\\": 4, \\\"y\\\": 26000000}, {\\\"x\\\": 3, \\\"y\\\": 9800000}, {\\\"x\\\": 3, \\\"y\\\": 10600000}, {\\\"x\\\": 3, \\\"y\\\": 10000000}, {\\\"x\\\": 3, \\\"y\\\": 9906000}, {\\\"x\\\": 2, \\\"y\\\": 10900000}, {\\\"x\\\": 1, \\\"y\\\": 7098999}, {\\\"x\\\": 2, \\\"y\\\": 5909000}, {\\\"x\\\": 2, \\\"y\\\": 7843000}, {\\\"x\\\": 3, \\\"y\\\": 8100000}, {\\\"x\\\": 2, \\\"y\\\": 7581999}, {\\\"x\\\": 3, \\\"y\\\": 6600000}, {\\\"x\\\": 2, \\\"y\\\": 9000000}, {\\\"x\\\": 3, \\\"y\\\": 10100000}, {\\\"x\\\": 3, \\\"y\\\": 10100000}, {\\\"x\\\": 3, \\\"y\\\": 10100000}, {\\\"x\\\": 3, \\\"y\\\": 9298000}, {\\\"x\\\": 3, \\\"y\\\": 9300000}, {\\\"x\\\": 3, \\\"y\\\": 9300000}, {\\\"x\\\": 3, \\\"y\\\": 10100000}, {\\\"x\\\": 2, \\\"y\\\": 6895999}, {\\\"x\\\": 2, \\\"y\\\": 3850000}, {\\\"x\\\": 3, \\\"y\\\": 3200000}, {\\\"x\\\": 3, \\\"y\\\": 10000000}, {\\\"x\\\": 2, \\\"y\\\": 6233000}, {\\\"x\\\": 1, \\\"y\\\": 2700000}, {\\\"x\\\": 2, \\\"y\\\": 7498999}, {\\\"x\\\": 3, \\\"y\\\": 7500000}, {\\\"x\\\": 3, \\\"y\\\": 9000000}, {\\\"x\\\": 2, \\\"y\\\": 9000000}, {\\\"x\\\": 2, \\\"y\\\": 8000000}, {\\\"x\\\": 2, \\\"y\\\": 8000000}, {\\\"x\\\": 2, \\\"y\\\": 8000000}, {\\\"x\\\": 2, \\\"y\\\": 9000000}, {\\\"x\\\": 2, \\\"y\\\": 8000000}, {\\\"x\\\": 2, \\\"y\\\": 8000000}, {\\\"x\\\": 2, \\\"y\\\": 8000000}, {\\\"x\\\": 2, \\\"y\\\": 7100000}, {\\\"x\\\": 2, \\\"y\\\": 9000000}, {\\\"x\\\": 2, \\\"y\\\": 8000000}, {\\\"x\\\": 2, \\\"y\\\": 8000000}, {\\\"x\\\": 2, \\\"y\\\": 9000000}, {\\\"x\\\": 2, \\\"y\\\": 7998999}, {\\\"x\\\": 2, \\\"y\\\": 5800000}, {\\\"x\\\": 2, \\\"y\\\": 4800000}, {\\\"x\\\": 3, \\\"y\\\": 11399999}, {\\\"x\\\": 3, \\\"y\\\": 12600000}, {\\\"x\\\": 3, \\\"y\\\": 12600000}, {\\\"x\\\": 3, \\\"y\\\": 12600000}, {\\\"x\\\": 2, \\\"y\\\": 9075000}, {\\\"x\\\": 3, \\\"y\\\": 6300000}, {\\\"x\\\": 2, \\\"y\\\": 4500000}, {\\\"x\\\": 2, \\\"y\\\": 9400000}, {\\\"x\\\": 2, \\\"y\\\": 9400000}, {\\\"x\\\": 2, \\\"y\\\": 9400000}, {\\\"x\\\": 2, \\\"y\\\": 9400000}, {\\\"x\\\": 2, \\\"y\\\": 8798000}, {\\\"x\\\": 3, \\\"y\\\": 8500000}, {\\\"x\\\": 3, \\\"y\\\": 10100000}, {\\\"x\\\": 3, \\\"y\\\": 10100000}, {\\\"x\\\": 3, \\\"y\\\": 10100000}, {\\\"x\\\": 3, \\\"y\\\": 9298000}, {\\\"x\\\": 3, \\\"y\\\": 9300000}, {\\\"x\\\": 3, \\\"y\\\": 9300000}, {\\\"x\\\": 3, \\\"y\\\": 10100000}, {\\\"x\\\": 3, \\\"y\\\": 9000000}, {\\\"x\\\": 3, \\\"y\\\": 9000000}, {\\\"x\\\": 3, \\\"y\\\": 9000000}, {\\\"x\\\": 3, \\\"y\\\": 10100000}, {\\\"x\\\": 2, \\\"y\\\": 6000000}, {\\\"x\\\": 3, \\\"y\\\": 21700000}, {\\\"x\\\": 2, \\\"y\\\": 5200000}, {\\\"x\\\": 3, \\\"y\\\": 6600000}, {\\\"x\\\": 3, \\\"y\\\": 4900000}, {\\\"x\\\": 1, \\\"y\\\": 3375000}, {\\\"x\\\": 1, \\\"y\\\": 3315000}, {\\\"x\\\": 2, \\\"y\\\": 4600000}, {\\\"x\\\": 2, \\\"y\\\": 3500000}, {\\\"x\\\": 2, \\\"y\\\": 7317000}, {\\\"x\\\": 3, \\\"y\\\": 6600000}, {\\\"x\\\": 3, \\\"y\\\": 11000000}, {\\\"x\\\": 3, \\\"y\\\": 9581000}, {\\\"x\\\": 4, \\\"y\\\": 26100000}, {\\\"x\\\": 4, \\\"y\\\": 25600000}, {\\\"x\\\": 4, \\\"y\\\": 25200000}, {\\\"x\\\": 3, \\\"y\\\": 17000000}, {\\\"x\\\": 4, \\\"y\\\": 29000000}, {\\\"x\\\": 4, \\\"y\\\": 25700000}, {\\\"x\\\": 4, \\\"y\\\": 25299999}, {\\\"x\\\": 3, \\\"y\\\": 14400000}, {\\\"x\\\": 2, \\\"y\\\": 11200000}, {\\\"x\\\": 2, \\\"y\\\": 11000000}, {\\\"x\\\": 2, \\\"y\\\": 11100000}, {\\\"x\\\": 2, \\\"y\\\": 11000000}, {\\\"x\\\": 3, \\\"y\\\": 9581000}, {\\\"x\\\": 2, \\\"y\\\": 9942000}, {\\\"x\\\": 3, \\\"y\\\": 17500000}, {\\\"x\\\": 3, \\\"y\\\": 18900000}, {\\\"x\\\": 3, \\\"y\\\": 14700000}, {\\\"x\\\": 3, \\\"y\\\": 19000000}, {\\\"x\\\": 3, \\\"y\\\": 16500000}, {\\\"x\\\": 3, \\\"y\\\": 14700000}, {\\\"x\\\": 3, \\\"y\\\": 18900000}, {\\\"x\\\": 2, \\\"y\\\": 8707000}, {\\\"x\\\": 2, \\\"y\\\": 8775000}, {\\\"x\\\": 2, \\\"y\\\": 9234000}, {\\\"x\\\": 3, \\\"y\\\": 8000000}, {\\\"x\\\": 3, \\\"y\\\": 6509999}, {\\\"x\\\": 4, \\\"y\\\": 23000000}, {\\\"x\\\": 4, \\\"y\\\": 29000000}, {\\\"x\\\": 2, \\\"y\\\": 11000000}, {\\\"x\\\": 3, \\\"y\\\": 12400000}, {\\\"x\\\": 2, \\\"y\\\": 10100000}, {\\\"x\\\": 3, \\\"y\\\": 7500000}, {\\\"x\\\": 2, \\\"y\\\": 6200000}, {\\\"x\\\": 3, \\\"y\\\": 17500000}, {\\\"x\\\": 4, \\\"y\\\": 29000000}, {\\\"x\\\": 3, \\\"y\\\": 8700000}, {\\\"x\\\": 2, \\\"y\\\": 6956999}, {\\\"x\\\": 2, \\\"y\\\": 6676000}, {\\\"x\\\": 3, \\\"y\\\": 9066000}, {\\\"x\\\": 3, \\\"y\\\": 9949000}, {\\\"x\\\": 3, \\\"y\\\": 7600000}, {\\\"x\\\": 3, \\\"y\\\": 8275000}, {\\\"x\\\": 3, \\\"y\\\": 8325000}, {\\\"x\\\": 3, \\\"y\\\": 9126000}, {\\\"x\\\": 3, \\\"y\\\": 8825000}, {\\\"x\\\": 3, \\\"y\\\": 10000000}, {\\\"x\\\": 2, \\\"y\\\": 7243000}, {\\\"x\\\": 3, \\\"y\\\": 11000000}, {\\\"x\\\": 3, \\\"y\\\": 10600000}, {\\\"x\\\": 2, \\\"y\\\": 5514000}, {\\\"x\\\": 2, \\\"y\\\": 5275000}, {\\\"x\\\": 2, \\\"y\\\": 4830000}, {\\\"x\\\": 3, \\\"y\\\": 12000000}, {\\\"x\\\": 3, \\\"y\\\": 12000000}, {\\\"x\\\": 3, \\\"y\\\": 13500000}, {\\\"x\\\": 3, \\\"y\\\": 10400000}, {\\\"x\\\": 3, \\\"y\\\": 14200000}, {\\\"x\\\": 3, \\\"y\\\": 14300000}, {\\\"x\\\": 2, \\\"y\\\": 6323000}, {\\\"x\\\": 2, \\\"y\\\": 6348000}, {\\\"x\\\": 2, \\\"y\\\": 7553000}, {\\\"x\\\": 3, \\\"y\\\": 6348000}, {\\\"x\\\": 3, \\\"y\\\": 8323000}, {\\\"x\\\": 2, \\\"y\\\": 7272000}, {\\\"x\\\": 3, \\\"y\\\": 7150000}, {\\\"x\\\": 3, \\\"y\\\": 8050000}, {\\\"x\\\": 3, \\\"y\\\": 6600000}, {\\\"x\\\": 3, \\\"y\\\": 7175000}, {\\\"x\\\": 3, \\\"y\\\": 7550000}, {\\\"x\\\": 2, \\\"y\\\": 7301000}, {\\\"x\\\": 2, \\\"y\\\": 8686000}, {\\\"x\\\": 3, \\\"y\\\": 7301000}, {\\\"x\\\": 3, \\\"y\\\": 9571000}, {\\\"x\\\": 2, \\\"y\\\": 5376000}, {\\\"x\\\": 2, \\\"y\\\": 5367000}, {\\\"x\\\": 2, \\\"y\\\": 5166000}, {\\\"x\\\": 3, \\\"y\\\": 6312000}, {\\\"x\\\": 3, \\\"y\\\": 6656999}, {\\\"x\\\": 2, \\\"y\\\": 4993000}, {\\\"x\\\": 2, \\\"y\\\": 5077000}, {\\\"x\\\": 2, \\\"y\\\": 5371000}, {\\\"x\\\": 2, \\\"y\\\": 5506000}, {\\\"x\\\": 3, \\\"y\\\": 5901000}, {\\\"x\\\": 3, \\\"y\\\": 6279000}, {\\\"x\\\": 3, \\\"y\\\": 8202000}, {\\\"x\\\": 3, \\\"y\\\": 6833000}, {\\\"x\\\": 3, \\\"y\\\": 7467000}, {\\\"x\\\": 3, \\\"y\\\": 8273999}, {\\\"x\\\": 3, \\\"y\\\": 7980000}, {\\\"x\\\": 3, \\\"y\\\": 8278000}, {\\\"x\\\": 3, \\\"y\\\": 7753000}, {\\\"x\\\": 3, \\\"y\\\": 7576000}, {\\\"x\\\": 3, \\\"y\\\": 6509999}, {\\\"x\\\": 3, \\\"y\\\": 6547000}, {\\\"x\\\": 3, \\\"y\\\": 6841000}, {\\\"x\\\": 3, \\\"y\\\": 7358000}, {\\\"x\\\": 3, \\\"y\\\": 7593000}, {\\\"x\\\": 3, \\\"y\\\": 8341000}, {\\\"x\\\": 3, \\\"y\\\": 6741000}, {\\\"x\\\": 3, \\\"y\\\": 7203000}, {\\\"x\\\": 3, \\\"y\\\": 7669000}, {\\\"x\\\": 3, \\\"y\\\": 8379000}, {\\\"x\\\": 3, \\\"y\\\": 8383000}, {\\\"x\\\": 3, \\\"y\\\": 10200000}, {\\\"x\\\": 2, \\\"y\\\": 4284000}, {\\\"x\\\": 2, \\\"y\\\": 4640000}, {\\\"x\\\": 3, \\\"y\\\": 59600000}, {\\\"x\\\": 3, \\\"y\\\": 12500000}, {\\\"x\\\": 2, \\\"y\\\": 4640000}, {\\\"x\\\": 3, \\\"y\\\": 12600000}, {\\\"x\\\": 3, \\\"y\\\": 6340000}, {\\\"x\\\": 2, \\\"y\\\": 4660000}, {\\\"x\\\": 1, \\\"y\\\": 2200000}, {\\\"x\\\": 1, \\\"y\\\": 2200000}, {\\\"x\\\": 2, \\\"y\\\": 5500000}, {\\\"x\\\": 2, \\\"y\\\": 3700000}, {\\\"x\\\": 2, \\\"y\\\": 3700000}, {\\\"x\\\": 3, \\\"y\\\": 14500000}, {\\\"x\\\": 2, \\\"y\\\": 4993000}, {\\\"x\\\": 3, \\\"y\\\": 17000000}, {\\\"x\\\": 3, \\\"y\\\": 15000000}, {\\\"x\\\": 3, \\\"y\\\": 15000000}, {\\\"x\\\": 3, \\\"y\\\": 12000000}, {\\\"x\\\": 2, \\\"y\\\": 9300000}, {\\\"x\\\": 4, \\\"y\\\": 45000000}, {\\\"x\\\": 3, \\\"y\\\": 13700000}, {\\\"x\\\": 3, \\\"y\\\": 12500000}, {\\\"x\\\": 2, \\\"y\\\": 3700000}, {\\\"x\\\": 2, \\\"y\\\": 4300000}, {\\\"x\\\": 2, \\\"y\\\": 4800000}, {\\\"x\\\": 2, \\\"y\\\": 4850000}, {\\\"x\\\": 3, \\\"y\\\": 8426000}, {\\\"x\\\": 3, \\\"y\\\": 11299999}, {\\\"x\\\": 3, \\\"y\\\": 8000000}, {\\\"x\\\": 3, \\\"y\\\": 8200000}, {\\\"x\\\": 3, \\\"y\\\": 10500000}, {\\\"x\\\": 2, \\\"y\\\": 8200000}, {\\\"x\\\": 3, \\\"y\\\": 11500000}, {\\\"x\\\": 3, \\\"y\\\": 6340000}, {\\\"x\\\": 3, \\\"y\\\": 15000000}, {\\\"x\\\": 3, \\\"y\\\": 19000000}, {\\\"x\\\": 4, \\\"y\\\": 13000000}, {\\\"x\\\": 3, \\\"y\\\": 16900000}, {\\\"x\\\": 3, \\\"y\\\": 14900000}, {\\\"x\\\": 4, \\\"y\\\": 26900000}, {\\\"x\\\": 3, \\\"y\\\": 23000000}, {\\\"x\\\": 3, \\\"y\\\": 14400000}, {\\\"x\\\": 3, \\\"y\\\": 17600000}, {\\\"x\\\": 3, \\\"y\\\": 9500000}, {\\\"x\\\": 3, \\\"y\\\": 9499000}, {\\\"x\\\": 3, \\\"y\\\": 23000000}, {\\\"x\\\": 3, \\\"y\\\": 14400000}, {\\\"x\\\": 3, \\\"y\\\": 9728000}, {\\\"x\\\": 2, \\\"y\\\": 6623000}, {\\\"x\\\": 3, \\\"y\\\": 12300000}, {\\\"x\\\": 3, \\\"y\\\": 17600000}, {\\\"x\\\": 3, \\\"y\\\": 12300000}, {\\\"x\\\": 3, \\\"y\\\": 9254000}, {\\\"x\\\": 3, \\\"y\\\": 10500000}, {\\\"x\\\": 3, \\\"y\\\": 11100000}, {\\\"x\\\": 2, \\\"y\\\": 4660000}, {\\\"x\\\": 3, \\\"y\\\": 8500000}, {\\\"x\\\": 3, \\\"y\\\": 7280000}, {\\\"x\\\": 4, \\\"y\\\": 35000000}, {\\\"x\\\": 2, \\\"y\\\": 5300000}, {\\\"x\\\": 3, \\\"y\\\": 5720000}, {\\\"x\\\": 2, \\\"y\\\": 9000000}, {\\\"x\\\": 2, \\\"y\\\": 3600000}, {\\\"x\\\": 3, \\\"y\\\": 5720000}, {\\\"x\\\": 4, \\\"y\\\": 23000000}, {\\\"x\\\": 4, \\\"y\\\": 23000000}, {\\\"x\\\": 4, \\\"y\\\": 23600000}, {\\\"x\\\": 4, \\\"y\\\": 23000000}, {\\\"x\\\": 2, \\\"y\\\": 3800000}, {\\\"x\\\": 3, \\\"y\\\": 8800000}, {\\\"x\\\": 3, \\\"y\\\": 10200000}, {\\\"x\\\": 3, \\\"y\\\": 9278000}, {\\\"x\\\": 2, \\\"y\\\": 2800000}, {\\\"x\\\": 2, \\\"y\\\": 6800000}, {\\\"x\\\": 3, \\\"y\\\": 11100000}, {\\\"x\\\": 3, \\\"y\\\": 10800000}, {\\\"x\\\": 2, \\\"y\\\": 7125000}, {\\\"x\\\": 3, \\\"y\\\": 10100000}, {\\\"x\\\": 2, \\\"y\\\": 7755000}, {\\\"x\\\": 3, \\\"y\\\": 11800000}, {\\\"x\\\": 3, \\\"y\\\": 10400000}, {\\\"x\\\": 3, \\\"y\\\": 14600000}, {\\\"x\\\": 3, \\\"y\\\": 13200000}, {\\\"x\\\": 2, \\\"y\\\": 7672000}, {\\\"x\\\": 3, \\\"y\\\": 12600000}, {\\\"x\\\": 3, \\\"y\\\": 12600000}, {\\\"x\\\": 3, \\\"y\\\": 12600000}, {\\\"x\\\": 3, \\\"y\\\": 10900000}, {\\\"x\\\": 3, \\\"y\\\": 10900000}, {\\\"x\\\": 2, \\\"y\\\": 8255000}, {\\\"x\\\": 2, \\\"y\\\": 8255000}, {\\\"x\\\": 2, \\\"y\\\": 8255000}, {\\\"x\\\": 3, \\\"y\\\": 9620000}, {\\\"x\\\": 4, \\\"y\\\": 9900000}, {\\\"x\\\": 2, \\\"y\\\": 4800000}, {\\\"x\\\": 3, \\\"y\\\": 11200000}, {\\\"x\\\": 3, \\\"y\\\": 7900000}, {\\\"x\\\": 2, \\\"y\\\": 5692000}, {\\\"x\\\": 3, \\\"y\\\": 10500000}, {\\\"x\\\": 2, \\\"y\\\": 8900000}, {\\\"x\\\": 3, \\\"y\\\": 8600000}, {\\\"x\\\": 3, \\\"y\\\": 11399999}, {\\\"x\\\": 2, \\\"y\\\": 4161999}, {\\\"x\\\": 3, \\\"y\\\": 6800000}, {\\\"x\\\": 3, \\\"y\\\": 6800000}, {\\\"x\\\": 2, \\\"y\\\": 3300000}, {\\\"x\\\": 3, \\\"y\\\": 6800000}, {\\\"x\\\": 3, \\\"y\\\": 6800000}, {\\\"x\\\": 3, \\\"y\\\": 7280000}, {\\\"x\\\": 3, \\\"y\\\": 6800000}, {\\\"x\\\": 3, \\\"y\\\": 11200000}, {\\\"x\\\": 2, \\\"y\\\": 9000000}, {\\\"x\\\": 2, \\\"y\\\": 4300000}, {\\\"x\\\": 2, \\\"y\\\": 9400000}, {\\\"x\\\": 2, \\\"y\\\": 8900000}, {\\\"x\\\": 4, \\\"y\\\": 23000000}, {\\\"x\\\": 2, \\\"y\\\": 2850000}, {\\\"x\\\": 3, \\\"y\\\": 11200000}, {\\\"x\\\": 3, \\\"y\\\": 11299999}, {\\\"x\\\": 3, \\\"y\\\": 10500000}, {\\\"x\\\": 3, \\\"y\\\": 11200000}, {\\\"x\\\": 3, \\\"y\\\": 7280000}, {\\\"x\\\": 2, \\\"y\\\": 3600000}, {\\\"x\\\": 3, \\\"y\\\": 8383000}, {\\\"x\\\": 3, \\\"y\\\": 8387000}, {\\\"x\\\": 3, \\\"y\\\": 8387000}, {\\\"x\\\": 2, \\\"y\\\": 9400000}, {\\\"x\\\": 3, \\\"y\\\": 10500000}, {\\\"x\\\": 3, \\\"y\\\": 10500000}, {\\\"x\\\": 3, \\\"y\\\": 10500000}, {\\\"x\\\": 3, \\\"y\\\": 10500000}, {\\\"x\\\": 2, \\\"y\\\": 8400000}, {\\\"x\\\": 3, \\\"y\\\": 8200000}, {\\\"x\\\": 2, \\\"y\\\": 4600000}, {\\\"x\\\": 2, \\\"y\\\": 4300000}, {\\\"x\\\": 3, \\\"y\\\": 8800000}, {\\\"x\\\": 3, \\\"y\\\": 6900000}, {\\\"x\\\": 3, \\\"y\\\": 4810000}, {\\\"x\\\": 3, \\\"y\\\": 10500000}, {\\\"x\\\": 4, \\\"y\\\": 23000000}, {\\\"x\\\": 2, \\\"y\\\": 8400000}, {\\\"x\\\": 2, \\\"y\\\": 8400000}, {\\\"x\\\": 3, \\\"y\\\": 7980000}, {\\\"x\\\": 3, \\\"y\\\": 6500000}, {\\\"x\\\": 3, \\\"y\\\": 10200000}, {\\\"x\\\": 2, \\\"y\\\": 4800000}, {\\\"x\\\": 3, \\\"y\\\": 4099000}, {\\\"x\\\": 2, \\\"y\\\": 4800000}, {\\\"x\\\": 2, \\\"y\\\": 4158000}, {\\\"x\\\": 2, \\\"y\\\": 4239000}, {\\\"x\\\": 3, \\\"y\\\": 4500000}, {\\\"x\\\": 2, \\\"y\\\": 7000000}, {\\\"x\\\": 3, \\\"y\\\": 11299999}, {\\\"x\\\": 3, \\\"y\\\": 10500000}, {\\\"x\\\": 3, \\\"y\\\": 10200000}, {\\\"x\\\": 3, \\\"y\\\": 4000000}, {\\\"x\\\": 2, \\\"y\\\": 4158000}, {\\\"x\\\": 2, \\\"y\\\": 4158000}, {\\\"x\\\": 4, \\\"y\\\": 23000000}, {\\\"x\\\": 4, \\\"y\\\": 23000000}, {\\\"x\\\": 4, \\\"y\\\": 23000000}, {\\\"x\\\": 3, \\\"y\\\": 8150000}, {\\\"x\\\": 3, \\\"y\\\": 8200000}, {\\\"x\\\": 3, \\\"y\\\": 8200000}, {\\\"x\\\": 3, \\\"y\\\": 8200000}, {\\\"x\\\": 3, \\\"y\\\": 8200000}, {\\\"x\\\": 3, \\\"y\\\": 8200000}, {\\\"x\\\": 3, \\\"y\\\": 8200000}, {\\\"x\\\": 2, \\\"y\\\": 4940000}, {\\\"x\\\": 3, \\\"y\\\": 6800000}, {\\\"x\\\": 3, \\\"y\\\": 8150000}, {\\\"x\\\": 3, \\\"y\\\": 8150000}, {\\\"x\\\": 3, \\\"y\\\": 8200000}, {\\\"x\\\": 3, \\\"y\\\": 8200000}, {\\\"x\\\": 3, \\\"y\\\": 8200000}, {\\\"x\\\": 3, \\\"y\\\": 8200000}, {\\\"x\\\": 3, \\\"y\\\": 8200000}, {\\\"x\\\": 3, \\\"y\\\": 7500000}, {\\\"x\\\": 3, \\\"y\\\": 3500000}, {\\\"x\\\": 2, \\\"y\\\": 4158000}, {\\\"x\\\": 3, \\\"y\\\": 8150000}, {\\\"x\\\": 3, \\\"y\\\": 8150000}, {\\\"x\\\": 3, \\\"y\\\": 8200000}, {\\\"x\\\": 2, \\\"y\\\": 4239000}, {\\\"x\\\": 3, \\\"y\\\": 8200000}, {\\\"x\\\": 2, \\\"y\\\": 4239000}, {\\\"x\\\": 2, \\\"y\\\": 7000000}, {\\\"x\\\": 2, \\\"y\\\": 8000000}, {\\\"x\\\": 2, \\\"y\\\": 9000000}, {\\\"x\\\": 2, \\\"y\\\": 8000000}, {\\\"x\\\": 2, \\\"y\\\": 4158000}, {\\\"x\\\": 3, \\\"y\\\": 11299999}, {\\\"x\\\": 3, \\\"y\\\": 8000000}, {\\\"x\\\": 3, \\\"y\\\": 8383000}, {\\\"x\\\": 2, \\\"y\\\": 6786000}, {\\\"x\\\": 3, \\\"y\\\": 6000000}, {\\\"x\\\": 2, \\\"y\\\": 6323000}, {\\\"x\\\": 2, \\\"y\\\": 6319000}, {\\\"x\\\": 2, \\\"y\\\": 6319000}, {\\\"x\\\": 3, \\\"y\\\": 8404000}, {\\\"x\\\": 2, \\\"y\\\": 4500000}, {\\\"x\\\": 3, \\\"y\\\": 6000000}, {\\\"x\\\": 3, \\\"y\\\": 6000000}, {\\\"x\\\": 2, \\\"y\\\": 8400000}, {\\\"x\\\": 4, \\\"y\\\": 40000000}, {\\\"x\\\": 2, \\\"y\\\": 7317000}, {\\\"x\\\": 3, \\\"y\\\": 11200000}, {\\\"x\\\": 3, \\\"y\\\": 6000000}, {\\\"x\\\": 2, \\\"y\\\": 6500000}, {\\\"x\\\": 3, \\\"y\\\": 6000000}, {\\\"x\\\": 3, \\\"y\\\": 6000000}, {\\\"x\\\": 3, \\\"y\\\": 10500000}, {\\\"x\\\": 3, \\\"y\\\": 15500000}, {\\\"x\\\": 3, \\\"y\\\": 9120000}, {\\\"x\\\": 2, \\\"y\\\": 4804000}, {\\\"x\\\": 2, \\\"y\\\": 5000000}, {\\\"x\\\": 2, \\\"y\\\": 4158000}, {\\\"x\\\": 2, \\\"y\\\": 4600000}, {\\\"x\\\": 3, \\\"y\\\": 6600000}, {\\\"x\\\": 3, \\\"y\\\": 11200000}, {\\\"x\\\": 3, \\\"y\\\": 10200000}, {\\\"x\\\": 2, \\\"y\\\": 4158000}, {\\\"x\\\": 3, \\\"y\\\": 21000000}, {\\\"x\\\": 3, \\\"y\\\": 6000000}, {\\\"x\\\": 3, \\\"y\\\": 6000000}, {\\\"x\\\": 3, \\\"y\\\": 4500000}, {\\\"x\\\": 2, \\\"y\\\": 8400000}, {\\\"x\\\": 2, \\\"y\\\": 8400000}, {\\\"x\\\": 2, \\\"y\\\": 4158000}, {\\\"x\\\": 3, \\\"y\\\": 8000000}, {\\\"x\\\": 3, \\\"y\\\": 6000000}, {\\\"x\\\": 3, \\\"y\\\": 8000000}, {\\\"x\\\": 3, \\\"y\\\": 9447000}, {\\\"x\\\": 2, \\\"y\\\": 3500000}, {\\\"x\\\": 3, \\\"y\\\": 6000000}, {\\\"x\\\": 3, \\\"y\\\": 6000000}, {\\\"x\\\": 3, \\\"y\\\": 6000000}, {\\\"x\\\": 2, \\\"y\\\": 9500000}, {\\\"x\\\": 2, \\\"y\\\": 4070000}, {\\\"x\\\": 3, \\\"y\\\": 13700000}, {\\\"x\\\": 3, \\\"y\\\": 6000000}, {\\\"x\\\": 3, \\\"y\\\": 6000000}, {\\\"x\\\": 3, \\\"y\\\": 6000000}, {\\\"x\\\": 3, \\\"y\\\": 6000000}, {\\\"x\\\": 2, \\\"y\\\": 4158000}, {\\\"x\\\": 1, \\\"y\\\": 2300000}, {\\\"x\\\": 3, \\\"y\\\": 8150000}, {\\\"x\\\": 3, \\\"y\\\": 16000000}, {\\\"x\\\": 2, \\\"y\\\": 8900000}, {\\\"x\\\": 2, \\\"y\\\": 8000000}, {\\\"x\\\": 3, \\\"y\\\": 8766000}, {\\\"x\\\": 3, \\\"y\\\": 10700000}, {\\\"x\\\": 2, \\\"y\\\": 8573000}, {\\\"x\\\": 4, \\\"y\\\": 18400000}, {\\\"x\\\": 3, \\\"y\\\": 8150000}, {\\\"x\\\": 3, \\\"y\\\": 12400000}, {\\\"x\\\": 3, \\\"y\\\": 11200000}, {\\\"x\\\": 2, \\\"y\\\": 5999000}, {\\\"x\\\": 2, \\\"y\\\": 6000000}, {\\\"x\\\": 2, \\\"y\\\": 5600000}, {\\\"x\\\": 2, \\\"y\\\": 3510000}, {\\\"x\\\": 3, \\\"y\\\": 2800000}, {\\\"x\\\": 3, \\\"y\\\": 2800000}, {\\\"x\\\": 6, \\\"y\\\": 21000000}, {\\\"x\\\": 2, \\\"y\\\": 3500000}, {\\\"x\\\": 3, \\\"y\\\": 8000000}, {\\\"x\\\": 2, \\\"y\\\": 5187000}, {\\\"x\\\": 2, \\\"y\\\": 6000000}, {\\\"x\\\": 2, \\\"y\\\": 2700000}, {\\\"x\\\": 2, \\\"y\\\": 4158000}, {\\\"x\\\": 2, \\\"y\\\": 4000000}, {\\\"x\\\": 4, \\\"y\\\": 35000000}, {\\\"x\\\": 3, \\\"y\\\": 8000000}, {\\\"x\\\": 2, \\\"y\\\": 6800000}, {\\\"x\\\": 2, \\\"y\\\": 4179999}, {\\\"x\\\": 3, \\\"y\\\": 8200000}, {\\\"x\\\": 3, \\\"y\\\": 8200000}, {\\\"x\\\": 2, \\\"y\\\": 4856000}, {\\\"x\\\": 2, \\\"y\\\": 4230000}, {\\\"x\\\": 2, \\\"y\\\": 4158000}, {\\\"x\\\": 2, \\\"y\\\": 4236000}, {\\\"x\\\": 2, \\\"y\\\": 4236000}, {\\\"x\\\": 2, \\\"y\\\": 4236000}, {\\\"x\\\": 2, \\\"y\\\": 5654000}, {\\\"x\\\": 3, \\\"y\\\": 4000000}, {\\\"x\\\": 2, \\\"y\\\": 3700000}, {\\\"x\\\": 3, \\\"y\\\": 5600000}, {\\\"x\\\": 3, \\\"y\\\": 3750000}, {\\\"x\\\": 3, \\\"y\\\": 3500000}, {\\\"x\\\": 2, \\\"y\\\": 4700000}, {\\\"x\\\": 3, \\\"y\\\": 4600000}, {\\\"x\\\": 3, \\\"y\\\": 30000000}, {\\\"x\\\": 3, \\\"y\\\": 8100000}, {\\\"x\\\": 4, \\\"y\\\": 29000000}, {\\\"x\\\": 3, \\\"y\\\": 5500000}, {\\\"x\\\": 2, \\\"y\\\": 4680000}, {\\\"x\\\": 2, \\\"y\\\": 4230000}, {\\\"x\\\": 3, \\\"y\\\": 8800000}, {\\\"x\\\": 2, \\\"y\\\": 4200000}, {\\\"x\\\": 2, \\\"y\\\": 5061000}, {\\\"x\\\": 2, \\\"y\\\": 4600000}, {\\\"x\\\": 3, \\\"y\\\": 10900000}, {\\\"x\\\": 2, \\\"y\\\": 11000000}, {\\\"x\\\": 2, \\\"y\\\": 3148000}, {\\\"x\\\": 3, \\\"y\\\": 6325000}, {\\\"x\\\": 2, \\\"y\\\": 4748000}, {\\\"x\\\": 2, \\\"y\\\": 4230000}, {\\\"x\\\": 2, \\\"y\\\": 5652000}, {\\\"x\\\": 2, \\\"y\\\": 4680000}, {\\\"x\\\": 4, \\\"y\\\": 38700000}, {\\\"x\\\": 3, \\\"y\\\": 10000000}, {\\\"x\\\": 2, \\\"y\\\": 6500000}, {\\\"x\\\": 3, \\\"y\\\": 12400000}, {\\\"x\\\": 2, \\\"y\\\": 4230000}, {\\\"x\\\": 3, \\\"y\\\": 7800000}, {\\\"x\\\": 3, \\\"y\\\": 8000000}, {\\\"x\\\": 3, \\\"y\\\": 12500000}, {\\\"x\\\": 3, \\\"y\\\": 10000000}, {\\\"x\\\": 2, \\\"y\\\": 3500000}, {\\\"x\\\": 1, \\\"y\\\": 2310000}, {\\\"x\\\": 2, \\\"y\\\": 7554000}, {\\\"x\\\": 2, \\\"y\\\": 4542000}, {\\\"x\\\": 2, \\\"y\\\": 7098999}, {\\\"x\\\": 3, \\\"y\\\": 6931000}, {\\\"x\\\": 3, \\\"y\\\": 11399999}, {\\\"x\\\": 3, \\\"y\\\": 11100000}, {\\\"x\\\": 2, \\\"y\\\": 4158000}, {\\\"x\\\": 3, \\\"y\\\": 8150000}, {\\\"x\\\": 3, \\\"y\\\": 40000000}, {\\\"x\\\": 1, \\\"y\\\": 2500000}, {\\\"x\\\": 3, \\\"y\\\": 10500000}, {\\\"x\\\": 3, \\\"y\\\": 19300000}, {\\\"x\\\": 3, \\\"y\\\": 16500000}, {\\\"x\\\": 2, \\\"y\\\": 2500000}, {\\\"x\\\": 3, \\\"y\\\": 3500000}, {\\\"x\\\": 3, \\\"y\\\": 5600000}, {\\\"x\\\": 3, \\\"y\\\": 3500000}, {\\\"x\\\": 4, \\\"y\\\": 27000000}, {\\\"x\\\": 3, \\\"y\\\": 9291000}, {\\\"x\\\": 3, \\\"y\\\": 8150000}, {\\\"x\\\": 4, \\\"y\\\": 42900000}, {\\\"x\\\": 2, \\\"y\\\": 6000000}, {\\\"x\\\": 2, \\\"y\\\": 4700000}, {\\\"x\\\": 2, \\\"y\\\": 4403000}, {\\\"x\\\": 1, \\\"y\\\": 2200000}, {\\\"x\\\": 2, \\\"y\\\": 4304000}, {\\\"x\\\": 2, \\\"y\\\": 3732000}, {\\\"x\\\": 2, \\\"y\\\": 4104000}, {\\\"x\\\": 2, \\\"y\\\": 3928000}, {\\\"x\\\": 3, \\\"y\\\": 9100000}, {\\\"x\\\": 4, \\\"y\\\": 29000000}, {\\\"x\\\": 2, \\\"y\\\": 4389000}, {\\\"x\\\": 4, \\\"y\\\": 13700000}, {\\\"x\\\": 3, \\\"y\\\": 9974000}, {\\\"x\\\": 3, \\\"y\\\": 20000000}, {\\\"x\\\": 2, \\\"y\\\": 3000000}, {\\\"x\\\": 2, \\\"y\\\": 4158000}, {\\\"x\\\": 2, \\\"y\\\": 4158000}, {\\\"x\\\": 2, \\\"y\\\": 4239000}, {\\\"x\\\": 3, \\\"y\\\": 11000000}, {\\\"x\\\": 2, \\\"y\\\": 4950000}, {\\\"x\\\": 3, \\\"y\\\": 21000000}, {\\\"x\\\": 3, \\\"y\\\": 6006000}, {\\\"x\\\": 2, \\\"y\\\": 2116000}, {\\\"x\\\": 2, \\\"y\\\": 4800000}, {\\\"x\\\": 3, \\\"y\\\": 4236000}, {\\\"x\\\": 3, \\\"y\\\": 9638000}, {\\\"x\\\": 2, \\\"y\\\": 7000000}, {\\\"x\\\": 2, \\\"y\\\": 4100000}, {\\\"x\\\": 2, \\\"y\\\": 8400000}, {\\\"x\\\": 4, \\\"y\\\": 40700000}, {\\\"x\\\": 3, \\\"y\\\": 14900000}, {\\\"x\\\": 3, \\\"y\\\": 6800000}, {\\\"x\\\": 5, \\\"y\\\": 45000000}, {\\\"x\\\": 3, \\\"y\\\": 15000000}, {\\\"x\\\": 2, \\\"y\\\": 4389000}, {\\\"x\\\": 3, \\\"y\\\": 8300000}, {\\\"x\\\": 2, \\\"y\\\": 5200000}, {\\\"x\\\": 1, \\\"y\\\": 15000000}, {\\\"x\\\": 3, \\\"y\\\": 6340000}, {\\\"x\\\": 4, \\\"y\\\": 37000000}, {\\\"x\\\": 3, \\\"y\\\": 27000000}, {\\\"x\\\": 3, \\\"y\\\": 9200000}, {\\\"x\\\": 3, \\\"y\\\": 10400000}, {\\\"x\\\": 3, \\\"y\\\": 9351000}, {\\\"x\\\": 3, \\\"y\\\": 9200000}, {\\\"x\\\": 2, \\\"y\\\": 7028000}, {\\\"x\\\": 3, \\\"y\\\": 12000000}, {\\\"x\\\": 2, \\\"y\\\": 8000000}, {\\\"x\\\": 3, \\\"y\\\": 4198000}, {\\\"x\\\": 3, \\\"y\\\": 6340000}, {\\\"x\\\": 3, \\\"y\\\": 9500000}, {\\\"x\\\": 3, \\\"y\\\": 9500000}, {\\\"x\\\": 3, \\\"y\\\": 9500000}, {\\\"x\\\": 3, \\\"y\\\": 9500000}, {\\\"x\\\": 2, \\\"y\\\": 4600000}, {\\\"x\\\": 2, \\\"y\\\": 5800000}, {\\\"x\\\": 3, \\\"y\\\": 6220000}, {\\\"x\\\": 2, \\\"y\\\": 4230000}, {\\\"x\\\": 2, \\\"y\\\": 5800000}, {\\\"x\\\": 2, \\\"y\\\": 9400000}, {\\\"x\\\": 3, \\\"y\\\": 4000000}, {\\\"x\\\": 2, \\\"y\\\": 4300000}, {\\\"x\\\": 2, \\\"y\\\": 5967000}, {\\\"x\\\": 2, \\\"y\\\": 8900000}, {\\\"x\\\": 3, \\\"y\\\": 10500000}, {\\\"x\\\": 3, \\\"y\\\": 22000000}, {\\\"x\\\": 2, \\\"y\\\": 7800000}, {\\\"x\\\": 2, \\\"y\\\": 2700000}, {\\\"x\\\": 3, \\\"y\\\": 12000000}, {\\\"x\\\": 2, \\\"y\\\": 4158000}, {\\\"x\\\": 2, \\\"y\\\": 4158000}, {\\\"x\\\": 2, \\\"y\\\": 4500000}, {\\\"x\\\": 2, \\\"y\\\": 4500000}, {\\\"x\\\": 2, \\\"y\\\": 4389000}, {\\\"x\\\": 2, \\\"y\\\": 6500000}, {\\\"x\\\": 2, \\\"y\\\": 10500000}, {\\\"x\\\": 4, \\\"y\\\": 21000000}, {\\\"x\\\": 2, \\\"y\\\": 10000000}, {\\\"x\\\": 4, \\\"y\\\": 45000000}, {\\\"x\\\": 3, \\\"y\\\": 12000000}, {\\\"x\\\": 3, \\\"y\\\": 6200000}, {\\\"x\\\": 2, \\\"y\\\": 6800000}, {\\\"x\\\": 4, \\\"y\\\": 40000000}, {\\\"x\\\": 5, \\\"y\\\": 45000000}, {\\\"x\\\": 2, \\\"y\\\": 8522000}, {\\\"x\\\": 3, \\\"y\\\": 11200000}, {\\\"x\\\": 3, \\\"y\\\": 11000000}, {\\\"x\\\": 2, \\\"y\\\": 11000000}, {\\\"x\\\": 3, \\\"y\\\": 10900000}, {\\\"x\\\": 3, \\\"y\\\": 10500000}, {\\\"x\\\": 3, \\\"y\\\": 8259999}, {\\\"x\\\": 2, \\\"y\\\": 4600000}, {\\\"x\\\": 2, \\\"y\\\": 5700000}, {\\\"x\\\": 2, \\\"y\\\": 4872000}, {\\\"x\\\": 3, \\\"y\\\": 11299999}, {\\\"x\\\": 3, \\\"y\\\": 5000000}, {\\\"x\\\": 3, \\\"y\\\": 4500000}, {\\\"x\\\": 2, \\\"y\\\": 4500000}, {\\\"x\\\": 3, \\\"y\\\": 6800000}, {\\\"x\\\": 2, \\\"y\\\": 7000000}, {\\\"x\\\": 5, \\\"y\\\": 35200000}, {\\\"x\\\": 5, \\\"y\\\": 35200000}, {\\\"x\\\": 5, \\\"y\\\": 35200000}, {\\\"x\\\": 5, \\\"y\\\": 35200000}, {\\\"x\\\": 4, \\\"y\\\": 10900000}, {\\\"x\\\": 4, \\\"y\\\": 22500000}, {\\\"x\\\": 3, \\\"y\\\": 10500000}, {\\\"x\\\": 1, \\\"y\\\": 2310000}, {\\\"x\\\": 4, \\\"y\\\": 27000000}, {\\\"x\\\": 3, \\\"y\\\": 15000000}, {\\\"x\\\": 3, \\\"y\\\": 7519000}, {\\\"x\\\": 3, \\\"y\\\": 11200000}, {\\\"x\\\": 2, \\\"y\\\": 4389000}, {\\\"x\\\": 2, \\\"y\\\": 4500000}, {\\\"x\\\": 3, \\\"y\\\": 8200000}, {\\\"x\\\": 3, \\\"y\\\": 6363000}, {\\\"x\\\": 5, \\\"y\\\": 6500000}, {\\\"x\\\": 3, \\\"y\\\": 4500000}, {\\\"x\\\": 3, \\\"y\\\": 7998000}, {\\\"x\\\": 2, \\\"y\\\": 8811000}, {\\\"x\\\": 3, \\\"y\\\": 23000000}, {\\\"x\\\": 3, \\\"y\\\": 8624000}, {\\\"x\\\": 2, \\\"y\\\": 4158000}, {\\\"x\\\": 2, \\\"y\\\": 4389000}, {\\\"x\\\": 2, \\\"y\\\": 4500000}, {\\\"x\\\": 3, \\\"y\\\": 13300000}, {\\\"x\\\": 3, \\\"y\\\": 11500000}, {\\\"x\\\": 2, \\\"y\\\": 9400000}, {\\\"x\\\": 2, \\\"y\\\": 9400000}, {\\\"x\\\": 3, \\\"y\\\": 6363000}, {\\\"x\\\": 2, \\\"y\\\": 5100000}, {\\\"x\\\": 3, \\\"y\\\": 12000000}, {\\\"x\\\": 2, \\\"y\\\": 9382000}, {\\\"x\\\": 2, \\\"y\\\": 4500000}, {\\\"x\\\": 3, \\\"y\\\": 11000000}, {\\\"x\\\": 3, \\\"y\\\": 11000000}, {\\\"x\\\": 2, \\\"y\\\": 5647000}, {\\\"x\\\": 3, \\\"y\\\": 6800000}, {\\\"x\\\": 3, \\\"y\\\": 6800000}, {\\\"x\\\": 3, \\\"y\\\": 14000000}, {\\\"x\\\": 3, \\\"y\\\": 8150000}, {\\\"x\\\": 2, \\\"y\\\": 7098999}, {\\\"x\\\": 3, \\\"y\\\": 10900000}, {\\\"x\\\": 2, \\\"y\\\": 8095000}, {\\\"x\\\": 3, \\\"y\\\": 11399999}, {\\\"x\\\": 2, \\\"y\\\": 5256000}, {\\\"x\\\": 3, \\\"y\\\": 6931000}, {\\\"x\\\": 3, \\\"y\\\": 13500000}, {\\\"x\\\": 2, \\\"y\\\": 6000000}, {\\\"x\\\": 2, \\\"y\\\": 6000000}, {\\\"x\\\": 3, \\\"y\\\": 11500000}, {\\\"x\\\": 3, \\\"y\\\": 11500000}, {\\\"x\\\": 3, \\\"y\\\": 11000000}, {\\\"x\\\": 3, \\\"y\\\": 10500000}, {\\\"x\\\": 2, \\\"y\\\": 4085000}, {\\\"x\\\": 2, \\\"y\\\": 4427000}, {\\\"x\\\": 3, \\\"y\\\": 15400000}, {\\\"x\\\": 3, \\\"y\\\": 45000000}, {\\\"x\\\": 4, \\\"y\\\": 24500000}, {\\\"x\\\": 2, \\\"y\\\": 8823000}, {\\\"x\\\": 2, \\\"y\\\": 8389000}, {\\\"x\\\": 2, \\\"y\\\": 9941000}, {\\\"x\\\": 2, \\\"y\\\": 6180000}, {\\\"x\\\": 2, \\\"y\\\": 4340000}, {\\\"x\\\": 3, \\\"y\\\": 5510000}, {\\\"x\\\": 2, \\\"y\\\": 5050000}, {\\\"x\\\": 3, \\\"y\\\": 9300000}, {\\\"x\\\": 3, \\\"y\\\": 13000000}, {\\\"x\\\": 3, \\\"y\\\": 18500000}, {\\\"x\\\": 3, \\\"y\\\": 17500000}, {\\\"x\\\": 2, \\\"y\\\": 6102000}, {\\\"x\\\": 3, \\\"y\\\": 8070000}, {\\\"x\\\": 2, \\\"y\\\": 7533000}, {\\\"x\\\": 2, \\\"y\\\": 6884999}, {\\\"x\\\": 3, \\\"y\\\": 10800000}, {\\\"x\\\": 4, \\\"y\\\": 17000000}, {\\\"x\\\": 4, \\\"y\\\": 17000000}, {\\\"x\\\": 4, \\\"y\\\": 61000000}, {\\\"x\\\": 4, \\\"y\\\": 55800000}, {\\\"x\\\": 3, \\\"y\\\": 8000000}, {\\\"x\\\": 4, \\\"y\\\": 18400000}, {\\\"x\\\": 2, \\\"y\\\": 4500000}, {\\\"x\\\": 2, \\\"y\\\": 3600000}, {\\\"x\\\": 2, \\\"y\\\": 3500000}, {\\\"x\\\": 3, \\\"y\\\": 4000000}, {\\\"x\\\": 2, \\\"y\\\": 5200000}, {\\\"x\\\": 2, \\\"y\\\": 5900000}, {\\\"x\\\": 2, \\\"y\\\": 9400000}, {\\\"x\\\": 3, \\\"y\\\": 13300000}, {\\\"x\\\": 3, \\\"y\\\": 7998000}, {\\\"x\\\": 3, \\\"y\\\": 10500000}, {\\\"x\\\": 4, \\\"y\\\": 32000000}, {\\\"x\\\": 2, \\\"y\\\": 4236000}, {\\\"x\\\": 2, \\\"y\\\": 4236000}, {\\\"x\\\": 2, \\\"y\\\": 4158000}, {\\\"x\\\": 2, \\\"y\\\": 4158000}, {\\\"x\\\": 2, \\\"y\\\": 4158000}, {\\\"x\\\": 2, \\\"y\\\": 4236000}, {\\\"x\\\": 2, \\\"y\\\": 4158000}, {\\\"x\\\": 2, \\\"y\\\": 4158000}, {\\\"x\\\": 2, \\\"y\\\": 4158000}, {\\\"x\\\": 2, \\\"y\\\": 4158000}, {\\\"x\\\": 2, \\\"y\\\": 4389000}, {\\\"x\\\": 2, \\\"y\\\": 4236000}, {\\\"x\\\": 2, \\\"y\\\": 4158000}, {\\\"x\\\": 2, \\\"y\\\": 6640000}, {\\\"x\\\": 3, \\\"y\\\": 6000000}, {\\\"x\\\": 3, \\\"y\\\": 16000000}, {\\\"x\\\": 3, \\\"y\\\": 9558000}, {\\\"x\\\": 4, \\\"y\\\": 29000000}, {\\\"x\\\": 2, \\\"y\\\": 5500000}, {\\\"x\\\": 3, \\\"y\\\": 6363000}, {\\\"x\\\": 3, \\\"y\\\": 13500000}, {\\\"x\\\": 3, \\\"y\\\": 10500000}, {\\\"x\\\": 3, \\\"y\\\": 13500000}, {\\\"x\\\": 3, \\\"y\\\": 9517000}, {\\\"x\\\": 3, \\\"y\\\": 9517000}, {\\\"x\\\": 3, \\\"y\\\": 8903000}, {\\\"x\\\": 4, \\\"y\\\": 16299999}, {\\\"x\\\": 4, \\\"y\\\": 16299999}, {\\\"x\\\": 4, \\\"y\\\": 16299999}, {\\\"x\\\": 4, \\\"y\\\": 16299999}, {\\\"x\\\": 4, \\\"y\\\": 15200000}, {\\\"x\\\": 4, \\\"y\\\": 15200000}, {\\\"x\\\": 4, \\\"y\\\": 15200000}, {\\\"x\\\": 4, \\\"y\\\": 15200000}, {\\\"x\\\": 4, \\\"y\\\": 15200000}, {\\\"x\\\": 4, \\\"y\\\": 15200000}, {\\\"x\\\": 4, \\\"y\\\": 15200000}, {\\\"x\\\": 4, \\\"y\\\": 15200000}, {\\\"x\\\": 5, \\\"y\\\": 35200000}, {\\\"x\\\": 5, \\\"y\\\": 35200000}, {\\\"x\\\": 5, \\\"y\\\": 35200000}, {\\\"x\\\": 5, \\\"y\\\": 35200000}, {\\\"x\\\": 2, \\\"y\\\": 4500000}, {\\\"x\\\": 4, \\\"y\\\": 62300000}, {\\\"x\\\": 3, \\\"y\\\": 12500000}, {\\\"x\\\": 3, \\\"y\\\": 12000000}, {\\\"x\\\": 2, \\\"y\\\": 2962000}, {\\\"x\\\": 3, \\\"y\\\": 14500000}, {\\\"x\\\": 4, \\\"y\\\": 34000000}, {\\\"x\\\": 3, \\\"y\\\": 15000000}, {\\\"x\\\": 4, \\\"y\\\": 7200000}, {\\\"x\\\": 2, \\\"y\\\": 3700000}, {\\\"x\\\": 3, \\\"y\\\": 9800000}, {\\\"x\\\": 3, \\\"y\\\": 13000000}, {\\\"x\\\": 3, \\\"y\\\": 15800000}, {\\\"x\\\": 2, \\\"y\\\": 4600000}, {\\\"x\\\": 4, \\\"y\\\": 30000000}, {\\\"x\\\": 2, \\\"y\\\": 7438000}, {\\\"x\\\": 3, \\\"y\\\": 13400000}, {\\\"x\\\": 2, \\\"y\\\": 4800000}, {\\\"x\\\": 6, \\\"y\\\": 29000000}, {\\\"x\\\": 2, \\\"y\\\": 3800000}, {\\\"x\\\": 4, \\\"y\\\": 27000000}, {\\\"x\\\": 3, \\\"y\\\": 12100000}, {\\\"x\\\": 3, \\\"y\\\": 7950000}, {\\\"x\\\": 3, \\\"y\\\": 10500000}, {\\\"x\\\": 3, \\\"y\\\": 10500000}, {\\\"x\\\": 3, \\\"y\\\": 14500000}, {\\\"x\\\": 3, \\\"y\\\": 14000000}, {\\\"x\\\": 3, \\\"y\\\": 11200000}, {\\\"x\\\": 2, \\\"y\\\": 7500000}, {\\\"x\\\": 2, \\\"y\\\": 4641000}, {\\\"x\\\": 3, \\\"y\\\": 16600000}, {\\\"x\\\": 3, \\\"y\\\": 13500000}, {\\\"x\\\": 3, \\\"y\\\": 13400000}, {\\\"x\\\": 3, \\\"y\\\": 12400000}, {\\\"x\\\": 3, \\\"y\\\": 11700000}, {\\\"x\\\": 3, \\\"y\\\": 13500000}, {\\\"x\\\": 3, \\\"y\\\": 5500000}, {\\\"x\\\": 2, \\\"y\\\": 5500000}, {\\\"x\\\": 3, \\\"y\\\": 8000000}, {\\\"x\\\": 3, \\\"y\\\": 16000000}, {\\\"x\\\": 3, \\\"y\\\": 15000000}, {\\\"x\\\": 3, \\\"y\\\": 7000000}, {\\\"x\\\": 2, \\\"y\\\": 5400000}, {\\\"x\\\": 2, \\\"y\\\": 3900000}, {\\\"x\\\": 3, \\\"y\\\": 14800000}, {\\\"x\\\": 2, \\\"y\\\": 5000000}, {\\\"x\\\": 3, \\\"y\\\": 8000000}, {\\\"x\\\": 3, \\\"y\\\": 9800000}, {\\\"x\\\": 2, \\\"y\\\": 4600000}, {\\\"x\\\": 3, \\\"y\\\": 12100000}, {\\\"x\\\": 2, \\\"y\\\": 4200000}, {\\\"x\\\": 3, \\\"y\\\": 10000000}, {\\\"x\\\": 3, \\\"y\\\": 27000000}, {\\\"x\\\": 4, \\\"y\\\": 27000000}, {\\\"x\\\": 3, \\\"y\\\": 15000000}, {\\\"x\\\": 3, \\\"y\\\": 11200000}, {\\\"x\\\": 3, \\\"y\\\": 20000000}, {\\\"x\\\": 4, \\\"y\\\": 29200000}, {\\\"x\\\": 4, \\\"y\\\": 25800000}, {\\\"x\\\": 2, \\\"y\\\": 4060000}, {\\\"x\\\": 3, \\\"y\\\": 14000000}, {\\\"x\\\": 4, \\\"y\\\": 29700000}, {\\\"x\\\": 3, \\\"y\\\": 3250000}, {\\\"x\\\": 2, \\\"y\\\": 3450000}, {\\\"x\\\": 3, \\\"y\\\": 9855000}, {\\\"x\\\": 2, \\\"y\\\": 7536000}, {\\\"x\\\": 3, \\\"y\\\": 9782000}, {\\\"x\\\": 2, \\\"y\\\": 2500000}, {\\\"x\\\": 3, \\\"y\\\": 6500000}, {\\\"x\\\": 5, \\\"y\\\": 18000000}, {\\\"x\\\": 3, \\\"y\\\": 5300000}, {\\\"x\\\": 4, \\\"y\\\": 55000000}, {\\\"x\\\": 2, \\\"y\\\": 3900000}, {\\\"x\\\": 2, \\\"y\\\": 3900000}, {\\\"x\\\": 3, \\\"y\\\": 10700000}, {\\\"x\\\": 3, \\\"y\\\": 12000000}, {\\\"x\\\": 2, \\\"y\\\": 3800000}, {\\\"x\\\": 2, \\\"y\\\": 7500000}, {\\\"x\\\": 2, \\\"y\\\": 9000000}, {\\\"x\\\": 3, \\\"y\\\": 12000000}, {\\\"x\\\": 3, \\\"y\\\": 15000000}, {\\\"x\\\": 3, \\\"y\\\": 12600000}, {\\\"x\\\": 3, \\\"y\\\": 6500000}, {\\\"x\\\": 5, \\\"y\\\": 32799999}, {\\\"x\\\": 3, \\\"y\\\": 5500000}, {\\\"x\\\": 2, \\\"y\\\": 3720000}, {\\\"x\\\": 3, \\\"y\\\": 3200000}, {\\\"x\\\": 2, \\\"y\\\": 3720000}, {\\\"x\\\": 2, \\\"y\\\": 5600000}, {\\\"x\\\": 3, \\\"y\\\": 11200000}, {\\\"x\\\": 2, \\\"y\\\": 7317000}, {\\\"x\\\": 2, \\\"y\\\": 11500000}, {\\\"x\\\": 2, \\\"y\\\": 10200000}, {\\\"x\\\": 3, \\\"y\\\": 6300000}, {\\\"x\\\": 3, \\\"y\\\": 13500000}, {\\\"x\\\": 4, \\\"y\\\": 22700000}, {\\\"x\\\": 2, \\\"y\\\": 5242000}, {\\\"x\\\": 3, \\\"y\\\": 5200000}, {\\\"x\\\": 3, \\\"y\\\": 4000000}, {\\\"x\\\": 2, \\\"y\\\": 2400000}, {\\\"x\\\": 3, \\\"y\\\": 3100000}, {\\\"x\\\": 2, \\\"y\\\": 2014000}, {\\\"x\\\": 3, \\\"y\\\": 3936000}, {\\\"x\\\": 4, \\\"y\\\": 14600000}, {\\\"x\\\": 3, \\\"y\\\": 13000000}, {\\\"x\\\": 3, \\\"y\\\": 9782000}, {\\\"x\\\": 3, \\\"y\\\": 7400000}, {\\\"x\\\": 2, \\\"y\\\": 4800000}, {\\\"x\\\": 2, \\\"y\\\": 4140000}, {\\\"x\\\": 2, \\\"y\\\": 8500000}, {\\\"x\\\": 3, \\\"y\\\": 16500000}, {\\\"x\\\": 3, \\\"y\\\": 10000000}, {\\\"x\\\": 3, \\\"y\\\": 10500000}, {\\\"x\\\": 3, \\\"y\\\": 20500000}, {\\\"x\\\": 2, \\\"y\\\": 5760000}, {\\\"x\\\": 3, \\\"y\\\": 5500000}, {\\\"x\\\": 2, \\\"y\\\": 2400000}, {\\\"x\\\": 3, \\\"y\\\": 12200000}, {\\\"x\\\": 2, \\\"y\\\": 9600000}, {\\\"x\\\": 2, \\\"y\\\": 8500000}, {\\\"x\\\": 3, \\\"y\\\": 12200000}, {\\\"x\\\": 2, \\\"y\\\": 4680000}, {\\\"x\\\": 2, \\\"y\\\": 4836000}, {\\\"x\\\": 2, \\\"y\\\": 4836000}, {\\\"x\\\": 2, \\\"y\\\": 4680000}, {\\\"x\\\": 3, \\\"y\\\": 6240000}, {\\\"x\\\": 2, \\\"y\\\": 4953000}, {\\\"x\\\": 2, \\\"y\\\": 4320000}, {\\\"x\\\": 2, \\\"y\\\": 4850000}, {\\\"x\\\": 2, \\\"y\\\": 4800000}, {\\\"x\\\": 3, \\\"y\\\": 8031999}, {\\\"x\\\": 3, \\\"y\\\": 10300000}, {\\\"x\\\": 2, \\\"y\\\": 10500000}, {\\\"x\\\": 2, \\\"y\\\": 6648999}, {\\\"x\\\": 3, \\\"y\\\": 17000000}, {\\\"x\\\": 2, \\\"y\\\": 4500000}, {\\\"x\\\": 4, \\\"y\\\": 41500000}, {\\\"x\\\": 4, \\\"y\\\": 45100000}, {\\\"x\\\": 3, \\\"y\\\": 12700000}, {\\\"x\\\": 3, \\\"y\\\": 7400000}, {\\\"x\\\": 2, \\\"y\\\": 3210000}, {\\\"x\\\": 3, \\\"y\\\": 15000000}, {\\\"x\\\": 3, \\\"y\\\": 15000000}, {\\\"x\\\": 3, \\\"y\\\": 16200000}, {\\\"x\\\": 4, \\\"y\\\": 42500000}, {\\\"x\\\": 3, \\\"y\\\": 16000000}, {\\\"x\\\": 4, \\\"y\\\": 41000000}, {\\\"x\\\": 2, \\\"y\\\": 10000000}, {\\\"x\\\": 4, \\\"y\\\": 26800000}, {\\\"x\\\": 5, \\\"y\\\": 33100000}, {\\\"x\\\": 4, \\\"y\\\": 27500000}, {\\\"x\\\": 3, \\\"y\\\": 3200000}, {\\\"x\\\": 3, \\\"y\\\": 3250000}, {\\\"x\\\": 3, \\\"y\\\": 9000000}, {\\\"x\\\": 8, \\\"y\\\": 35000000}, {\\\"x\\\": 3, \\\"y\\\": 6800000}, {\\\"x\\\": 3, \\\"y\\\": 6800000}, {\\\"x\\\": 3, \\\"y\\\": 6800000}, {\\\"x\\\": 3, \\\"y\\\": 6800000}, {\\\"x\\\": 3, \\\"y\\\": 6800000}, {\\\"x\\\": 3, \\\"y\\\": 6800000}, {\\\"x\\\": 3, \\\"y\\\": 6800000}, {\\\"x\\\": 3, \\\"y\\\": 6800000}, {\\\"x\\\": 3, \\\"y\\\": 6800000}, {\\\"x\\\": 3, \\\"y\\\": 6800000}, {\\\"x\\\": 3, \\\"y\\\": 6800000}, {\\\"x\\\": 3, \\\"y\\\": 6800000}, {\\\"x\\\": 3, \\\"y\\\": 6800000}, {\\\"x\\\": 3, \\\"y\\\": 6800000}, {\\\"x\\\": 3, \\\"y\\\": 6800000}, {\\\"x\\\": 3, \\\"y\\\": 6800000}, {\\\"x\\\": 3, \\\"y\\\": 6800000}, {\\\"x\\\": 3, \\\"y\\\": 6800000}, {\\\"x\\\": 3, \\\"y\\\": 6800000}, {\\\"x\\\": 3, \\\"y\\\": 6800000}, {\\\"x\\\": 3, \\\"y\\\": 11000000}, {\\\"x\\\": 3, \\\"y\\\": 3100000}, {\\\"x\\\": 3, \\\"y\\\": 12500000}, {\\\"x\\\": 2, \\\"y\\\": 7800000}, {\\\"x\\\": 3, \\\"y\\\": 14500000}, {\\\"x\\\": 3, \\\"y\\\": 7200000}, {\\\"x\\\": 3, \\\"y\\\": 14000000}, {\\\"x\\\": 2, \\\"y\\\": 2211000}, {\\\"x\\\": 2, \\\"y\\\": 3500000}, {\\\"x\\\": 2, \\\"y\\\": 3000000}, {\\\"x\\\": 3, \\\"y\\\": 13300000}, {\\\"x\\\": 2, \\\"y\\\": 3200000}, {\\\"x\\\": 3, \\\"y\\\": 4000000}, {\\\"x\\\": 2, \\\"y\\\": 2002000}, {\\\"x\\\": 3, \\\"y\\\": 10000000}, {\\\"x\\\": 3, \\\"y\\\": 14000000}, {\\\"x\\\": 3, \\\"y\\\": 40000000}, {\\\"x\\\": 4, \\\"y\\\": 17000000}, {\\\"x\\\": 3, \\\"y\\\": 21500000}, {\\\"x\\\": 3, \\\"y\\\": 9542000}, {\\\"x\\\": 4, \\\"y\\\": 33500000}, {\\\"x\\\": 3, \\\"y\\\": 8200000}, {\\\"x\\\": 2, \\\"y\\\": 4230000}, {\\\"x\\\": 2, \\\"y\\\": 4158000}, {\\\"x\\\": 2, \\\"y\\\": 3300000}, {\\\"x\\\": 2, \\\"y\\\": 3500000}, {\\\"x\\\": 2, \\\"y\\\": 5500000}, {\\\"x\\\": 2, \\\"y\\\": 3507000}, {\\\"x\\\": 2, \\\"y\\\": 3545000}, {\\\"x\\\": 2, \\\"y\\\": 3517000}, {\\\"x\\\": 2, \\\"y\\\": 3524000}, {\\\"x\\\": 2, \\\"y\\\": 3542000}, {\\\"x\\\": 2, \\\"y\\\": 2022000}, {\\\"x\\\": 2, \\\"y\\\": 2020000}, {\\\"x\\\": 3, \\\"y\\\": 2800000}, {\\\"x\\\": 3, \\\"y\\\": 5700000}, {\\\"x\\\": 2, \\\"y\\\": 4008000}, {\\\"x\\\": 2, \\\"y\\\": 2200000}, {\\\"x\\\": 3, \\\"y\\\": 5500000}, {\\\"x\\\": 3, \\\"y\\\": 9300000}, {\\\"x\\\": 3, \\\"y\\\": 9200000}, {\\\"x\\\": 3, \\\"y\\\": 9300000}, {\\\"x\\\": 3, \\\"y\\\": 9300000}, {\\\"x\\\": 3, \\\"y\\\": 9300000}, {\\\"x\\\": 2, \\\"y\\\": 3600000}, {\\\"x\\\": 3, \\\"y\\\": 8460000}, {\\\"x\\\": 2, \\\"y\\\": 6165000}, {\\\"x\\\": 2, \\\"y\\\": 6895999}, {\\\"x\\\": 2, \\\"y\\\": 6168000}, {\\\"x\\\": 2, \\\"y\\\": 8692000}, {\\\"x\\\": 3, \\\"y\\\": 10700000}, {\\\"x\\\": 3, \\\"y\\\": 10700000}, {\\\"x\\\": 2, \\\"y\\\": 11200000}, {\\\"x\\\": 4, \\\"y\\\": 22500000}, {\\\"x\\\": 4, \\\"y\\\": 27100000}, {\\\"x\\\": 3, \\\"y\\\": 22100000}, {\\\"x\\\": 3, \\\"y\\\": 10900000}, {\\\"x\\\": 3, \\\"y\\\": 28700000}, {\\\"x\\\": 3, \\\"y\\\": 22100000}, {\\\"x\\\": 3, \\\"y\\\": 39400000}, {\\\"x\\\": 3, \\\"y\\\": 39400000}, {\\\"x\\\": 3, \\\"y\\\": 29000000}, {\\\"x\\\": 3, \\\"y\\\": 32100000}, {\\\"x\\\": 3, \\\"y\\\": 6354000}, {\\\"x\\\": 3, \\\"y\\\": 6984000}, {\\\"x\\\": 3, \\\"y\\\": 16500000}, {\\\"x\\\": 3, \\\"y\\\": 12000000}, {\\\"x\\\": 4, \\\"y\\\": 5000000}, {\\\"x\\\": 3, \\\"y\\\": 3200000}, {\\\"x\\\": 2, \\\"y\\\": 3250000}, {\\\"x\\\": 3, \\\"y\\\": 4750000}, {\\\"x\\\": 3, \\\"y\\\": 4800000}, {\\\"x\\\": 3, \\\"y\\\": 4800000}, {\\\"x\\\": 3, \\\"y\\\": 4550000}, {\\\"x\\\": 3, \\\"y\\\": 4150000}, {\\\"x\\\": 2, \\\"y\\\": 3550000}, {\\\"x\\\": 3, \\\"y\\\": 4450000}, {\\\"x\\\": 3, \\\"y\\\": 3900000}, {\\\"x\\\": 2, \\\"y\\\": 3800000}, {\\\"x\\\": 3, \\\"y\\\": 4250000}, {\\\"x\\\": 3, \\\"y\\\": 4850000}, {\\\"x\\\": 2, \\\"y\\\": 4050000}, {\\\"x\\\": 3, \\\"y\\\": 4500000}, {\\\"x\\\": 2, \\\"y\\\": 4800000}, {\\\"x\\\": 3, \\\"y\\\": 8600000}, {\\\"x\\\": 2, \\\"y\\\": 3675000}, {\\\"x\\\": 3, \\\"y\\\": 8749000}, {\\\"x\\\": 3, \\\"y\\\": 8300000}, {\\\"x\\\": 3, \\\"y\\\": 8700000}, {\\\"x\\\": 3, \\\"y\\\": 4000000}, {\\\"x\\\": 3, \\\"y\\\": 13700000}, {\\\"x\\\": 4, \\\"y\\\": 57500000}, {\\\"x\\\": 3, \\\"y\\\": 16500000}, {\\\"x\\\": 2, \\\"y\\\": 4582000}, {\\\"x\\\": 4, \\\"y\\\": 11200000}, {\\\"x\\\": 4, \\\"y\\\": 55000000}, {\\\"x\\\": 2, \\\"y\\\": 4600000}, {\\\"x\\\": 2, \\\"y\\\": 3375000}, {\\\"x\\\": 2, \\\"y\\\": 4300000}, {\\\"x\\\": 2, \\\"y\\\": 2800000}, {\\\"x\\\": 2, \\\"y\\\": 3521000}, {\\\"x\\\": 2, \\\"y\\\": 4500000}, {\\\"x\\\": 2, \\\"y\\\": 4250000}, {\\\"x\\\": 2, \\\"y\\\": 4600000}, {\\\"x\\\": 2, \\\"y\\\": 4217000}, {\\\"x\\\": 2, \\\"y\\\": 4221000}, {\\\"x\\\": 2, \\\"y\\\": 4228000}, {\\\"x\\\": 2, \\\"y\\\": 4207000}, {\\\"x\\\": 2, \\\"y\\\": 4210000}, {\\\"x\\\": 2, \\\"y\\\": 4968000}, {\\\"x\\\": 3, \\\"y\\\": 7200000}, {\\\"x\\\": 2, \\\"y\\\": 4469000}, {\\\"x\\\": 2, \\\"y\\\": 3600000}, {\\\"x\\\": 3, \\\"y\\\": 5200000}, {\\\"x\\\": 2, \\\"y\\\": 3200000}, {\\\"x\\\": 3, \\\"y\\\": 6500000}, {\\\"x\\\": 2, \\\"y\\\": 3800000}, {\\\"x\\\": 2, \\\"y\\\": 2900000}, {\\\"x\\\": 2, \\\"y\\\": 4830000}, {\\\"x\\\": 2, \\\"y\\\": 19500000}, {\\\"x\\\": 2, \\\"y\\\": 5200000}, {\\\"x\\\": 2, \\\"y\\\": 7800000}, {\\\"x\\\": 4, \\\"y\\\": 26000000}, {\\\"x\\\": 5, \\\"y\\\": 3700000}, {\\\"x\\\": 3, \\\"y\\\": 9800000}, {\\\"x\\\": 3, \\\"y\\\": 10500000}, {\\\"x\\\": 2, \\\"y\\\": 4276000}, {\\\"x\\\": 2, \\\"y\\\": 3400000}, {\\\"x\\\": 4, \\\"y\\\": 9800000}, {\\\"x\\\": 2, \\\"y\\\": 9500000}, {\\\"x\\\": 3, \\\"y\\\": 21000000}, {\\\"x\\\": 2, \\\"y\\\": 2800000}, {\\\"x\\\": 2, \\\"y\\\": 6300000}, {\\\"x\\\": 2, \\\"y\\\": 5100000}, {\\\"x\\\": 2, \\\"y\\\": 4200000}, {\\\"x\\\": 2, \\\"y\\\": 4203000}, {\\\"x\\\": 2, \\\"y\\\": 4600000}, {\\\"x\\\": 2, \\\"y\\\": 4963000}, {\\\"x\\\": 2, \\\"y\\\": 4977000}, {\\\"x\\\": 2, \\\"y\\\": 2200000}, {\\\"x\\\": 2, \\\"y\\\": 9500000}, {\\\"x\\\": 3, \\\"y\\\": 12200000}, {\\\"x\\\": 3, \\\"y\\\": 4000000}, {\\\"x\\\": 2, \\\"y\\\": 6000000}, {\\\"x\\\": 3, \\\"y\\\": 5200000}, {\\\"x\\\": 2, \\\"y\\\": 5500000}, {\\\"x\\\": 2, \\\"y\\\": 4500000}, {\\\"x\\\": 3, \\\"y\\\": 6500000}, {\\\"x\\\": 3, \\\"y\\\": 15000000}, {\\\"x\\\": 3, \\\"y\\\": 13500000}, {\\\"x\\\": 2, \\\"y\\\": 6900000}, {\\\"x\\\": 3, \\\"y\\\": 8200000}, {\\\"x\\\": 3, \\\"y\\\": 17500000}, {\\\"x\\\": 2, \\\"y\\\": 2500000}, {\\\"x\\\": 2, \\\"y\\\": 2304000}, {\\\"x\\\": 2, \\\"y\\\": 2750000}, {\\\"x\\\": 2, \\\"y\\\": 2300000}, {\\\"x\\\": 2, \\\"y\\\": 4000000}, {\\\"x\\\": 2, \\\"y\\\": 5000000}, {\\\"x\\\": 2, \\\"y\\\": 9500000}, {\\\"x\\\": 2, \\\"y\\\": 3800000}, {\\\"x\\\": 2, \\\"y\\\": 4000000}, {\\\"x\\\": 2, \\\"y\\\": 3900000}, {\\\"x\\\": 2, \\\"y\\\": 10000000}, {\\\"x\\\": 3, \\\"y\\\": 12000000}, {\\\"x\\\": 2, \\\"y\\\": 8255000}, {\\\"x\\\": 2, \\\"y\\\": 3900000}, {\\\"x\\\": 2, \\\"y\\\": 3742000}, {\\\"x\\\": 2, \\\"y\\\": 3927000}, {\\\"x\\\": 2, \\\"y\\\": 4216000}, {\\\"x\\\": 1, \\\"y\\\": 2536000}, {\\\"x\\\": 3, \\\"y\\\": 5004000}, {\\\"x\\\": 3, \\\"y\\\": 7912000}, {\\\"x\\\": 3, \\\"y\\\": 5900000}, {\\\"x\\\": 3, \\\"y\\\": 9500000}, {\\\"x\\\": 3, \\\"y\\\": 45000000}, {\\\"x\\\": 2, \\\"y\\\": 4900000}, {\\\"x\\\": 2, \\\"y\\\": 5082000}, {\\\"x\\\": 3, \\\"y\\\": 9500000}, {\\\"x\\\": 2, \\\"y\\\": 5700000}, {\\\"x\\\": 2, \\\"y\\\": 6000000}, {\\\"x\\\": 3, \\\"y\\\": 15400000}, {\\\"x\\\": 3, \\\"y\\\": 11299999}, {\\\"x\\\": 3, \\\"y\\\": 11299999}, {\\\"x\\\": 3, \\\"y\\\": 10500000}, {\\\"x\\\": 3, \\\"y\\\": 10000000}, {\\\"x\\\": 3, \\\"y\\\": 11500000}, {\\\"x\\\": 3, \\\"y\\\": 10000000}, {\\\"x\\\": 3, \\\"y\\\": 9800000}, {\\\"x\\\": 2, \\\"y\\\": 6500000}, {\\\"x\\\": 2, \\\"y\\\": 4224000}, {\\\"x\\\": 4, \\\"y\\\": 35800000}, {\\\"x\\\": 3, \\\"y\\\": 19500000}, {\\\"x\\\": 3, \\\"y\\\": 36000000}, {\\\"x\\\": 4, \\\"y\\\": 35800000}, {\\\"x\\\": 3, \\\"y\\\": 27500000}, {\\\"x\\\": 2, \\\"y\\\": 4500000}, {\\\"x\\\": 4, \\\"y\\\": 17300000}, {\\\"x\\\": 3, \\\"y\\\": 8200000}, {\\\"x\\\": 3, \\\"y\\\": 8525000}, {\\\"x\\\": 2, \\\"y\\\": 5200000}, {\\\"x\\\": 3, \\\"y\\\": 17500000}, {\\\"x\\\": 4, \\\"y\\\": 18000000}, {\\\"x\\\": 3, \\\"y\\\": 19300000}, {\\\"x\\\": 4, \\\"y\\\": 35000000}, {\\\"x\\\": 3, \\\"y\\\": 12500000}, {\\\"x\\\": 2, \\\"y\\\": 7200000}, {\\\"x\\\": 2, \\\"y\\\": 3900000}, {\\\"x\\\": 3, \\\"y\\\": 6500000}, {\\\"x\\\": 4, \\\"y\\\": 46000000}, {\\\"x\\\": 3, \\\"y\\\": 15000000}, {\\\"x\\\": 3, \\\"y\\\": 12000000}, {\\\"x\\\": 3, \\\"y\\\": 11000000}, {\\\"x\\\": 2, \\\"y\\\": 3900000}, {\\\"x\\\": 2, \\\"y\\\": 3900000}, {\\\"x\\\": 3, \\\"y\\\": 11000000}, {\\\"x\\\": 3, \\\"y\\\": 16500000}, {\\\"x\\\": 3, \\\"y\\\": 12200000}, {\\\"x\\\": 3, \\\"y\\\": 11500000}, {\\\"x\\\": 2, \\\"y\\\": 9500000}, {\\\"x\\\": 2, \\\"y\\\": 8400000}, {\\\"x\\\": 2, \\\"y\\\": 3500000}, {\\\"x\\\": 3, \\\"y\\\": 15200000}, {\\\"x\\\": 3, \\\"y\\\": 14800000}, {\\\"x\\\": 3, \\\"y\\\": 7500000}, {\\\"x\\\": 2, \\\"y\\\": 4567000}, {\\\"x\\\": 2, \\\"y\\\": 4650000}, {\\\"x\\\": 2, \\\"y\\\": 4700000}, {\\\"x\\\": 2, \\\"y\\\": 4567000}, {\\\"x\\\": 2, \\\"y\\\": 4650000}, {\\\"x\\\": 2, \\\"y\\\": 2848000}, {\\\"x\\\": 2, \\\"y\\\": 2850000}, {\\\"x\\\": 5, \\\"y\\\": 39800000}, {\\\"x\\\": 3, \\\"y\\\": 27000000}, {\\\"x\\\": 3, \\\"y\\\": 4700000}, {\\\"x\\\": 2, \\\"y\\\": 7065000}, {\\\"x\\\": 3, \\\"y\\\": 12400000}, {\\\"x\\\": 3, \\\"y\\\": 12400000}, {\\\"x\\\": 3, \\\"y\\\": 12400000}, {\\\"x\\\": 3, \\\"y\\\": 12400000}, {\\\"x\\\": 3, \\\"y\\\": 11299999}, {\\\"x\\\": 3, \\\"y\\\": 9782000}, {\\\"x\\\": 2, \\\"y\\\": 4400000}, {\\\"x\\\": 4, \\\"y\\\": 8510000}, {\\\"x\\\": 2, \\\"y\\\": 5500000}, {\\\"x\\\": 3, \\\"y\\\": 5700000}, {\\\"x\\\": 3, \\\"y\\\": 15000000}, {\\\"x\\\": 2, \\\"y\\\": 3900000}, {\\\"x\\\": 2, \\\"y\\\": 3900000}, {\\\"x\\\": 2, \\\"y\\\": 3900000}, {\\\"x\\\": 2, \\\"y\\\": 3900000}, {\\\"x\\\": 2, \\\"y\\\": 3900000}, {\\\"x\\\": 3, \\\"y\\\": 12500000}, {\\\"x\\\": 2, \\\"y\\\": 10500000}, {\\\"x\\\": 2, \\\"y\\\": 3900000}, {\\\"x\\\": 2, \\\"y\\\": 3900000}, {\\\"x\\\": 2, \\\"y\\\": 3900000}, {\\\"x\\\": 2, \\\"y\\\": 3900000}, {\\\"x\\\": 2, \\\"y\\\": 3900000}, {\\\"x\\\": 2, \\\"y\\\": 3900000}, {\\\"x\\\": 2, \\\"y\\\": 3900000}, {\\\"x\\\": 2, \\\"y\\\": 3900000}, {\\\"x\\\": 2, \\\"y\\\": 3900000}, {\\\"x\\\": 2, \\\"y\\\": 3900000}, {\\\"x\\\": 2, \\\"y\\\": 3900000}, {\\\"x\\\": 2, \\\"y\\\": 3900000}, {\\\"x\\\": 2, \\\"y\\\": 3900000}, {\\\"x\\\": 2, \\\"y\\\": 3900000}, {\\\"x\\\": 2, \\\"y\\\": 3900000}, {\\\"x\\\": 2, \\\"y\\\": 6000000}, {\\\"x\\\": 2, \\\"y\\\": 4876000}, {\\\"x\\\": 2, \\\"y\\\": 4367000}, {\\\"x\\\": 2, \\\"y\\\": 3900000}, {\\\"x\\\": 2, \\\"y\\\": 3900000}, {\\\"x\\\": 2, \\\"y\\\": 3900000}, {\\\"x\\\": 2, \\\"y\\\": 3900000}, {\\\"x\\\": 2, \\\"y\\\": 3900000}, {\\\"x\\\": 2, \\\"y\\\": 3900000}, {\\\"x\\\": 2, \\\"y\\\": 3900000}, {\\\"x\\\": 2, \\\"y\\\": 3900000}, {\\\"x\\\": 2, \\\"y\\\": 3900000}, {\\\"x\\\": 2, \\\"y\\\": 4876000}, {\\\"x\\\": 2, \\\"y\\\": 4367000}, {\\\"x\\\": 3, \\\"y\\\": 7600000}, {\\\"x\\\": 3, \\\"y\\\": 5587000}, {\\\"x\\\": 3, \\\"y\\\": 5050000}, {\\\"x\\\": 3, \\\"y\\\": 9300000}, {\\\"x\\\": 3, \\\"y\\\": 12400000}, {\\\"x\\\": 4, \\\"y\\\": 43500000}, {\\\"x\\\": 3, \\\"y\\\": 35000000}, {\\\"x\\\": 2, \\\"y\\\": 6300000}, {\\\"x\\\": 3, \\\"y\\\": 7000000}, {\\\"x\\\": 4, \\\"y\\\": 26500000}, {\\\"x\\\": 2, \\\"y\\\": 9900000}, {\\\"x\\\": 4, \\\"y\\\": 24000000}, {\\\"x\\\": 4, \\\"y\\\": 31000000}, {\\\"x\\\": 2, \\\"y\\\": 6000000}, {\\\"x\\\": 3, \\\"y\\\": 12500000}, {\\\"x\\\": 2, \\\"y\\\": 5500000}, {\\\"x\\\": 4, \\\"y\\\": 42000000}, {\\\"x\\\": 3, \\\"y\\\": 9000000}, {\\\"x\\\": 3, \\\"y\\\": 15500000}, {\\\"x\\\": 3, \\\"y\\\": 11000000}, {\\\"x\\\": 4, \\\"y\\\": 50000000}, {\\\"x\\\": 3, \\\"y\\\": 15000000}, {\\\"x\\\": 3, \\\"y\\\": 8500000}, {\\\"x\\\": 3, \\\"y\\\": 5000000}, {\\\"x\\\": 3, \\\"y\\\": 12600000}, {\\\"x\\\": 3, \\\"y\\\": 5000000}, {\\\"x\\\": 2, \\\"y\\\": 11000000}, {\\\"x\\\": 4, \\\"y\\\": 18500000}, {\\\"x\\\": 3, \\\"y\\\": 20000000}, {\\\"x\\\": 3, \\\"y\\\": 12600000}, {\\\"x\\\": 3, \\\"y\\\": 15500000}, {\\\"x\\\": 3, \\\"y\\\": 18000000}, {\\\"x\\\": 3, \\\"y\\\": 12000000}, {\\\"x\\\": 2, \\\"y\\\": 4000000}, {\\\"x\\\": 2, \\\"y\\\": 4566000}, {\\\"x\\\": 2, \\\"y\\\": 3829999}, {\\\"x\\\": 3, \\\"y\\\": 32000000}, {\\\"x\\\": 3, \\\"y\\\": 9300000}, {\\\"x\\\": 3, \\\"y\\\": 9300000}, {\\\"x\\\": 3, \\\"y\\\": 9300000}, {\\\"x\\\": 4, \\\"y\\\": 60000000}, {\\\"x\\\": 3, \\\"y\\\": 19800000}, {\\\"x\\\": 4, \\\"y\\\": 27500000}, {\\\"x\\\": 3, \\\"y\\\": 5500000}, {\\\"x\\\": 2, \\\"y\\\": 4500000}, {\\\"x\\\": 4, \\\"y\\\": 15000000}, {\\\"x\\\": 2, \\\"y\\\": 4000000}, {\\\"x\\\": 3, \\\"y\\\": 9000000}, {\\\"x\\\": 3, \\\"y\\\": 3500000}, {\\\"x\\\": 4, \\\"y\\\": 22000000}, {\\\"x\\\": 2, \\\"y\\\": 3500000}, {\\\"x\\\": 2, \\\"y\\\": 4500000}, {\\\"x\\\": 3, \\\"y\\\": 9782000}, {\\\"x\\\": 3, \\\"y\\\": 13500000}, {\\\"x\\\": 3, \\\"y\\\": 13500000}, {\\\"x\\\": 2, \\\"y\\\": 4800000}, {\\\"x\\\": 4, \\\"y\\\": 40000000}, {\\\"x\\\": 3, \\\"y\\\": 9300000}, {\\\"x\\\": 2, \\\"y\\\": 7200000}, {\\\"x\\\": 3, \\\"y\\\": 17000000}, {\\\"x\\\": 3, \\\"y\\\": 11299999}, {\\\"x\\\": 3, \\\"y\\\": 14000000}, {\\\"x\\\": 3, \\\"y\\\": 11200000}, {\\\"x\\\": 3, \\\"y\\\": 15500000}, {\\\"x\\\": 2, \\\"y\\\": 5000000}, {\\\"x\\\": 2, \\\"y\\\": 4000000}, {\\\"x\\\": 3, \\\"y\\\": 10000000}, {\\\"x\\\": 2, \\\"y\\\": 3800000}, {\\\"x\\\": 3, \\\"y\\\": 14000000}, {\\\"x\\\": 3, \\\"y\\\": 13400000}, {\\\"x\\\": 3, \\\"y\\\": 7500000}, {\\\"x\\\": 2, \\\"y\\\": 4000000}, {\\\"x\\\": 2, \\\"y\\\": 7200000}, {\\\"x\\\": 3, \\\"y\\\": 37500000}, {\\\"x\\\": 3, \\\"y\\\": 8500000}, {\\\"x\\\": 3, \\\"y\\\": 14000000}, {\\\"x\\\": 2, \\\"y\\\": 4000000}, {\\\"x\\\": 2, \\\"y\\\": 4600000}, {\\\"x\\\": 3, \\\"y\\\": 6200000}, {\\\"x\\\": 2, \\\"y\\\": 2400000}, {\\\"x\\\": 3, \\\"y\\\": 4750000}, {\\\"x\\\": 3, \\\"y\\\": 4750000}, {\\\"x\\\": 3, \\\"y\\\": 4650000}, {\\\"x\\\": 4, \\\"y\\\": 61400000}, {\\\"x\\\": 3, \\\"y\\\": 7567000}, {\\\"x\\\": 3, \\\"y\\\": 7222000}, {\\\"x\\\": 3, \\\"y\\\": 12400000}, {\\\"x\\\": 3, \\\"y\\\": 11000000}, {\\\"x\\\": 3, \\\"y\\\": 11000000}, {\\\"x\\\": 4, \\\"y\\\": 29500000}, {\\\"x\\\": 4, \\\"y\\\": 57500000}, {\\\"x\\\": 4, \\\"y\\\": 24000000}, {\\\"x\\\": 3, \\\"y\\\": 15500000}, {\\\"x\\\": 3, \\\"y\\\": 7875000}, {\\\"x\\\": 3, \\\"y\\\": 7429000}, {\\\"x\\\": 2, \\\"y\\\": 8500000}, {\\\"x\\\": 3, \\\"y\\\": 14000000}, {\\\"x\\\": 3, \\\"y\\\": 3500000}, {\\\"x\\\": 2, \\\"y\\\": 4140000}, {\\\"x\\\": 2, \\\"y\\\": 4680000}, {\\\"x\\\": 4, \\\"y\\\": 33000000}, {\\\"x\\\": 3, \\\"y\\\": 13400000}, {\\\"x\\\": 3, \\\"y\\\": 5700000}, {\\\"x\\\": 3, \\\"y\\\": 4620000}, {\\\"x\\\": 3, \\\"y\\\": 3900000}, {\\\"x\\\": 2, \\\"y\\\": 6277000}, {\\\"x\\\": 2, \\\"y\\\": 7019000}, {\\\"x\\\": 3, \\\"y\\\": 8105000}, {\\\"x\\\": 2, \\\"y\\\": 8181999}, {\\\"x\\\": 3, \\\"y\\\": 10900000}, {\\\"x\\\": 3, \\\"y\\\": 14000000}, {\\\"x\\\": 2, \\\"y\\\": 4400000}, {\\\"x\\\": 2, \\\"y\\\": 5200000}, {\\\"x\\\": 3, \\\"y\\\": 20000000}, {\\\"x\\\": 3, \\\"y\\\": 165000000}, {\\\"x\\\": 3, \\\"y\\\": 14500000}, {\\\"x\\\": 2, \\\"y\\\": 3500000}, {\\\"x\\\": 3, \\\"y\\\": 7500000}, {\\\"x\\\": 3, \\\"y\\\": 7500000}, {\\\"x\\\": 3, \\\"y\\\": 15500000}, {\\\"x\\\": 3, \\\"y\\\": 10700000}, {\\\"x\\\": 2, \\\"y\\\": 10200000}, {\\\"x\\\": 2, \\\"y\\\": 4700000}, {\\\"x\\\": 3, \\\"y\\\": 7400000}, {\\\"x\\\": 3, \\\"y\\\": 8500000}, {\\\"x\\\": 2, \\\"y\\\": 6000000}, {\\\"x\\\": 2, \\\"y\\\": 5200000}, {\\\"x\\\": 3, \\\"y\\\": 5500000}, {\\\"x\\\": 2, \\\"y\\\": 6500000}, {\\\"x\\\": 3, \\\"y\\\": 9293000}, {\\\"x\\\": 3, \\\"y\\\": 10600000}, {\\\"x\\\": 2, \\\"y\\\": 6500000}, {\\\"x\\\": 2, \\\"y\\\": 6000000}, {\\\"x\\\": 4, \\\"y\\\": 19500000}, {\\\"x\\\": 2, \\\"y\\\": 4200000}, {\\\"x\\\": 2, \\\"y\\\": 4000000}, {\\\"x\\\": 3, \\\"y\\\": 8000000}, {\\\"x\\\": 3, \\\"y\\\": 8520000}, {\\\"x\\\": 3, \\\"y\\\": 17300000}, {\\\"x\\\": 4, \\\"y\\\": 32500000}, {\\\"x\\\": 2, \\\"y\\\": 4070000}, {\\\"x\\\": 2, \\\"y\\\": 4070000}, {\\\"x\\\": 3, \\\"y\\\": 11200000}, {\\\"x\\\": 2, \\\"y\\\": 6342000}, {\\\"x\\\": 2, \\\"y\\\": 5544000}, {\\\"x\\\": 3, \\\"y\\\": 9135000}, {\\\"x\\\": 3, \\\"y\\\": 8316000}, {\\\"x\\\": 3, \\\"y\\\": 6552000}, {\\\"x\\\": 3, \\\"y\\\": 8400000}, {\\\"x\\\": 3, \\\"y\\\": 8421000}, {\\\"x\\\": 2, \\\"y\\\": 5628000}, {\\\"x\\\": 3, \\\"y\\\": 7895999}, {\\\"x\\\": 2, \\\"y\\\": 5943000}, {\\\"x\\\": 3, \\\"y\\\": 9156000}, {\\\"x\\\": 3, \\\"y\\\": 9198000}, {\\\"x\\\": 3, \\\"y\\\": 6720000}, {\\\"x\\\": 3, \\\"y\\\": 17000000}, {\\\"x\\\": 3, \\\"y\\\": 15000000}, {\\\"x\\\": 2, \\\"y\\\": 4500000}, {\\\"x\\\": 2, \\\"y\\\": 3503000}, {\\\"x\\\": 3, \\\"y\\\": 5600000}, {\\\"x\\\": 3, \\\"y\\\": 7500000}, {\\\"x\\\": 2, \\\"y\\\": 4600000}, {\\\"x\\\": 2, \\\"y\\\": 7500000}, {\\\"x\\\": 3, \\\"y\\\": 8105000}, {\\\"x\\\": 3, \\\"y\\\": 6277000}, {\\\"x\\\": 2, \\\"y\\\": 7019000}, {\\\"x\\\": 2, \\\"y\\\": 4800000}, {\\\"x\\\": 2, \\\"y\\\": 4600000}, {\\\"x\\\": 2, \\\"y\\\": 8460000}, {\\\"x\\\": 3, \\\"y\\\": 6675000}, {\\\"x\\\": 2, \\\"y\\\": 10700000}, {\\\"x\\\": 3, \\\"y\\\": 10800000}, {\\\"x\\\": 3, \\\"y\\\": 7800000}, {\\\"x\\\": 4, \\\"y\\\": 3000000}, {\\\"x\\\": 2, \\\"y\\\": 32000000}, {\\\"x\\\": 3, \\\"y\\\": 3690000}, {\\\"x\\\": 2, \\\"y\\\": 5700000}, {\\\"x\\\": 3, \\\"y\\\": 4200000}, {\\\"x\\\": 3, \\\"y\\\": 2110000}, {\\\"x\\\": 3, \\\"y\\\": 2114000}, {\\\"x\\\": 2, \\\"y\\\": 2102000}, {\\\"x\\\": 2, \\\"y\\\": 2104000}, {\\\"x\\\": 2, \\\"y\\\": 6500000}, {\\\"x\\\": 3, \\\"y\\\": 6240000}, {\\\"x\\\": 3, \\\"y\\\": 8779000}, {\\\"x\\\": 3, \\\"y\\\": 10100000}, {\\\"x\\\": 3, \\\"y\\\": 11900000}, {\\\"x\\\": 3, \\\"y\\\": 6000000}, {\\\"x\\\": 2, \\\"y\\\": 9991000}, {\\\"x\\\": 3, \\\"y\\\": 11399999}, {\\\"x\\\": 3, \\\"y\\\": 7240000}, {\\\"x\\\": 2, \\\"y\\\": 36000000}, {\\\"x\\\": 5, \\\"y\\\": 12600000}, {\\\"x\\\": 3, \\\"y\\\": 7000000}, {\\\"x\\\": 4, \\\"y\\\": 6500000}, {\\\"x\\\": 2, \\\"y\\\": 5900000}, {\\\"x\\\": 2, \\\"y\\\": 3200000}, {\\\"x\\\": 2, \\\"y\\\": 8000000}, {\\\"x\\\": 3, \\\"y\\\": 22000000}, {\\\"x\\\": 5, \\\"y\\\": 9057000}, {\\\"x\\\": 2, \\\"y\\\": 3650000}, {\\\"x\\\": 2, \\\"y\\\": 2200000}, {\\\"x\\\": 2, \\\"y\\\": 4700000}, {\\\"x\\\": 2, \\\"y\\\": 15500000}, {\\\"x\\\": 3, \\\"y\\\": 5200000}, {\\\"x\\\": 2, \\\"y\\\": 7584999}, {\\\"x\\\": 3, \\\"y\\\": 13500000}, {\\\"x\\\": 3, \\\"y\\\": 7584999}, {\\\"x\\\": 3, \\\"y\\\": 14600000}, {\\\"x\\\": 3, \\\"y\\\": 19600000}, {\\\"x\\\": 3, \\\"y\\\": 12500000}, {\\\"x\\\": 3, \\\"y\\\": 4400000}, {\\\"x\\\": 2, \\\"y\\\": 18500000}, {\\\"x\\\": 3, \\\"y\\\": 13200000}, {\\\"x\\\": 3, \\\"y\\\": 10000000}, {\\\"x\\\": 2, \\\"y\\\": 20000000}, {\\\"x\\\": 3, \\\"y\\\": 12500000}, {\\\"x\\\": 3, \\\"y\\\": 17000000}, {\\\"x\\\": 3, \\\"y\\\": 5000000}, {\\\"x\\\": 2, \\\"y\\\": 9000000}, {\\\"x\\\": 3, \\\"y\\\": 5250000}, {\\\"x\\\": 3, \\\"y\\\": 7750000}, {\\\"x\\\": 3, \\\"y\\\": 6250000}, {\\\"x\\\": 3, \\\"y\\\": 10300000}, {\\\"x\\\": 2, \\\"y\\\": 5500000}, {\\\"x\\\": 3, \\\"y\\\": 5700000}, {\\\"x\\\": 2, \\\"y\\\": 14000000}, {\\\"x\\\": 4, \\\"y\\\": 5500000}, {\\\"x\\\": 2, \\\"y\\\": 5900000}, {\\\"x\\\": 2, \\\"y\\\": 5700000}, {\\\"x\\\": 2, \\\"y\\\": 5500000}, {\\\"x\\\": 1, \\\"y\\\": 3500000}, {\\\"x\\\": 2, \\\"y\\\": 10100000}, {\\\"x\\\": 2, \\\"y\\\": 4000000}, {\\\"x\\\": 2, \\\"y\\\": 14000000}, {\\\"x\\\": 2, \\\"y\\\": 9800000}, {\\\"x\\\": 2, \\\"y\\\": 7500000}, {\\\"x\\\": 1, \\\"y\\\": 3800000}, {\\\"x\\\": 1, \\\"y\\\": 4000000}, {\\\"x\\\": 2, \\\"y\\\": 4000000}, {\\\"x\\\": 1, \\\"y\\\": 6200000}, {\\\"x\\\": 2, \\\"y\\\": 11000000}, {\\\"x\\\": 2, \\\"y\\\": 26000000}, {\\\"x\\\": 3, \\\"y\\\": 13300000}, {\\\"x\\\": 3, \\\"y\\\": 10800000}, {\\\"x\\\": 3, \\\"y\\\": 10400000}]}], \\\"marks\\\": [{\\\"name\\\": \\\"marks\\\", \\\"type\\\": \\\"symbol\\\", \\\"style\\\": [\\\"circle\\\"], \\\"from\\\": {\\\"data\\\": \\\"source_2\\\"}, \\\"encode\\\": {\\\"hover\\\": {\\\"fill\\\": {\\\"value\\\": \\\"#7EC2F3\\\"}}, \\\"update\\\": {\\\"x\\\": {\\\"scale\\\": \\\"x\\\", \\\"field\\\": \\\"x\\\"}, \\\"y\\\": {\\\"scale\\\": \\\"y\\\", \\\"field\\\": \\\"y\\\", \\\"title\\\": \\\"Miles per Gallon\\\"}, \\\"fill\\\": {\\\"value\\\": \\\"#108EE9\\\"}, \\\"shape\\\": {\\\"value\\\": \\\"circle\\\"}, \\\"opacity\\\": {\\\"value\\\": 0.7}}}}], \\\"scales\\\": [{\\\"name\\\": \\\"x\\\", \\\"type\\\": \\\"linear\\\", \\\"domain\\\": {\\\"data\\\": \\\"source_2\\\", \\\"field\\\": \\\"x\\\"}, \\\"range\\\": [0, {\\\"signal\\\": \\\"width\\\"}], \\\"nice\\\": true, \\\"zero\\\": false, \\\"padding\\\": 5}, {\\\"name\\\": \\\"y\\\", \\\"type\\\": \\\"linear\\\", \\\"domain\\\": {\\\"data\\\": \\\"source_2\\\", \\\"field\\\": \\\"y\\\"}, \\\"range\\\": [{\\\"signal\\\": \\\"height\\\"}, 0], \\\"nice\\\": true, \\\"zero\\\": false, \\\"padding\\\": 5}], \\\"axes\\\": [{\\\"scale\\\": \\\"x\\\", \\\"labelOverlap\\\": true, \\\"orient\\\": \\\"bottom\\\", \\\"tickCount\\\": {\\\"signal\\\": \\\"ceil(width/40)\\\"}, \\\"title\\\": \\\"Area\\\", \\\"zindex\\\": 1}, {\\\"scale\\\": \\\"x\\\", \\\"domain\\\": false, \\\"grid\\\": true, \\\"labels\\\": false, \\\"maxExtent\\\": 0, \\\"minExtent\\\": 0, \\\"orient\\\": \\\"bottom\\\", \\\"tickCount\\\": {\\\"signal\\\": \\\"ceil(width/40)\\\"}, \\\"ticks\\\": false, \\\"zindex\\\": 0, \\\"gridScale\\\": \\\"y\\\"}, {\\\"scale\\\": \\\"y\\\", \\\"labelOverlap\\\": true, \\\"orient\\\": \\\"left\\\", \\\"tickCount\\\": {\\\"signal\\\": \\\"ceil(height/40)\\\"}, \\\"title\\\": \\\"House Price\\\", \\\"zindex\\\": 1}, {\\\"scale\\\": \\\"y\\\", \\\"domain\\\": false, \\\"grid\\\": true, \\\"labels\\\": false, \\\"maxExtent\\\": 0, \\\"minExtent\\\": 0, \\\"orient\\\": \\\"left\\\", \\\"tickCount\\\": {\\\"signal\\\": \\\"ceil(height/40)\\\"}, \\\"ticks\\\": false, \\\"zindex\\\": 0, \\\"gridScale\\\": \\\"x\\\"}], \\\"config\\\": {\\\"axis\\\": {\\\"gridColor\\\": \\\"rgba(204,204,204,1.0)\\\", \\\"labelFont\\\": \\\"\\\\\\\"San Francisco\\\\\\\", HelveticaNeue, Arial\\\", \\\"labelFontSize\\\": 12, \\\"labelPadding\\\": 10, \\\"labelColor\\\": \\\"rgba(0,0,0,0.847)\\\", \\\"tickColor\\\": \\\"rgb(136,136,136)\\\", \\\"titleFont\\\": \\\"\\\\\\\"San Francisco\\\\\\\", HelveticaNeue, Arial\\\", \\\"titleFontWeight\\\": \\\"normal\\\", \\\"titlePadding\\\": 20, \\\"titleFontSize\\\": 14, \\\"titleColor\\\": \\\"rgba(0,0,0,0.847)\\\"}, \\\"axisY\\\": {\\\"minExtent\\\": 30}, \\\"legend\\\": {\\\"labelFont\\\": \\\"\\\\\\\"San Francisco\\\\\\\", HelveticaNeue, Arial\\\", \\\"labelColor\\\": \\\"rgba(0,0,0,0.847)\\\", \\\"titleFont\\\": \\\"\\\\\\\"San Francisco\\\\\\\", HelveticaNeue, Arial\\\", \\\"cornerRadius\\\": 30, \\\"gradientLength\\\": 608, \\\"titleColor\\\": \\\"rgba(0,0,0,0.847)\\\"}, \\\"range\\\": {\\\"heatmap\\\": {\\\"scheme\\\": \\\"greenblue\\\"}}, \\\"style\\\": {\\\"rect\\\": {\\\"stroke\\\": \\\"rgba(200, 200, 200, 0.5)\\\"}, \\\"cell\\\": {\\\"stroke\\\": \\\"transparent\\\"}, \\\"group-title\\\": {\\\"fontSize\\\": 29, \\\"font\\\": \\\"HelveticaNeue, Arial\\\", \\\"fontWeight\\\": \\\"normal\\\", \\\"fill\\\": \\\"rgba(0,0,0,0.65)\\\"}}, \\\"title\\\": {\\\"color\\\": \\\"rgba(0,0,0,0.847)\\\", \\\"font\\\": \\\"\\\\\\\"San Francisco\\\\\\\", HelveticaNeue, Arial\\\", \\\"fontSize\\\": 18, \\\"fontWeight\\\": \\\"normal\\\", \\\"offset\\\": 30}}}\";                                 var vega_json_parsed = JSON.parse(vega_json);                                 var toolTipOpts = {                                     showAllFields: true                                 };                                 if(vega_json_parsed[\"metadata\"] != null){                                     if(vega_json_parsed[\"metadata\"][\"bubbleOpts\"] != null){                                         toolTipOpts = vega_json_parsed[\"metadata\"][\"bubbleOpts\"];                                     };                                 };                                 vegaEmbed(\"#vis\", vega_json_parsed).then(function (result) {                                     vegaTooltip.vega(result.view, toolTipOpts);                                  });                             </script>                         </body>                     </html>' src=\"demo_iframe_srcdoc.htm\">                         <p>Your browser does not support iframes.</p>                     </iframe>                 </body>             </html>"
            ]
          },
          "metadata": {}
        },
        {
          "output_type": "execute_result",
          "data": {
            "text/plain": [
              "<turicreate.visualization._plot.Plot at 0x7f90d8115b20>"
            ]
          },
          "metadata": {},
          "execution_count": 11
        }
      ]
    },
    {
      "cell_type": "markdown",
      "source": [
        "#Build a model with a single feature : Area"
      ],
      "metadata": {
        "id": "cRGbzXksCXBF"
      }
    },
    {
      "cell_type": "code",
      "source": [
        "lr_model = tc.linear_regression.create(data, features=['Area'], target='Price')\n"
      ],
      "metadata": {
        "colab": {
          "base_uri": "https://localhost:8080/",
          "height": 312
        },
        "id": "j6ak3uoI9DEO",
        "outputId": "b38d2576-5389-48c7-c56b-085c98cfbafc"
      },
      "execution_count": 12,
      "outputs": [
        {
          "output_type": "stream",
          "name": "stdout",
          "text": [
            "PROGRESS: Creating a validation set from 5 percent of training data. This may take a while.\n",
            "          You can set ``validation_set=None`` to disable validation tracking.\n",
            "\n"
          ]
        },
        {
          "output_type": "display_data",
          "data": {
            "text/plain": [
              "Linear regression:"
            ],
            "text/html": [
              "<pre>Linear regression:</pre>"
            ]
          },
          "metadata": {}
        },
        {
          "output_type": "display_data",
          "data": {
            "text/plain": [
              "--------------------------------------------------------"
            ],
            "text/html": [
              "<pre>--------------------------------------------------------</pre>"
            ]
          },
          "metadata": {}
        },
        {
          "output_type": "display_data",
          "data": {
            "text/plain": [
              "Number of examples          : 2392"
            ],
            "text/html": [
              "<pre>Number of examples          : 2392</pre>"
            ]
          },
          "metadata": {}
        },
        {
          "output_type": "display_data",
          "data": {
            "text/plain": [
              "Number of features          : 1"
            ],
            "text/html": [
              "<pre>Number of features          : 1</pre>"
            ]
          },
          "metadata": {}
        },
        {
          "output_type": "display_data",
          "data": {
            "text/plain": [
              "Number of unpacked features : 1"
            ],
            "text/html": [
              "<pre>Number of unpacked features : 1</pre>"
            ]
          },
          "metadata": {}
        },
        {
          "output_type": "display_data",
          "data": {
            "text/plain": [
              "Number of coefficients    : 2"
            ],
            "text/html": [
              "<pre>Number of coefficients    : 2</pre>"
            ]
          },
          "metadata": {}
        },
        {
          "output_type": "display_data",
          "data": {
            "text/plain": [
              "Starting Newton Method"
            ],
            "text/html": [
              "<pre>Starting Newton Method</pre>"
            ]
          },
          "metadata": {}
        },
        {
          "output_type": "display_data",
          "data": {
            "text/plain": [
              "--------------------------------------------------------"
            ],
            "text/html": [
              "<pre>--------------------------------------------------------</pre>"
            ]
          },
          "metadata": {}
        },
        {
          "output_type": "display_data",
          "data": {
            "text/plain": [
              "+-----------+----------+--------------+--------------------+----------------------+---------------------------------+-----------------------------------+"
            ],
            "text/html": [
              "<pre>+-----------+----------+--------------+--------------------+----------------------+---------------------------------+-----------------------------------+</pre>"
            ]
          },
          "metadata": {}
        },
        {
          "output_type": "display_data",
          "data": {
            "text/plain": [
              "| Iteration | Passes   | Elapsed Time | Training Max Error | Validation Max Error | Training Root-Mean-Square Error | Validation Root-Mean-Square Error |"
            ],
            "text/html": [
              "<pre>| Iteration | Passes   | Elapsed Time | Training Max Error | Validation Max Error | Training Root-Mean-Square Error | Validation Root-Mean-Square Error |</pre>"
            ]
          },
          "metadata": {}
        },
        {
          "output_type": "display_data",
          "data": {
            "text/plain": [
              "+-----------+----------+--------------+--------------------+----------------------+---------------------------------+-----------------------------------+"
            ],
            "text/html": [
              "<pre>+-----------+----------+--------------+--------------------+----------------------+---------------------------------+-----------------------------------+</pre>"
            ]
          },
          "metadata": {}
        },
        {
          "output_type": "display_data",
          "data": {
            "text/plain": [
              "| 1         | 2        | 1.001027     | 144148977.609610   | 49159312.163105      | 4802573.949044                  | 6569997.949452                    |"
            ],
            "text/html": [
              "<pre>| 1         | 2        | 1.001027     | 144148977.609610   | 49159312.163105      | 4802573.949044                  | 6569997.949452                    |</pre>"
            ]
          },
          "metadata": {}
        },
        {
          "output_type": "display_data",
          "data": {
            "text/plain": [
              "+-----------+----------+--------------+--------------------+----------------------+---------------------------------+-----------------------------------+"
            ],
            "text/html": [
              "<pre>+-----------+----------+--------------+--------------------+----------------------+---------------------------------+-----------------------------------+</pre>"
            ]
          },
          "metadata": {}
        },
        {
          "output_type": "display_data",
          "data": {
            "text/plain": [
              "SUCCESS: Optimal solution found."
            ],
            "text/html": [
              "<pre>SUCCESS: Optimal solution found.</pre>"
            ]
          },
          "metadata": {}
        }
      ]
    },
    {
      "cell_type": "code",
      "source": [
        "# Get model summary\n",
        "lr_model.summary()"
      ],
      "metadata": {
        "colab": {
          "base_uri": "https://localhost:8080/",
          "height": 607
        },
        "id": "_eytJ1e49O3X",
        "outputId": "dcfdfaf9-4f49-4ec7-f01e-de61a52c7108"
      },
      "execution_count": 13,
      "outputs": [
        {
          "output_type": "display_data",
          "data": {
            "text/plain": [],
            "text/html": [
              "<pre></pre>"
            ]
          },
          "metadata": {}
        },
        {
          "output_type": "stream",
          "name": "stdout",
          "text": [
            "Class                          : LinearRegression\n",
            "\n",
            "Schema\n",
            "------\n",
            "Number of coefficients         : 2\n",
            "Number of examples             : 2392\n",
            "Number of feature columns      : 1\n",
            "Number of unpacked features    : 1\n",
            "\n",
            "Hyperparameters\n",
            "---------------\n",
            "L1 penalty                     : 0.0\n",
            "L2 penalty                     : 0.01\n",
            "\n",
            "Training Summary\n",
            "----------------\n",
            "Solver                         : newton\n",
            "Solver iterations              : 1\n",
            "Solver status                  : SUCCESS: Optimal solution found.\n",
            "Training time (sec)            : 1.0022\n",
            "\n",
            "Settings\n",
            "--------\n",
            "Residual sum of squares        : 5.517080195419866e+16\n",
            "Training RMSE                  : 4802573.949\n",
            "\n",
            "Highest Positive Coefficients\n",
            "-----------------------------\n",
            "Area                           : 9966.6591\n",
            "\n",
            "Lowest Negative Coefficients\n",
            "----------------------------\n",
            "(intercept)                    : -6557290.1096\n",
            "\n"
          ]
        }
      ]
    },
    {
      "cell_type": "code",
      "source": [
        "lr_model.coefficients"
      ],
      "metadata": {
        "colab": {
          "base_uri": "https://localhost:8080/",
          "height": 94
        },
        "id": "AC5mM89e9dMJ",
        "outputId": "4d572eb2-dcb0-4d25-b90f-3f39cf6ca82f"
      },
      "execution_count": 14,
      "outputs": [
        {
          "output_type": "execute_result",
          "data": {
            "text/plain": [
              "Columns:\n",
              "\tname\tstr\n",
              "\tindex\tstr\n",
              "\tvalue\tfloat\n",
              "\tstderr\tfloat\n",
              "\n",
              "Rows: 2\n",
              "\n",
              "Data:\n",
              "+-------------+-------+-------------------+--------------------+\n",
              "|     name    | index |       value       |       stderr       |\n",
              "+-------------+-------+-------------------+--------------------+\n",
              "| (intercept) |  None | -6557290.10960428 | 240558.40866359798 |\n",
              "|     Area    |  None | 9966.659090906955 | 133.85299068157508 |\n",
              "+-------------+-------+-------------------+--------------------+\n",
              "[2 rows x 4 columns]"
            ],
            "text/html": [
              "<div style=\"max-height:1000px;max-width:1500px;overflow:auto;\"><table frame=\"box\" rules=\"cols\">\n",
              "    <tr>\n",
              "        <th style=\"padding-left: 1em; padding-right: 1em; text-align: center\">name</th>\n",
              "        <th style=\"padding-left: 1em; padding-right: 1em; text-align: center\">index</th>\n",
              "        <th style=\"padding-left: 1em; padding-right: 1em; text-align: center\">value</th>\n",
              "        <th style=\"padding-left: 1em; padding-right: 1em; text-align: center\">stderr</th>\n",
              "    </tr>\n",
              "    <tr>\n",
              "        <td style=\"padding-left: 1em; padding-right: 1em; text-align: center; vertical-align: top\">(intercept)</td>\n",
              "        <td style=\"padding-left: 1em; padding-right: 1em; text-align: center; vertical-align: top\">None</td>\n",
              "        <td style=\"padding-left: 1em; padding-right: 1em; text-align: center; vertical-align: top\">-6557290.10960428</td>\n",
              "        <td style=\"padding-left: 1em; padding-right: 1em; text-align: center; vertical-align: top\">240558.40866359798</td>\n",
              "    </tr>\n",
              "    <tr>\n",
              "        <td style=\"padding-left: 1em; padding-right: 1em; text-align: center; vertical-align: top\">Area</td>\n",
              "        <td style=\"padding-left: 1em; padding-right: 1em; text-align: center; vertical-align: top\">None</td>\n",
              "        <td style=\"padding-left: 1em; padding-right: 1em; text-align: center; vertical-align: top\">9966.659090906955</td>\n",
              "        <td style=\"padding-left: 1em; padding-right: 1em; text-align: center; vertical-align: top\">133.85299068157508</td>\n",
              "    </tr>\n",
              "</table>\n",
              "[2 rows x 4 columns]<br/>\n",
              "</div>"
            ]
          },
          "metadata": {},
          "execution_count": 14
        }
      ]
    },
    {
      "cell_type": "code",
      "source": [
        "b, m = lr_model.coefficients['value']\n",
        "print(\"slope:\", m)\n",
        "print(\"y-intercept:\", b)"
      ],
      "metadata": {
        "colab": {
          "base_uri": "https://localhost:8080/"
        },
        "id": "LBG-7Fg89pui",
        "outputId": "6300bac6-10f8-4319-824e-9db037415b54"
      },
      "execution_count": 15,
      "outputs": [
        {
          "output_type": "stream",
          "name": "stdout",
          "text": [
            "slope: 9966.659090906955\n",
            "y-intercept: -6557290.10960428\n"
          ]
        }
      ]
    },
    {
      "cell_type": "code",
      "source": [
        "def draw_line(slope,y_intercept, starting, ending, color='grey', linewidth=0.7):\n",
        "  x = np.linspace(starting,ending)\n",
        "  plt.plot(x,y_intercept + slope*x, linestyle='-', color=color, linewidth=linewidth)\n"
      ],
      "metadata": {
        "id": "VPNZfEfk9y-n"
      },
      "execution_count": 16,
      "outputs": []
    },
    {
      "cell_type": "code",
      "source": [
        "plt.scatter(data['Area'], data['Price'])\n",
        "draw_line(m, b, starting=0, ending=max(data['Area']))"
      ],
      "metadata": {
        "colab": {
          "base_uri": "https://localhost:8080/",
          "height": 276
        },
        "id": "QLIvl5OY9uJT",
        "outputId": "cf2487ef-cd2b-4148-94e7-c036634abbbd"
      },
      "execution_count": 17,
      "outputs": [
        {
          "output_type": "display_data",
          "data": {
            "text/plain": [
              "<Figure size 432x288 with 1 Axes>"
            ],
            "image/png": "[encoded data removed]"
          },
          "metadata": {
            "needs_background": "light"
          }
        }
      ]
    },
    {
      "cell_type": "code",
      "source": [
        "lr_model.evaluate(data)\n"
      ],
      "metadata": {
        "colab": {
          "base_uri": "https://localhost:8080/"
        },
        "id": "8wmPH6FF_d4G",
        "outputId": "813925d9-6899-47f5-8694-d522bc3e9fd9"
      },
      "execution_count": 18,
      "outputs": [
        {
          "output_type": "execute_result",
          "data": {
            "text/plain": [
              "{'max_error': 144148977.60961014, 'rmse': 4906171.890672198}"
            ]
          },
          "metadata": {},
          "execution_count": 18
        }
      ]
    },
    {
      "cell_type": "code",
      "source": [
        "house = tc.SFrame({'Area': [9000], 'No. of Bedrooms':[3]})\n",
        "\n",
        "lr_model.predict(house)"
      ],
      "metadata": {
        "colab": {
          "base_uri": "https://localhost:8080/"
        },
        "id": "QPG7bmCq_urY",
        "outputId": "4a45861c-7fb4-4b13-e2ef-6a507d4deb4e"
      },
      "execution_count": 19,
      "outputs": [
        {
          "output_type": "execute_result",
          "data": {
            "text/plain": [
              "dtype: float\n",
              "Rows: 1\n",
              "[83142641.7085583]"
            ]
          },
          "metadata": {},
          "execution_count": 19
        }
      ]
    },
    {
      "cell_type": "markdown",
      "source": [
        "#Build a model that uses three features : Area,Location,No. of Bedrooms\n"
      ],
      "metadata": {
        "id": "0GnKixAgCAch"
      }
    },
    {
      "cell_type": "code",
      "source": [
        "features = [\n",
        " 'Area',\n",
        " 'Location',\n",
        " 'No. of Bedrooms']"
      ],
      "metadata": {
        "id": "ST0U4PrzDIAA"
      },
      "execution_count": 20,
      "outputs": []
    },
    {
      "cell_type": "code",
      "source": [
        "lr_model = tc.linear_regression.create(data, features=features, target='Price')\n"
      ],
      "metadata": {
        "colab": {
          "base_uri": "https://localhost:8080/",
          "height": 312
        },
        "id": "XPi-NyuMDeA0",
        "outputId": "7ad5d3ca-1bcd-49ea-f9af-f6ed5c9c1eb7"
      },
      "execution_count": 21,
      "outputs": [
        {
          "output_type": "stream",
          "name": "stdout",
          "text": [
            "PROGRESS: Creating a validation set from 5 percent of training data. This may take a while.\n",
            "          You can set ``validation_set=None`` to disable validation tracking.\n",
            "\n"
          ]
        },
        {
          "output_type": "display_data",
          "data": {
            "text/plain": [
              "Linear regression:"
            ],
            "text/html": [
              "<pre>Linear regression:</pre>"
            ]
          },
          "metadata": {}
        },
        {
          "output_type": "display_data",
          "data": {
            "text/plain": [
              "--------------------------------------------------------"
            ],
            "text/html": [
              "<pre>--------------------------------------------------------</pre>"
            ]
          },
          "metadata": {}
        },
        {
          "output_type": "display_data",
          "data": {
            "text/plain": [
              "Number of examples          : 2392"
            ],
            "text/html": [
              "<pre>Number of examples          : 2392</pre>"
            ]
          },
          "metadata": {}
        },
        {
          "output_type": "display_data",
          "data": {
            "text/plain": [
              "Number of features          : 3"
            ],
            "text/html": [
              "<pre>Number of features          : 3</pre>"
            ]
          },
          "metadata": {}
        },
        {
          "output_type": "display_data",
          "data": {
            "text/plain": [
              "Number of unpacked features : 3"
            ],
            "text/html": [
              "<pre>Number of unpacked features : 3</pre>"
            ]
          },
          "metadata": {}
        },
        {
          "output_type": "display_data",
          "data": {
            "text/plain": [
              "Number of coefficients    : 241"
            ],
            "text/html": [
              "<pre>Number of coefficients    : 241</pre>"
            ]
          },
          "metadata": {}
        },
        {
          "output_type": "display_data",
          "data": {
            "text/plain": [
              "Starting Newton Method"
            ],
            "text/html": [
              "<pre>Starting Newton Method</pre>"
            ]
          },
          "metadata": {}
        },
        {
          "output_type": "display_data",
          "data": {
            "text/plain": [
              "--------------------------------------------------------"
            ],
            "text/html": [
              "<pre>--------------------------------------------------------</pre>"
            ]
          },
          "metadata": {}
        },
        {
          "output_type": "display_data",
          "data": {
            "text/plain": [
              "+-----------+----------+--------------+--------------------+----------------------+---------------------------------+-----------------------------------+"
            ],
            "text/html": [
              "<pre>+-----------+----------+--------------+--------------------+----------------------+---------------------------------+-----------------------------------+</pre>"
            ]
          },
          "metadata": {}
        },
        {
          "output_type": "display_data",
          "data": {
            "text/plain": [
              "| Iteration | Passes   | Elapsed Time | Training Max Error | Validation Max Error | Training Root-Mean-Square Error | Validation Root-Mean-Square Error |"
            ],
            "text/html": [
              "<pre>| Iteration | Passes   | Elapsed Time | Training Max Error | Validation Max Error | Training Root-Mean-Square Error | Validation Root-Mean-Square Error |</pre>"
            ]
          },
          "metadata": {}
        },
        {
          "output_type": "display_data",
          "data": {
            "text/plain": [
              "+-----------+----------+--------------+--------------------+----------------------+---------------------------------+-----------------------------------+"
            ],
            "text/html": [
              "<pre>+-----------+----------+--------------+--------------------+----------------------+---------------------------------+-----------------------------------+</pre>"
            ]
          },
          "metadata": {}
        },
        {
          "output_type": "display_data",
          "data": {
            "text/plain": [
              "| 1         | 2        | 0.018833     | 142323571.472165   | 29394860.344562      | 4283702.645862                  | 4573238.467938                    |"
            ],
            "text/html": [
              "<pre>| 1         | 2        | 0.018833     | 142323571.472165   | 29394860.344562      | 4283702.645862                  | 4573238.467938                    |</pre>"
            ]
          },
          "metadata": {}
        },
        {
          "output_type": "display_data",
          "data": {
            "text/plain": [
              "+-----------+----------+--------------+--------------------+----------------------+---------------------------------+-----------------------------------+"
            ],
            "text/html": [
              "<pre>+-----------+----------+--------------+--------------------+----------------------+---------------------------------+-----------------------------------+</pre>"
            ]
          },
          "metadata": {}
        },
        {
          "output_type": "display_data",
          "data": {
            "text/plain": [
              "SUCCESS: Optimal solution found."
            ],
            "text/html": [
              "<pre>SUCCESS: Optimal solution found.</pre>"
            ]
          },
          "metadata": {}
        },
        {
          "output_type": "display_data",
          "data": {
            "text/plain": [],
            "text/html": [
              "<pre></pre>"
            ]
          },
          "metadata": {}
        }
      ]
    },
    {
      "cell_type": "code",
      "source": [
        "lr_model.summary()"
      ],
      "metadata": {
        "id": "Mbt2PPV3Di_h",
        "outputId": "d6ddd7e9-1bda-4be6-9ddc-ca660d72d9bb",
        "colab": {
          "base_uri": "https://localhost:8080/"
        }
      },
      "execution_count": 22,
      "outputs": [
        {
          "output_type": "stream",
          "name": "stdout",
          "text": [
            "Class                          : LinearRegression\n",
            "\n",
            "Schema\n",
            "------\n",
            "Number of coefficients         : 241\n",
            "Number of examples             : 2392\n",
            "Number of feature columns      : 3\n",
            "Number of unpacked features    : 3\n",
            "\n",
            "Hyperparameters\n",
            "---------------\n",
            "L1 penalty                     : 0.0\n",
            "L2 penalty                     : 0.01\n",
            "\n",
            "Training Summary\n",
            "----------------\n",
            "Solver                         : newton\n",
            "Solver iterations              : 1\n",
            "Solver status                  : SUCCESS: Optimal solution found.\n",
            "Training time (sec)            : 0.021\n",
            "\n",
            "Settings\n",
            "--------\n",
            "Residual sum of squares        : 4.38934591927293e+16\n",
            "Training RMSE                  : 4283702.6459\n",
            "\n",
            "Highest Positive Coefficients\n",
            "-----------------------------\n",
            "Location[Abids]                : 19562467.0039\n",
            "Location[Boiguda]              : 18712116.9556\n",
            "Location[Saket]                : 12557538.9369\n",
            "Location[Janachaitanya Colony] : 11532542.4592\n",
            "Location[Banjara Hills]        : 10848378.3423\n",
            "\n",
            "Lowest Negative Coefficients\n",
            "----------------------------\n",
            "Location[Sangeet Nagar]        : -13029288.4438\n",
            "Location[Shamshabad]           : -8047931.317\n",
            "Location[Paradise Circle]      : -5969960.536\n",
            "Location[Kavuri Hills]         : -3743353.2071\n",
            "Location[Pocharam]             : -3561625.9098\n",
            "\n"
          ]
        }
      ]
    },
    {
      "cell_type": "markdown",
      "source": [
        "#Build a model that uses all the features\n"
      ],
      "metadata": {
        "id": "4q-HivwsB7A1"
      }
    },
    {
      "cell_type": "code",
      "source": [
        "features = [\n",
        " 'Area',\n",
        " 'Location',\n",
        " 'No. of Bedrooms',\n",
        " 'Resale',\n",
        " 'MaintenanceStaff',\n",
        " 'Gymnasium',\n",
        " 'SwimmingPool',\n",
        " 'LandscapedGardens',\n",
        " 'JoggingTrack',\n",
        " 'RainWaterHarvesting',\n",
        " 'IndoorGames',\n",
        " 'ShoppingMall',\n",
        " 'Intercom',\n",
        " 'SportsFacility',\n",
        " 'ATM',\n",
        " 'ClubHouse',\n",
        " 'School',\n",
        " '24X7Security',\n",
        " 'PowerBackup',\n",
        " 'CarParking',\n",
        " 'StaffQuarter',\n",
        " 'Cafeteria',\n",
        " 'MultipurposeRoom',\n",
        " 'Hospital',\n",
        " 'WashingMachine',\n",
        " 'Gasconnection',\n",
        " 'AC',\n",
        " 'Wifi',\n",
        " \"Children'splayarea\",\n",
        " 'LiftAvailable',\n",
        " 'BED',\n",
        " 'VaastuCompliant',\n",
        " 'Microwave',\n",
        " 'GolfCourse',\n",
        " 'TV',\n",
        " 'DiningTable',\n",
        " 'Sofa',\n",
        " 'Wardrobe',\n",
        " 'Refrigerator']"
      ],
      "metadata": {
        "id": "72F3TMG0__Rr"
      },
      "execution_count": 29,
      "outputs": []
    },
    {
      "cell_type": "code",
      "source": [
        "train_data,test_data = data.random_split(0.7)\n"
      ],
      "metadata": {
        "id": "Ncp8OFfdAPTC"
      },
      "execution_count": 30,
      "outputs": []
    },
    {
      "cell_type": "code",
      "source": [
        "lr_model = tc.linear_regression.create(train_data,target='Price',features=features)\n"
      ],
      "metadata": {
        "colab": {
          "base_uri": "https://localhost:8080/",
          "height": 312
        },
        "id": "9M5t5XuVAQNB",
        "outputId": "fa69fab1-3a92-412d-dd2c-d58ee600af46"
      },
      "execution_count": 31,
      "outputs": [
        {
          "output_type": "stream",
          "name": "stdout",
          "text": [
            "PROGRESS: Creating a validation set from 5 percent of training data. This may take a while.\n",
            "          You can set ``validation_set=None`` to disable validation tracking.\n",
            "\n"
          ]
        },
        {
          "output_type": "display_data",
          "data": {
            "text/plain": [
              "Linear regression:"
            ],
            "text/html": [
              "<pre>Linear regression:</pre>"
            ]
          },
          "metadata": {}
        },
        {
          "output_type": "display_data",
          "data": {
            "text/plain": [
              "--------------------------------------------------------"
            ],
            "text/html": [
              "<pre>--------------------------------------------------------</pre>"
            ]
          },
          "metadata": {}
        },
        {
          "output_type": "display_data",
          "data": {
            "text/plain": [
              "Number of examples          : 1661"
            ],
            "text/html": [
              "<pre>Number of examples          : 1661</pre>"
            ]
          },
          "metadata": {}
        },
        {
          "output_type": "display_data",
          "data": {
            "text/plain": [
              "Number of features          : 39"
            ],
            "text/html": [
              "<pre>Number of features          : 39</pre>"
            ]
          },
          "metadata": {}
        },
        {
          "output_type": "display_data",
          "data": {
            "text/plain": [
              "Number of unpacked features : 39"
            ],
            "text/html": [
              "<pre>Number of unpacked features : 39</pre>"
            ]
          },
          "metadata": {}
        },
        {
          "output_type": "display_data",
          "data": {
            "text/plain": [
              "Number of coefficients    : 246"
            ],
            "text/html": [
              "<pre>Number of coefficients    : 246</pre>"
            ]
          },
          "metadata": {}
        },
        {
          "output_type": "display_data",
          "data": {
            "text/plain": [
              "Starting Newton Method"
            ],
            "text/html": [
              "<pre>Starting Newton Method</pre>"
            ]
          },
          "metadata": {}
        },
        {
          "output_type": "display_data",
          "data": {
            "text/plain": [
              "--------------------------------------------------------"
            ],
            "text/html": [
              "<pre>--------------------------------------------------------</pre>"
            ]
          },
          "metadata": {}
        },
        {
          "output_type": "display_data",
          "data": {
            "text/plain": [
              "+-----------+----------+--------------+--------------------+----------------------+---------------------------------+-----------------------------------+"
            ],
            "text/html": [
              "<pre>+-----------+----------+--------------+--------------------+----------------------+---------------------------------+-----------------------------------+</pre>"
            ]
          },
          "metadata": {}
        },
        {
          "output_type": "display_data",
          "data": {
            "text/plain": [
              "| Iteration | Passes   | Elapsed Time | Training Max Error | Validation Max Error | Training Root-Mean-Square Error | Validation Root-Mean-Square Error |"
            ],
            "text/html": [
              "<pre>| Iteration | Passes   | Elapsed Time | Training Max Error | Validation Max Error | Training Root-Mean-Square Error | Validation Root-Mean-Square Error |</pre>"
            ]
          },
          "metadata": {}
        },
        {
          "output_type": "display_data",
          "data": {
            "text/plain": [
              "+-----------+----------+--------------+--------------------+----------------------+---------------------------------+-----------------------------------+"
            ],
            "text/html": [
              "<pre>+-----------+----------+--------------+--------------------+----------------------+---------------------------------+-----------------------------------+</pre>"
            ]
          },
          "metadata": {}
        },
        {
          "output_type": "display_data",
          "data": {
            "text/plain": [
              "| 1         | 2        | 0.037079     | 138540201.962311   | 10127254.736562      | 4570464.342535                  | 2553514.477162                    |"
            ],
            "text/html": [
              "<pre>| 1         | 2        | 0.037079     | 138540201.962311   | 10127254.736562      | 4570464.342535                  | 2553514.477162                    |</pre>"
            ]
          },
          "metadata": {}
        },
        {
          "output_type": "display_data",
          "data": {
            "text/plain": [
              "+-----------+----------+--------------+--------------------+----------------------+---------------------------------+-----------------------------------+"
            ],
            "text/html": [
              "<pre>+-----------+----------+--------------+--------------------+----------------------+---------------------------------+-----------------------------------+</pre>"
            ]
          },
          "metadata": {}
        },
        {
          "output_type": "display_data",
          "data": {
            "text/plain": [
              "SUCCESS: Optimal solution found."
            ],
            "text/html": [
              "<pre>SUCCESS: Optimal solution found.</pre>"
            ]
          },
          "metadata": {}
        },
        {
          "output_type": "display_data",
          "data": {
            "text/plain": [],
            "text/html": [
              "<pre></pre>"
            ]
          },
          "metadata": {}
        }
      ]
    },
    {
      "cell_type": "code",
      "source": [
        "lr_model.summary()"
      ],
      "metadata": {
        "colab": {
          "base_uri": "https://localhost:8080/"
        },
        "id": "VeLCRmNsAzql",
        "outputId": "d043f96f-58ec-4916-ff94-76f0927baaee"
      },
      "execution_count": 32,
      "outputs": [
        {
          "output_type": "stream",
          "name": "stdout",
          "text": [
            "Class                          : LinearRegression\n",
            "\n",
            "Schema\n",
            "------\n",
            "Number of coefficients         : 246\n",
            "Number of examples             : 1661\n",
            "Number of feature columns      : 39\n",
            "Number of unpacked features    : 39\n",
            "\n",
            "Hyperparameters\n",
            "---------------\n",
            "L1 penalty                     : 0.0\n",
            "L2 penalty                     : 0.01\n",
            "\n",
            "Training Summary\n",
            "----------------\n",
            "Solver                         : newton\n",
            "Solver iterations              : 1\n",
            "Solver status                  : SUCCESS: Optimal solution found.\n",
            "Training time (sec)            : 0.0407\n",
            "\n",
            "Settings\n",
            "--------\n",
            "Residual sum of squares        : 3.4696868692905076e+16\n",
            "Training RMSE                  : 4570464.3425\n",
            "\n",
            "Highest Positive Coefficients\n",
            "-----------------------------\n",
            "Location[Abids]                : 21440377.6172\n",
            "Location[Boiguda]              : 20274667.2475\n",
            "Location[Janachaitanya Colony] : 14581282.029\n",
            "Location[Film Nagar]           : 13510271.3401\n",
            "Location[Saket]                : 13343239.6092\n",
            "\n",
            "Lowest Negative Coefficients\n",
            "----------------------------\n",
            "Location[Secunderabad Railway Station Road] : -4879808.0524\n",
            "Location[Yapral]               : -4281160.2237\n",
            "Location[Sikh Village]         : -4272106.6424\n",
            "School                         : -4221948.1886\n",
            "Location[Macha Bolarum]        : -4089526.0668\n",
            "\n"
          ]
        }
      ]
    },
    {
      "cell_type": "code",
      "source": [
        "### Model Evaluation\n",
        "metrics = lr_model.evaluate(test_data)"
      ],
      "metadata": {
        "id": "N-dp64m4A4vm"
      },
      "execution_count": 33,
      "outputs": []
    },
    {
      "cell_type": "code",
      "source": [
        "metrics"
      ],
      "metadata": {
        "colab": {
          "base_uri": "https://localhost:8080/"
        },
        "id": "f4EHluN_A-Dp",
        "outputId": "ab79a633-bc72-4ab0-cef6-1b4e5c06d2a8"
      },
      "execution_count": 34,
      "outputs": [
        {
          "output_type": "execute_result",
          "data": {
            "text/plain": [
              "{'max_error': 31752413.279078025, 'rmse': 3904417.9322964377}"
            ]
          },
          "metadata": {},
          "execution_count": 34
        }
      ]
    }
  ],
  "metadata": {
    "colab": {
      "provenance": []
    },
    "kernelspec": {
      "display_name": "Python 3",
      "name": "python3"
    },
    "language_info": {
      "name": "python"
    },
    "accelerator": "GPU"
  },
  "nbformat": 4,
  "nbformat_minor": 0
}